{
 "cells": [
  {
   "cell_type": "code",
   "execution_count": 1,
   "metadata": {},
   "outputs": [],
   "source": [
    "from sklearn.datasets import load_boston\n",
    "boston = load_boston()"
   ]
  },
  {
   "cell_type": "code",
   "execution_count": 2,
   "metadata": {},
   "outputs": [
    {
     "data": {
      "text/plain": [
       "dict_keys(['data', 'target', 'feature_names', 'DESCR'])"
      ]
     },
     "execution_count": 2,
     "metadata": {},
     "output_type": "execute_result"
    }
   ],
   "source": [
    "boston.keys()"
   ]
  },
  {
   "cell_type": "code",
   "execution_count": 6,
   "metadata": {},
   "outputs": [
    {
     "name": "stdout",
     "output_type": "stream",
     "text": [
      "Boston House Prices dataset\n",
      "===========================\n",
      "\n",
      "Notes\n",
      "------\n",
      "Data Set Characteristics:  \n",
      "\n",
      "    :Number of Instances: 506 \n",
      "\n",
      "    :Number of Attributes: 13 numeric/categorical predictive\n",
      "    \n",
      "    :Median Value (attribute 14) is usually the target\n",
      "\n",
      "    :Attribute Information (in order):\n",
      "        - CRIM     per capita crime rate by town\n",
      "        - ZN       proportion of residential land zoned for lots over 25,000 sq.ft.\n",
      "        - INDUS    proportion of non-retail business acres per town\n",
      "        - CHAS     Charles River dummy variable (= 1 if tract bounds river; 0 otherwise)\n",
      "        - NOX      nitric oxides concentration (parts per 10 million)\n",
      "        - RM       average number of rooms per dwelling\n",
      "        - AGE      proportion of owner-occupied units built prior to 1940\n",
      "        - DIS      weighted distances to five Boston employment centres\n",
      "        - RAD      index of accessibility to radial highways\n",
      "        - TAX      full-value property-tax rate per $10,000\n",
      "        - PTRATIO  pupil-teacher ratio by town\n",
      "        - B        1000(Bk - 0.63)^2 where Bk is the proportion of blacks by town\n",
      "        - LSTAT    % lower status of the population\n",
      "        - MEDV     Median value of owner-occupied homes in $1000's\n",
      "\n",
      "    :Missing Attribute Values: None\n",
      "\n",
      "    :Creator: Harrison, D. and Rubinfeld, D.L.\n",
      "\n",
      "This is a copy of UCI ML housing dataset.\n",
      "http://archive.ics.uci.edu/ml/datasets/Housing\n",
      "\n",
      "\n",
      "This dataset was taken from the StatLib library which is maintained at Carnegie Mellon University.\n",
      "\n",
      "The Boston house-price data of Harrison, D. and Rubinfeld, D.L. 'Hedonic\n",
      "prices and the demand for clean air', J. Environ. Economics & Management,\n",
      "vol.5, 81-102, 1978.   Used in Belsley, Kuh & Welsch, 'Regression diagnostics\n",
      "...', Wiley, 1980.   N.B. Various transformations are used in the table on\n",
      "pages 244-261 of the latter.\n",
      "\n",
      "The Boston house-price data has been used in many machine learning papers that address regression\n",
      "problems.   \n",
      "     \n",
      "**References**\n",
      "\n",
      "   - Belsley, Kuh & Welsch, 'Regression diagnostics: Identifying Influential Data and Sources of Collinearity', Wiley, 1980. 244-261.\n",
      "   - Quinlan,R. (1993). Combining Instance-Based and Model-Based Learning. In Proceedings on the Tenth International Conference of Machine Learning, 236-243, University of Massachusetts, Amherst. Morgan Kaufmann.\n",
      "   - many more! (see http://archive.ics.uci.edu/ml/datasets/Housing)\n",
      "\n"
     ]
    }
   ],
   "source": [
    "print(boston.DESCR)"
   ]
  },
  {
   "cell_type": "code",
   "execution_count": 2,
   "metadata": {},
   "outputs": [],
   "source": [
    "import numpy as np\n",
    "from time import time as t\n",
    "import matplotlib.pyplot as plt\n",
    "from pandas import DataFrame\n",
    "from sklearn.linear_model import LinearRegression \n",
    "from sklearn.model_selection import train_test_split\n",
    "from sklearn.preprocessing import StandardScaler\n",
    "import matplotlib.pyplot as plt\n",
    "%matplotlib inline\n",
    "%config InlineBackend.figure_format = 'retina'#to improve plot resolution"
   ]
  },
  {
   "cell_type": "code",
   "execution_count": 3,
   "metadata": {},
   "outputs": [],
   "source": [
    "def SGD(x, y, n_iter = 1000, r=.001, batch_percent = 0.02):\n",
    "    n_samples = x.shape[0]\n",
    "    \n",
    "    #randomly initializing weight vector with ndim=no.of features\n",
    "    w = np.random.normal(0,1,x.shape[1])\n",
    "    b = np.random.normal(0,1)\n",
    "        \n",
    "    for i in range(n_iter):\n",
    "        temp_w = temp_b = 0\n",
    "        #'k' i.e batch size\n",
    "        k = int(n_samples * batch_percent)\n",
    "        \n",
    "        #picks a random set of k indices from train data\n",
    "        batch = np.random.randint(n_samples,size=k)\n",
    "        for j in batch:\n",
    "            #from python3.5 PEP-0465 onwards '@' \n",
    "            #is dot product/matrix multiplication operator\n",
    "            deriv = 2*(w@x[j] + b - y[j])\n",
    "            temp_b += deriv#  dL/db = 2*(w.T*x[j] + b - y[j])\n",
    "            temp_w += deriv * x[j]#  dL/dW = dL/db * x[j]\n",
    "        w -= r * (temp_w/k)\n",
    "        b -= r * (temp_b/k)\n",
    "    return (w,b)"
   ]
  },
  {
   "cell_type": "code",
   "execution_count": 1,
   "metadata": {},
   "outputs": [],
   "source": [
    "%load_ext cython"
   ]
  },
  {
   "cell_type": "code",
   "execution_count": 5,
   "metadata": {},
   "outputs": [],
   "source": [
    "%%cython\n",
    "#'%%cython' jupyter's magic function takes care of \n",
    "#compling and loading the shared object for cython\n",
    "import numpy as np\n",
    "cimport numpy as np\n",
    "\n",
    "cdef cySGD(np.ndarray x,np.ndarray y,int n_iter = 1000,\n",
    "           float r=.001,float batch_percent = 0.02):\n",
    "    cdef:\n",
    "        int i,j,n_samples = x.shape[0],\n",
    "        k = int(n_samples * batch_percent),feats = x.shape[1]\n",
    "        np.ndarray w = np.random.normal(0,1,feats) , \n",
    "        batch , temp_w = np.zeros(feats)\n",
    "        double b = np.random.normal(0,1),temp_b,deriv\n",
    "        \n",
    "    for i in range(n_iter):\n",
    "        temp_w = np.zeros(feats)\n",
    "        temp_b = 0.0\n",
    "        #picks a random set of k indices from train data\n",
    "        batch = np.random.randint(n_samples,size=k)\n",
    "        for j in batch:\n",
    "            #from python3.5 PEP-0465 onwards \n",
    "            #'@' is dot product/matrix multiplication operator\n",
    "            deriv = 2*(w@x[j] + b - y[j])\n",
    "            temp_b += deriv#  dL/db = 2*(w.T*x[j] + b - y[j])\n",
    "            temp_w += deriv * x[j]#  dL/dW = dL/db * x[j]\n",
    "        w -= r * (temp_w/k)\n",
    "        b -= r * (temp_b/k)\n",
    "    return (w,b)"
   ]
  },
  {
   "cell_type": "code",
   "execution_count": 6,
   "metadata": {},
   "outputs": [],
   "source": [
    "predict = lambda x,w,b:np.array([x[i]@w+b for i in range(x.shape[0])])"
   ]
  },
  {
   "cell_type": "markdown",
   "metadata": {},
   "source": [
    "## *Testing with a dummy dataset:*"
   ]
  },
  {
   "cell_type": "code",
   "execution_count": 379,
   "metadata": {},
   "outputs": [],
   "source": [
    "x1=list(range(1,20))\n",
    "x2=[x1[i]+np.random.normal(0,1) for i in range(len(x1))]\n",
    "y=[x1[i]+np.random.normal(0,1) for i in range(len(x1))]"
   ]
  },
  {
   "cell_type": "code",
   "execution_count": 380,
   "metadata": {},
   "outputs": [
    {
     "data": {
      "text/html": [
       "<div>\n",
       "<style scoped>\n",
       "    .dataframe tbody tr th:only-of-type {\n",
       "        vertical-align: middle;\n",
       "    }\n",
       "\n",
       "    .dataframe tbody tr th {\n",
       "        vertical-align: top;\n",
       "    }\n",
       "\n",
       "    .dataframe thead th {\n",
       "        text-align: right;\n",
       "    }\n",
       "</style>\n",
       "<table border=\"1\" class=\"dataframe\">\n",
       "  <thead>\n",
       "    <tr style=\"text-align: right;\">\n",
       "      <th></th>\n",
       "      <th>x1</th>\n",
       "      <th>x2</th>\n",
       "      <th>y</th>\n",
       "    </tr>\n",
       "  </thead>\n",
       "  <tbody>\n",
       "    <tr>\n",
       "      <th>0</th>\n",
       "      <td>1</td>\n",
       "      <td>1.159256</td>\n",
       "      <td>1.952945</td>\n",
       "    </tr>\n",
       "    <tr>\n",
       "      <th>1</th>\n",
       "      <td>2</td>\n",
       "      <td>1.707344</td>\n",
       "      <td>2.622734</td>\n",
       "    </tr>\n",
       "    <tr>\n",
       "      <th>2</th>\n",
       "      <td>3</td>\n",
       "      <td>4.070746</td>\n",
       "      <td>1.413368</td>\n",
       "    </tr>\n",
       "    <tr>\n",
       "      <th>3</th>\n",
       "      <td>4</td>\n",
       "      <td>4.133119</td>\n",
       "      <td>4.088485</td>\n",
       "    </tr>\n",
       "    <tr>\n",
       "      <th>4</th>\n",
       "      <td>5</td>\n",
       "      <td>4.060577</td>\n",
       "      <td>5.165887</td>\n",
       "    </tr>\n",
       "    <tr>\n",
       "      <th>5</th>\n",
       "      <td>6</td>\n",
       "      <td>5.960416</td>\n",
       "      <td>4.371164</td>\n",
       "    </tr>\n",
       "    <tr>\n",
       "      <th>6</th>\n",
       "      <td>7</td>\n",
       "      <td>6.787406</td>\n",
       "      <td>5.865331</td>\n",
       "    </tr>\n",
       "    <tr>\n",
       "      <th>7</th>\n",
       "      <td>8</td>\n",
       "      <td>7.026555</td>\n",
       "      <td>8.357963</td>\n",
       "    </tr>\n",
       "    <tr>\n",
       "      <th>8</th>\n",
       "      <td>9</td>\n",
       "      <td>10.318042</td>\n",
       "      <td>9.244177</td>\n",
       "    </tr>\n",
       "    <tr>\n",
       "      <th>9</th>\n",
       "      <td>10</td>\n",
       "      <td>9.037655</td>\n",
       "      <td>9.964847</td>\n",
       "    </tr>\n",
       "    <tr>\n",
       "      <th>10</th>\n",
       "      <td>11</td>\n",
       "      <td>9.792747</td>\n",
       "      <td>10.696835</td>\n",
       "    </tr>\n",
       "    <tr>\n",
       "      <th>11</th>\n",
       "      <td>12</td>\n",
       "      <td>12.216509</td>\n",
       "      <td>10.692455</td>\n",
       "    </tr>\n",
       "    <tr>\n",
       "      <th>12</th>\n",
       "      <td>13</td>\n",
       "      <td>12.956094</td>\n",
       "      <td>15.144408</td>\n",
       "    </tr>\n",
       "    <tr>\n",
       "      <th>13</th>\n",
       "      <td>14</td>\n",
       "      <td>14.773174</td>\n",
       "      <td>14.669891</td>\n",
       "    </tr>\n",
       "    <tr>\n",
       "      <th>14</th>\n",
       "      <td>15</td>\n",
       "      <td>12.340545</td>\n",
       "      <td>16.152469</td>\n",
       "    </tr>\n",
       "    <tr>\n",
       "      <th>15</th>\n",
       "      <td>16</td>\n",
       "      <td>16.019576</td>\n",
       "      <td>15.764950</td>\n",
       "    </tr>\n",
       "    <tr>\n",
       "      <th>16</th>\n",
       "      <td>17</td>\n",
       "      <td>16.529581</td>\n",
       "      <td>17.016216</td>\n",
       "    </tr>\n",
       "    <tr>\n",
       "      <th>17</th>\n",
       "      <td>18</td>\n",
       "      <td>18.291263</td>\n",
       "      <td>18.480761</td>\n",
       "    </tr>\n",
       "    <tr>\n",
       "      <th>18</th>\n",
       "      <td>19</td>\n",
       "      <td>19.091650</td>\n",
       "      <td>19.292535</td>\n",
       "    </tr>\n",
       "  </tbody>\n",
       "</table>\n",
       "</div>"
      ],
      "text/plain": [
       "    x1         x2          y\n",
       "0    1   1.159256   1.952945\n",
       "1    2   1.707344   2.622734\n",
       "2    3   4.070746   1.413368\n",
       "3    4   4.133119   4.088485\n",
       "4    5   4.060577   5.165887\n",
       "5    6   5.960416   4.371164\n",
       "6    7   6.787406   5.865331\n",
       "7    8   7.026555   8.357963\n",
       "8    9  10.318042   9.244177\n",
       "9   10   9.037655   9.964847\n",
       "10  11   9.792747  10.696835\n",
       "11  12  12.216509  10.692455\n",
       "12  13  12.956094  15.144408\n",
       "13  14  14.773174  14.669891\n",
       "14  15  12.340545  16.152469\n",
       "15  16  16.019576  15.764950\n",
       "16  17  16.529581  17.016216\n",
       "17  18  18.291263  18.480761\n",
       "18  19  19.091650  19.292535"
      ]
     },
     "execution_count": 380,
     "metadata": {},
     "output_type": "execute_result"
    }
   ],
   "source": [
    "df = DataFrame({'x1':x1,'x2':x2,'y':y})\n",
    "df"
   ]
  },
  {
   "cell_type": "code",
   "execution_count": 393,
   "metadata": {},
   "outputs": [],
   "source": [
    "x_train, x_test, y_train, y_test = train_test_split(\n",
    "    df[['x1','x2']].values, df.y.values, test_size=0.2)"
   ]
  },
  {
   "cell_type": "code",
   "execution_count": 406,
   "metadata": {},
   "outputs": [],
   "source": [
    "w,b = SGD(x_train,y_train,1400)"
   ]
  },
  {
   "cell_type": "code",
   "execution_count": 389,
   "metadata": {},
   "outputs": [
    {
     "data": {
      "text/plain": [
       "LinearRegression(copy_X=True, fit_intercept=True, n_jobs=1, normalize=False)"
      ]
     },
     "execution_count": 389,
     "metadata": {},
     "output_type": "execute_result"
    }
   ],
   "source": [
    "lnr = LinearRegression()\n",
    "lnr.fit(x_train,y_train)"
   ]
  },
  {
   "cell_type": "code",
   "execution_count": 407,
   "metadata": {},
   "outputs": [
    {
     "data": {
      "text/html": [
       "<div>\n",
       "<style scoped>\n",
       "    .dataframe tbody tr th:only-of-type {\n",
       "        vertical-align: middle;\n",
       "    }\n",
       "\n",
       "    .dataframe tbody tr th {\n",
       "        vertical-align: top;\n",
       "    }\n",
       "\n",
       "    .dataframe thead th {\n",
       "        text-align: right;\n",
       "    }\n",
       "</style>\n",
       "<table border=\"1\" class=\"dataframe\">\n",
       "  <thead>\n",
       "    <tr style=\"text-align: right;\">\n",
       "      <th></th>\n",
       "      <th>actual_y</th>\n",
       "      <th>predictd_y</th>\n",
       "      <th>sklearn</th>\n",
       "    </tr>\n",
       "  </thead>\n",
       "  <tbody>\n",
       "    <tr>\n",
       "      <th>0</th>\n",
       "      <td>9.964847</td>\n",
       "      <td>10.187533</td>\n",
       "      <td>10.280230</td>\n",
       "    </tr>\n",
       "    <tr>\n",
       "      <th>1</th>\n",
       "      <td>14.669891</td>\n",
       "      <td>13.223899</td>\n",
       "      <td>14.098139</td>\n",
       "    </tr>\n",
       "    <tr>\n",
       "      <th>2</th>\n",
       "      <td>16.152469</td>\n",
       "      <td>15.665724</td>\n",
       "      <td>15.892196</td>\n",
       "    </tr>\n",
       "    <tr>\n",
       "      <th>3</th>\n",
       "      <td>19.292535</td>\n",
       "      <td>18.260099</td>\n",
       "      <td>19.489579</td>\n",
       "    </tr>\n",
       "  </tbody>\n",
       "</table>\n",
       "</div>"
      ],
      "text/plain": [
       "    actual_y  predictd_y    sklearn\n",
       "0   9.964847   10.187533  10.280230\n",
       "1  14.669891   13.223899  14.098139\n",
       "2  16.152469   15.665724  15.892196\n",
       "3  19.292535   18.260099  19.489579"
      ]
     },
     "execution_count": 407,
     "metadata": {},
     "output_type": "execute_result"
    }
   ],
   "source": [
    "DataFrame({'actual_y':y_test,\n",
    "           'predictd_y':predict(x_test,w,b),\n",
    "           'sklearn':lnr.predict(x_test)})"
   ]
  },
  {
   "cell_type": "markdown",
   "metadata": {},
   "source": [
    "## *Testing on Boston House Pricing Dataset:*"
   ]
  },
  {
   "cell_type": "code",
   "execution_count": 7,
   "metadata": {},
   "outputs": [],
   "source": [
    "x_train, x_test, y_train, y_test = train_test_split(\n",
    "    boston.data,boston.target,test_size=0.1)\n",
    "sclr = StandardScaler()\n",
    "df_train = DataFrame(sclr.fit_transform(x_train))\n",
    "df_test = DataFrame(sclr.transform(x_test))\n",
    "df_train.columns = df_test.columns = boston.feature_names"
   ]
  },
  {
   "cell_type": "code",
   "execution_count": 24,
   "metadata": {},
   "outputs": [
    {
     "data": {
      "text/html": [
       "<div>\n",
       "<style scoped>\n",
       "    .dataframe tbody tr th:only-of-type {\n",
       "        vertical-align: middle;\n",
       "    }\n",
       "\n",
       "    .dataframe tbody tr th {\n",
       "        vertical-align: top;\n",
       "    }\n",
       "\n",
       "    .dataframe thead th {\n",
       "        text-align: right;\n",
       "    }\n",
       "</style>\n",
       "<table border=\"1\" class=\"dataframe\">\n",
       "  <thead>\n",
       "    <tr style=\"text-align: right;\">\n",
       "      <th></th>\n",
       "      <th>CRIM</th>\n",
       "      <th>ZN</th>\n",
       "      <th>INDUS</th>\n",
       "      <th>CHAS</th>\n",
       "      <th>NOX</th>\n",
       "      <th>RM</th>\n",
       "      <th>AGE</th>\n",
       "      <th>DIS</th>\n",
       "      <th>RAD</th>\n",
       "      <th>TAX</th>\n",
       "      <th>PTRATIO</th>\n",
       "      <th>B</th>\n",
       "      <th>LSTAT</th>\n",
       "    </tr>\n",
       "  </thead>\n",
       "  <tbody>\n",
       "    <tr>\n",
       "      <th>0</th>\n",
       "      <td>-0.385055</td>\n",
       "      <td>-0.480099</td>\n",
       "      <td>-0.640641</td>\n",
       "      <td>-0.279641</td>\n",
       "      <td>-0.927061</td>\n",
       "      <td>-1.268195</td>\n",
       "      <td>0.951161</td>\n",
       "      <td>0.989270</td>\n",
       "      <td>-0.755647</td>\n",
       "      <td>-1.060926</td>\n",
       "      <td>-0.279290</td>\n",
       "      <td>0.448296</td>\n",
       "      <td>2.584599</td>\n",
       "    </tr>\n",
       "    <tr>\n",
       "      <th>1</th>\n",
       "      <td>-0.259317</td>\n",
       "      <td>-0.480099</td>\n",
       "      <td>-0.461661</td>\n",
       "      <td>-0.279641</td>\n",
       "      <td>-0.155306</td>\n",
       "      <td>-0.294574</td>\n",
       "      <td>1.120735</td>\n",
       "      <td>0.185782</td>\n",
       "      <td>-0.641117</td>\n",
       "      <td>-0.620953</td>\n",
       "      <td>1.170081</td>\n",
       "      <td>0.228732</td>\n",
       "      <td>0.050983</td>\n",
       "    </tr>\n",
       "    <tr>\n",
       "      <th>2</th>\n",
       "      <td>-0.408702</td>\n",
       "      <td>-0.480099</td>\n",
       "      <td>-1.149934</td>\n",
       "      <td>-0.279641</td>\n",
       "      <td>-0.575484</td>\n",
       "      <td>0.204533</td>\n",
       "      <td>-0.102363</td>\n",
       "      <td>-0.327455</td>\n",
       "      <td>-0.870177</td>\n",
       "      <td>-0.840939</td>\n",
       "      <td>-0.326044</td>\n",
       "      <td>0.396915</td>\n",
       "      <td>-0.552122</td>\n",
       "    </tr>\n",
       "    <tr>\n",
       "      <th>3</th>\n",
       "      <td>-0.113029</td>\n",
       "      <td>-0.480099</td>\n",
       "      <td>-0.205559</td>\n",
       "      <td>-0.279641</td>\n",
       "      <td>-0.103856</td>\n",
       "      <td>-1.884484</td>\n",
       "      <td>-1.123415</td>\n",
       "      <td>-0.599029</td>\n",
       "      <td>-0.641117</td>\n",
       "      <td>-0.638790</td>\n",
       "      <td>-0.045521</td>\n",
       "      <td>-0.057343</td>\n",
       "      <td>-0.006048</td>\n",
       "    </tr>\n",
       "    <tr>\n",
       "      <th>4</th>\n",
       "      <td>-0.387865</td>\n",
       "      <td>-0.480099</td>\n",
       "      <td>-0.640641</td>\n",
       "      <td>-0.279641</td>\n",
       "      <td>-0.927061</td>\n",
       "      <td>-0.355335</td>\n",
       "      <td>0.597581</td>\n",
       "      <td>0.903659</td>\n",
       "      <td>-0.755647</td>\n",
       "      <td>-1.060926</td>\n",
       "      <td>-0.279290</td>\n",
       "      <td>0.403011</td>\n",
       "      <td>0.872234</td>\n",
       "    </tr>\n",
       "  </tbody>\n",
       "</table>\n",
       "</div>"
      ],
      "text/plain": [
       "       CRIM        ZN     INDUS      CHAS       NOX        RM       AGE  \\\n",
       "0 -0.385055 -0.480099 -0.640641 -0.279641 -0.927061 -1.268195  0.951161   \n",
       "1 -0.259317 -0.480099 -0.461661 -0.279641 -0.155306 -0.294574  1.120735   \n",
       "2 -0.408702 -0.480099 -1.149934 -0.279641 -0.575484  0.204533 -0.102363   \n",
       "3 -0.113029 -0.480099 -0.205559 -0.279641 -0.103856 -1.884484 -1.123415   \n",
       "4 -0.387865 -0.480099 -0.640641 -0.279641 -0.927061 -0.355335  0.597581   \n",
       "\n",
       "        DIS       RAD       TAX   PTRATIO         B     LSTAT  \n",
       "0  0.989270 -0.755647 -1.060926 -0.279290  0.448296  2.584599  \n",
       "1  0.185782 -0.641117 -0.620953  1.170081  0.228732  0.050983  \n",
       "2 -0.327455 -0.870177 -0.840939 -0.326044  0.396915 -0.552122  \n",
       "3 -0.599029 -0.641117 -0.638790 -0.045521 -0.057343 -0.006048  \n",
       "4  0.903659 -0.755647 -1.060926 -0.279290  0.403011  0.872234  "
      ]
     },
     "execution_count": 24,
     "metadata": {},
     "output_type": "execute_result"
    }
   ],
   "source": [
    "df_train.head()"
   ]
  },
  {
   "cell_type": "code",
   "execution_count": 25,
   "metadata": {},
   "outputs": [
    {
     "data": {
      "text/html": [
       "<div>\n",
       "<style scoped>\n",
       "    .dataframe tbody tr th:only-of-type {\n",
       "        vertical-align: middle;\n",
       "    }\n",
       "\n",
       "    .dataframe tbody tr th {\n",
       "        vertical-align: top;\n",
       "    }\n",
       "\n",
       "    .dataframe thead th {\n",
       "        text-align: right;\n",
       "    }\n",
       "</style>\n",
       "<table border=\"1\" class=\"dataframe\">\n",
       "  <thead>\n",
       "    <tr style=\"text-align: right;\">\n",
       "      <th></th>\n",
       "      <th>CRIM</th>\n",
       "      <th>ZN</th>\n",
       "      <th>INDUS</th>\n",
       "      <th>CHAS</th>\n",
       "      <th>NOX</th>\n",
       "      <th>RM</th>\n",
       "      <th>AGE</th>\n",
       "      <th>DIS</th>\n",
       "      <th>RAD</th>\n",
       "      <th>TAX</th>\n",
       "      <th>PTRATIO</th>\n",
       "      <th>B</th>\n",
       "      <th>LSTAT</th>\n",
       "    </tr>\n",
       "  </thead>\n",
       "  <tbody>\n",
       "    <tr>\n",
       "      <th>0</th>\n",
       "      <td>-0.395536</td>\n",
       "      <td>0.368396</td>\n",
       "      <td>-0.633365</td>\n",
       "      <td>-0.279641</td>\n",
       "      <td>-0.789860</td>\n",
       "      <td>-0.051531</td>\n",
       "      <td>-1.899126</td>\n",
       "      <td>0.306187</td>\n",
       "      <td>-0.755647</td>\n",
       "      <td>-1.120381</td>\n",
       "      <td>0.047987</td>\n",
       "      <td>0.448296</td>\n",
       "      <td>-0.868646</td>\n",
       "    </tr>\n",
       "    <tr>\n",
       "      <th>1</th>\n",
       "      <td>-0.403971</td>\n",
       "      <td>-0.480099</td>\n",
       "      <td>-0.073143</td>\n",
       "      <td>-0.279641</td>\n",
       "      <td>-1.227188</td>\n",
       "      <td>0.204533</td>\n",
       "      <td>-2.249098</td>\n",
       "      <td>0.713050</td>\n",
       "      <td>-0.641117</td>\n",
       "      <td>-0.632844</td>\n",
       "      <td>0.328510</td>\n",
       "      <td>0.304932</td>\n",
       "      <td>-0.850111</td>\n",
       "    </tr>\n",
       "    <tr>\n",
       "      <th>2</th>\n",
       "      <td>-0.403917</td>\n",
       "      <td>0.410820</td>\n",
       "      <td>-0.825441</td>\n",
       "      <td>-0.279641</td>\n",
       "      <td>-1.004236</td>\n",
       "      <td>-0.452263</td>\n",
       "      <td>-0.838386</td>\n",
       "      <td>1.437090</td>\n",
       "      <td>-0.641117</td>\n",
       "      <td>-1.001470</td>\n",
       "      <td>-0.793583</td>\n",
       "      <td>0.433709</td>\n",
       "      <td>0.109441</td>\n",
       "    </tr>\n",
       "    <tr>\n",
       "      <th>3</th>\n",
       "      <td>-0.394440</td>\n",
       "      <td>0.580519</td>\n",
       "      <td>-0.899653</td>\n",
       "      <td>-0.279641</td>\n",
       "      <td>-0.884186</td>\n",
       "      <td>-0.447923</td>\n",
       "      <td>0.882610</td>\n",
       "      <td>1.438891</td>\n",
       "      <td>-0.182997</td>\n",
       "      <td>-0.757701</td>\n",
       "      <td>0.562280</td>\n",
       "      <td>0.243428</td>\n",
       "      <td>0.250593</td>\n",
       "    </tr>\n",
       "    <tr>\n",
       "      <th>4</th>\n",
       "      <td>-0.407587</td>\n",
       "      <td>-0.480099</td>\n",
       "      <td>-1.149934</td>\n",
       "      <td>-0.279641</td>\n",
       "      <td>-0.575484</td>\n",
       "      <td>1.058079</td>\n",
       "      <td>0.626445</td>\n",
       "      <td>-0.171308</td>\n",
       "      <td>-0.870177</td>\n",
       "      <td>-0.840939</td>\n",
       "      <td>-0.326044</td>\n",
       "      <td>0.448296</td>\n",
       "      <td>-1.024056</td>\n",
       "    </tr>\n",
       "  </tbody>\n",
       "</table>\n",
       "</div>"
      ],
      "text/plain": [
       "       CRIM        ZN     INDUS      CHAS       NOX        RM       AGE  \\\n",
       "0 -0.395536  0.368396 -0.633365 -0.279641 -0.789860 -0.051531 -1.899126   \n",
       "1 -0.403971 -0.480099 -0.073143 -0.279641 -1.227188  0.204533 -2.249098   \n",
       "2 -0.403917  0.410820 -0.825441 -0.279641 -1.004236 -0.452263 -0.838386   \n",
       "3 -0.394440  0.580519 -0.899653 -0.279641 -0.884186 -0.447923  0.882610   \n",
       "4 -0.407587 -0.480099 -1.149934 -0.279641 -0.575484  1.058079  0.626445   \n",
       "\n",
       "        DIS       RAD       TAX   PTRATIO         B     LSTAT  \n",
       "0  0.306187 -0.755647 -1.120381  0.047987  0.448296 -0.868646  \n",
       "1  0.713050 -0.641117 -0.632844  0.328510  0.304932 -0.850111  \n",
       "2  1.437090 -0.641117 -1.001470 -0.793583  0.433709  0.109441  \n",
       "3  1.438891 -0.182997 -0.757701  0.562280  0.243428  0.250593  \n",
       "4 -0.171308 -0.870177 -0.840939 -0.326044  0.448296 -1.024056  "
      ]
     },
     "execution_count": 25,
     "metadata": {},
     "output_type": "execute_result"
    }
   ],
   "source": [
    "df_test.head()"
   ]
  },
  {
   "cell_type": "markdown",
   "metadata": {},
   "source": [
    "## *Predicting Using My SGD:*"
   ]
  },
  {
   "cell_type": "code",
   "execution_count": 18,
   "metadata": {},
   "outputs": [],
   "source": [
    "w,b = SGD(df_train.values,y_train,2000)"
   ]
  },
  {
   "cell_type": "code",
   "execution_count": 20,
   "metadata": {},
   "outputs": [
    {
     "data": {
      "text/plain": [
       "array([-0.66957688,  0.7303804 ,  0.14639272,  0.79393507, -1.11106481,\n",
       "        2.87363814,  0.12217964, -1.7339175 ,  1.30554354, -0.93586999,\n",
       "       -1.77497913,  0.88213049, -3.73360328])"
      ]
     },
     "execution_count": 20,
     "metadata": {},
     "output_type": "execute_result"
    }
   ],
   "source": [
    "w"
   ]
  },
  {
   "cell_type": "code",
   "execution_count": 21,
   "metadata": {},
   "outputs": [
    {
     "data": {
      "text/plain": [
       "22.072883127671236"
      ]
     },
     "execution_count": 21,
     "metadata": {},
     "output_type": "execute_result"
    }
   ],
   "source": [
    "b"
   ]
  },
  {
   "cell_type": "markdown",
   "metadata": {},
   "source": [
    "## *Predicting Using Sklearn's Linear Regression:*"
   ]
  },
  {
   "cell_type": "code",
   "execution_count": 19,
   "metadata": {},
   "outputs": [
    {
     "data": {
      "text/plain": [
       "LinearRegression(copy_X=True, fit_intercept=True, n_jobs=1, normalize=False)"
      ]
     },
     "execution_count": 19,
     "metadata": {},
     "output_type": "execute_result"
    }
   ],
   "source": [
    "lnr = LinearRegression()\n",
    "lnr.fit(df_train.values,y_train)"
   ]
  },
  {
   "cell_type": "code",
   "execution_count": 22,
   "metadata": {},
   "outputs": [
    {
     "data": {
      "text/plain": [
       "array([-0.94461639,  1.24845339,  0.08378914,  0.76452298, -2.30788109,\n",
       "        2.31848369,  0.11516817, -3.33659033,  2.76985003, -1.96087551,\n",
       "       -2.03680852,  0.76570073, -4.02519866])"
      ]
     },
     "execution_count": 22,
     "metadata": {},
     "output_type": "execute_result"
    }
   ],
   "source": [
    "lnr.coef_"
   ]
  },
  {
   "cell_type": "code",
   "execution_count": 23,
   "metadata": {},
   "outputs": [
    {
     "data": {
      "text/plain": [
       "22.457802197802206"
      ]
     },
     "execution_count": 23,
     "metadata": {},
     "output_type": "execute_result"
    }
   ],
   "source": [
    "lnr.intercept_"
   ]
  },
  {
   "cell_type": "markdown",
   "metadata": {},
   "source": [
    "## *Comparing My SGD with Sklearn Linear Regression:*"
   ]
  },
  {
   "cell_type": "code",
   "execution_count": 26,
   "metadata": {},
   "outputs": [
    {
     "data": {
      "text/html": [
       "<div>\n",
       "<style scoped>\n",
       "    .dataframe tbody tr th:only-of-type {\n",
       "        vertical-align: middle;\n",
       "    }\n",
       "\n",
       "    .dataframe tbody tr th {\n",
       "        vertical-align: top;\n",
       "    }\n",
       "\n",
       "    .dataframe thead th {\n",
       "        text-align: right;\n",
       "    }\n",
       "</style>\n",
       "<table border=\"1\" class=\"dataframe\">\n",
       "  <thead>\n",
       "    <tr style=\"text-align: right;\">\n",
       "      <th></th>\n",
       "      <th>actual_y</th>\n",
       "      <th>predictd_y</th>\n",
       "      <th>sklearn</th>\n",
       "    </tr>\n",
       "  </thead>\n",
       "  <tbody>\n",
       "    <tr>\n",
       "      <th>0</th>\n",
       "      <td>25.2</td>\n",
       "      <td>25.874086</td>\n",
       "      <td>27.333480</td>\n",
       "    </tr>\n",
       "    <tr>\n",
       "      <th>1</th>\n",
       "      <td>24.2</td>\n",
       "      <td>24.815190</td>\n",
       "      <td>25.139698</td>\n",
       "    </tr>\n",
       "    <tr>\n",
       "      <th>2</th>\n",
       "      <td>19.7</td>\n",
       "      <td>21.005252</td>\n",
       "      <td>21.142751</td>\n",
       "    </tr>\n",
       "    <tr>\n",
       "      <th>3</th>\n",
       "      <td>16.0</td>\n",
       "      <td>18.466694</td>\n",
       "      <td>18.580061</td>\n",
       "    </tr>\n",
       "    <tr>\n",
       "      <th>4</th>\n",
       "      <td>23.6</td>\n",
       "      <td>30.106841</td>\n",
       "      <td>30.726405</td>\n",
       "    </tr>\n",
       "    <tr>\n",
       "      <th>5</th>\n",
       "      <td>25.3</td>\n",
       "      <td>24.818091</td>\n",
       "      <td>25.155528</td>\n",
       "    </tr>\n",
       "    <tr>\n",
       "      <th>6</th>\n",
       "      <td>8.5</td>\n",
       "      <td>15.562705</td>\n",
       "      <td>16.470726</td>\n",
       "    </tr>\n",
       "    <tr>\n",
       "      <th>7</th>\n",
       "      <td>19.0</td>\n",
       "      <td>20.781012</td>\n",
       "      <td>21.205720</td>\n",
       "    </tr>\n",
       "    <tr>\n",
       "      <th>8</th>\n",
       "      <td>29.0</td>\n",
       "      <td>30.894670</td>\n",
       "      <td>32.004414</td>\n",
       "    </tr>\n",
       "    <tr>\n",
       "      <th>9</th>\n",
       "      <td>14.4</td>\n",
       "      <td>3.677731</td>\n",
       "      <td>3.492780</td>\n",
       "    </tr>\n",
       "  </tbody>\n",
       "</table>\n",
       "</div>"
      ],
      "text/plain": [
       "   actual_y  predictd_y    sklearn\n",
       "0      25.2   25.874086  27.333480\n",
       "1      24.2   24.815190  25.139698\n",
       "2      19.7   21.005252  21.142751\n",
       "3      16.0   18.466694  18.580061\n",
       "4      23.6   30.106841  30.726405\n",
       "5      25.3   24.818091  25.155528\n",
       "6       8.5   15.562705  16.470726\n",
       "7      19.0   20.781012  21.205720\n",
       "8      29.0   30.894670  32.004414\n",
       "9      14.4    3.677731   3.492780"
      ]
     },
     "execution_count": 26,
     "metadata": {},
     "output_type": "execute_result"
    }
   ],
   "source": [
    "DataFrame({'actual_y':y_test,\n",
    "           'predictd_y':predict(df_test.values,w,b),\n",
    "           'sklearn':lnr.predict(df_test.values)}).head(10)"
   ]
  },
  {
   "cell_type": "code",
   "execution_count": 19,
   "metadata": {
    "scrolled": true
   },
   "outputs": [
    {
     "data": {
      "image/png": "[encoded data removed]",
      "text/plain": [
       "<Figure size 432x288 with 1 Axes>"
      ]
     },
     "metadata": {
      "image/png": {
       "height": 263,
       "width": 384
      }
     },
     "output_type": "display_data"
    }
   ],
   "source": [
    "plt.scatter(x = predict(df_test.values,w,b), y = lnr.predict(df_test.values))\n",
    "plt.xlabel('My predictions')\n",
    "plt.ylabel('Sklearn\\'s predictions')\n",
    "plt.show()\n",
    "# A straight line like plot would mean that \n",
    "#My predictions and Sklearn's predictions are almost near"
   ]
  },
  {
   "cell_type": "markdown",
   "metadata": {},
   "source": [
    "## *Predicting Using Cython SGD:*"
   ]
  },
  {
   "cell_type": "code",
   "execution_count": 13,
   "metadata": {},
   "outputs": [],
   "source": [
    "w,b = cySGD(df_train.values,y_train,2000)"
   ]
  },
  {
   "cell_type": "code",
   "execution_count": 15,
   "metadata": {},
   "outputs": [
    {
     "data": {
      "text/plain": [
       "array([-0.78798028,  0.87406054, -0.87678396,  0.92576034, -1.25537862,\n",
       "        2.89920273, -0.18360376, -3.02887256,  0.93621482, -0.39217009,\n",
       "       -1.76467665,  0.77387778, -3.68319882])"
      ]
     },
     "execution_count": 15,
     "metadata": {},
     "output_type": "execute_result"
    }
   ],
   "source": [
    "w"
   ]
  },
  {
   "cell_type": "code",
   "execution_count": 16,
   "metadata": {},
   "outputs": [
    {
     "data": {
      "text/plain": [
       "22.257252834112688"
      ]
     },
     "execution_count": 16,
     "metadata": {},
     "output_type": "execute_result"
    }
   ],
   "source": [
    "b"
   ]
  },
  {
   "cell_type": "markdown",
   "metadata": {},
   "source": [
    "## *Comparing Cython SGD with Sklearn Linear Regression:*"
   ]
  },
  {
   "cell_type": "code",
   "execution_count": 22,
   "metadata": {},
   "outputs": [
    {
     "data": {
      "image/png": "[encoded data removed]",
      "text/plain": [
       "<matplotlib.figure.Figure at 0x7f0d041f85f8>"
      ]
     },
     "metadata": {
      "image/png": {
       "height": 263,
       "width": 384
      }
     },
     "output_type": "display_data"
    }
   ],
   "source": [
    "plt.scatter(x = predict(df_test.values,w,b), y = lnr.predict(df_test.values))\n",
    "plt.xlabel('My predictions')\n",
    "plt.ylabel('Sklearn\\'s predictions')\n",
    "plt.show()\n",
    "# A straight line like plot would mean that \n",
    "#My predictions and Sklearn's predictions are almost near"
   ]
  },
  {
   "cell_type": "markdown",
   "metadata": {},
   "source": [
    "## *Speed Comparision:*"
   ]
  },
  {
   "cell_type": "code",
   "execution_count": 9,
   "metadata": {},
   "outputs": [
    {
     "name": "stdout",
     "output_type": "stream",
     "text": [
      "80.1 ms ± 552 µs per loop (mean ± std. dev. of 7 runs, 10 loops each)\n"
     ]
    }
   ],
   "source": [
    "%%timeit\n",
    "#pure Python\n",
    "w,b = SGD(df_train.values,y_train,2000)"
   ]
  },
  {
   "cell_type": "code",
   "execution_count": 24,
   "metadata": {},
   "outputs": [
    {
     "name": "stdout",
     "output_type": "stream",
     "text": [
      "60.1 ms ± 256 µs per loop (mean ± std. dev. of 7 runs, 10 loops each)\n"
     ]
    }
   ],
   "source": [
    "%%timeit\n",
    "#Cython\n",
    "w,b = cySGD(df_train.values,y_train,2000)"
   ]
  },
  {
   "cell_type": "markdown",
   "metadata": {},
   "source": [
    "## *Gist of the Assignment:*\n",
    "\n",
    "    first of all I want to mention that I really enjoyed a lot implementing an algorithm like SGD!\n",
    "    \n",
    "    for the data we used in assignments till now i.e text data there was features based on  \n",
    "    frequency count so we didn't need to standard scalerize them \n",
    "    but the features in Boston House Pricing DataSet needs to be Standard Scalarized \n",
    "    else all weights and intercept increases exponentially.\n",
    "    \n",
    "    I know that Sklearn implements their algorithms in Cython internally so I also tried it in Cython\n",
    "    there wasn't a remarkable speedup from pure python code to cython code , \n",
    "    that maybe because in both cases I used numpy arrays \n",
    "    but a small 20ms improvement can be observed that's because \n",
    "    python has to decide the type of a variable each time it encounters it at runtime but \n",
    "    on the other hand cython knows type of variables since I declared them beforehanded."
   ]
  }
 ],
 "metadata": {
  "kernelspec": {
   "display_name": "Python 3",
   "language": "python",
   "name": "python3"
  },
  "language_info": {
   "codemirror_mode": {
    "name": "ipython",
    "version": 3
   },
   "file_extension": ".py",
   "mimetype": "text/x-python",
   "name": "python",
   "nbconvert_exporter": "python",
   "pygments_lexer": "ipython3",
   "version": "3.6.3"
  }
 },
 "nbformat": 4,
 "nbformat_minor": 2
}
