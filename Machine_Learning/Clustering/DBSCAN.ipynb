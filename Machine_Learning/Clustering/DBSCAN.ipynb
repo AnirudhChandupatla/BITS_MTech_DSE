{
 "cells": [
  {
   "cell_type": "markdown",
   "id": "c9c1c6dc",
   "metadata": {},
   "source": [
    "https://www.youtube.com/watch?v=RDZUdRSDOok"
   ]
  },
  {
   "cell_type": "code",
   "execution_count": 1,
   "id": "d0dba866",
   "metadata": {},
   "outputs": [
    {
     "name": "stderr",
     "output_type": "stream",
     "text": [
      "C:\\Users\\aniru\\AppData\\Local\\Programs\\Python\\Python39\\lib\\site-packages\\scipy\\__init__.py:146: UserWarning: A NumPy version >=1.16.5 and <1.23.0 is required for this version of SciPy (detected version 1.23.0\n",
      "  warnings.warn(f\"A NumPy version >={np_minversion} and <{np_maxversion}\"\n"
     ]
    }
   ],
   "source": [
    "import numpy as np\n",
    "import matplotlib.pyplot as plt\n",
    "import pandas as pd\n",
    "from sklearn.metrics.pairwise import euclidean_distances"
   ]
  },
  {
   "cell_type": "code",
   "execution_count": 138,
   "id": "e9e76b32",
   "metadata": {},
   "outputs": [],
   "source": [
    "s = '''2 2\n",
    "3 1\n",
    "5 3\n",
    "4 15\n",
    "11 12\n",
    "12 13\n",
    "3 4\n",
    "13 12\n",
    "13 14'''"
   ]
  },
  {
   "cell_type": "code",
   "execution_count": 139,
   "id": "557f585f",
   "metadata": {},
   "outputs": [
    {
     "data": {
      "text/plain": [
       "{'A': [2, 2],\n",
       " 'B': [3, 1],\n",
       " 'C': [5, 3],\n",
       " 'D': [4, 15],\n",
       " 'E': [11, 12],\n",
       " 'F': [12, 13],\n",
       " 'G': [3, 4],\n",
       " 'H': [13, 12],\n",
       " 'I': [13, 14]}"
      ]
     },
     "execution_count": 139,
     "metadata": {},
     "output_type": "execute_result"
    }
   ],
   "source": [
    "sl = s.split('\\n')\n",
    "dt = {chr(65+i):list(map(float,sl[i].split(' '))) for i in range(len(sl))}\n",
    "dt"
   ]
  },
  {
   "cell_type": "code",
   "execution_count": 140,
   "id": "a8ad5bb5",
   "metadata": {},
   "outputs": [
    {
     "data": {
      "image/png": "[encoded data removed]",
      "text/plain": [
       "<Figure size 432x288 with 1 Axes>"
      ]
     },
     "metadata": {
      "needs_background": "light"
     },
     "output_type": "display_data"
    }
   ],
   "source": [
    "\n",
    "data = list(dt.values())\n",
    "x = np.array([d[0] for d in data])\n",
    "y = np.array([d[1] for d in data])\n",
    "\n",
    "plt.scatter(x, y)\n",
    "plt.show()"
   ]
  },
  {
   "cell_type": "code",
   "execution_count": 142,
   "id": "4badf0f0",
   "metadata": {},
   "outputs": [
    {
     "data": {
      "text/html": [
       "<div>\n",
       "<style scoped>\n",
       "    .dataframe tbody tr th:only-of-type {\n",
       "        vertical-align: middle;\n",
       "    }\n",
       "\n",
       "    .dataframe tbody tr th {\n",
       "        vertical-align: top;\n",
       "    }\n",
       "\n",
       "    .dataframe thead th {\n",
       "        text-align: right;\n",
       "    }\n",
       "</style>\n",
       "<table border=\"1\" class=\"dataframe\">\n",
       "  <thead>\n",
       "    <tr style=\"text-align: right;\">\n",
       "      <th></th>\n",
       "      <th>X</th>\n",
       "      <th>Y</th>\n",
       "    </tr>\n",
       "  </thead>\n",
       "  <tbody>\n",
       "    <tr>\n",
       "      <th>0</th>\n",
       "      <td>2</td>\n",
       "      <td>2</td>\n",
       "    </tr>\n",
       "    <tr>\n",
       "      <th>1</th>\n",
       "      <td>3</td>\n",
       "      <td>1</td>\n",
       "    </tr>\n",
       "    <tr>\n",
       "      <th>2</th>\n",
       "      <td>5</td>\n",
       "      <td>3</td>\n",
       "    </tr>\n",
       "    <tr>\n",
       "      <th>3</th>\n",
       "      <td>4</td>\n",
       "      <td>15</td>\n",
       "    </tr>\n",
       "    <tr>\n",
       "      <th>4</th>\n",
       "      <td>11</td>\n",
       "      <td>12</td>\n",
       "    </tr>\n",
       "    <tr>\n",
       "      <th>5</th>\n",
       "      <td>12</td>\n",
       "      <td>13</td>\n",
       "    </tr>\n",
       "    <tr>\n",
       "      <th>6</th>\n",
       "      <td>3</td>\n",
       "      <td>4</td>\n",
       "    </tr>\n",
       "    <tr>\n",
       "      <th>7</th>\n",
       "      <td>13</td>\n",
       "      <td>12</td>\n",
       "    </tr>\n",
       "    <tr>\n",
       "      <th>8</th>\n",
       "      <td>13</td>\n",
       "      <td>14</td>\n",
       "    </tr>\n",
       "  </tbody>\n",
       "</table>\n",
       "</div>"
      ],
      "text/plain": [
       "    X   Y\n",
       "0   2   2\n",
       "1   3   1\n",
       "2   5   3\n",
       "3   4  15\n",
       "4  11  12\n",
       "5  12  13\n",
       "6   3   4\n",
       "7  13  12\n",
       "8  13  14"
      ]
     },
     "execution_count": 142,
     "metadata": {},
     "output_type": "execute_result"
    }
   ],
   "source": [
    "df = pd.DataFrame(data=np.array(list(dt.values())),columns=['X','Y'])\n",
    "df"
   ]
  },
  {
   "cell_type": "code",
   "execution_count": 3,
   "id": "794eff99",
   "metadata": {},
   "outputs": [
    {
     "data": {
      "text/html": [
       "<div>\n",
       "<style scoped>\n",
       "    .dataframe tbody tr th:only-of-type {\n",
       "        vertical-align: middle;\n",
       "    }\n",
       "\n",
       "    .dataframe tbody tr th {\n",
       "        vertical-align: top;\n",
       "    }\n",
       "\n",
       "    .dataframe thead th {\n",
       "        text-align: right;\n",
       "    }\n",
       "</style>\n",
       "<table border=\"1\" class=\"dataframe\">\n",
       "  <thead>\n",
       "    <tr style=\"text-align: right;\">\n",
       "      <th></th>\n",
       "      <th>X</th>\n",
       "      <th>Y</th>\n",
       "    </tr>\n",
       "  </thead>\n",
       "  <tbody>\n",
       "    <tr>\n",
       "      <th>0</th>\n",
       "      <td>1.0</td>\n",
       "      <td>2.0</td>\n",
       "    </tr>\n",
       "    <tr>\n",
       "      <th>1</th>\n",
       "      <td>3.0</td>\n",
       "      <td>4.0</td>\n",
       "    </tr>\n",
       "    <tr>\n",
       "      <th>2</th>\n",
       "      <td>2.5</td>\n",
       "      <td>4.0</td>\n",
       "    </tr>\n",
       "    <tr>\n",
       "      <th>3</th>\n",
       "      <td>1.5</td>\n",
       "      <td>2.5</td>\n",
       "    </tr>\n",
       "    <tr>\n",
       "      <th>4</th>\n",
       "      <td>3.0</td>\n",
       "      <td>5.0</td>\n",
       "    </tr>\n",
       "    <tr>\n",
       "      <th>5</th>\n",
       "      <td>2.8</td>\n",
       "      <td>4.5</td>\n",
       "    </tr>\n",
       "    <tr>\n",
       "      <th>6</th>\n",
       "      <td>2.5</td>\n",
       "      <td>4.5</td>\n",
       "    </tr>\n",
       "    <tr>\n",
       "      <th>7</th>\n",
       "      <td>1.2</td>\n",
       "      <td>2.5</td>\n",
       "    </tr>\n",
       "    <tr>\n",
       "      <th>8</th>\n",
       "      <td>1.0</td>\n",
       "      <td>3.0</td>\n",
       "    </tr>\n",
       "    <tr>\n",
       "      <th>9</th>\n",
       "      <td>1.0</td>\n",
       "      <td>5.0</td>\n",
       "    </tr>\n",
       "    <tr>\n",
       "      <th>10</th>\n",
       "      <td>1.0</td>\n",
       "      <td>2.5</td>\n",
       "    </tr>\n",
       "    <tr>\n",
       "      <th>11</th>\n",
       "      <td>5.0</td>\n",
       "      <td>6.0</td>\n",
       "    </tr>\n",
       "    <tr>\n",
       "      <th>12</th>\n",
       "      <td>4.0</td>\n",
       "      <td>3.0</td>\n",
       "    </tr>\n",
       "  </tbody>\n",
       "</table>\n",
       "</div>"
      ],
      "text/plain": [
       "      X    Y\n",
       "0   1.0  2.0\n",
       "1   3.0  4.0\n",
       "2   2.5  4.0\n",
       "3   1.5  2.5\n",
       "4   3.0  5.0\n",
       "5   2.8  4.5\n",
       "6   2.5  4.5\n",
       "7   1.2  2.5\n",
       "8   1.0  3.0\n",
       "9   1.0  5.0\n",
       "10  1.0  2.5\n",
       "11  5.0  6.0\n",
       "12  4.0  3.0"
      ]
     },
     "execution_count": 3,
     "metadata": {},
     "output_type": "execute_result"
    }
   ],
   "source": [
    "s = '''1 2\n",
    "3 4\n",
    "2.5 4\n",
    "1.5 2.5\n",
    "3 5\n",
    "2.8 4.5\n",
    "2.5 4.5\n",
    "1.2 2.5\n",
    "1 3\n",
    "1 5\n",
    "1 2.5\n",
    "5 6\n",
    "4 3'''\n",
    "sl = s.split('\\n')\n",
    "dt = {chr(65+i):list(map(float,sl[i].split(' '))) for i in range(len(sl))}\n",
    "df = pd.DataFrame(data=np.array(list(dt.values())),columns=['X','Y'])\n",
    "df"
   ]
  },
  {
   "cell_type": "code",
   "execution_count": 7,
   "id": "bc4705b8",
   "metadata": {},
   "outputs": [
    {
     "data": {
      "image/png": "[encoded data removed]",
      "text/plain": [
       "<Figure size 432x288 with 1 Axes>"
      ]
     },
     "metadata": {
      "needs_background": "light"
     },
     "output_type": "display_data"
    }
   ],
   "source": [
    "data = list(dt.values())\n",
    "x = np.array([d[0] for d in data])\n",
    "y = np.array([d[1] for d in data])\n",
    "\n",
    "plt.scatter(x, y)\n",
    "plt.show()"
   ]
  },
  {
   "cell_type": "code",
   "execution_count": 4,
   "id": "a5497509",
   "metadata": {},
   "outputs": [],
   "source": [
    "def manhatan(x,y):\n",
    "    return sum(abs(value1 - value2) for value1, value2 in zip(x, y))\n",
    "def check_attr(d):\n",
    "    if(d['isCore']) : return 'Core'\n",
    "    if(d['isBorder']): return 'Border'\n",
    "    if(d['isNoise']): return 'Noise'\n",
    "    \n",
    "def grow_cluster(clust_data, neighborhood, cluster_labels,cluster_label):\n",
    "    for p in neighborhood:\n",
    "        if(cluster_labels[p] == -1):\n",
    "            if(clust_data[p]['isBorder']):\n",
    "                print('----------{} is in neighborhood adding to cluster {}'.format(p,cluster_label))\n",
    "                cluster_labels[p] = cluster_label\n",
    "            if(clust_data[p]['isCore']):\n",
    "                print('----------{} is in neighborhood adding to cluster {}'.format(p,cluster_label))\n",
    "                print('-------{} is also a core point so visiting its neighbors'.format(p))\n",
    "                cluster_labels[p] = cluster_label\n",
    "                grow_cluster(clust_data, clust_data[p]['neighbors'], cluster_labels,cluster_label)\n",
    "                print('-------done visiting neighbor core point',p)\n",
    "        else: print('-------- {} is already part of cluster {}'.format(p,cluster_labels[p]))\n",
    "def dbscan(data,eps,minPts,build_dist_mat=True,distance='euclidean'):\n",
    "    if(build_dist_mat):\n",
    "        if(distance=='euclidean'):\n",
    "            distMat = euclidean_distances(data)\n",
    "        else:\n",
    "            ll = len(data)\n",
    "            distMat = [[0]*ll for i in range(ll)]\n",
    "            for i in range(ll):\n",
    "                for j in range(ll):\n",
    "                    if(i==j): \n",
    "                        distMat[i][j] = 0\n",
    "                        continue\n",
    "                    else:\n",
    "                        distMat[i][j] = manhatan(data[i],data[j])\n",
    "                    \n",
    "    else:\n",
    "        distMat = data\n",
    "        \n",
    "    distMat = np.round(distMat,3)\n",
    "    \n",
    "    print('-----Step 1, euclidian distance matrix:')\n",
    "    print(pd.DataFrame(data=distMat))\n",
    "        \n",
    "    clust_data = {}\n",
    "    for i in range(df.shape[0]):\n",
    "        clust_data[i] = {'neighbors':set(),'isCore':False,'isBorder':False,'isNoise':True}\n",
    "    visited = [0]*df.shape[0]\n",
    "    \n",
    "    print('--- Step 2, identifying core & border points')\n",
    "    # mark core points\n",
    "    for i in range(df.shape[0]):\n",
    "        print('---visiting point',i)\n",
    "        for j in range(df.shape[0]):\n",
    "            if(i == j): continue\n",
    "            if(distMat[i][j] <= eps):\n",
    "                print('------D[{},{}] = {} < {}(eps) so adding {} to neighborhood of {}'.format(i,j,distMat[i][j],eps,j,i ))\n",
    "                clust_data[i]['neighbors'].add(j)\n",
    "        print('------N[{}] is'.format(i),clust_data[i]['neighbors'])\n",
    "        if(len(clust_data[i]['neighbors'])+1 >= minPts): \n",
    "            \n",
    "            print('--------and contains minimum points so marking it as **core point**'.format(i,clust_data[i]['neighbors']))\n",
    "            clust_data[i]['isCore'] = True\n",
    "            clust_data[i]['isNoise'] = False\n",
    "            \n",
    "    corePoints = {k:v for k,v in clust_data.items() if v['isCore']}\n",
    "    \n",
    "    print('---- Step 2.5 marking border points')\n",
    "    # mark border points\n",
    "    for k,v in corePoints.items():\n",
    "        \n",
    "        for bpts in corePoints[k]['neighbors']:\n",
    "            if(not clust_data[bpts]['isCore'] and not clust_data[bpts]['isBorder']):\n",
    "                print('----------since {} is not a core point and is in neighborhood of {} it is a border point to core point {}'.format(bpts,k,k))\n",
    "                clust_data[bpts]['isBorder'] = True\n",
    "                clust_data[bpts]['isNoise'] = False\n",
    "                \n",
    "    cldf = pd.DataFrame(data = [[i,clust_data[i]['neighbors'],len(clust_data[i]['neighbors'])+1,check_attr(clust_data[i])] for i in range(len(data))],columns = ['point','neighbors','density','attribute'])\n",
    "    print(cldf)\n",
    "    # build clusters\n",
    "    cluster_labels = [-1]*df.shape[0]\n",
    "    cluster = 0\n",
    "    print('---- Step 3, building cluster. core points to be visited are:',corePoints.keys())\n",
    "    for k,v in corePoints.items():\n",
    "        print('---starting with cluster',cluster)\n",
    "        print('---visiting core point',k, 'neighborhood N[{}] is'.format(k),corePoints[k]['neighbors'])\n",
    "        # if not already a part of a cluster then add it to a cluster\n",
    "        if(cluster_labels[k] == -1):\n",
    "            print('------core point {} doesnt belong to any cluster yet , adding to cluster{}'.format(k,cluster))\n",
    "            cluster_labels[k] = cluster\n",
    "            grow_cluster(clust_data,corePoints[k]['neighbors'],cluster_labels,cluster)\n",
    "            cluster += 1\n",
    "        else:\n",
    "            print('---{} is already part of cluster {}'.format(k,cluster_labels[k]))\n",
    "    cldf = pd.DataFrame(data = [[i,clust_data[i]['neighbors'],len(clust_data[i]['neighbors'])+1,check_attr(clust_data[i]),cluster_labels[i]] for i in range(len(data))],columns = ['point','neighbors','density','attribute','cluster'])\n",
    "    print(cldf)\n",
    "    \n",
    "    return cluster_labels"
   ]
  },
  {
   "cell_type": "code",
   "execution_count": 144,
   "id": "94c71ed3",
   "metadata": {
    "scrolled": false
   },
   "outputs": [
    {
     "name": "stdout",
     "output_type": "stream",
     "text": [
      "-----Step 1, euclidian distance matrix:\n",
      "        0       1       2       3       4       5       6       7       8\n",
      "0   0.000   1.414   3.162  13.153  13.454  14.866   2.236  14.866  16.279\n",
      "1   1.414   0.000   2.828  14.036  13.601  15.000   3.000  14.866  16.401\n",
      "2   3.162   2.828   0.000  12.042  10.817  12.207   2.236  12.042  13.601\n",
      "3  13.153  14.036  12.042   0.000   7.616   8.246  11.045   9.487   9.055\n",
      "4  13.454  13.601  10.817   7.616   0.000   1.414  11.314   2.000   2.828\n",
      "5  14.866  15.000  12.207   8.246   1.414   0.000  12.728   1.414   1.414\n",
      "6   2.236   3.000   2.236  11.045  11.314  12.728   0.000  12.806  14.142\n",
      "7  14.866  14.866  12.042   9.487   2.000   1.414  12.806   0.000   2.000\n",
      "8  16.279  16.401  13.601   9.055   2.828   1.414  14.142   2.000   0.000\n",
      "--- Step 2, identifying core & border points\n",
      "---visiting point 0\n",
      "------D[0,1] = 1.414 < 3(eps) so adding 1 to neighborhood of 0\n",
      "------D[0,6] = 2.236 < 3(eps) so adding 6 to neighborhood of 0\n",
      "------N[0] is {1, 6}\n",
      "---visiting point 1\n",
      "------D[1,0] = 1.414 < 3(eps) so adding 0 to neighborhood of 1\n",
      "------D[1,2] = 2.828 < 3(eps) so adding 2 to neighborhood of 1\n",
      "------D[1,6] = 3.0 < 3(eps) so adding 6 to neighborhood of 1\n",
      "------N[1] is {0, 2, 6}\n",
      "--------and contains minimum points so marking it as **core point**\n",
      "---visiting point 2\n",
      "------D[2,1] = 2.828 < 3(eps) so adding 1 to neighborhood of 2\n",
      "------D[2,6] = 2.236 < 3(eps) so adding 6 to neighborhood of 2\n",
      "------N[2] is {1, 6}\n",
      "---visiting point 3\n",
      "------N[3] is set()\n",
      "---visiting point 4\n",
      "------D[4,5] = 1.414 < 3(eps) so adding 5 to neighborhood of 4\n",
      "------D[4,7] = 2.0 < 3(eps) so adding 7 to neighborhood of 4\n",
      "------D[4,8] = 2.828 < 3(eps) so adding 8 to neighborhood of 4\n",
      "------N[4] is {8, 5, 7}\n",
      "--------and contains minimum points so marking it as **core point**\n",
      "---visiting point 5\n",
      "------D[5,4] = 1.414 < 3(eps) so adding 4 to neighborhood of 5\n",
      "------D[5,7] = 1.414 < 3(eps) so adding 7 to neighborhood of 5\n",
      "------D[5,8] = 1.414 < 3(eps) so adding 8 to neighborhood of 5\n",
      "------N[5] is {8, 4, 7}\n",
      "--------and contains minimum points so marking it as **core point**\n",
      "---visiting point 6\n",
      "------D[6,0] = 2.236 < 3(eps) so adding 0 to neighborhood of 6\n",
      "------D[6,1] = 3.0 < 3(eps) so adding 1 to neighborhood of 6\n",
      "------D[6,2] = 2.236 < 3(eps) so adding 2 to neighborhood of 6\n",
      "------N[6] is {0, 1, 2}\n",
      "--------and contains minimum points so marking it as **core point**\n",
      "---visiting point 7\n",
      "------D[7,4] = 2.0 < 3(eps) so adding 4 to neighborhood of 7\n",
      "------D[7,5] = 1.414 < 3(eps) so adding 5 to neighborhood of 7\n",
      "------D[7,8] = 2.0 < 3(eps) so adding 8 to neighborhood of 7\n",
      "------N[7] is {8, 4, 5}\n",
      "--------and contains minimum points so marking it as **core point**\n",
      "---visiting point 8\n",
      "------D[8,4] = 2.828 < 3(eps) so adding 4 to neighborhood of 8\n",
      "------D[8,5] = 1.414 < 3(eps) so adding 5 to neighborhood of 8\n",
      "------D[8,7] = 2.0 < 3(eps) so adding 7 to neighborhood of 8\n",
      "------N[8] is {4, 5, 7}\n",
      "--------and contains minimum points so marking it as **core point**\n",
      "---- Step 2.5 marking border points\n",
      "----------since 0 is not a core point and is in neighborhood of 1 it is a border point to core point 1\n",
      "----------since 2 is not a core point and is in neighborhood of 1 it is a border point to core point 1\n",
      "   point  neighbors  density attribute\n",
      "0      0     {1, 6}        3    Border\n",
      "1      1  {0, 2, 6}        4      Core\n",
      "2      2     {1, 6}        3    Border\n",
      "3      3         {}        1     Noise\n",
      "4      4  {8, 5, 7}        4      Core\n",
      "5      5  {8, 4, 7}        4      Core\n",
      "6      6  {0, 1, 2}        4      Core\n",
      "7      7  {8, 4, 5}        4      Core\n",
      "8      8  {4, 5, 7}        4      Core\n",
      "---- Step 3, building cluster. core points to be visited are: dict_keys([1, 4, 5, 6, 7, 8])\n",
      "---starting with cluster 0\n",
      "---visiting core point 1 neighborhood N[1] is {0, 2, 6}\n",
      "------core point 1 doesnt belong to any cluster yet , adding to cluster0\n",
      "----------0 is in neighborhood adding to cluster 0\n",
      "----------2 is in neighborhood adding to cluster 0\n",
      "----------6 is in neighborhood adding to cluster 0\n",
      "-------6 is also a core point so visiting its neighbors\n",
      "-------- 0 is already part of cluster 0\n",
      "-------- 1 is already part of cluster 0\n",
      "-------- 2 is already part of cluster 0\n",
      "-------done visiting neighbor core point 6\n",
      "---starting with cluster 1\n",
      "---visiting core point 4 neighborhood N[4] is {8, 5, 7}\n",
      "------core point 4 doesnt belong to any cluster yet , adding to cluster1\n",
      "----------8 is in neighborhood adding to cluster 1\n",
      "-------8 is also a core point so visiting its neighbors\n",
      "-------- 4 is already part of cluster 1\n",
      "----------5 is in neighborhood adding to cluster 1\n",
      "-------5 is also a core point so visiting its neighbors\n",
      "-------- 8 is already part of cluster 1\n",
      "-------- 4 is already part of cluster 1\n",
      "----------7 is in neighborhood adding to cluster 1\n",
      "-------7 is also a core point so visiting its neighbors\n",
      "-------- 8 is already part of cluster 1\n",
      "-------- 4 is already part of cluster 1\n",
      "-------- 5 is already part of cluster 1\n",
      "-------done visiting neighbor core point 7\n",
      "-------done visiting neighbor core point 5\n",
      "-------- 7 is already part of cluster 1\n",
      "-------done visiting neighbor core point 8\n",
      "-------- 5 is already part of cluster 1\n",
      "-------- 7 is already part of cluster 1\n",
      "---starting with cluster 2\n",
      "---visiting core point 5 neighborhood N[5] is {8, 4, 7}\n",
      "---5 is already part of cluster 1\n",
      "---starting with cluster 2\n",
      "---visiting core point 6 neighborhood N[6] is {0, 1, 2}\n",
      "---6 is already part of cluster 0\n",
      "---starting with cluster 2\n",
      "---visiting core point 7 neighborhood N[7] is {8, 4, 5}\n",
      "---7 is already part of cluster 1\n",
      "---starting with cluster 2\n",
      "---visiting core point 8 neighborhood N[8] is {4, 5, 7}\n",
      "---8 is already part of cluster 1\n",
      "   point  neighbors  density attribute  cluster\n",
      "0      0     {1, 6}        3    Border        0\n",
      "1      1  {0, 2, 6}        4      Core        0\n",
      "2      2     {1, 6}        3    Border        0\n",
      "3      3         {}        1     Noise       -1\n",
      "4      4  {8, 5, 7}        4      Core        1\n",
      "5      5  {8, 4, 7}        4      Core        1\n",
      "6      6  {0, 1, 2}        4      Core        0\n",
      "7      7  {8, 4, 5}        4      Core        1\n",
      "8      8  {4, 5, 7}        4      Core        1\n"
     ]
    },
    {
     "data": {
      "text/plain": [
       "[0, 0, 0, -1, 1, 1, 0, 1, 1]"
      ]
     },
     "execution_count": 144,
     "metadata": {},
     "output_type": "execute_result"
    }
   ],
   "source": [
    "dbscan(df.values, 3, 4)"
   ]
  },
  {
   "cell_type": "code",
   "execution_count": 145,
   "id": "013685b6",
   "metadata": {},
   "outputs": [
    {
     "data": {
      "text/plain": [
       "<matplotlib.collections.PathCollection at 0x22837759e50>"
      ]
     },
     "execution_count": 145,
     "metadata": {},
     "output_type": "execute_result"
    },
    {
     "data": {
      "image/png": "[encoded data removed]",
      "text/plain": [
       "<Figure size 432x288 with 1 Axes>"
      ]
     },
     "metadata": {
      "needs_background": "light"
     },
     "output_type": "display_data"
    }
   ],
   "source": [
    "plt.scatter(\n",
    "    df['X'],\n",
    "    df['Y'],\n",
    "    c = [0, 0, 0, -1, 1, 1, 0, 1, 1]\n",
    ")"
   ]
  },
  {
   "cell_type": "code",
   "execution_count": 43,
   "id": "9ccfb619",
   "metadata": {},
   "outputs": [],
   "source": [
    "from sklearn.cluster import DBSCAN"
   ]
  },
  {
   "cell_type": "code",
   "execution_count": 135,
   "id": "6efdd2c7",
   "metadata": {},
   "outputs": [
    {
     "data": {
      "text/plain": [
       "array([ 0,  0,  0,  0, -1,  1,  1,  1,  1], dtype=int64)"
      ]
     },
     "execution_count": 135,
     "metadata": {},
     "output_type": "execute_result"
    }
   ],
   "source": [
    "dbs = DBSCAN(eps=3, min_samples=4)\n",
    "dbs.fit(list(dt.values()))\n",
    "dbs.labels_"
   ]
  },
  {
   "cell_type": "code",
   "execution_count": 6,
   "id": "1549e649",
   "metadata": {
    "scrolled": false
   },
   "outputs": [
    {
     "name": "stdout",
     "output_type": "stream",
     "text": [
      "-----Step 1, euclidian distance matrix:\n",
      "       0      1      2      3      4      5      6      7      8      9   \\\n",
      "0   0.000  2.828  2.500  0.707  3.606  3.081  2.915  0.539  1.000  3.000   \n",
      "1   2.828  0.000  0.500  2.121  1.000  0.539  0.707  2.343  2.236  2.236   \n",
      "2   2.500  0.500  0.000  1.803  1.118  0.583  0.500  1.985  1.803  1.803   \n",
      "3   0.707  2.121  1.803  0.000  2.915  2.385  2.236  0.300  0.707  2.550   \n",
      "4   3.606  1.000  1.118  2.915  0.000  0.539  0.707  3.081  2.828  2.000   \n",
      "5   3.081  0.539  0.583  2.385  0.539  0.000  0.300  2.561  2.343  1.868   \n",
      "6   2.915  0.707  0.500  2.236  0.707  0.300  0.000  2.385  2.121  1.581   \n",
      "7   0.539  2.343  1.985  0.300  3.081  2.561  2.385  0.000  0.539  2.508   \n",
      "8   1.000  2.236  1.803  0.707  2.828  2.343  2.121  0.539  0.000  2.000   \n",
      "9   3.000  2.236  1.803  2.550  2.000  1.868  1.581  2.508  2.000  0.000   \n",
      "10  0.500  2.500  2.121  0.500  3.202  2.691  2.500  0.200  0.500  2.500   \n",
      "11  5.657  2.828  3.202  4.950  2.236  2.663  2.915  5.166  5.000  4.123   \n",
      "12  3.162  1.414  1.803  2.550  2.236  1.921  2.121  2.844  3.000  3.606   \n",
      "\n",
      "       10     11     12  \n",
      "0   0.500  5.657  3.162  \n",
      "1   2.500  2.828  1.414  \n",
      "2   2.121  3.202  1.803  \n",
      "3   0.500  4.950  2.550  \n",
      "4   3.202  2.236  2.236  \n",
      "5   2.691  2.663  1.921  \n",
      "6   2.500  2.915  2.121  \n",
      "7   0.200  5.166  2.844  \n",
      "8   0.500  5.000  3.000  \n",
      "9   2.500  4.123  3.606  \n",
      "10  0.000  5.315  3.041  \n",
      "11  5.315  0.000  3.162  \n",
      "12  3.041  3.162  0.000  \n",
      "--- Step 2, identifying core & border points\n",
      "---visiting point 0\n",
      "------D[0,7] = 0.539 < 0.6(eps) so adding 7 to neighborhood of 0\n",
      "------D[0,10] = 0.5 < 0.6(eps) so adding 10 to neighborhood of 0\n",
      "------N[0] is {10, 7}\n",
      "---visiting point 1\n",
      "------D[1,2] = 0.5 < 0.6(eps) so adding 2 to neighborhood of 1\n",
      "------D[1,5] = 0.539 < 0.6(eps) so adding 5 to neighborhood of 1\n",
      "------N[1] is {2, 5}\n",
      "---visiting point 2\n",
      "------D[2,1] = 0.5 < 0.6(eps) so adding 1 to neighborhood of 2\n",
      "------D[2,5] = 0.583 < 0.6(eps) so adding 5 to neighborhood of 2\n",
      "------D[2,6] = 0.5 < 0.6(eps) so adding 6 to neighborhood of 2\n",
      "------N[2] is {1, 5, 6}\n",
      "--------and contains minimum points so marking it as **core point**\n",
      "---visiting point 3\n",
      "------D[3,7] = 0.3 < 0.6(eps) so adding 7 to neighborhood of 3\n",
      "------D[3,10] = 0.5 < 0.6(eps) so adding 10 to neighborhood of 3\n",
      "------N[3] is {10, 7}\n",
      "---visiting point 4\n",
      "------D[4,5] = 0.539 < 0.6(eps) so adding 5 to neighborhood of 4\n",
      "------N[4] is {5}\n",
      "---visiting point 5\n",
      "------D[5,1] = 0.539 < 0.6(eps) so adding 1 to neighborhood of 5\n",
      "------D[5,2] = 0.583 < 0.6(eps) so adding 2 to neighborhood of 5\n",
      "------D[5,4] = 0.539 < 0.6(eps) so adding 4 to neighborhood of 5\n",
      "------D[5,6] = 0.3 < 0.6(eps) so adding 6 to neighborhood of 5\n",
      "------N[5] is {1, 2, 4, 6}\n",
      "--------and contains minimum points so marking it as **core point**\n",
      "---visiting point 6\n",
      "------D[6,2] = 0.5 < 0.6(eps) so adding 2 to neighborhood of 6\n",
      "------D[6,5] = 0.3 < 0.6(eps) so adding 5 to neighborhood of 6\n",
      "------N[6] is {2, 5}\n",
      "---visiting point 7\n",
      "------D[7,0] = 0.539 < 0.6(eps) so adding 0 to neighborhood of 7\n",
      "------D[7,3] = 0.3 < 0.6(eps) so adding 3 to neighborhood of 7\n",
      "------D[7,8] = 0.539 < 0.6(eps) so adding 8 to neighborhood of 7\n",
      "------D[7,10] = 0.2 < 0.6(eps) so adding 10 to neighborhood of 7\n",
      "------N[7] is {0, 8, 10, 3}\n",
      "--------and contains minimum points so marking it as **core point**\n",
      "---visiting point 8\n",
      "------D[8,7] = 0.539 < 0.6(eps) so adding 7 to neighborhood of 8\n",
      "------D[8,10] = 0.5 < 0.6(eps) so adding 10 to neighborhood of 8\n",
      "------N[8] is {10, 7}\n",
      "---visiting point 9\n",
      "------N[9] is set()\n",
      "---visiting point 10\n",
      "------D[10,0] = 0.5 < 0.6(eps) so adding 0 to neighborhood of 10\n",
      "------D[10,3] = 0.5 < 0.6(eps) so adding 3 to neighborhood of 10\n",
      "------D[10,7] = 0.2 < 0.6(eps) so adding 7 to neighborhood of 10\n",
      "------D[10,8] = 0.5 < 0.6(eps) so adding 8 to neighborhood of 10\n",
      "------N[10] is {0, 8, 3, 7}\n",
      "--------and contains minimum points so marking it as **core point**\n",
      "---visiting point 11\n",
      "------N[11] is set()\n",
      "---visiting point 12\n",
      "------N[12] is set()\n",
      "---- Step 2.5 marking border points\n",
      "----------since 1 is not a core point and is in neighborhood of 2 it is a border point to core point 2\n",
      "----------since 6 is not a core point and is in neighborhood of 2 it is a border point to core point 2\n",
      "----------since 4 is not a core point and is in neighborhood of 5 it is a border point to core point 5\n",
      "----------since 0 is not a core point and is in neighborhood of 7 it is a border point to core point 7\n",
      "----------since 8 is not a core point and is in neighborhood of 7 it is a border point to core point 7\n",
      "----------since 3 is not a core point and is in neighborhood of 7 it is a border point to core point 7\n",
      "    point      neighbors  density attribute\n",
      "0       0        {10, 7}        3    Border\n",
      "1       1         {2, 5}        3    Border\n",
      "2       2      {1, 5, 6}        4      Core\n",
      "3       3        {10, 7}        3    Border\n",
      "4       4            {5}        2    Border\n",
      "5       5   {1, 2, 4, 6}        5      Core\n",
      "6       6         {2, 5}        3    Border\n",
      "7       7  {0, 8, 10, 3}        5      Core\n",
      "8       8        {10, 7}        3    Border\n",
      "9       9             {}        1     Noise\n",
      "10     10   {0, 8, 3, 7}        5      Core\n",
      "11     11             {}        1     Noise\n",
      "12     12             {}        1     Noise\n",
      "---- Step 3, building cluster. core points to be visited are: dict_keys([2, 5, 7, 10])\n",
      "---starting with cluster 0\n",
      "---visiting core point 2 neighborhood N[2] is {1, 5, 6}\n",
      "------core point 2 doesnt belong to any cluster yet , adding to cluster0\n",
      "----------1 is in neighborhood adding to cluster 0\n",
      "----------5 is in neighborhood adding to cluster 0\n",
      "-------5 is also a core point so visiting its neighbors\n",
      "-------- 1 is already part of cluster 0\n",
      "-------- 2 is already part of cluster 0\n",
      "----------4 is in neighborhood adding to cluster 0\n",
      "----------6 is in neighborhood adding to cluster 0\n",
      "-------done visiting neighbor core point 5\n",
      "-------- 6 is already part of cluster 0\n",
      "---starting with cluster 1\n",
      "---visiting core point 5 neighborhood N[5] is {1, 2, 4, 6}\n",
      "---5 is already part of cluster 0\n",
      "---starting with cluster 1\n",
      "---visiting core point 7 neighborhood N[7] is {0, 8, 10, 3}\n",
      "------core point 7 doesnt belong to any cluster yet , adding to cluster1\n",
      "----------0 is in neighborhood adding to cluster 1\n",
      "----------8 is in neighborhood adding to cluster 1\n",
      "----------10 is in neighborhood adding to cluster 1\n",
      "-------10 is also a core point so visiting its neighbors\n",
      "-------- 0 is already part of cluster 1\n",
      "-------- 8 is already part of cluster 1\n",
      "----------3 is in neighborhood adding to cluster 1\n",
      "-------- 7 is already part of cluster 1\n",
      "-------done visiting neighbor core point 10\n",
      "-------- 3 is already part of cluster 1\n",
      "---starting with cluster 2\n",
      "---visiting core point 10 neighborhood N[10] is {0, 8, 3, 7}\n",
      "---10 is already part of cluster 1\n",
      "    point      neighbors  density attribute  cluster\n",
      "0       0        {10, 7}        3    Border        1\n",
      "1       1         {2, 5}        3    Border        0\n",
      "2       2      {1, 5, 6}        4      Core        0\n",
      "3       3        {10, 7}        3    Border        1\n",
      "4       4            {5}        2    Border        0\n",
      "5       5   {1, 2, 4, 6}        5      Core        0\n",
      "6       6         {2, 5}        3    Border        0\n",
      "7       7  {0, 8, 10, 3}        5      Core        1\n",
      "8       8        {10, 7}        3    Border        1\n",
      "9       9             {}        1     Noise       -1\n",
      "10     10   {0, 8, 3, 7}        5      Core        1\n",
      "11     11             {}        1     Noise       -1\n",
      "12     12             {}        1     Noise       -1\n"
     ]
    },
    {
     "data": {
      "text/plain": [
       "[1, 0, 0, 1, 0, 0, 0, 1, 1, -1, 1, -1, -1]"
      ]
     },
     "execution_count": 6,
     "metadata": {},
     "output_type": "execute_result"
    }
   ],
   "source": [
    "dbscan(df.values, 0.6,4)"
   ]
  },
  {
   "cell_type": "code",
   "execution_count": 8,
   "id": "8d6a7cb1",
   "metadata": {},
   "outputs": [
    {
     "data": {
      "text/plain": [
       "<matplotlib.collections.PathCollection at 0x211751cc8e0>"
      ]
     },
     "execution_count": 8,
     "metadata": {},
     "output_type": "execute_result"
    },
    {
     "data": {
      "image/png": "[encoded data removed]",
      "text/plain": [
       "<Figure size 432x288 with 1 Axes>"
      ]
     },
     "metadata": {
      "needs_background": "light"
     },
     "output_type": "display_data"
    }
   ],
   "source": [
    "plt.scatter(\n",
    "    df['X'],\n",
    "    df['Y'],\n",
    "    c = [1, 0, 0, 1, 0, 0, 0, 1, 1, -1, 1, -1, -1]\n",
    ")"
   ]
  }
 ],
 "metadata": {
  "kernelspec": {
   "display_name": "Python 3 (ipykernel)",
   "language": "python",
   "name": "python3"
  },
  "language_info": {
   "codemirror_mode": {
    "name": "ipython",
    "version": 3
   },
   "file_extension": ".py",
   "mimetype": "text/x-python",
   "name": "python",
   "nbconvert_exporter": "python",
   "pygments_lexer": "ipython3",
   "version": "3.10.10"
  }
 },
 "nbformat": 4,
 "nbformat_minor": 5
}
