{
 "cells": [
  {
   "cell_type": "code",
   "execution_count": 6,
   "id": "759d9fe2",
   "metadata": {},
   "outputs": [],
   "source": [
    "import matplotlib.pyplot as plt\n",
    "import numpy as np\n",
    "import pandas as pd\n",
    "import random\n",
    "import pprint\n",
    "from IPython.display import display\n",
    "from sympy import Symbol\n",
    "def euclideanDistance(x,y):\n",
    "    if len(x) != len(y): return\n",
    "    exp = []\n",
    "    sm = 0\n",
    "    for i in range(len(x)):\n",
    "        v = x[i] - y[i]\n",
    "        sm += v**2\n",
    "        vexp = '({} - {})^'.format(x[i],y[i]) + '{2}'\n",
    "        exp.append(vexp)\n",
    "    rval = round(sm**.5,3)\n",
    "    return Symbol('\\sqrt{' + ' + '.join(exp) + '}'+' = {0}'.format(rval)),rval\n",
    "\n",
    "def manhatan(x,y):\n",
    "    if len(x) != len(y): return\n",
    "    exp = []\n",
    "    sm = 0\n",
    "    for i in range(len(x)):\n",
    "        v = abs(x[i] - y[i])\n",
    "        sm += v\n",
    "        vexp = '|{} - {}|'.format(x[i],y[i])\n",
    "        exp.append(vexp)\n",
    "    rval = sm\n",
    "    return Symbol( ' + '.join(exp) +' = {0}'.format(rval)),rval\n",
    "\n",
    "def centroid_avg(l):\n",
    "    cdf = pd.DataFrame(data=l,columns = ['x','y'])\n",
    "    x_avg_exp = ' + '.join([str(e) for e in cdf.x.values])\n",
    "    y_avg_exp = ' + '.join([str(e) for e in cdf.y.values])\n",
    "    ll = len(l)\n",
    "    x_avg = round(np.mean(cdf.x.values),3)\n",
    "    y_avg = round(np.mean(cdf.y.values),3)\n",
    "    return '({})/{} = {}'.format(x_avg_exp,ll,x_avg),'({})/{} = {}'.format(y_avg_exp,ll,y_avg),[x_avg,y_avg]"
   ]
  },
  {
   "cell_type": "code",
   "execution_count": 2,
   "id": "d8ebaf28",
   "metadata": {},
   "outputs": [],
   "source": [
    "def cprint(v,todisplay=True):\n",
    "    if(todisplay): pprint.pprint(v)"
   ]
  },
  {
   "cell_type": "code",
   "execution_count": 8,
   "id": "0f829d9c",
   "metadata": {},
   "outputs": [],
   "source": [
    "def KMeans(points,k,n_iters = 5,todisplay=True,distance='euclidean'):\n",
    "    n_pts = len(points)\n",
    "    initial_clusters = [points[i] for i in np.random.choice(n_pts , k)]\n",
    "    cprint('initial clusters are: ' + str(initial_clusters),todisplay)\n",
    "    clusters = {i: {'center':initial_clusters[i],'members':[]} for i in range(k)}\n",
    "    for t in range(n_iters):\n",
    "        \n",
    "        df = pd.DataFrame(data = np.array([[None]*n_pts]*k), columns=range(n_pts))\n",
    "        cprint(df,todisplay)\n",
    "\n",
    "        for i in range(k):\n",
    "            for j in range(n_pts):\n",
    "                if(distance == 'euclidean'):\n",
    "                    exp , sqre = euclideanDistance(clusters[i]['center'], points[j])\n",
    "                else:\n",
    "                    exp , sqre = manhatan(clusters[i]['center'], points[j])\n",
    "                cprint('distance between centroid {} and point {} {} is, '.format(i,j,points[j]),todisplay)\n",
    "                if(todisplay): display(exp)\n",
    "                df[j][i] = sqre\n",
    "                cprint('-'*10,todisplay)\n",
    "        cprint(df,todisplay)\n",
    "        df = df.astype('float64')\n",
    "\n",
    "        ## finding which point is close to which cluster centroid and assigning it to that cluster\n",
    "        for i in range(k):\n",
    "            clusters[i]['members'] = []\n",
    "        cprint(clusters,todisplay)    \n",
    "        for i in range(n_pts):\n",
    "            clusters[df[i].idxmin()]['members'].append(points[i])\n",
    "        cprint(clusters,todisplay)\n",
    "\n",
    "        ## updating centroids\n",
    "        for i in range(k):\n",
    "            x_exp, y_exp , avg = centroid_avg(clusters[i]['members'])\n",
    "            cprint('mean of member points of cluster {} is '.format(i) + str(x_exp) + ','+ y_exp,todisplay)\n",
    "            clusters[i]['center'] = avg\n",
    "        cprint(clusters,todisplay)\n",
    "        cprint('-'*10 + 'Iteration {} is done'.format(t+1)  + '-'*10,todisplay)\n",
    "\n",
    "    return df,clusters"
   ]
  },
  {
   "cell_type": "code",
   "execution_count": 3,
   "id": "2399e51d",
   "metadata": {
    "scrolled": false
   },
   "outputs": [
    {
     "data": {
      "image/png": "[encoded data removed]",
      "text/plain": [
       "<Figure size 432x288 with 1 Axes>"
      ]
     },
     "metadata": {
      "needs_background": "light"
     },
     "output_type": "display_data"
    }
   ],
   "source": [
    "start = 0\n",
    "k = 2 # number of clusters\n",
    "points = '0,1 3,0 2,4 2,1 3,5 1,2 2.5,4 1,5'\n",
    "points = [list(map(float,p.split(','))) for p in points.split(' ')]\n",
    "x = np.array([e[0] for e in points])\n",
    "y = np.array([e[1] for e in points])\n",
    "\n",
    "plt.scatter(x, y)\n",
    "plt.show() \n"
   ]
  },
  {
   "cell_type": "code",
   "execution_count": 4,
   "id": "98a53210",
   "metadata": {
    "scrolled": false
   },
   "outputs": [
    {
     "name": "stdout",
     "output_type": "stream",
     "text": [
      "'initial clusters are: [[2.0, 1.0], [3.0, 0.0]]'\n",
      "      0     1     2     3     4     5     6     7\n",
      "0  None  None  None  None  None  None  None  None\n",
      "1  None  None  None  None  None  None  None  None\n",
      "'distance between centroid 0 and point 0 [0.0, 1.0] is, '\n"
     ]
    },
    {
     "data": {
      "text/latex": [
       "$\\displaystyle \\sqrt{(2.0 - 0.0)^{2} + (1.0 - 1.0)^{2}} = 2.0$"
      ],
      "text/plain": [
       "\\sqrt{(2.0 - 0.0)^{2} + (1.0 - 1.0)^{2}} = 2.0"
      ]
     },
     "metadata": {},
     "output_type": "display_data"
    },
    {
     "name": "stdout",
     "output_type": "stream",
     "text": [
      "'----------'\n",
      "'distance between centroid 0 and point 1 [3.0, 0.0] is, '\n"
     ]
    },
    {
     "data": {
      "text/latex": [
       "$\\displaystyle \\sqrt{(2.0 - 3.0)^{2} + (1.0 - 0.0)^{2}} = 1.414$"
      ],
      "text/plain": [
       "\\sqrt{(2.0 - 3.0)^{2} + (1.0 - 0.0)^{2}} = 1.414"
      ]
     },
     "metadata": {},
     "output_type": "display_data"
    },
    {
     "name": "stdout",
     "output_type": "stream",
     "text": [
      "'----------'\n",
      "'distance between centroid 0 and point 2 [2.0, 4.0] is, '\n"
     ]
    },
    {
     "data": {
      "text/latex": [
       "$\\displaystyle \\sqrt{(2.0 - 2.0)^{2} + (1.0 - 4.0)^{2}} = 3.0$"
      ],
      "text/plain": [
       "\\sqrt{(2.0 - 2.0)^{2} + (1.0 - 4.0)^{2}} = 3.0"
      ]
     },
     "metadata": {},
     "output_type": "display_data"
    },
    {
     "name": "stdout",
     "output_type": "stream",
     "text": [
      "'----------'\n",
      "'distance between centroid 0 and point 3 [2.0, 1.0] is, '\n"
     ]
    },
    {
     "data": {
      "text/latex": [
       "$\\displaystyle \\sqrt{(2.0 - 2.0)^{2} + (1.0 - 1.0)^{2}} = 0.0$"
      ],
      "text/plain": [
       "\\sqrt{(2.0 - 2.0)^{2} + (1.0 - 1.0)^{2}} = 0.0"
      ]
     },
     "metadata": {},
     "output_type": "display_data"
    },
    {
     "name": "stdout",
     "output_type": "stream",
     "text": [
      "'----------'\n",
      "'distance between centroid 0 and point 4 [3.0, 5.0] is, '\n"
     ]
    },
    {
     "data": {
      "text/latex": [
       "$\\displaystyle \\sqrt{(2.0 - 3.0)^{2} + (1.0 - 5.0)^{2}} = 4.123$"
      ],
      "text/plain": [
       "\\sqrt{(2.0 - 3.0)^{2} + (1.0 - 5.0)^{2}} = 4.123"
      ]
     },
     "metadata": {},
     "output_type": "display_data"
    },
    {
     "name": "stdout",
     "output_type": "stream",
     "text": [
      "'----------'\n",
      "'distance between centroid 0 and point 5 [1.0, 2.0] is, '\n"
     ]
    },
    {
     "data": {
      "text/latex": [
       "$\\displaystyle \\sqrt{(2.0 - 1.0)^{2} + (1.0 - 2.0)^{2}} = 1.414$"
      ],
      "text/plain": [
       "\\sqrt{(2.0 - 1.0)^{2} + (1.0 - 2.0)^{2}} = 1.414"
      ]
     },
     "metadata": {},
     "output_type": "display_data"
    },
    {
     "name": "stdout",
     "output_type": "stream",
     "text": [
      "'----------'\n",
      "'distance between centroid 0 and point 6 [2.5, 4.0] is, '\n"
     ]
    },
    {
     "data": {
      "text/latex": [
       "$\\displaystyle \\sqrt{(2.0 - 2.5)^{2} + (1.0 - 4.0)^{2}} = 3.041$"
      ],
      "text/plain": [
       "\\sqrt{(2.0 - 2.5)^{2} + (1.0 - 4.0)^{2}} = 3.041"
      ]
     },
     "metadata": {},
     "output_type": "display_data"
    },
    {
     "name": "stdout",
     "output_type": "stream",
     "text": [
      "'----------'\n",
      "'distance between centroid 0 and point 7 [1.0, 5.0] is, '\n"
     ]
    },
    {
     "data": {
      "text/latex": [
       "$\\displaystyle \\sqrt{(2.0 - 1.0)^{2} + (1.0 - 5.0)^{2}} = 4.123$"
      ],
      "text/plain": [
       "\\sqrt{(2.0 - 1.0)^{2} + (1.0 - 5.0)^{2}} = 4.123"
      ]
     },
     "metadata": {},
     "output_type": "display_data"
    },
    {
     "name": "stdout",
     "output_type": "stream",
     "text": [
      "'----------'\n",
      "'distance between centroid 1 and point 0 [0.0, 1.0] is, '\n"
     ]
    },
    {
     "data": {
      "text/latex": [
       "$\\displaystyle \\sqrt{(3.0 - 0.0)^{2} + (0.0 - 1.0)^{2}} = 3.162$"
      ],
      "text/plain": [
       "\\sqrt{(3.0 - 0.0)^{2} + (0.0 - 1.0)^{2}} = 3.162"
      ]
     },
     "metadata": {},
     "output_type": "display_data"
    },
    {
     "name": "stdout",
     "output_type": "stream",
     "text": [
      "'----------'\n",
      "'distance between centroid 1 and point 1 [3.0, 0.0] is, '\n"
     ]
    },
    {
     "data": {
      "text/latex": [
       "$\\displaystyle \\sqrt{(3.0 - 3.0)^{2} + (0.0 - 0.0)^{2}} = 0.0$"
      ],
      "text/plain": [
       "\\sqrt{(3.0 - 3.0)^{2} + (0.0 - 0.0)^{2}} = 0.0"
      ]
     },
     "metadata": {},
     "output_type": "display_data"
    },
    {
     "name": "stdout",
     "output_type": "stream",
     "text": [
      "'----------'\n",
      "'distance between centroid 1 and point 2 [2.0, 4.0] is, '\n"
     ]
    },
    {
     "data": {
      "text/latex": [
       "$\\displaystyle \\sqrt{(3.0 - 2.0)^{2} + (0.0 - 4.0)^{2}} = 4.123$"
      ],
      "text/plain": [
       "\\sqrt{(3.0 - 2.0)^{2} + (0.0 - 4.0)^{2}} = 4.123"
      ]
     },
     "metadata": {},
     "output_type": "display_data"
    },
    {
     "name": "stdout",
     "output_type": "stream",
     "text": [
      "'----------'\n",
      "'distance between centroid 1 and point 3 [2.0, 1.0] is, '\n"
     ]
    },
    {
     "data": {
      "text/latex": [
       "$\\displaystyle \\sqrt{(3.0 - 2.0)^{2} + (0.0 - 1.0)^{2}} = 1.414$"
      ],
      "text/plain": [
       "\\sqrt{(3.0 - 2.0)^{2} + (0.0 - 1.0)^{2}} = 1.414"
      ]
     },
     "metadata": {},
     "output_type": "display_data"
    },
    {
     "name": "stdout",
     "output_type": "stream",
     "text": [
      "'----------'\n",
      "'distance between centroid 1 and point 4 [3.0, 5.0] is, '\n"
     ]
    },
    {
     "data": {
      "text/latex": [
       "$\\displaystyle \\sqrt{(3.0 - 3.0)^{2} + (0.0 - 5.0)^{2}} = 5.0$"
      ],
      "text/plain": [
       "\\sqrt{(3.0 - 3.0)^{2} + (0.0 - 5.0)^{2}} = 5.0"
      ]
     },
     "metadata": {},
     "output_type": "display_data"
    },
    {
     "name": "stdout",
     "output_type": "stream",
     "text": [
      "'----------'\n",
      "'distance between centroid 1 and point 5 [1.0, 2.0] is, '\n"
     ]
    },
    {
     "data": {
      "text/latex": [
       "$\\displaystyle \\sqrt{(3.0 - 1.0)^{2} + (0.0 - 2.0)^{2}} = 2.828$"
      ],
      "text/plain": [
       "\\sqrt{(3.0 - 1.0)^{2} + (0.0 - 2.0)^{2}} = 2.828"
      ]
     },
     "metadata": {},
     "output_type": "display_data"
    },
    {
     "name": "stdout",
     "output_type": "stream",
     "text": [
      "'----------'\n",
      "'distance between centroid 1 and point 6 [2.5, 4.0] is, '\n"
     ]
    },
    {
     "data": {
      "text/latex": [
       "$\\displaystyle \\sqrt{(3.0 - 2.5)^{2} + (0.0 - 4.0)^{2}} = 4.031$"
      ],
      "text/plain": [
       "\\sqrt{(3.0 - 2.5)^{2} + (0.0 - 4.0)^{2}} = 4.031"
      ]
     },
     "metadata": {},
     "output_type": "display_data"
    },
    {
     "name": "stdout",
     "output_type": "stream",
     "text": [
      "'----------'\n",
      "'distance between centroid 1 and point 7 [1.0, 5.0] is, '\n"
     ]
    },
    {
     "data": {
      "text/latex": [
       "$\\displaystyle \\sqrt{(3.0 - 1.0)^{2} + (0.0 - 5.0)^{2}} = 5.385$"
      ],
      "text/plain": [
       "\\sqrt{(3.0 - 1.0)^{2} + (0.0 - 5.0)^{2}} = 5.385"
      ]
     },
     "metadata": {},
     "output_type": "display_data"
    },
    {
     "name": "stdout",
     "output_type": "stream",
     "text": [
      "'----------'\n",
      "       0      1      2      3      4      5      6      7\n",
      "0    2.0  1.414    3.0    0.0  4.123  1.414  3.041  4.123\n",
      "1  3.162    0.0  4.123  1.414    5.0  2.828  4.031  5.385\n",
      "{0: {'center': [2.0, 1.0], 'members': []},\n",
      " 1: {'center': [3.0, 0.0], 'members': []}}\n",
      "{0: {'center': [2.0, 1.0],\n",
      "     'members': [[0.0, 1.0],\n",
      "                 [2.0, 4.0],\n",
      "                 [2.0, 1.0],\n",
      "                 [3.0, 5.0],\n",
      "                 [1.0, 2.0],\n",
      "                 [2.5, 4.0],\n",
      "                 [1.0, 5.0]]},\n",
      " 1: {'center': [3.0, 0.0], 'members': [[3.0, 0.0]]}}\n",
      "('mean of member points of cluster 0 is (0.0 + 2.0 + 2.0 + 3.0 + 1.0 + 2.5 + '\n",
      " '1.0)/7 = 1.643,(1.0 + 4.0 + 1.0 + 5.0 + 2.0 + 4.0 + 5.0)/7 = 3.143')\n",
      "'mean of member points of cluster 1 is (3.0)/1 = 3.0,(0.0)/1 = 0.0'\n",
      "{0: {'center': [1.643, 3.143],\n",
      "     'members': [[0.0, 1.0],\n",
      "                 [2.0, 4.0],\n",
      "                 [2.0, 1.0],\n",
      "                 [3.0, 5.0],\n",
      "                 [1.0, 2.0],\n",
      "                 [2.5, 4.0],\n",
      "                 [1.0, 5.0]]},\n",
      " 1: {'center': [3.0, 0.0], 'members': [[3.0, 0.0]]}}\n",
      "'----------Iteration 1 is done----------'\n",
      "      0     1     2     3     4     5     6     7\n",
      "0  None  None  None  None  None  None  None  None\n",
      "1  None  None  None  None  None  None  None  None\n",
      "'distance between centroid 0 and point 0 [0.0, 1.0] is, '\n"
     ]
    },
    {
     "data": {
      "text/latex": [
       "$\\displaystyle \\sqrt{(1.643 - 0.0)^{2} + (3.143 - 1.0)^{2}} = 2.7$"
      ],
      "text/plain": [
       "\\sqrt{(1.643 - 0.0)^{2} + (3.143 - 1.0)^{2}} = 2.7"
      ]
     },
     "metadata": {},
     "output_type": "display_data"
    },
    {
     "name": "stdout",
     "output_type": "stream",
     "text": [
      "'----------'\n",
      "'distance between centroid 0 and point 1 [3.0, 0.0] is, '\n"
     ]
    },
    {
     "data": {
      "text/latex": [
       "$\\displaystyle \\sqrt{(1.643 - 3.0)^{2} + (3.143 - 0.0)^{2}} = 3.423$"
      ],
      "text/plain": [
       "\\sqrt{(1.643 - 3.0)^{2} + (3.143 - 0.0)^{2}} = 3.423"
      ]
     },
     "metadata": {},
     "output_type": "display_data"
    },
    {
     "name": "stdout",
     "output_type": "stream",
     "text": [
      "'----------'\n",
      "'distance between centroid 0 and point 2 [2.0, 4.0] is, '\n"
     ]
    },
    {
     "data": {
      "text/latex": [
       "$\\displaystyle \\sqrt{(1.643 - 2.0)^{2} + (3.143 - 4.0)^{2}} = 0.928$"
      ],
      "text/plain": [
       "\\sqrt{(1.643 - 2.0)^{2} + (3.143 - 4.0)^{2}} = 0.928"
      ]
     },
     "metadata": {},
     "output_type": "display_data"
    },
    {
     "name": "stdout",
     "output_type": "stream",
     "text": [
      "'----------'\n",
      "'distance between centroid 0 and point 3 [2.0, 1.0] is, '\n"
     ]
    },
    {
     "data": {
      "text/latex": [
       "$\\displaystyle \\sqrt{(1.643 - 2.0)^{2} + (3.143 - 1.0)^{2}} = 2.173$"
      ],
      "text/plain": [
       "\\sqrt{(1.643 - 2.0)^{2} + (3.143 - 1.0)^{2}} = 2.173"
      ]
     },
     "metadata": {},
     "output_type": "display_data"
    },
    {
     "name": "stdout",
     "output_type": "stream",
     "text": [
      "'----------'\n",
      "'distance between centroid 0 and point 4 [3.0, 5.0] is, '\n"
     ]
    },
    {
     "data": {
      "text/latex": [
       "$\\displaystyle \\sqrt{(1.643 - 3.0)^{2} + (3.143 - 5.0)^{2}} = 2.3$"
      ],
      "text/plain": [
       "\\sqrt{(1.643 - 3.0)^{2} + (3.143 - 5.0)^{2}} = 2.3"
      ]
     },
     "metadata": {},
     "output_type": "display_data"
    },
    {
     "name": "stdout",
     "output_type": "stream",
     "text": [
      "'----------'\n",
      "'distance between centroid 0 and point 5 [1.0, 2.0] is, '\n"
     ]
    },
    {
     "data": {
      "text/latex": [
       "$\\displaystyle \\sqrt{(1.643 - 1.0)^{2} + (3.143 - 2.0)^{2}} = 1.311$"
      ],
      "text/plain": [
       "\\sqrt{(1.643 - 1.0)^{2} + (3.143 - 2.0)^{2}} = 1.311"
      ]
     },
     "metadata": {},
     "output_type": "display_data"
    },
    {
     "name": "stdout",
     "output_type": "stream",
     "text": [
      "'----------'\n",
      "'distance between centroid 0 and point 6 [2.5, 4.0] is, '\n"
     ]
    },
    {
     "data": {
      "text/latex": [
       "$\\displaystyle \\sqrt{(1.643 - 2.5)^{2} + (3.143 - 4.0)^{2}} = 1.212$"
      ],
      "text/plain": [
       "\\sqrt{(1.643 - 2.5)^{2} + (3.143 - 4.0)^{2}} = 1.212"
      ]
     },
     "metadata": {},
     "output_type": "display_data"
    },
    {
     "name": "stdout",
     "output_type": "stream",
     "text": [
      "'----------'\n",
      "'distance between centroid 0 and point 7 [1.0, 5.0] is, '\n"
     ]
    },
    {
     "data": {
      "text/latex": [
       "$\\displaystyle \\sqrt{(1.643 - 1.0)^{2} + (3.143 - 5.0)^{2}} = 1.965$"
      ],
      "text/plain": [
       "\\sqrt{(1.643 - 1.0)^{2} + (3.143 - 5.0)^{2}} = 1.965"
      ]
     },
     "metadata": {},
     "output_type": "display_data"
    },
    {
     "name": "stdout",
     "output_type": "stream",
     "text": [
      "'----------'\n",
      "'distance between centroid 1 and point 0 [0.0, 1.0] is, '\n"
     ]
    },
    {
     "data": {
      "text/latex": [
       "$\\displaystyle \\sqrt{(3.0 - 0.0)^{2} + (0.0 - 1.0)^{2}} = 3.162$"
      ],
      "text/plain": [
       "\\sqrt{(3.0 - 0.0)^{2} + (0.0 - 1.0)^{2}} = 3.162"
      ]
     },
     "metadata": {},
     "output_type": "display_data"
    },
    {
     "name": "stdout",
     "output_type": "stream",
     "text": [
      "'----------'\n",
      "'distance between centroid 1 and point 1 [3.0, 0.0] is, '\n"
     ]
    },
    {
     "data": {
      "text/latex": [
       "$\\displaystyle \\sqrt{(3.0 - 3.0)^{2} + (0.0 - 0.0)^{2}} = 0.0$"
      ],
      "text/plain": [
       "\\sqrt{(3.0 - 3.0)^{2} + (0.0 - 0.0)^{2}} = 0.0"
      ]
     },
     "metadata": {},
     "output_type": "display_data"
    },
    {
     "name": "stdout",
     "output_type": "stream",
     "text": [
      "'----------'\n",
      "'distance between centroid 1 and point 2 [2.0, 4.0] is, '\n"
     ]
    },
    {
     "data": {
      "text/latex": [
       "$\\displaystyle \\sqrt{(3.0 - 2.0)^{2} + (0.0 - 4.0)^{2}} = 4.123$"
      ],
      "text/plain": [
       "\\sqrt{(3.0 - 2.0)^{2} + (0.0 - 4.0)^{2}} = 4.123"
      ]
     },
     "metadata": {},
     "output_type": "display_data"
    },
    {
     "name": "stdout",
     "output_type": "stream",
     "text": [
      "'----------'\n",
      "'distance between centroid 1 and point 3 [2.0, 1.0] is, '\n"
     ]
    },
    {
     "data": {
      "text/latex": [
       "$\\displaystyle \\sqrt{(3.0 - 2.0)^{2} + (0.0 - 1.0)^{2}} = 1.414$"
      ],
      "text/plain": [
       "\\sqrt{(3.0 - 2.0)^{2} + (0.0 - 1.0)^{2}} = 1.414"
      ]
     },
     "metadata": {},
     "output_type": "display_data"
    },
    {
     "name": "stdout",
     "output_type": "stream",
     "text": [
      "'----------'\n",
      "'distance between centroid 1 and point 4 [3.0, 5.0] is, '\n"
     ]
    },
    {
     "data": {
      "text/latex": [
       "$\\displaystyle \\sqrt{(3.0 - 3.0)^{2} + (0.0 - 5.0)^{2}} = 5.0$"
      ],
      "text/plain": [
       "\\sqrt{(3.0 - 3.0)^{2} + (0.0 - 5.0)^{2}} = 5.0"
      ]
     },
     "metadata": {},
     "output_type": "display_data"
    },
    {
     "name": "stdout",
     "output_type": "stream",
     "text": [
      "'----------'\n",
      "'distance between centroid 1 and point 5 [1.0, 2.0] is, '\n"
     ]
    },
    {
     "data": {
      "text/latex": [
       "$\\displaystyle \\sqrt{(3.0 - 1.0)^{2} + (0.0 - 2.0)^{2}} = 2.828$"
      ],
      "text/plain": [
       "\\sqrt{(3.0 - 1.0)^{2} + (0.0 - 2.0)^{2}} = 2.828"
      ]
     },
     "metadata": {},
     "output_type": "display_data"
    },
    {
     "name": "stdout",
     "output_type": "stream",
     "text": [
      "'----------'\n",
      "'distance between centroid 1 and point 6 [2.5, 4.0] is, '\n"
     ]
    },
    {
     "data": {
      "text/latex": [
       "$\\displaystyle \\sqrt{(3.0 - 2.5)^{2} + (0.0 - 4.0)^{2}} = 4.031$"
      ],
      "text/plain": [
       "\\sqrt{(3.0 - 2.5)^{2} + (0.0 - 4.0)^{2}} = 4.031"
      ]
     },
     "metadata": {},
     "output_type": "display_data"
    },
    {
     "name": "stdout",
     "output_type": "stream",
     "text": [
      "'----------'\n",
      "'distance between centroid 1 and point 7 [1.0, 5.0] is, '\n"
     ]
    },
    {
     "data": {
      "text/latex": [
       "$\\displaystyle \\sqrt{(3.0 - 1.0)^{2} + (0.0 - 5.0)^{2}} = 5.385$"
      ],
      "text/plain": [
       "\\sqrt{(3.0 - 1.0)^{2} + (0.0 - 5.0)^{2}} = 5.385"
      ]
     },
     "metadata": {},
     "output_type": "display_data"
    },
    {
     "name": "stdout",
     "output_type": "stream",
     "text": [
      "'----------'\n",
      "       0      1      2      3    4      5      6      7\n",
      "0    2.7  3.423  0.928  2.173  2.3  1.311  1.212  1.965\n",
      "1  3.162    0.0  4.123  1.414  5.0  2.828  4.031  5.385\n",
      "{0: {'center': [1.643, 3.143], 'members': []},\n",
      " 1: {'center': [3.0, 0.0], 'members': []}}\n",
      "{0: {'center': [1.643, 3.143],\n",
      "     'members': [[0.0, 1.0],\n",
      "                 [2.0, 4.0],\n",
      "                 [3.0, 5.0],\n",
      "                 [1.0, 2.0],\n",
      "                 [2.5, 4.0],\n",
      "                 [1.0, 5.0]]},\n",
      " 1: {'center': [3.0, 0.0], 'members': [[3.0, 0.0], [2.0, 1.0]]}}\n",
      "('mean of member points of cluster 0 is (0.0 + 2.0 + 3.0 + 1.0 + 2.5 + 1.0)/6 '\n",
      " '= 1.583,(1.0 + 4.0 + 5.0 + 2.0 + 4.0 + 5.0)/6 = 3.5')\n",
      "'mean of member points of cluster 1 is (3.0 + 2.0)/2 = 2.5,(0.0 + 1.0)/2 = 0.5'\n",
      "{0: {'center': [1.583, 3.5],\n",
      "     'members': [[0.0, 1.0],\n",
      "                 [2.0, 4.0],\n",
      "                 [3.0, 5.0],\n",
      "                 [1.0, 2.0],\n",
      "                 [2.5, 4.0],\n",
      "                 [1.0, 5.0]]},\n",
      " 1: {'center': [2.5, 0.5], 'members': [[3.0, 0.0], [2.0, 1.0]]}}\n",
      "'----------Iteration 2 is done----------'\n",
      "      0     1     2     3     4     5     6     7\n",
      "0  None  None  None  None  None  None  None  None\n",
      "1  None  None  None  None  None  None  None  None\n",
      "'distance between centroid 0 and point 0 [0.0, 1.0] is, '\n"
     ]
    },
    {
     "data": {
      "text/latex": [
       "$\\displaystyle \\sqrt{(1.583 - 0.0)^{2} + (3.5 - 1.0)^{2}} = 2.959$"
      ],
      "text/plain": [
       "\\sqrt{(1.583 - 0.0)^{2} + (3.5 - 1.0)^{2}} = 2.959"
      ]
     },
     "metadata": {},
     "output_type": "display_data"
    },
    {
     "name": "stdout",
     "output_type": "stream",
     "text": [
      "'----------'\n",
      "'distance between centroid 0 and point 1 [3.0, 0.0] is, '\n"
     ]
    },
    {
     "data": {
      "text/latex": [
       "$\\displaystyle \\sqrt{(1.583 - 3.0)^{2} + (3.5 - 0.0)^{2}} = 3.776$"
      ],
      "text/plain": [
       "\\sqrt{(1.583 - 3.0)^{2} + (3.5 - 0.0)^{2}} = 3.776"
      ]
     },
     "metadata": {},
     "output_type": "display_data"
    },
    {
     "name": "stdout",
     "output_type": "stream",
     "text": [
      "'----------'\n",
      "'distance between centroid 0 and point 2 [2.0, 4.0] is, '\n"
     ]
    },
    {
     "data": {
      "text/latex": [
       "$\\displaystyle \\sqrt{(1.583 - 2.0)^{2} + (3.5 - 4.0)^{2}} = 0.651$"
      ],
      "text/plain": [
       "\\sqrt{(1.583 - 2.0)^{2} + (3.5 - 4.0)^{2}} = 0.651"
      ]
     },
     "metadata": {},
     "output_type": "display_data"
    },
    {
     "name": "stdout",
     "output_type": "stream",
     "text": [
      "'----------'\n",
      "'distance between centroid 0 and point 3 [2.0, 1.0] is, '\n"
     ]
    },
    {
     "data": {
      "text/latex": [
       "$\\displaystyle \\sqrt{(1.583 - 2.0)^{2} + (3.5 - 1.0)^{2}} = 2.535$"
      ],
      "text/plain": [
       "\\sqrt{(1.583 - 2.0)^{2} + (3.5 - 1.0)^{2}} = 2.535"
      ]
     },
     "metadata": {},
     "output_type": "display_data"
    },
    {
     "name": "stdout",
     "output_type": "stream",
     "text": [
      "'----------'\n",
      "'distance between centroid 0 and point 4 [3.0, 5.0] is, '\n"
     ]
    },
    {
     "data": {
      "text/latex": [
       "$\\displaystyle \\sqrt{(1.583 - 3.0)^{2} + (3.5 - 5.0)^{2}} = 2.063$"
      ],
      "text/plain": [
       "\\sqrt{(1.583 - 3.0)^{2} + (3.5 - 5.0)^{2}} = 2.063"
      ]
     },
     "metadata": {},
     "output_type": "display_data"
    },
    {
     "name": "stdout",
     "output_type": "stream",
     "text": [
      "'----------'\n",
      "'distance between centroid 0 and point 5 [1.0, 2.0] is, '\n"
     ]
    },
    {
     "data": {
      "text/latex": [
       "$\\displaystyle \\sqrt{(1.583 - 1.0)^{2} + (3.5 - 2.0)^{2}} = 1.609$"
      ],
      "text/plain": [
       "\\sqrt{(1.583 - 1.0)^{2} + (3.5 - 2.0)^{2}} = 1.609"
      ]
     },
     "metadata": {},
     "output_type": "display_data"
    },
    {
     "name": "stdout",
     "output_type": "stream",
     "text": [
      "'----------'\n",
      "'distance between centroid 0 and point 6 [2.5, 4.0] is, '\n"
     ]
    },
    {
     "data": {
      "text/latex": [
       "$\\displaystyle \\sqrt{(1.583 - 2.5)^{2} + (3.5 - 4.0)^{2}} = 1.044$"
      ],
      "text/plain": [
       "\\sqrt{(1.583 - 2.5)^{2} + (3.5 - 4.0)^{2}} = 1.044"
      ]
     },
     "metadata": {},
     "output_type": "display_data"
    },
    {
     "name": "stdout",
     "output_type": "stream",
     "text": [
      "'----------'\n",
      "'distance between centroid 0 and point 7 [1.0, 5.0] is, '\n"
     ]
    },
    {
     "data": {
      "text/latex": [
       "$\\displaystyle \\sqrt{(1.583 - 1.0)^{2} + (3.5 - 5.0)^{2}} = 1.609$"
      ],
      "text/plain": [
       "\\sqrt{(1.583 - 1.0)^{2} + (3.5 - 5.0)^{2}} = 1.609"
      ]
     },
     "metadata": {},
     "output_type": "display_data"
    },
    {
     "name": "stdout",
     "output_type": "stream",
     "text": [
      "'----------'\n",
      "'distance between centroid 1 and point 0 [0.0, 1.0] is, '\n"
     ]
    },
    {
     "data": {
      "text/latex": [
       "$\\displaystyle \\sqrt{(2.5 - 0.0)^{2} + (0.5 - 1.0)^{2}} = 2.55$"
      ],
      "text/plain": [
       "\\sqrt{(2.5 - 0.0)^{2} + (0.5 - 1.0)^{2}} = 2.55"
      ]
     },
     "metadata": {},
     "output_type": "display_data"
    },
    {
     "name": "stdout",
     "output_type": "stream",
     "text": [
      "'----------'\n",
      "'distance between centroid 1 and point 1 [3.0, 0.0] is, '\n"
     ]
    },
    {
     "data": {
      "text/latex": [
       "$\\displaystyle \\sqrt{(2.5 - 3.0)^{2} + (0.5 - 0.0)^{2}} = 0.707$"
      ],
      "text/plain": [
       "\\sqrt{(2.5 - 3.0)^{2} + (0.5 - 0.0)^{2}} = 0.707"
      ]
     },
     "metadata": {},
     "output_type": "display_data"
    },
    {
     "name": "stdout",
     "output_type": "stream",
     "text": [
      "'----------'\n",
      "'distance between centroid 1 and point 2 [2.0, 4.0] is, '\n"
     ]
    },
    {
     "data": {
      "text/latex": [
       "$\\displaystyle \\sqrt{(2.5 - 2.0)^{2} + (0.5 - 4.0)^{2}} = 3.536$"
      ],
      "text/plain": [
       "\\sqrt{(2.5 - 2.0)^{2} + (0.5 - 4.0)^{2}} = 3.536"
      ]
     },
     "metadata": {},
     "output_type": "display_data"
    },
    {
     "name": "stdout",
     "output_type": "stream",
     "text": [
      "'----------'\n",
      "'distance between centroid 1 and point 3 [2.0, 1.0] is, '\n"
     ]
    },
    {
     "data": {
      "text/latex": [
       "$\\displaystyle \\sqrt{(2.5 - 2.0)^{2} + (0.5 - 1.0)^{2}} = 0.707$"
      ],
      "text/plain": [
       "\\sqrt{(2.5 - 2.0)^{2} + (0.5 - 1.0)^{2}} = 0.707"
      ]
     },
     "metadata": {},
     "output_type": "display_data"
    },
    {
     "name": "stdout",
     "output_type": "stream",
     "text": [
      "'----------'\n",
      "'distance between centroid 1 and point 4 [3.0, 5.0] is, '\n"
     ]
    },
    {
     "data": {
      "text/latex": [
       "$\\displaystyle \\sqrt{(2.5 - 3.0)^{2} + (0.5 - 5.0)^{2}} = 4.528$"
      ],
      "text/plain": [
       "\\sqrt{(2.5 - 3.0)^{2} + (0.5 - 5.0)^{2}} = 4.528"
      ]
     },
     "metadata": {},
     "output_type": "display_data"
    },
    {
     "name": "stdout",
     "output_type": "stream",
     "text": [
      "'----------'\n",
      "'distance between centroid 1 and point 5 [1.0, 2.0] is, '\n"
     ]
    },
    {
     "data": {
      "text/latex": [
       "$\\displaystyle \\sqrt{(2.5 - 1.0)^{2} + (0.5 - 2.0)^{2}} = 2.121$"
      ],
      "text/plain": [
       "\\sqrt{(2.5 - 1.0)^{2} + (0.5 - 2.0)^{2}} = 2.121"
      ]
     },
     "metadata": {},
     "output_type": "display_data"
    },
    {
     "name": "stdout",
     "output_type": "stream",
     "text": [
      "'----------'\n",
      "'distance between centroid 1 and point 6 [2.5, 4.0] is, '\n"
     ]
    },
    {
     "data": {
      "text/latex": [
       "$\\displaystyle \\sqrt{(2.5 - 2.5)^{2} + (0.5 - 4.0)^{2}} = 3.5$"
      ],
      "text/plain": [
       "\\sqrt{(2.5 - 2.5)^{2} + (0.5 - 4.0)^{2}} = 3.5"
      ]
     },
     "metadata": {},
     "output_type": "display_data"
    },
    {
     "name": "stdout",
     "output_type": "stream",
     "text": [
      "'----------'\n",
      "'distance between centroid 1 and point 7 [1.0, 5.0] is, '\n"
     ]
    },
    {
     "data": {
      "text/latex": [
       "$\\displaystyle \\sqrt{(2.5 - 1.0)^{2} + (0.5 - 5.0)^{2}} = 4.743$"
      ],
      "text/plain": [
       "\\sqrt{(2.5 - 1.0)^{2} + (0.5 - 5.0)^{2}} = 4.743"
      ]
     },
     "metadata": {},
     "output_type": "display_data"
    },
    {
     "name": "stdout",
     "output_type": "stream",
     "text": [
      "'----------'\n",
      "       0      1      2      3      4      5      6      7\n",
      "0  2.959  3.776  0.651  2.535  2.063  1.609  1.044  1.609\n",
      "1   2.55  0.707  3.536  0.707  4.528  2.121    3.5  4.743\n",
      "{0: {'center': [1.583, 3.5], 'members': []},\n",
      " 1: {'center': [2.5, 0.5], 'members': []}}\n",
      "{0: {'center': [1.583, 3.5],\n",
      "     'members': [[2.0, 4.0], [3.0, 5.0], [1.0, 2.0], [2.5, 4.0], [1.0, 5.0]]},\n",
      " 1: {'center': [2.5, 0.5], 'members': [[0.0, 1.0], [3.0, 0.0], [2.0, 1.0]]}}\n",
      "('mean of member points of cluster 0 is (2.0 + 3.0 + 1.0 + 2.5 + 1.0)/5 = '\n",
      " '1.9,(4.0 + 5.0 + 2.0 + 4.0 + 5.0)/5 = 4.0')\n",
      "('mean of member points of cluster 1 is (0.0 + 3.0 + 2.0)/3 = 1.667,(1.0 + 0.0 '\n",
      " '+ 1.0)/3 = 0.667')\n",
      "{0: {'center': [1.9, 4.0],\n",
      "     'members': [[2.0, 4.0], [3.0, 5.0], [1.0, 2.0], [2.5, 4.0], [1.0, 5.0]]},\n",
      " 1: {'center': [1.667, 0.667], 'members': [[0.0, 1.0], [3.0, 0.0], [2.0, 1.0]]}}\n",
      "'----------Iteration 3 is done----------'\n",
      "      0     1     2     3     4     5     6     7\n",
      "0  None  None  None  None  None  None  None  None\n",
      "1  None  None  None  None  None  None  None  None\n",
      "'distance between centroid 0 and point 0 [0.0, 1.0] is, '\n"
     ]
    },
    {
     "data": {
      "text/latex": [
       "$\\displaystyle \\sqrt{(1.9 - 0.0)^{2} + (4.0 - 1.0)^{2}} = 3.551$"
      ],
      "text/plain": [
       "\\sqrt{(1.9 - 0.0)^{2} + (4.0 - 1.0)^{2}} = 3.551"
      ]
     },
     "metadata": {},
     "output_type": "display_data"
    },
    {
     "name": "stdout",
     "output_type": "stream",
     "text": [
      "'----------'\n",
      "'distance between centroid 0 and point 1 [3.0, 0.0] is, '\n"
     ]
    },
    {
     "data": {
      "text/latex": [
       "$\\displaystyle \\sqrt{(1.9 - 3.0)^{2} + (4.0 - 0.0)^{2}} = 4.148$"
      ],
      "text/plain": [
       "\\sqrt{(1.9 - 3.0)^{2} + (4.0 - 0.0)^{2}} = 4.148"
      ]
     },
     "metadata": {},
     "output_type": "display_data"
    },
    {
     "name": "stdout",
     "output_type": "stream",
     "text": [
      "'----------'\n",
      "'distance between centroid 0 and point 2 [2.0, 4.0] is, '\n"
     ]
    },
    {
     "data": {
      "text/latex": [
       "$\\displaystyle \\sqrt{(1.9 - 2.0)^{2} + (4.0 - 4.0)^{2}} = 0.1$"
      ],
      "text/plain": [
       "\\sqrt{(1.9 - 2.0)^{2} + (4.0 - 4.0)^{2}} = 0.1"
      ]
     },
     "metadata": {},
     "output_type": "display_data"
    },
    {
     "name": "stdout",
     "output_type": "stream",
     "text": [
      "'----------'\n",
      "'distance between centroid 0 and point 3 [2.0, 1.0] is, '\n"
     ]
    },
    {
     "data": {
      "text/latex": [
       "$\\displaystyle \\sqrt{(1.9 - 2.0)^{2} + (4.0 - 1.0)^{2}} = 3.002$"
      ],
      "text/plain": [
       "\\sqrt{(1.9 - 2.0)^{2} + (4.0 - 1.0)^{2}} = 3.002"
      ]
     },
     "metadata": {},
     "output_type": "display_data"
    },
    {
     "name": "stdout",
     "output_type": "stream",
     "text": [
      "'----------'\n",
      "'distance between centroid 0 and point 4 [3.0, 5.0] is, '\n"
     ]
    },
    {
     "data": {
      "text/latex": [
       "$\\displaystyle \\sqrt{(1.9 - 3.0)^{2} + (4.0 - 5.0)^{2}} = 1.487$"
      ],
      "text/plain": [
       "\\sqrt{(1.9 - 3.0)^{2} + (4.0 - 5.0)^{2}} = 1.487"
      ]
     },
     "metadata": {},
     "output_type": "display_data"
    },
    {
     "name": "stdout",
     "output_type": "stream",
     "text": [
      "'----------'\n",
      "'distance between centroid 0 and point 5 [1.0, 2.0] is, '\n"
     ]
    },
    {
     "data": {
      "text/latex": [
       "$\\displaystyle \\sqrt{(1.9 - 1.0)^{2} + (4.0 - 2.0)^{2}} = 2.193$"
      ],
      "text/plain": [
       "\\sqrt{(1.9 - 1.0)^{2} + (4.0 - 2.0)^{2}} = 2.193"
      ]
     },
     "metadata": {},
     "output_type": "display_data"
    },
    {
     "name": "stdout",
     "output_type": "stream",
     "text": [
      "'----------'\n",
      "'distance between centroid 0 and point 6 [2.5, 4.0] is, '\n"
     ]
    },
    {
     "data": {
      "text/latex": [
       "$\\displaystyle \\sqrt{(1.9 - 2.5)^{2} + (4.0 - 4.0)^{2}} = 0.6$"
      ],
      "text/plain": [
       "\\sqrt{(1.9 - 2.5)^{2} + (4.0 - 4.0)^{2}} = 0.6"
      ]
     },
     "metadata": {},
     "output_type": "display_data"
    },
    {
     "name": "stdout",
     "output_type": "stream",
     "text": [
      "'----------'\n",
      "'distance between centroid 0 and point 7 [1.0, 5.0] is, '\n"
     ]
    },
    {
     "data": {
      "text/latex": [
       "$\\displaystyle \\sqrt{(1.9 - 1.0)^{2} + (4.0 - 5.0)^{2}} = 1.345$"
      ],
      "text/plain": [
       "\\sqrt{(1.9 - 1.0)^{2} + (4.0 - 5.0)^{2}} = 1.345"
      ]
     },
     "metadata": {},
     "output_type": "display_data"
    },
    {
     "name": "stdout",
     "output_type": "stream",
     "text": [
      "'----------'\n",
      "'distance between centroid 1 and point 0 [0.0, 1.0] is, '\n"
     ]
    },
    {
     "data": {
      "text/latex": [
       "$\\displaystyle \\sqrt{(1.667 - 0.0)^{2} + (0.667 - 1.0)^{2}} = 1.7$"
      ],
      "text/plain": [
       "\\sqrt{(1.667 - 0.0)^{2} + (0.667 - 1.0)^{2}} = 1.7"
      ]
     },
     "metadata": {},
     "output_type": "display_data"
    },
    {
     "name": "stdout",
     "output_type": "stream",
     "text": [
      "'----------'\n",
      "'distance between centroid 1 and point 1 [3.0, 0.0] is, '\n"
     ]
    },
    {
     "data": {
      "text/latex": [
       "$\\displaystyle \\sqrt{(1.667 - 3.0)^{2} + (0.667 - 0.0)^{2}} = 1.491$"
      ],
      "text/plain": [
       "\\sqrt{(1.667 - 3.0)^{2} + (0.667 - 0.0)^{2}} = 1.491"
      ]
     },
     "metadata": {},
     "output_type": "display_data"
    },
    {
     "name": "stdout",
     "output_type": "stream",
     "text": [
      "'----------'\n",
      "'distance between centroid 1 and point 2 [2.0, 4.0] is, '\n"
     ]
    },
    {
     "data": {
      "text/latex": [
       "$\\displaystyle \\sqrt{(1.667 - 2.0)^{2} + (0.667 - 4.0)^{2}} = 3.35$"
      ],
      "text/plain": [
       "\\sqrt{(1.667 - 2.0)^{2} + (0.667 - 4.0)^{2}} = 3.35"
      ]
     },
     "metadata": {},
     "output_type": "display_data"
    },
    {
     "name": "stdout",
     "output_type": "stream",
     "text": [
      "'----------'\n",
      "'distance between centroid 1 and point 3 [2.0, 1.0] is, '\n"
     ]
    },
    {
     "data": {
      "text/latex": [
       "$\\displaystyle \\sqrt{(1.667 - 2.0)^{2} + (0.667 - 1.0)^{2}} = 0.471$"
      ],
      "text/plain": [
       "\\sqrt{(1.667 - 2.0)^{2} + (0.667 - 1.0)^{2}} = 0.471"
      ]
     },
     "metadata": {},
     "output_type": "display_data"
    },
    {
     "name": "stdout",
     "output_type": "stream",
     "text": [
      "'----------'\n",
      "'distance between centroid 1 and point 4 [3.0, 5.0] is, '\n"
     ]
    },
    {
     "data": {
      "text/latex": [
       "$\\displaystyle \\sqrt{(1.667 - 3.0)^{2} + (0.667 - 5.0)^{2}} = 4.533$"
      ],
      "text/plain": [
       "\\sqrt{(1.667 - 3.0)^{2} + (0.667 - 5.0)^{2}} = 4.533"
      ]
     },
     "metadata": {},
     "output_type": "display_data"
    },
    {
     "name": "stdout",
     "output_type": "stream",
     "text": [
      "'----------'\n",
      "'distance between centroid 1 and point 5 [1.0, 2.0] is, '\n"
     ]
    },
    {
     "data": {
      "text/latex": [
       "$\\displaystyle \\sqrt{(1.667 - 1.0)^{2} + (0.667 - 2.0)^{2}} = 1.491$"
      ],
      "text/plain": [
       "\\sqrt{(1.667 - 1.0)^{2} + (0.667 - 2.0)^{2}} = 1.491"
      ]
     },
     "metadata": {},
     "output_type": "display_data"
    },
    {
     "name": "stdout",
     "output_type": "stream",
     "text": [
      "'----------'\n",
      "'distance between centroid 1 and point 6 [2.5, 4.0] is, '\n"
     ]
    },
    {
     "data": {
      "text/latex": [
       "$\\displaystyle \\sqrt{(1.667 - 2.5)^{2} + (0.667 - 4.0)^{2}} = 3.436$"
      ],
      "text/plain": [
       "\\sqrt{(1.667 - 2.5)^{2} + (0.667 - 4.0)^{2}} = 3.436"
      ]
     },
     "metadata": {},
     "output_type": "display_data"
    },
    {
     "name": "stdout",
     "output_type": "stream",
     "text": [
      "'----------'\n",
      "'distance between centroid 1 and point 7 [1.0, 5.0] is, '\n"
     ]
    },
    {
     "data": {
      "text/latex": [
       "$\\displaystyle \\sqrt{(1.667 - 1.0)^{2} + (0.667 - 5.0)^{2}} = 4.384$"
      ],
      "text/plain": [
       "\\sqrt{(1.667 - 1.0)^{2} + (0.667 - 5.0)^{2}} = 4.384"
      ]
     },
     "metadata": {},
     "output_type": "display_data"
    },
    {
     "name": "stdout",
     "output_type": "stream",
     "text": [
      "'----------'\n",
      "       0      1     2      3      4      5      6      7\n",
      "0  3.551  4.148   0.1  3.002  1.487  2.193    0.6  1.345\n",
      "1    1.7  1.491  3.35  0.471  4.533  1.491  3.436  4.384\n",
      "{0: {'center': [1.9, 4.0], 'members': []},\n",
      " 1: {'center': [1.667, 0.667], 'members': []}}\n",
      "{0: {'center': [1.9, 4.0],\n",
      "     'members': [[2.0, 4.0], [3.0, 5.0], [2.5, 4.0], [1.0, 5.0]]},\n",
      " 1: {'center': [1.667, 0.667],\n",
      "     'members': [[0.0, 1.0], [3.0, 0.0], [2.0, 1.0], [1.0, 2.0]]}}\n",
      "('mean of member points of cluster 0 is (2.0 + 3.0 + 2.5 + 1.0)/4 = 2.125,(4.0 '\n",
      " '+ 5.0 + 4.0 + 5.0)/4 = 4.5')\n",
      "('mean of member points of cluster 1 is (0.0 + 3.0 + 2.0 + 1.0)/4 = 1.5,(1.0 + '\n",
      " '0.0 + 1.0 + 2.0)/4 = 1.0')\n",
      "{0: {'center': [2.125, 4.5],\n",
      "     'members': [[2.0, 4.0], [3.0, 5.0], [2.5, 4.0], [1.0, 5.0]]},\n",
      " 1: {'center': [1.5, 1.0],\n",
      "     'members': [[0.0, 1.0], [3.0, 0.0], [2.0, 1.0], [1.0, 2.0]]}}\n",
      "'----------Iteration 4 is done----------'\n",
      "      0     1     2     3     4     5     6     7\n",
      "0  None  None  None  None  None  None  None  None\n",
      "1  None  None  None  None  None  None  None  None\n",
      "'distance between centroid 0 and point 0 [0.0, 1.0] is, '\n"
     ]
    },
    {
     "data": {
      "text/latex": [
       "$\\displaystyle \\sqrt{(2.125 - 0.0)^{2} + (4.5 - 1.0)^{2}} = 4.095$"
      ],
      "text/plain": [
       "\\sqrt{(2.125 - 0.0)^{2} + (4.5 - 1.0)^{2}} = 4.095"
      ]
     },
     "metadata": {},
     "output_type": "display_data"
    },
    {
     "name": "stdout",
     "output_type": "stream",
     "text": [
      "'----------'\n",
      "'distance between centroid 0 and point 1 [3.0, 0.0] is, '\n"
     ]
    },
    {
     "data": {
      "text/latex": [
       "$\\displaystyle \\sqrt{(2.125 - 3.0)^{2} + (4.5 - 0.0)^{2}} = 4.584$"
      ],
      "text/plain": [
       "\\sqrt{(2.125 - 3.0)^{2} + (4.5 - 0.0)^{2}} = 4.584"
      ]
     },
     "metadata": {},
     "output_type": "display_data"
    },
    {
     "name": "stdout",
     "output_type": "stream",
     "text": [
      "'----------'\n",
      "'distance between centroid 0 and point 2 [2.0, 4.0] is, '\n"
     ]
    },
    {
     "data": {
      "text/latex": [
       "$\\displaystyle \\sqrt{(2.125 - 2.0)^{2} + (4.5 - 4.0)^{2}} = 0.515$"
      ],
      "text/plain": [
       "\\sqrt{(2.125 - 2.0)^{2} + (4.5 - 4.0)^{2}} = 0.515"
      ]
     },
     "metadata": {},
     "output_type": "display_data"
    },
    {
     "name": "stdout",
     "output_type": "stream",
     "text": [
      "'----------'\n",
      "'distance between centroid 0 and point 3 [2.0, 1.0] is, '\n"
     ]
    },
    {
     "data": {
      "text/latex": [
       "$\\displaystyle \\sqrt{(2.125 - 2.0)^{2} + (4.5 - 1.0)^{2}} = 3.502$"
      ],
      "text/plain": [
       "\\sqrt{(2.125 - 2.0)^{2} + (4.5 - 1.0)^{2}} = 3.502"
      ]
     },
     "metadata": {},
     "output_type": "display_data"
    },
    {
     "name": "stdout",
     "output_type": "stream",
     "text": [
      "'----------'\n",
      "'distance between centroid 0 and point 4 [3.0, 5.0] is, '\n"
     ]
    },
    {
     "data": {
      "text/latex": [
       "$\\displaystyle \\sqrt{(2.125 - 3.0)^{2} + (4.5 - 5.0)^{2}} = 1.008$"
      ],
      "text/plain": [
       "\\sqrt{(2.125 - 3.0)^{2} + (4.5 - 5.0)^{2}} = 1.008"
      ]
     },
     "metadata": {},
     "output_type": "display_data"
    },
    {
     "name": "stdout",
     "output_type": "stream",
     "text": [
      "'----------'\n",
      "'distance between centroid 0 and point 5 [1.0, 2.0] is, '\n"
     ]
    },
    {
     "data": {
      "text/latex": [
       "$\\displaystyle \\sqrt{(2.125 - 1.0)^{2} + (4.5 - 2.0)^{2}} = 2.741$"
      ],
      "text/plain": [
       "\\sqrt{(2.125 - 1.0)^{2} + (4.5 - 2.0)^{2}} = 2.741"
      ]
     },
     "metadata": {},
     "output_type": "display_data"
    },
    {
     "name": "stdout",
     "output_type": "stream",
     "text": [
      "'----------'\n",
      "'distance between centroid 0 and point 6 [2.5, 4.0] is, '\n"
     ]
    },
    {
     "data": {
      "text/latex": [
       "$\\displaystyle \\sqrt{(2.125 - 2.5)^{2} + (4.5 - 4.0)^{2}} = 0.625$"
      ],
      "text/plain": [
       "\\sqrt{(2.125 - 2.5)^{2} + (4.5 - 4.0)^{2}} = 0.625"
      ]
     },
     "metadata": {},
     "output_type": "display_data"
    },
    {
     "name": "stdout",
     "output_type": "stream",
     "text": [
      "'----------'\n",
      "'distance between centroid 0 and point 7 [1.0, 5.0] is, '\n"
     ]
    },
    {
     "data": {
      "text/latex": [
       "$\\displaystyle \\sqrt{(2.125 - 1.0)^{2} + (4.5 - 5.0)^{2}} = 1.231$"
      ],
      "text/plain": [
       "\\sqrt{(2.125 - 1.0)^{2} + (4.5 - 5.0)^{2}} = 1.231"
      ]
     },
     "metadata": {},
     "output_type": "display_data"
    },
    {
     "name": "stdout",
     "output_type": "stream",
     "text": [
      "'----------'\n",
      "'distance between centroid 1 and point 0 [0.0, 1.0] is, '\n"
     ]
    },
    {
     "data": {
      "text/latex": [
       "$\\displaystyle \\sqrt{(1.5 - 0.0)^{2} + (1.0 - 1.0)^{2}} = 1.5$"
      ],
      "text/plain": [
       "\\sqrt{(1.5 - 0.0)^{2} + (1.0 - 1.0)^{2}} = 1.5"
      ]
     },
     "metadata": {},
     "output_type": "display_data"
    },
    {
     "name": "stdout",
     "output_type": "stream",
     "text": [
      "'----------'\n",
      "'distance between centroid 1 and point 1 [3.0, 0.0] is, '\n"
     ]
    },
    {
     "data": {
      "text/latex": [
       "$\\displaystyle \\sqrt{(1.5 - 3.0)^{2} + (1.0 - 0.0)^{2}} = 1.803$"
      ],
      "text/plain": [
       "\\sqrt{(1.5 - 3.0)^{2} + (1.0 - 0.0)^{2}} = 1.803"
      ]
     },
     "metadata": {},
     "output_type": "display_data"
    },
    {
     "name": "stdout",
     "output_type": "stream",
     "text": [
      "'----------'\n",
      "'distance between centroid 1 and point 2 [2.0, 4.0] is, '\n"
     ]
    },
    {
     "data": {
      "text/latex": [
       "$\\displaystyle \\sqrt{(1.5 - 2.0)^{2} + (1.0 - 4.0)^{2}} = 3.041$"
      ],
      "text/plain": [
       "\\sqrt{(1.5 - 2.0)^{2} + (1.0 - 4.0)^{2}} = 3.041"
      ]
     },
     "metadata": {},
     "output_type": "display_data"
    },
    {
     "name": "stdout",
     "output_type": "stream",
     "text": [
      "'----------'\n",
      "'distance between centroid 1 and point 3 [2.0, 1.0] is, '\n"
     ]
    },
    {
     "data": {
      "text/latex": [
       "$\\displaystyle \\sqrt{(1.5 - 2.0)^{2} + (1.0 - 1.0)^{2}} = 0.5$"
      ],
      "text/plain": [
       "\\sqrt{(1.5 - 2.0)^{2} + (1.0 - 1.0)^{2}} = 0.5"
      ]
     },
     "metadata": {},
     "output_type": "display_data"
    },
    {
     "name": "stdout",
     "output_type": "stream",
     "text": [
      "'----------'\n",
      "'distance between centroid 1 and point 4 [3.0, 5.0] is, '\n"
     ]
    },
    {
     "data": {
      "text/latex": [
       "$\\displaystyle \\sqrt{(1.5 - 3.0)^{2} + (1.0 - 5.0)^{2}} = 4.272$"
      ],
      "text/plain": [
       "\\sqrt{(1.5 - 3.0)^{2} + (1.0 - 5.0)^{2}} = 4.272"
      ]
     },
     "metadata": {},
     "output_type": "display_data"
    },
    {
     "name": "stdout",
     "output_type": "stream",
     "text": [
      "'----------'\n",
      "'distance between centroid 1 and point 5 [1.0, 2.0] is, '\n"
     ]
    },
    {
     "data": {
      "text/latex": [
       "$\\displaystyle \\sqrt{(1.5 - 1.0)^{2} + (1.0 - 2.0)^{2}} = 1.118$"
      ],
      "text/plain": [
       "\\sqrt{(1.5 - 1.0)^{2} + (1.0 - 2.0)^{2}} = 1.118"
      ]
     },
     "metadata": {},
     "output_type": "display_data"
    },
    {
     "name": "stdout",
     "output_type": "stream",
     "text": [
      "'----------'\n",
      "'distance between centroid 1 and point 6 [2.5, 4.0] is, '\n"
     ]
    },
    {
     "data": {
      "text/latex": [
       "$\\displaystyle \\sqrt{(1.5 - 2.5)^{2} + (1.0 - 4.0)^{2}} = 3.162$"
      ],
      "text/plain": [
       "\\sqrt{(1.5 - 2.5)^{2} + (1.0 - 4.0)^{2}} = 3.162"
      ]
     },
     "metadata": {},
     "output_type": "display_data"
    },
    {
     "name": "stdout",
     "output_type": "stream",
     "text": [
      "'----------'\n",
      "'distance between centroid 1 and point 7 [1.0, 5.0] is, '\n"
     ]
    },
    {
     "data": {
      "text/latex": [
       "$\\displaystyle \\sqrt{(1.5 - 1.0)^{2} + (1.0 - 5.0)^{2}} = 4.031$"
      ],
      "text/plain": [
       "\\sqrt{(1.5 - 1.0)^{2} + (1.0 - 5.0)^{2}} = 4.031"
      ]
     },
     "metadata": {},
     "output_type": "display_data"
    },
    {
     "name": "stdout",
     "output_type": "stream",
     "text": [
      "'----------'\n",
      "       0      1      2      3      4      5      6      7\n",
      "0  4.095  4.584  0.515  3.502  1.008  2.741  0.625  1.231\n",
      "1    1.5  1.803  3.041    0.5  4.272  1.118  3.162  4.031\n",
      "{0: {'center': [2.125, 4.5], 'members': []},\n",
      " 1: {'center': [1.5, 1.0], 'members': []}}\n",
      "{0: {'center': [2.125, 4.5],\n",
      "     'members': [[2.0, 4.0], [3.0, 5.0], [2.5, 4.0], [1.0, 5.0]]},\n",
      " 1: {'center': [1.5, 1.0],\n",
      "     'members': [[0.0, 1.0], [3.0, 0.0], [2.0, 1.0], [1.0, 2.0]]}}\n",
      "('mean of member points of cluster 0 is (2.0 + 3.0 + 2.5 + 1.0)/4 = 2.125,(4.0 '\n",
      " '+ 5.0 + 4.0 + 5.0)/4 = 4.5')\n",
      "('mean of member points of cluster 1 is (0.0 + 3.0 + 2.0 + 1.0)/4 = 1.5,(1.0 + '\n",
      " '0.0 + 1.0 + 2.0)/4 = 1.0')\n",
      "{0: {'center': [2.125, 4.5],\n",
      "     'members': [[2.0, 4.0], [3.0, 5.0], [2.5, 4.0], [1.0, 5.0]]},\n",
      " 1: {'center': [1.5, 1.0],\n",
      "     'members': [[0.0, 1.0], [3.0, 0.0], [2.0, 1.0], [1.0, 2.0]]}}\n",
      "'----------Iteration 5 is done----------'\n"
     ]
    },
    {
     "data": {
      "text/plain": [
       "(       0      1      2      3      4      5      6      7\n",
       " 0  4.095  4.584  0.515  3.502  1.008  2.741  0.625  1.231\n",
       " 1  1.500  1.803  3.041  0.500  4.272  1.118  3.162  4.031,\n",
       " {0: {'center': [2.125, 4.5],\n",
       "   'members': [[2.0, 4.0], [3.0, 5.0], [2.5, 4.0], [1.0, 5.0]]},\n",
       "  1: {'center': [1.5, 1.0],\n",
       "   'members': [[0.0, 1.0], [3.0, 0.0], [2.0, 1.0], [1.0, 2.0]]}})"
      ]
     },
     "execution_count": 4,
     "metadata": {},
     "output_type": "execute_result"
    }
   ],
   "source": [
    "KMeans(points,2,5,True)"
   ]
  },
  {
   "cell_type": "code",
   "execution_count": 7,
   "id": "19616f6f",
   "metadata": {
    "scrolled": false
   },
   "outputs": [
    {
     "name": "stdout",
     "output_type": "stream",
     "text": [
      "'initial clusters are: [[2.0, 4.0], [2.0, 1.0]]'\n",
      "      0     1     2     3     4     5     6     7\n",
      "0  None  None  None  None  None  None  None  None\n",
      "1  None  None  None  None  None  None  None  None\n",
      "'distance between centroid 0 and point 0 [0.0, 1.0] is, '\n"
     ]
    },
    {
     "data": {
      "text/latex": [
       "$\\displaystyle |2.0 - 0.0| + |4.0 - 1.0| = 5.0$"
      ],
      "text/plain": [
       "|2.0 - 0.0| + |4.0 - 1.0| = 5.0"
      ]
     },
     "metadata": {},
     "output_type": "display_data"
    },
    {
     "name": "stdout",
     "output_type": "stream",
     "text": [
      "'----------'\n",
      "'distance between centroid 0 and point 1 [3.0, 0.0] is, '\n"
     ]
    },
    {
     "data": {
      "text/latex": [
       "$\\displaystyle |2.0 - 3.0| + |4.0 - 0.0| = 5.0$"
      ],
      "text/plain": [
       "|2.0 - 3.0| + |4.0 - 0.0| = 5.0"
      ]
     },
     "metadata": {},
     "output_type": "display_data"
    },
    {
     "name": "stdout",
     "output_type": "stream",
     "text": [
      "'----------'\n",
      "'distance between centroid 0 and point 2 [2.0, 4.0] is, '\n"
     ]
    },
    {
     "data": {
      "text/latex": [
       "$\\displaystyle |2.0 - 2.0| + |4.0 - 4.0| = 0.0$"
      ],
      "text/plain": [
       "|2.0 - 2.0| + |4.0 - 4.0| = 0.0"
      ]
     },
     "metadata": {},
     "output_type": "display_data"
    },
    {
     "name": "stdout",
     "output_type": "stream",
     "text": [
      "'----------'\n",
      "'distance between centroid 0 and point 3 [2.0, 1.0] is, '\n"
     ]
    },
    {
     "data": {
      "text/latex": [
       "$\\displaystyle |2.0 - 2.0| + |4.0 - 1.0| = 3.0$"
      ],
      "text/plain": [
       "|2.0 - 2.0| + |4.0 - 1.0| = 3.0"
      ]
     },
     "metadata": {},
     "output_type": "display_data"
    },
    {
     "name": "stdout",
     "output_type": "stream",
     "text": [
      "'----------'\n",
      "'distance between centroid 0 and point 4 [3.0, 5.0] is, '\n"
     ]
    },
    {
     "data": {
      "text/latex": [
       "$\\displaystyle |2.0 - 3.0| + |4.0 - 5.0| = 2.0$"
      ],
      "text/plain": [
       "|2.0 - 3.0| + |4.0 - 5.0| = 2.0"
      ]
     },
     "metadata": {},
     "output_type": "display_data"
    },
    {
     "name": "stdout",
     "output_type": "stream",
     "text": [
      "'----------'\n",
      "'distance between centroid 0 and point 5 [1.0, 2.0] is, '\n"
     ]
    },
    {
     "data": {
      "text/latex": [
       "$\\displaystyle |2.0 - 1.0| + |4.0 - 2.0| = 3.0$"
      ],
      "text/plain": [
       "|2.0 - 1.0| + |4.0 - 2.0| = 3.0"
      ]
     },
     "metadata": {},
     "output_type": "display_data"
    },
    {
     "name": "stdout",
     "output_type": "stream",
     "text": [
      "'----------'\n",
      "'distance between centroid 0 and point 6 [2.5, 4.0] is, '\n"
     ]
    },
    {
     "data": {
      "text/latex": [
       "$\\displaystyle |2.0 - 2.5| + |4.0 - 4.0| = 0.5$"
      ],
      "text/plain": [
       "|2.0 - 2.5| + |4.0 - 4.0| = 0.5"
      ]
     },
     "metadata": {},
     "output_type": "display_data"
    },
    {
     "name": "stdout",
     "output_type": "stream",
     "text": [
      "'----------'\n",
      "'distance between centroid 0 and point 7 [1.0, 5.0] is, '\n"
     ]
    },
    {
     "data": {
      "text/latex": [
       "$\\displaystyle |2.0 - 1.0| + |4.0 - 5.0| = 2.0$"
      ],
      "text/plain": [
       "|2.0 - 1.0| + |4.0 - 5.0| = 2.0"
      ]
     },
     "metadata": {},
     "output_type": "display_data"
    },
    {
     "name": "stdout",
     "output_type": "stream",
     "text": [
      "'----------'\n",
      "'distance between centroid 1 and point 0 [0.0, 1.0] is, '\n"
     ]
    },
    {
     "data": {
      "text/latex": [
       "$\\displaystyle |2.0 - 0.0| + |1.0 - 1.0| = 2.0$"
      ],
      "text/plain": [
       "|2.0 - 0.0| + |1.0 - 1.0| = 2.0"
      ]
     },
     "metadata": {},
     "output_type": "display_data"
    },
    {
     "name": "stdout",
     "output_type": "stream",
     "text": [
      "'----------'\n",
      "'distance between centroid 1 and point 1 [3.0, 0.0] is, '\n"
     ]
    },
    {
     "data": {
      "text/latex": [
       "$\\displaystyle |2.0 - 3.0| + |1.0 - 0.0| = 2.0$"
      ],
      "text/plain": [
       "|2.0 - 3.0| + |1.0 - 0.0| = 2.0"
      ]
     },
     "metadata": {},
     "output_type": "display_data"
    },
    {
     "name": "stdout",
     "output_type": "stream",
     "text": [
      "'----------'\n",
      "'distance between centroid 1 and point 2 [2.0, 4.0] is, '\n"
     ]
    },
    {
     "data": {
      "text/latex": [
       "$\\displaystyle |2.0 - 2.0| + |1.0 - 4.0| = 3.0$"
      ],
      "text/plain": [
       "|2.0 - 2.0| + |1.0 - 4.0| = 3.0"
      ]
     },
     "metadata": {},
     "output_type": "display_data"
    },
    {
     "name": "stdout",
     "output_type": "stream",
     "text": [
      "'----------'\n",
      "'distance between centroid 1 and point 3 [2.0, 1.0] is, '\n"
     ]
    },
    {
     "data": {
      "text/latex": [
       "$\\displaystyle |2.0 - 2.0| + |1.0 - 1.0| = 0.0$"
      ],
      "text/plain": [
       "|2.0 - 2.0| + |1.0 - 1.0| = 0.0"
      ]
     },
     "metadata": {},
     "output_type": "display_data"
    },
    {
     "name": "stdout",
     "output_type": "stream",
     "text": [
      "'----------'\n",
      "'distance between centroid 1 and point 4 [3.0, 5.0] is, '\n"
     ]
    },
    {
     "data": {
      "text/latex": [
       "$\\displaystyle |2.0 - 3.0| + |1.0 - 5.0| = 5.0$"
      ],
      "text/plain": [
       "|2.0 - 3.0| + |1.0 - 5.0| = 5.0"
      ]
     },
     "metadata": {},
     "output_type": "display_data"
    },
    {
     "name": "stdout",
     "output_type": "stream",
     "text": [
      "'----------'\n",
      "'distance between centroid 1 and point 5 [1.0, 2.0] is, '\n"
     ]
    },
    {
     "data": {
      "text/latex": [
       "$\\displaystyle |2.0 - 1.0| + |1.0 - 2.0| = 2.0$"
      ],
      "text/plain": [
       "|2.0 - 1.0| + |1.0 - 2.0| = 2.0"
      ]
     },
     "metadata": {},
     "output_type": "display_data"
    },
    {
     "name": "stdout",
     "output_type": "stream",
     "text": [
      "'----------'\n",
      "'distance between centroid 1 and point 6 [2.5, 4.0] is, '\n"
     ]
    },
    {
     "data": {
      "text/latex": [
       "$\\displaystyle |2.0 - 2.5| + |1.0 - 4.0| = 3.5$"
      ],
      "text/plain": [
       "|2.0 - 2.5| + |1.0 - 4.0| = 3.5"
      ]
     },
     "metadata": {},
     "output_type": "display_data"
    },
    {
     "name": "stdout",
     "output_type": "stream",
     "text": [
      "'----------'\n",
      "'distance between centroid 1 and point 7 [1.0, 5.0] is, '\n"
     ]
    },
    {
     "data": {
      "text/latex": [
       "$\\displaystyle |2.0 - 1.0| + |1.0 - 5.0| = 5.0$"
      ],
      "text/plain": [
       "|2.0 - 1.0| + |1.0 - 5.0| = 5.0"
      ]
     },
     "metadata": {},
     "output_type": "display_data"
    },
    {
     "name": "stdout",
     "output_type": "stream",
     "text": [
      "'----------'\n",
      "     0    1    2    3    4    5    6    7\n",
      "0  5.0  5.0  0.0  3.0  2.0  3.0  0.5  2.0\n",
      "1  2.0  2.0  3.0  0.0  5.0  2.0  3.5  5.0\n",
      "{0: {'center': [2.0, 4.0], 'members': []},\n",
      " 1: {'center': [2.0, 1.0], 'members': []}}\n",
      "{0: {'center': [2.0, 4.0],\n",
      "     'members': [[2.0, 4.0], [3.0, 5.0], [2.5, 4.0], [1.0, 5.0]]},\n",
      " 1: {'center': [2.0, 1.0],\n",
      "     'members': [[0.0, 1.0], [3.0, 0.0], [2.0, 1.0], [1.0, 2.0]]}}\n",
      "('mean of member points of cluster 0 is (2.0 + 3.0 + 2.5 + 1.0)/4 = 2.125,(4.0 '\n",
      " '+ 5.0 + 4.0 + 5.0)/4 = 4.5')\n",
      "('mean of member points of cluster 1 is (0.0 + 3.0 + 2.0 + 1.0)/4 = 1.5,(1.0 + '\n",
      " '0.0 + 1.0 + 2.0)/4 = 1.0')\n",
      "{0: {'center': [2.125, 4.5],\n",
      "     'members': [[2.0, 4.0], [3.0, 5.0], [2.5, 4.0], [1.0, 5.0]]},\n",
      " 1: {'center': [1.5, 1.0],\n",
      "     'members': [[0.0, 1.0], [3.0, 0.0], [2.0, 1.0], [1.0, 2.0]]}}\n",
      "'----------Iteration 1 is done----------'\n",
      "      0     1     2     3     4     5     6     7\n",
      "0  None  None  None  None  None  None  None  None\n",
      "1  None  None  None  None  None  None  None  None\n",
      "'distance between centroid 0 and point 0 [0.0, 1.0] is, '\n"
     ]
    },
    {
     "data": {
      "text/latex": [
       "$\\displaystyle |2.125 - 0.0| + |4.5 - 1.0| = 5.625$"
      ],
      "text/plain": [
       "|2.125 - 0.0| + |4.5 - 1.0| = 5.625"
      ]
     },
     "metadata": {},
     "output_type": "display_data"
    },
    {
     "name": "stdout",
     "output_type": "stream",
     "text": [
      "'----------'\n",
      "'distance between centroid 0 and point 1 [3.0, 0.0] is, '\n"
     ]
    },
    {
     "data": {
      "text/latex": [
       "$\\displaystyle |2.125 - 3.0| + |4.5 - 0.0| = 5.375$"
      ],
      "text/plain": [
       "|2.125 - 3.0| + |4.5 - 0.0| = 5.375"
      ]
     },
     "metadata": {},
     "output_type": "display_data"
    },
    {
     "name": "stdout",
     "output_type": "stream",
     "text": [
      "'----------'\n",
      "'distance between centroid 0 and point 2 [2.0, 4.0] is, '\n"
     ]
    },
    {
     "data": {
      "text/latex": [
       "$\\displaystyle |2.125 - 2.0| + |4.5 - 4.0| = 0.625$"
      ],
      "text/plain": [
       "|2.125 - 2.0| + |4.5 - 4.0| = 0.625"
      ]
     },
     "metadata": {},
     "output_type": "display_data"
    },
    {
     "name": "stdout",
     "output_type": "stream",
     "text": [
      "'----------'\n",
      "'distance between centroid 0 and point 3 [2.0, 1.0] is, '\n"
     ]
    },
    {
     "data": {
      "text/latex": [
       "$\\displaystyle |2.125 - 2.0| + |4.5 - 1.0| = 3.625$"
      ],
      "text/plain": [
       "|2.125 - 2.0| + |4.5 - 1.0| = 3.625"
      ]
     },
     "metadata": {},
     "output_type": "display_data"
    },
    {
     "name": "stdout",
     "output_type": "stream",
     "text": [
      "'----------'\n",
      "'distance between centroid 0 and point 4 [3.0, 5.0] is, '\n"
     ]
    },
    {
     "data": {
      "text/latex": [
       "$\\displaystyle |2.125 - 3.0| + |4.5 - 5.0| = 1.375$"
      ],
      "text/plain": [
       "|2.125 - 3.0| + |4.5 - 5.0| = 1.375"
      ]
     },
     "metadata": {},
     "output_type": "display_data"
    },
    {
     "name": "stdout",
     "output_type": "stream",
     "text": [
      "'----------'\n",
      "'distance between centroid 0 and point 5 [1.0, 2.0] is, '\n"
     ]
    },
    {
     "data": {
      "text/latex": [
       "$\\displaystyle |2.125 - 1.0| + |4.5 - 2.0| = 3.625$"
      ],
      "text/plain": [
       "|2.125 - 1.0| + |4.5 - 2.0| = 3.625"
      ]
     },
     "metadata": {},
     "output_type": "display_data"
    },
    {
     "name": "stdout",
     "output_type": "stream",
     "text": [
      "'----------'\n",
      "'distance between centroid 0 and point 6 [2.5, 4.0] is, '\n"
     ]
    },
    {
     "data": {
      "text/latex": [
       "$\\displaystyle |2.125 - 2.5| + |4.5 - 4.0| = 0.875$"
      ],
      "text/plain": [
       "|2.125 - 2.5| + |4.5 - 4.0| = 0.875"
      ]
     },
     "metadata": {},
     "output_type": "display_data"
    },
    {
     "name": "stdout",
     "output_type": "stream",
     "text": [
      "'----------'\n",
      "'distance between centroid 0 and point 7 [1.0, 5.0] is, '\n"
     ]
    },
    {
     "data": {
      "text/latex": [
       "$\\displaystyle |2.125 - 1.0| + |4.5 - 5.0| = 1.625$"
      ],
      "text/plain": [
       "|2.125 - 1.0| + |4.5 - 5.0| = 1.625"
      ]
     },
     "metadata": {},
     "output_type": "display_data"
    },
    {
     "name": "stdout",
     "output_type": "stream",
     "text": [
      "'----------'\n",
      "'distance between centroid 1 and point 0 [0.0, 1.0] is, '\n"
     ]
    },
    {
     "data": {
      "text/latex": [
       "$\\displaystyle |1.5 - 0.0| + |1.0 - 1.0| = 1.5$"
      ],
      "text/plain": [
       "|1.5 - 0.0| + |1.0 - 1.0| = 1.5"
      ]
     },
     "metadata": {},
     "output_type": "display_data"
    },
    {
     "name": "stdout",
     "output_type": "stream",
     "text": [
      "'----------'\n",
      "'distance between centroid 1 and point 1 [3.0, 0.0] is, '\n"
     ]
    },
    {
     "data": {
      "text/latex": [
       "$\\displaystyle |1.5 - 3.0| + |1.0 - 0.0| = 2.5$"
      ],
      "text/plain": [
       "|1.5 - 3.0| + |1.0 - 0.0| = 2.5"
      ]
     },
     "metadata": {},
     "output_type": "display_data"
    },
    {
     "name": "stdout",
     "output_type": "stream",
     "text": [
      "'----------'\n",
      "'distance between centroid 1 and point 2 [2.0, 4.0] is, '\n"
     ]
    },
    {
     "data": {
      "text/latex": [
       "$\\displaystyle |1.5 - 2.0| + |1.0 - 4.0| = 3.5$"
      ],
      "text/plain": [
       "|1.5 - 2.0| + |1.0 - 4.0| = 3.5"
      ]
     },
     "metadata": {},
     "output_type": "display_data"
    },
    {
     "name": "stdout",
     "output_type": "stream",
     "text": [
      "'----------'\n",
      "'distance between centroid 1 and point 3 [2.0, 1.0] is, '\n"
     ]
    },
    {
     "data": {
      "text/latex": [
       "$\\displaystyle |1.5 - 2.0| + |1.0 - 1.0| = 0.5$"
      ],
      "text/plain": [
       "|1.5 - 2.0| + |1.0 - 1.0| = 0.5"
      ]
     },
     "metadata": {},
     "output_type": "display_data"
    },
    {
     "name": "stdout",
     "output_type": "stream",
     "text": [
      "'----------'\n",
      "'distance between centroid 1 and point 4 [3.0, 5.0] is, '\n"
     ]
    },
    {
     "data": {
      "text/latex": [
       "$\\displaystyle |1.5 - 3.0| + |1.0 - 5.0| = 5.5$"
      ],
      "text/plain": [
       "|1.5 - 3.0| + |1.0 - 5.0| = 5.5"
      ]
     },
     "metadata": {},
     "output_type": "display_data"
    },
    {
     "name": "stdout",
     "output_type": "stream",
     "text": [
      "'----------'\n",
      "'distance between centroid 1 and point 5 [1.0, 2.0] is, '\n"
     ]
    },
    {
     "data": {
      "text/latex": [
       "$\\displaystyle |1.5 - 1.0| + |1.0 - 2.0| = 1.5$"
      ],
      "text/plain": [
       "|1.5 - 1.0| + |1.0 - 2.0| = 1.5"
      ]
     },
     "metadata": {},
     "output_type": "display_data"
    },
    {
     "name": "stdout",
     "output_type": "stream",
     "text": [
      "'----------'\n",
      "'distance between centroid 1 and point 6 [2.5, 4.0] is, '\n"
     ]
    },
    {
     "data": {
      "text/latex": [
       "$\\displaystyle |1.5 - 2.5| + |1.0 - 4.0| = 4.0$"
      ],
      "text/plain": [
       "|1.5 - 2.5| + |1.0 - 4.0| = 4.0"
      ]
     },
     "metadata": {},
     "output_type": "display_data"
    },
    {
     "name": "stdout",
     "output_type": "stream",
     "text": [
      "'----------'\n",
      "'distance between centroid 1 and point 7 [1.0, 5.0] is, '\n"
     ]
    },
    {
     "data": {
      "text/latex": [
       "$\\displaystyle |1.5 - 1.0| + |1.0 - 5.0| = 4.5$"
      ],
      "text/plain": [
       "|1.5 - 1.0| + |1.0 - 5.0| = 4.5"
      ]
     },
     "metadata": {},
     "output_type": "display_data"
    },
    {
     "name": "stdout",
     "output_type": "stream",
     "text": [
      "'----------'\n",
      "       0      1      2      3      4      5      6      7\n",
      "0  5.625  5.375  0.625  3.625  1.375  3.625  0.875  1.625\n",
      "1    1.5    2.5    3.5    0.5    5.5    1.5    4.0    4.5\n",
      "{0: {'center': [2.125, 4.5], 'members': []},\n",
      " 1: {'center': [1.5, 1.0], 'members': []}}\n",
      "{0: {'center': [2.125, 4.5],\n",
      "     'members': [[2.0, 4.0], [3.0, 5.0], [2.5, 4.0], [1.0, 5.0]]},\n",
      " 1: {'center': [1.5, 1.0],\n",
      "     'members': [[0.0, 1.0], [3.0, 0.0], [2.0, 1.0], [1.0, 2.0]]}}\n",
      "('mean of member points of cluster 0 is (2.0 + 3.0 + 2.5 + 1.0)/4 = 2.125,(4.0 '\n",
      " '+ 5.0 + 4.0 + 5.0)/4 = 4.5')\n",
      "('mean of member points of cluster 1 is (0.0 + 3.0 + 2.0 + 1.0)/4 = 1.5,(1.0 + '\n",
      " '0.0 + 1.0 + 2.0)/4 = 1.0')\n",
      "{0: {'center': [2.125, 4.5],\n",
      "     'members': [[2.0, 4.0], [3.0, 5.0], [2.5, 4.0], [1.0, 5.0]]},\n",
      " 1: {'center': [1.5, 1.0],\n",
      "     'members': [[0.0, 1.0], [3.0, 0.0], [2.0, 1.0], [1.0, 2.0]]}}\n",
      "'----------Iteration 2 is done----------'\n",
      "      0     1     2     3     4     5     6     7\n",
      "0  None  None  None  None  None  None  None  None\n",
      "1  None  None  None  None  None  None  None  None\n",
      "'distance between centroid 0 and point 0 [0.0, 1.0] is, '\n"
     ]
    },
    {
     "data": {
      "text/latex": [
       "$\\displaystyle |2.125 - 0.0| + |4.5 - 1.0| = 5.625$"
      ],
      "text/plain": [
       "|2.125 - 0.0| + |4.5 - 1.0| = 5.625"
      ]
     },
     "metadata": {},
     "output_type": "display_data"
    },
    {
     "name": "stdout",
     "output_type": "stream",
     "text": [
      "'----------'\n",
      "'distance between centroid 0 and point 1 [3.0, 0.0] is, '\n"
     ]
    },
    {
     "data": {
      "text/latex": [
       "$\\displaystyle |2.125 - 3.0| + |4.5 - 0.0| = 5.375$"
      ],
      "text/plain": [
       "|2.125 - 3.0| + |4.5 - 0.0| = 5.375"
      ]
     },
     "metadata": {},
     "output_type": "display_data"
    },
    {
     "name": "stdout",
     "output_type": "stream",
     "text": [
      "'----------'\n",
      "'distance between centroid 0 and point 2 [2.0, 4.0] is, '\n"
     ]
    },
    {
     "data": {
      "text/latex": [
       "$\\displaystyle |2.125 - 2.0| + |4.5 - 4.0| = 0.625$"
      ],
      "text/plain": [
       "|2.125 - 2.0| + |4.5 - 4.0| = 0.625"
      ]
     },
     "metadata": {},
     "output_type": "display_data"
    },
    {
     "name": "stdout",
     "output_type": "stream",
     "text": [
      "'----------'\n",
      "'distance between centroid 0 and point 3 [2.0, 1.0] is, '\n"
     ]
    },
    {
     "data": {
      "text/latex": [
       "$\\displaystyle |2.125 - 2.0| + |4.5 - 1.0| = 3.625$"
      ],
      "text/plain": [
       "|2.125 - 2.0| + |4.5 - 1.0| = 3.625"
      ]
     },
     "metadata": {},
     "output_type": "display_data"
    },
    {
     "name": "stdout",
     "output_type": "stream",
     "text": [
      "'----------'\n",
      "'distance between centroid 0 and point 4 [3.0, 5.0] is, '\n"
     ]
    },
    {
     "data": {
      "text/latex": [
       "$\\displaystyle |2.125 - 3.0| + |4.5 - 5.0| = 1.375$"
      ],
      "text/plain": [
       "|2.125 - 3.0| + |4.5 - 5.0| = 1.375"
      ]
     },
     "metadata": {},
     "output_type": "display_data"
    },
    {
     "name": "stdout",
     "output_type": "stream",
     "text": [
      "'----------'\n",
      "'distance between centroid 0 and point 5 [1.0, 2.0] is, '\n"
     ]
    },
    {
     "data": {
      "text/latex": [
       "$\\displaystyle |2.125 - 1.0| + |4.5 - 2.0| = 3.625$"
      ],
      "text/plain": [
       "|2.125 - 1.0| + |4.5 - 2.0| = 3.625"
      ]
     },
     "metadata": {},
     "output_type": "display_data"
    },
    {
     "name": "stdout",
     "output_type": "stream",
     "text": [
      "'----------'\n",
      "'distance between centroid 0 and point 6 [2.5, 4.0] is, '\n"
     ]
    },
    {
     "data": {
      "text/latex": [
       "$\\displaystyle |2.125 - 2.5| + |4.5 - 4.0| = 0.875$"
      ],
      "text/plain": [
       "|2.125 - 2.5| + |4.5 - 4.0| = 0.875"
      ]
     },
     "metadata": {},
     "output_type": "display_data"
    },
    {
     "name": "stdout",
     "output_type": "stream",
     "text": [
      "'----------'\n",
      "'distance between centroid 0 and point 7 [1.0, 5.0] is, '\n"
     ]
    },
    {
     "data": {
      "text/latex": [
       "$\\displaystyle |2.125 - 1.0| + |4.5 - 5.0| = 1.625$"
      ],
      "text/plain": [
       "|2.125 - 1.0| + |4.5 - 5.0| = 1.625"
      ]
     },
     "metadata": {},
     "output_type": "display_data"
    },
    {
     "name": "stdout",
     "output_type": "stream",
     "text": [
      "'----------'\n",
      "'distance between centroid 1 and point 0 [0.0, 1.0] is, '\n"
     ]
    },
    {
     "data": {
      "text/latex": [
       "$\\displaystyle |1.5 - 0.0| + |1.0 - 1.0| = 1.5$"
      ],
      "text/plain": [
       "|1.5 - 0.0| + |1.0 - 1.0| = 1.5"
      ]
     },
     "metadata": {},
     "output_type": "display_data"
    },
    {
     "name": "stdout",
     "output_type": "stream",
     "text": [
      "'----------'\n",
      "'distance between centroid 1 and point 1 [3.0, 0.0] is, '\n"
     ]
    },
    {
     "data": {
      "text/latex": [
       "$\\displaystyle |1.5 - 3.0| + |1.0 - 0.0| = 2.5$"
      ],
      "text/plain": [
       "|1.5 - 3.0| + |1.0 - 0.0| = 2.5"
      ]
     },
     "metadata": {},
     "output_type": "display_data"
    },
    {
     "name": "stdout",
     "output_type": "stream",
     "text": [
      "'----------'\n",
      "'distance between centroid 1 and point 2 [2.0, 4.0] is, '\n"
     ]
    },
    {
     "data": {
      "text/latex": [
       "$\\displaystyle |1.5 - 2.0| + |1.0 - 4.0| = 3.5$"
      ],
      "text/plain": [
       "|1.5 - 2.0| + |1.0 - 4.0| = 3.5"
      ]
     },
     "metadata": {},
     "output_type": "display_data"
    },
    {
     "name": "stdout",
     "output_type": "stream",
     "text": [
      "'----------'\n",
      "'distance between centroid 1 and point 3 [2.0, 1.0] is, '\n"
     ]
    },
    {
     "data": {
      "text/latex": [
       "$\\displaystyle |1.5 - 2.0| + |1.0 - 1.0| = 0.5$"
      ],
      "text/plain": [
       "|1.5 - 2.0| + |1.0 - 1.0| = 0.5"
      ]
     },
     "metadata": {},
     "output_type": "display_data"
    },
    {
     "name": "stdout",
     "output_type": "stream",
     "text": [
      "'----------'\n",
      "'distance between centroid 1 and point 4 [3.0, 5.0] is, '\n"
     ]
    },
    {
     "data": {
      "text/latex": [
       "$\\displaystyle |1.5 - 3.0| + |1.0 - 5.0| = 5.5$"
      ],
      "text/plain": [
       "|1.5 - 3.0| + |1.0 - 5.0| = 5.5"
      ]
     },
     "metadata": {},
     "output_type": "display_data"
    },
    {
     "name": "stdout",
     "output_type": "stream",
     "text": [
      "'----------'\n",
      "'distance between centroid 1 and point 5 [1.0, 2.0] is, '\n"
     ]
    },
    {
     "data": {
      "text/latex": [
       "$\\displaystyle |1.5 - 1.0| + |1.0 - 2.0| = 1.5$"
      ],
      "text/plain": [
       "|1.5 - 1.0| + |1.0 - 2.0| = 1.5"
      ]
     },
     "metadata": {},
     "output_type": "display_data"
    },
    {
     "name": "stdout",
     "output_type": "stream",
     "text": [
      "'----------'\n",
      "'distance between centroid 1 and point 6 [2.5, 4.0] is, '\n"
     ]
    },
    {
     "data": {
      "text/latex": [
       "$\\displaystyle |1.5 - 2.5| + |1.0 - 4.0| = 4.0$"
      ],
      "text/plain": [
       "|1.5 - 2.5| + |1.0 - 4.0| = 4.0"
      ]
     },
     "metadata": {},
     "output_type": "display_data"
    },
    {
     "name": "stdout",
     "output_type": "stream",
     "text": [
      "'----------'\n",
      "'distance between centroid 1 and point 7 [1.0, 5.0] is, '\n"
     ]
    },
    {
     "data": {
      "text/latex": [
       "$\\displaystyle |1.5 - 1.0| + |1.0 - 5.0| = 4.5$"
      ],
      "text/plain": [
       "|1.5 - 1.0| + |1.0 - 5.0| = 4.5"
      ]
     },
     "metadata": {},
     "output_type": "display_data"
    },
    {
     "name": "stdout",
     "output_type": "stream",
     "text": [
      "'----------'\n",
      "       0      1      2      3      4      5      6      7\n",
      "0  5.625  5.375  0.625  3.625  1.375  3.625  0.875  1.625\n",
      "1    1.5    2.5    3.5    0.5    5.5    1.5    4.0    4.5\n",
      "{0: {'center': [2.125, 4.5], 'members': []},\n",
      " 1: {'center': [1.5, 1.0], 'members': []}}\n",
      "{0: {'center': [2.125, 4.5],\n",
      "     'members': [[2.0, 4.0], [3.0, 5.0], [2.5, 4.0], [1.0, 5.0]]},\n",
      " 1: {'center': [1.5, 1.0],\n",
      "     'members': [[0.0, 1.0], [3.0, 0.0], [2.0, 1.0], [1.0, 2.0]]}}\n",
      "('mean of member points of cluster 0 is (2.0 + 3.0 + 2.5 + 1.0)/4 = 2.125,(4.0 '\n",
      " '+ 5.0 + 4.0 + 5.0)/4 = 4.5')\n",
      "('mean of member points of cluster 1 is (0.0 + 3.0 + 2.0 + 1.0)/4 = 1.5,(1.0 + '\n",
      " '0.0 + 1.0 + 2.0)/4 = 1.0')\n",
      "{0: {'center': [2.125, 4.5],\n",
      "     'members': [[2.0, 4.0], [3.0, 5.0], [2.5, 4.0], [1.0, 5.0]]},\n",
      " 1: {'center': [1.5, 1.0],\n",
      "     'members': [[0.0, 1.0], [3.0, 0.0], [2.0, 1.0], [1.0, 2.0]]}}\n",
      "'----------Iteration 3 is done----------'\n",
      "      0     1     2     3     4     5     6     7\n",
      "0  None  None  None  None  None  None  None  None\n",
      "1  None  None  None  None  None  None  None  None\n",
      "'distance between centroid 0 and point 0 [0.0, 1.0] is, '\n"
     ]
    },
    {
     "data": {
      "text/latex": [
       "$\\displaystyle |2.125 - 0.0| + |4.5 - 1.0| = 5.625$"
      ],
      "text/plain": [
       "|2.125 - 0.0| + |4.5 - 1.0| = 5.625"
      ]
     },
     "metadata": {},
     "output_type": "display_data"
    },
    {
     "name": "stdout",
     "output_type": "stream",
     "text": [
      "'----------'\n",
      "'distance between centroid 0 and point 1 [3.0, 0.0] is, '\n"
     ]
    },
    {
     "data": {
      "text/latex": [
       "$\\displaystyle |2.125 - 3.0| + |4.5 - 0.0| = 5.375$"
      ],
      "text/plain": [
       "|2.125 - 3.0| + |4.5 - 0.0| = 5.375"
      ]
     },
     "metadata": {},
     "output_type": "display_data"
    },
    {
     "name": "stdout",
     "output_type": "stream",
     "text": [
      "'----------'\n",
      "'distance between centroid 0 and point 2 [2.0, 4.0] is, '\n"
     ]
    },
    {
     "data": {
      "text/latex": [
       "$\\displaystyle |2.125 - 2.0| + |4.5 - 4.0| = 0.625$"
      ],
      "text/plain": [
       "|2.125 - 2.0| + |4.5 - 4.0| = 0.625"
      ]
     },
     "metadata": {},
     "output_type": "display_data"
    },
    {
     "name": "stdout",
     "output_type": "stream",
     "text": [
      "'----------'\n",
      "'distance between centroid 0 and point 3 [2.0, 1.0] is, '\n"
     ]
    },
    {
     "data": {
      "text/latex": [
       "$\\displaystyle |2.125 - 2.0| + |4.5 - 1.0| = 3.625$"
      ],
      "text/plain": [
       "|2.125 - 2.0| + |4.5 - 1.0| = 3.625"
      ]
     },
     "metadata": {},
     "output_type": "display_data"
    },
    {
     "name": "stdout",
     "output_type": "stream",
     "text": [
      "'----------'\n",
      "'distance between centroid 0 and point 4 [3.0, 5.0] is, '\n"
     ]
    },
    {
     "data": {
      "text/latex": [
       "$\\displaystyle |2.125 - 3.0| + |4.5 - 5.0| = 1.375$"
      ],
      "text/plain": [
       "|2.125 - 3.0| + |4.5 - 5.0| = 1.375"
      ]
     },
     "metadata": {},
     "output_type": "display_data"
    },
    {
     "name": "stdout",
     "output_type": "stream",
     "text": [
      "'----------'\n",
      "'distance between centroid 0 and point 5 [1.0, 2.0] is, '\n"
     ]
    },
    {
     "data": {
      "text/latex": [
       "$\\displaystyle |2.125 - 1.0| + |4.5 - 2.0| = 3.625$"
      ],
      "text/plain": [
       "|2.125 - 1.0| + |4.5 - 2.0| = 3.625"
      ]
     },
     "metadata": {},
     "output_type": "display_data"
    },
    {
     "name": "stdout",
     "output_type": "stream",
     "text": [
      "'----------'\n",
      "'distance between centroid 0 and point 6 [2.5, 4.0] is, '\n"
     ]
    },
    {
     "data": {
      "text/latex": [
       "$\\displaystyle |2.125 - 2.5| + |4.5 - 4.0| = 0.875$"
      ],
      "text/plain": [
       "|2.125 - 2.5| + |4.5 - 4.0| = 0.875"
      ]
     },
     "metadata": {},
     "output_type": "display_data"
    },
    {
     "name": "stdout",
     "output_type": "stream",
     "text": [
      "'----------'\n",
      "'distance between centroid 0 and point 7 [1.0, 5.0] is, '\n"
     ]
    },
    {
     "data": {
      "text/latex": [
       "$\\displaystyle |2.125 - 1.0| + |4.5 - 5.0| = 1.625$"
      ],
      "text/plain": [
       "|2.125 - 1.0| + |4.5 - 5.0| = 1.625"
      ]
     },
     "metadata": {},
     "output_type": "display_data"
    },
    {
     "name": "stdout",
     "output_type": "stream",
     "text": [
      "'----------'\n",
      "'distance between centroid 1 and point 0 [0.0, 1.0] is, '\n"
     ]
    },
    {
     "data": {
      "text/latex": [
       "$\\displaystyle |1.5 - 0.0| + |1.0 - 1.0| = 1.5$"
      ],
      "text/plain": [
       "|1.5 - 0.0| + |1.0 - 1.0| = 1.5"
      ]
     },
     "metadata": {},
     "output_type": "display_data"
    },
    {
     "name": "stdout",
     "output_type": "stream",
     "text": [
      "'----------'\n",
      "'distance between centroid 1 and point 1 [3.0, 0.0] is, '\n"
     ]
    },
    {
     "data": {
      "text/latex": [
       "$\\displaystyle |1.5 - 3.0| + |1.0 - 0.0| = 2.5$"
      ],
      "text/plain": [
       "|1.5 - 3.0| + |1.0 - 0.0| = 2.5"
      ]
     },
     "metadata": {},
     "output_type": "display_data"
    },
    {
     "name": "stdout",
     "output_type": "stream",
     "text": [
      "'----------'\n",
      "'distance between centroid 1 and point 2 [2.0, 4.0] is, '\n"
     ]
    },
    {
     "data": {
      "text/latex": [
       "$\\displaystyle |1.5 - 2.0| + |1.0 - 4.0| = 3.5$"
      ],
      "text/plain": [
       "|1.5 - 2.0| + |1.0 - 4.0| = 3.5"
      ]
     },
     "metadata": {},
     "output_type": "display_data"
    },
    {
     "name": "stdout",
     "output_type": "stream",
     "text": [
      "'----------'\n",
      "'distance between centroid 1 and point 3 [2.0, 1.0] is, '\n"
     ]
    },
    {
     "data": {
      "text/latex": [
       "$\\displaystyle |1.5 - 2.0| + |1.0 - 1.0| = 0.5$"
      ],
      "text/plain": [
       "|1.5 - 2.0| + |1.0 - 1.0| = 0.5"
      ]
     },
     "metadata": {},
     "output_type": "display_data"
    },
    {
     "name": "stdout",
     "output_type": "stream",
     "text": [
      "'----------'\n",
      "'distance between centroid 1 and point 4 [3.0, 5.0] is, '\n"
     ]
    },
    {
     "data": {
      "text/latex": [
       "$\\displaystyle |1.5 - 3.0| + |1.0 - 5.0| = 5.5$"
      ],
      "text/plain": [
       "|1.5 - 3.0| + |1.0 - 5.0| = 5.5"
      ]
     },
     "metadata": {},
     "output_type": "display_data"
    },
    {
     "name": "stdout",
     "output_type": "stream",
     "text": [
      "'----------'\n",
      "'distance between centroid 1 and point 5 [1.0, 2.0] is, '\n"
     ]
    },
    {
     "data": {
      "text/latex": [
       "$\\displaystyle |1.5 - 1.0| + |1.0 - 2.0| = 1.5$"
      ],
      "text/plain": [
       "|1.5 - 1.0| + |1.0 - 2.0| = 1.5"
      ]
     },
     "metadata": {},
     "output_type": "display_data"
    },
    {
     "name": "stdout",
     "output_type": "stream",
     "text": [
      "'----------'\n",
      "'distance between centroid 1 and point 6 [2.5, 4.0] is, '\n"
     ]
    },
    {
     "data": {
      "text/latex": [
       "$\\displaystyle |1.5 - 2.5| + |1.0 - 4.0| = 4.0$"
      ],
      "text/plain": [
       "|1.5 - 2.5| + |1.0 - 4.0| = 4.0"
      ]
     },
     "metadata": {},
     "output_type": "display_data"
    },
    {
     "name": "stdout",
     "output_type": "stream",
     "text": [
      "'----------'\n",
      "'distance between centroid 1 and point 7 [1.0, 5.0] is, '\n"
     ]
    },
    {
     "data": {
      "text/latex": [
       "$\\displaystyle |1.5 - 1.0| + |1.0 - 5.0| = 4.5$"
      ],
      "text/plain": [
       "|1.5 - 1.0| + |1.0 - 5.0| = 4.5"
      ]
     },
     "metadata": {},
     "output_type": "display_data"
    },
    {
     "name": "stdout",
     "output_type": "stream",
     "text": [
      "'----------'\n",
      "       0      1      2      3      4      5      6      7\n",
      "0  5.625  5.375  0.625  3.625  1.375  3.625  0.875  1.625\n",
      "1    1.5    2.5    3.5    0.5    5.5    1.5    4.0    4.5\n",
      "{0: {'center': [2.125, 4.5], 'members': []},\n",
      " 1: {'center': [1.5, 1.0], 'members': []}}\n",
      "{0: {'center': [2.125, 4.5],\n",
      "     'members': [[2.0, 4.0], [3.0, 5.0], [2.5, 4.0], [1.0, 5.0]]},\n",
      " 1: {'center': [1.5, 1.0],\n",
      "     'members': [[0.0, 1.0], [3.0, 0.0], [2.0, 1.0], [1.0, 2.0]]}}\n",
      "('mean of member points of cluster 0 is (2.0 + 3.0 + 2.5 + 1.0)/4 = 2.125,(4.0 '\n",
      " '+ 5.0 + 4.0 + 5.0)/4 = 4.5')\n",
      "('mean of member points of cluster 1 is (0.0 + 3.0 + 2.0 + 1.0)/4 = 1.5,(1.0 + '\n",
      " '0.0 + 1.0 + 2.0)/4 = 1.0')\n",
      "{0: {'center': [2.125, 4.5],\n",
      "     'members': [[2.0, 4.0], [3.0, 5.0], [2.5, 4.0], [1.0, 5.0]]},\n",
      " 1: {'center': [1.5, 1.0],\n",
      "     'members': [[0.0, 1.0], [3.0, 0.0], [2.0, 1.0], [1.0, 2.0]]}}\n",
      "'----------Iteration 4 is done----------'\n",
      "      0     1     2     3     4     5     6     7\n",
      "0  None  None  None  None  None  None  None  None\n",
      "1  None  None  None  None  None  None  None  None\n",
      "'distance between centroid 0 and point 0 [0.0, 1.0] is, '\n"
     ]
    },
    {
     "data": {
      "text/latex": [
       "$\\displaystyle |2.125 - 0.0| + |4.5 - 1.0| = 5.625$"
      ],
      "text/plain": [
       "|2.125 - 0.0| + |4.5 - 1.0| = 5.625"
      ]
     },
     "metadata": {},
     "output_type": "display_data"
    },
    {
     "name": "stdout",
     "output_type": "stream",
     "text": [
      "'----------'\n",
      "'distance between centroid 0 and point 1 [3.0, 0.0] is, '\n"
     ]
    },
    {
     "data": {
      "text/latex": [
       "$\\displaystyle |2.125 - 3.0| + |4.5 - 0.0| = 5.375$"
      ],
      "text/plain": [
       "|2.125 - 3.0| + |4.5 - 0.0| = 5.375"
      ]
     },
     "metadata": {},
     "output_type": "display_data"
    },
    {
     "name": "stdout",
     "output_type": "stream",
     "text": [
      "'----------'\n",
      "'distance between centroid 0 and point 2 [2.0, 4.0] is, '\n"
     ]
    },
    {
     "data": {
      "text/latex": [
       "$\\displaystyle |2.125 - 2.0| + |4.5 - 4.0| = 0.625$"
      ],
      "text/plain": [
       "|2.125 - 2.0| + |4.5 - 4.0| = 0.625"
      ]
     },
     "metadata": {},
     "output_type": "display_data"
    },
    {
     "name": "stdout",
     "output_type": "stream",
     "text": [
      "'----------'\n",
      "'distance between centroid 0 and point 3 [2.0, 1.0] is, '\n"
     ]
    },
    {
     "data": {
      "text/latex": [
       "$\\displaystyle |2.125 - 2.0| + |4.5 - 1.0| = 3.625$"
      ],
      "text/plain": [
       "|2.125 - 2.0| + |4.5 - 1.0| = 3.625"
      ]
     },
     "metadata": {},
     "output_type": "display_data"
    },
    {
     "name": "stdout",
     "output_type": "stream",
     "text": [
      "'----------'\n",
      "'distance between centroid 0 and point 4 [3.0, 5.0] is, '\n"
     ]
    },
    {
     "data": {
      "text/latex": [
       "$\\displaystyle |2.125 - 3.0| + |4.5 - 5.0| = 1.375$"
      ],
      "text/plain": [
       "|2.125 - 3.0| + |4.5 - 5.0| = 1.375"
      ]
     },
     "metadata": {},
     "output_type": "display_data"
    },
    {
     "name": "stdout",
     "output_type": "stream",
     "text": [
      "'----------'\n",
      "'distance between centroid 0 and point 5 [1.0, 2.0] is, '\n"
     ]
    },
    {
     "data": {
      "text/latex": [
       "$\\displaystyle |2.125 - 1.0| + |4.5 - 2.0| = 3.625$"
      ],
      "text/plain": [
       "|2.125 - 1.0| + |4.5 - 2.0| = 3.625"
      ]
     },
     "metadata": {},
     "output_type": "display_data"
    },
    {
     "name": "stdout",
     "output_type": "stream",
     "text": [
      "'----------'\n",
      "'distance between centroid 0 and point 6 [2.5, 4.0] is, '\n"
     ]
    },
    {
     "data": {
      "text/latex": [
       "$\\displaystyle |2.125 - 2.5| + |4.5 - 4.0| = 0.875$"
      ],
      "text/plain": [
       "|2.125 - 2.5| + |4.5 - 4.0| = 0.875"
      ]
     },
     "metadata": {},
     "output_type": "display_data"
    },
    {
     "name": "stdout",
     "output_type": "stream",
     "text": [
      "'----------'\n",
      "'distance between centroid 0 and point 7 [1.0, 5.0] is, '\n"
     ]
    },
    {
     "data": {
      "text/latex": [
       "$\\displaystyle |2.125 - 1.0| + |4.5 - 5.0| = 1.625$"
      ],
      "text/plain": [
       "|2.125 - 1.0| + |4.5 - 5.0| = 1.625"
      ]
     },
     "metadata": {},
     "output_type": "display_data"
    },
    {
     "name": "stdout",
     "output_type": "stream",
     "text": [
      "'----------'\n",
      "'distance between centroid 1 and point 0 [0.0, 1.0] is, '\n"
     ]
    },
    {
     "data": {
      "text/latex": [
       "$\\displaystyle |1.5 - 0.0| + |1.0 - 1.0| = 1.5$"
      ],
      "text/plain": [
       "|1.5 - 0.0| + |1.0 - 1.0| = 1.5"
      ]
     },
     "metadata": {},
     "output_type": "display_data"
    },
    {
     "name": "stdout",
     "output_type": "stream",
     "text": [
      "'----------'\n",
      "'distance between centroid 1 and point 1 [3.0, 0.0] is, '\n"
     ]
    },
    {
     "data": {
      "text/latex": [
       "$\\displaystyle |1.5 - 3.0| + |1.0 - 0.0| = 2.5$"
      ],
      "text/plain": [
       "|1.5 - 3.0| + |1.0 - 0.0| = 2.5"
      ]
     },
     "metadata": {},
     "output_type": "display_data"
    },
    {
     "name": "stdout",
     "output_type": "stream",
     "text": [
      "'----------'\n",
      "'distance between centroid 1 and point 2 [2.0, 4.0] is, '\n"
     ]
    },
    {
     "data": {
      "text/latex": [
       "$\\displaystyle |1.5 - 2.0| + |1.0 - 4.0| = 3.5$"
      ],
      "text/plain": [
       "|1.5 - 2.0| + |1.0 - 4.0| = 3.5"
      ]
     },
     "metadata": {},
     "output_type": "display_data"
    },
    {
     "name": "stdout",
     "output_type": "stream",
     "text": [
      "'----------'\n",
      "'distance between centroid 1 and point 3 [2.0, 1.0] is, '\n"
     ]
    },
    {
     "data": {
      "text/latex": [
       "$\\displaystyle |1.5 - 2.0| + |1.0 - 1.0| = 0.5$"
      ],
      "text/plain": [
       "|1.5 - 2.0| + |1.0 - 1.0| = 0.5"
      ]
     },
     "metadata": {},
     "output_type": "display_data"
    },
    {
     "name": "stdout",
     "output_type": "stream",
     "text": [
      "'----------'\n",
      "'distance between centroid 1 and point 4 [3.0, 5.0] is, '\n"
     ]
    },
    {
     "data": {
      "text/latex": [
       "$\\displaystyle |1.5 - 3.0| + |1.0 - 5.0| = 5.5$"
      ],
      "text/plain": [
       "|1.5 - 3.0| + |1.0 - 5.0| = 5.5"
      ]
     },
     "metadata": {},
     "output_type": "display_data"
    },
    {
     "name": "stdout",
     "output_type": "stream",
     "text": [
      "'----------'\n",
      "'distance between centroid 1 and point 5 [1.0, 2.0] is, '\n"
     ]
    },
    {
     "data": {
      "text/latex": [
       "$\\displaystyle |1.5 - 1.0| + |1.0 - 2.0| = 1.5$"
      ],
      "text/plain": [
       "|1.5 - 1.0| + |1.0 - 2.0| = 1.5"
      ]
     },
     "metadata": {},
     "output_type": "display_data"
    },
    {
     "name": "stdout",
     "output_type": "stream",
     "text": [
      "'----------'\n",
      "'distance between centroid 1 and point 6 [2.5, 4.0] is, '\n"
     ]
    },
    {
     "data": {
      "text/latex": [
       "$\\displaystyle |1.5 - 2.5| + |1.0 - 4.0| = 4.0$"
      ],
      "text/plain": [
       "|1.5 - 2.5| + |1.0 - 4.0| = 4.0"
      ]
     },
     "metadata": {},
     "output_type": "display_data"
    },
    {
     "name": "stdout",
     "output_type": "stream",
     "text": [
      "'----------'\n",
      "'distance between centroid 1 and point 7 [1.0, 5.0] is, '\n"
     ]
    },
    {
     "data": {
      "text/latex": [
       "$\\displaystyle |1.5 - 1.0| + |1.0 - 5.0| = 4.5$"
      ],
      "text/plain": [
       "|1.5 - 1.0| + |1.0 - 5.0| = 4.5"
      ]
     },
     "metadata": {},
     "output_type": "display_data"
    },
    {
     "name": "stdout",
     "output_type": "stream",
     "text": [
      "'----------'\n",
      "       0      1      2      3      4      5      6      7\n",
      "0  5.625  5.375  0.625  3.625  1.375  3.625  0.875  1.625\n",
      "1    1.5    2.5    3.5    0.5    5.5    1.5    4.0    4.5\n",
      "{0: {'center': [2.125, 4.5], 'members': []},\n",
      " 1: {'center': [1.5, 1.0], 'members': []}}\n",
      "{0: {'center': [2.125, 4.5],\n",
      "     'members': [[2.0, 4.0], [3.0, 5.0], [2.5, 4.0], [1.0, 5.0]]},\n",
      " 1: {'center': [1.5, 1.0],\n",
      "     'members': [[0.0, 1.0], [3.0, 0.0], [2.0, 1.0], [1.0, 2.0]]}}\n",
      "('mean of member points of cluster 0 is (2.0 + 3.0 + 2.5 + 1.0)/4 = 2.125,(4.0 '\n",
      " '+ 5.0 + 4.0 + 5.0)/4 = 4.5')\n",
      "('mean of member points of cluster 1 is (0.0 + 3.0 + 2.0 + 1.0)/4 = 1.5,(1.0 + '\n",
      " '0.0 + 1.0 + 2.0)/4 = 1.0')\n",
      "{0: {'center': [2.125, 4.5],\n",
      "     'members': [[2.0, 4.0], [3.0, 5.0], [2.5, 4.0], [1.0, 5.0]]},\n",
      " 1: {'center': [1.5, 1.0],\n",
      "     'members': [[0.0, 1.0], [3.0, 0.0], [2.0, 1.0], [1.0, 2.0]]}}\n",
      "'----------Iteration 5 is done----------'\n"
     ]
    },
    {
     "data": {
      "text/plain": [
       "(       0      1      2      3      4      5      6      7\n",
       " 0  5.625  5.375  0.625  3.625  1.375  3.625  0.875  1.625\n",
       " 1  1.500  2.500  3.500  0.500  5.500  1.500  4.000  4.500,\n",
       " {0: {'center': [2.125, 4.5],\n",
       "   'members': [[2.0, 4.0], [3.0, 5.0], [2.5, 4.0], [1.0, 5.0]]},\n",
       "  1: {'center': [1.5, 1.0],\n",
       "   'members': [[0.0, 1.0], [3.0, 0.0], [2.0, 1.0], [1.0, 2.0]]}})"
      ]
     },
     "execution_count": 7,
     "metadata": {},
     "output_type": "execute_result"
    }
   ],
   "source": [
    "KMeans(points,2,5,True,distance='manhatan')"
   ]
  },
  {
   "cell_type": "code",
   "execution_count": 105,
   "id": "44cd00c9",
   "metadata": {},
   "outputs": [
    {
     "data": {
      "text/plain": [
       "(      0      1      2      3      4      5      6      7      8      9   \\\n",
       " 0  3.880  4.691  0.596  3.515  1.416  2.590  0.965  0.840  0.596  1.277   \n",
       " 1  0.707  2.915  2.915  1.581  4.301  0.707  3.202  3.536  3.808  3.500   \n",
       " 2  2.522  0.834  3.370  0.601  4.362  2.007  3.333  4.585  4.362  4.772   \n",
       " \n",
       "       10     11     12  \n",
       " 0  0.840  0.571  3.596  \n",
       " 1  2.550  2.657  2.062  \n",
       " 2  3.655  3.510  0.333  ,\n",
       " {0: {'center': [1.675, 4.5],\n",
       "   'members': [[2.0, 4.0],\n",
       "    [3.0, 5.0],\n",
       "    [2.5, 4.0],\n",
       "    [1.0, 5.0],\n",
       "    [2.0, 5.0],\n",
       "    [0.5, 5.0],\n",
       "    [1.0, 4.0],\n",
       "    [1.4, 4.0]]},\n",
       "  1: {'center': [0.5, 1.5], 'members': [[0.0, 1.0], [1.0, 2.0]]},\n",
       "  2: {'center': [2.5, 0.667],\n",
       "   'members': [[3.0, 0.0], [2.0, 1.0], [2.5, 1.0]]}})"
      ]
     },
     "execution_count": 105,
     "metadata": {},
     "output_type": "execute_result"
    }
   ],
   "source": [
    "points = '0,1 3,0 2,4 2,1 3,5 1,2 2.5,4 1,5 2,5 0.5,5 1,4 1.4,4 2.5,1'\n",
    "points = [list(map(float,p.split(','))) for p in points.split(' ')]\n",
    "df, clusterPoints = KMeans(points,k=3,n_iters=5,todisplay=False)\n",
    "df, clusterPoints"
   ]
  },
  {
   "cell_type": "code",
   "execution_count": 109,
   "id": "b1e75334",
   "metadata": {},
   "outputs": [
    {
     "data": {
      "image/png": "[encoded data removed]",
      "text/plain": [
       "<Figure size 432x288 with 1 Axes>"
      ]
     },
     "metadata": {
      "needs_background": "light"
     },
     "output_type": "display_data"
    }
   ],
   "source": [
    "fig, ax = plt.subplots()\n",
    "ax.margins(0.05) # Optional, just adds 5% padding to the autoscaling\n",
    "for ck in clusterPoints.keys():\n",
    "    clst = clusterPoints[ck]\n",
    "    pts = clst['members']\n",
    "    x = np.array([e[0] for e in pts])\n",
    "    y = np.array([e[1] for e in pts])\n",
    "\n",
    "    ax.plot(x, y, marker='o', linestyle='', ms=12)\n",
    "    center = clst['center']\n",
    "    ax.plot(center[0],center[1], marker='o', linestyle='', ms=12)\n",
    "    ax.annotate('C'+str(ck),(center[0],center[1]))\n",
    "    \n",
    "plt.show()"
   ]
  },
  {
   "cell_type": "code",
   "execution_count": 121,
   "id": "388cc98a",
   "metadata": {},
   "outputs": [],
   "source": [
    "def elbow(points):\n",
    "    len_pts = len(points)\n",
    "    sqr_dist_list = {}\n",
    "    for k in range(len_pts,0,-1):\n",
    "        df, clusterPoints = KMeans(points,k=k,n_iters=5,todisplay=False)\n",
    "        sqr_dist = 0\n",
    "        for ck in clusterPoints.keys():\n",
    "            clst = clusterPoints[ck]\n",
    "\n",
    "            for p in clst['members']:\n",
    "                exp , dist = euclideanDistance(clst['center'],p)\n",
    "                sqr_dist += dist**2\n",
    "        sqr_dist_list[k] = sqr_dist\n",
    "    return sqr_dist_list"
   ]
  },
  {
   "cell_type": "code",
   "execution_count": 122,
   "id": "3ec67881",
   "metadata": {},
   "outputs": [
    {
     "data": {
      "text/plain": [
       "{13: 0.9550000000000001,\n",
       " 12: 2.2427520000000003,\n",
       " 11: 1.954698,\n",
       " 10: 2.7923439999999995,\n",
       " 9: 0.9550000000000001,\n",
       " 8: 4.2625589999999995,\n",
       " 7: 3.5390109999999995,\n",
       " 6: 5.262256999999998,\n",
       " 5: 12.795441,\n",
       " 4: 5.262256999999998,\n",
       " 3: 10.895354000000001,\n",
       " 2: 14.815123999999997,\n",
       " 1: 52.513101999999996}"
      ]
     },
     "execution_count": 122,
     "metadata": {},
     "output_type": "execute_result"
    }
   ],
   "source": [
    "import warnings\n",
    "warnings.filterwarnings('ignore')\n",
    "sqer = elbow(points)\n",
    "sqer"
   ]
  },
  {
   "cell_type": "code",
   "execution_count": 126,
   "id": "178a919d",
   "metadata": {},
   "outputs": [
    {
     "data": {
      "image/png": "[encoded data removed]",
      "text/plain": [
       "<Figure size 432x288 with 1 Axes>"
      ]
     },
     "metadata": {
      "needs_background": "light"
     },
     "output_type": "display_data"
    }
   ],
   "source": [
    "fig, ax = plt.subplots()\n",
    "ax.plot(sqer.keys(), sqer.values(), marker='o', linestyle='-', ms=4)\n",
    "plt.show()"
   ]
  }
 ],
 "metadata": {
  "kernelspec": {
   "display_name": "Python 3 (ipykernel)",
   "language": "python",
   "name": "python3"
  },
  "language_info": {
   "codemirror_mode": {
    "name": "ipython",
    "version": 3
   },
   "file_extension": ".py",
   "mimetype": "text/x-python",
   "name": "python",
   "nbconvert_exporter": "python",
   "pygments_lexer": "ipython3",
   "version": "3.10.10"
  }
 },
 "nbformat": 4,
 "nbformat_minor": 5
}
