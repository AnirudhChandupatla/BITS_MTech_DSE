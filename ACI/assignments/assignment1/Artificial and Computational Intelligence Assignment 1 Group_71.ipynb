{
 "cells": [
  {
   "cell_type": "markdown",
   "metadata": {
    "id": "MzZ4dJQYF7sH"
   },
   "source": [
    "# Artificial and Computational Intelligence Assignment 1"
   ]
  },
  {
   "cell_type": "markdown",
   "metadata": {
    "id": "Fxb1aE9zF7sK"
   },
   "source": [
    "## Problem solving by Uninformed & Informed Search"
   ]
  },
  {
   "cell_type": "markdown",
   "metadata": {
    "id": "h35jIBbCF7sK"
   },
   "source": [
    "List only the BITS (Name) of active contributors in this assignment:\n",
    "1. _CHANDUPATLA ANIRUDH REDDY (2022DA04387)_\n",
    "2. _ADITYA RUHELA             (2022DA04599)_\n",
    "3. _MANIKANDAN S              (2022DA04396)_\n",
    "4. ___________________\n",
    "5. ___________________"
   ]
  },
  {
   "cell_type": "markdown",
   "metadata": {
    "id": "pt5ygv_zF7sL"
   },
   "source": [
    "Things to follow\n",
    "1.\tUse appropriate data structures to represent the graph and the path using python libraries\n",
    "2.\tProvide proper documentation\n",
    "3.\tFind the path and print it"
   ]
  },
  {
   "cell_type": "markdown",
   "metadata": {
    "id": "wZfop5ElF7sL"
   },
   "source": [
    "Coding begins here"
   ]
  },
  {
   "cell_type": "markdown",
   "metadata": {
    "id": "IL0QDMy3F7sL"
   },
   "source": [
    "### 1.\tDefine the environment in the following block"
   ]
  },
  {
   "cell_type": "markdown",
   "metadata": {
    "id": "RYwJPNLIF7sM"
   },
   "source": [
    "List the PEAS decription of the problem here in this markdown block\n",
    "\n",
    "The PEAS (Performance measure, Environment, Actuator and Sensor) for the case are as follows-\n",
    "\n",
    "Performance Measure- The performance efficiency and effectiveness of the robot is measured on the basis of the ability to find the optimal path from the start position to the finish position, termed as ‘Goal’, while avoiding and minimizing the encounter with obstacles such as the Fire, bush and walls. The robot should be able to complete its task in a timely and efficient manner.\n",
    "\n",
    "Environment- The environment of the rescue robot is the cave represented as a maze. The cave contains obstacles such as walls, bush and the fire. The task of the robot is to move through the maze from the starting point till the end point, that is the goal, and rescue the rabbit from the cave. While trying to navigate through the cave, the robot must find the optimal path, avoiding any penalties awarded for crossing the bush and the fire and at least a number of steps.\n",
    "\n",
    "(Data Structure choosen to represent environment is Matrix)\n",
    "\n",
    "Actuators- The actuators of the robot that rescues the rabbit are its movement capabilities. The robot can move in four directions, North, South, East and West. It uses these movements to navigate through the cave and find the optimal path to the finish position.\n",
    "\n",
    "Sensors- The rescue robot has sensors that allows it to perceive the environment around it and helps it more in legal directions. The robot can use its sensors to detect obstacles such as the walls and penalty imposing cells of bush and fire. The sensor also allows the robot to determine its present position and helps it in moving towards the goal position.\n"
   ]
  },
  {
   "cell_type": "markdown",
   "metadata": {
    "id": "XJ3cHp1IF7sM"
   },
   "source": [
    "Design the agent as PSA Agent(Problem Solving Agent)\n",
    "Clear Initial data structures to define the graph and variable declarations is expected\n",
    "\n",
    "States: The state is determined by both the agent location in NxM grid/maze and walkable path avoiding obstacles walls, fire and bush. number of total states will vary when considering obstacles. (here our grid/maze is 7x6)\n",
    "\n",
    "Initial state: Any state can be designated as the initial state. (here we are given Initial state as (0,2))\n",
    "\n",
    "Actions: agent can go LEFT, RIGHT, UP and DOWN\n",
    "\n",
    "Transition model: can not pass through walls or border of maze.\n",
    "\n",
    "Goal test: check if reached that cell which is way out of maze. (here we are given Goal state as (6,4))\n",
    "\n",
    "Path cost: each transition from one cell to another cell is +3 also \n",
    "    \n",
    "  * if cell has bush then +1 additional cost\n",
    "        \n",
    "  * if cell has fire then +5 additional cost\n",
    "  \n",
    "IMPORTATANT: Write distinct code block as below"
   ]
  },
  {
   "cell_type": "code",
   "execution_count": 1,
   "metadata": {
    "id": "osp61RsLF7sN"
   },
   "outputs": [],
   "source": [
    "#Code Block : Set Initial State (Must handle dynamic inputs)\n",
    "start = (0, 2)"
   ]
  },
  {
   "cell_type": "code",
   "execution_count": 2,
   "metadata": {
    "id": "XODwoWZ0F7sO"
   },
   "outputs": [],
   "source": [
    "#Code Block : Set the matrix for transition & cost (as relevant for the given problem)\n",
    "# we chose to encode the environment related data like possibilities of transitions from one cell to another, bushes and fire\n",
    "# in binary format like fire 32 | bush 16 | right 8 | left 4 | up  2   | down 1\n",
    "# examples:\n",
    "# cell value = 25 its binary equivalent is 011001 so it means at that cell there is a bush and from here we can move down & right\n",
    "# cell value = 36 its binary equivalent is 100100 so it means at that cell there is a fire and from here we can move left\n",
    "# cell value = 15 its binary equivalent is 001111 so it means at that cell there is neither fire nor bush and from here we can move left, right, up & down\n",
    "maze = [[25, 12, 5, 8, 12, 37],\n",
    "        [3, 1, 11, 12, 21, 3],\n",
    "        [3, 10, 7, 40, 14, 7],\n",
    "        [11, 36, 3, 9, 12, 6],\n",
    "        [3, 25, 14, 14, 13, 21],\n",
    "        [2, 11, 12, 5, 3, 3],\n",
    "        [8, 6, 8, 14, 7, 2]]"
   ]
  },
  {
   "cell_type": "code",
   "execution_count": 3,
   "metadata": {
    "id": "ro24Gaj7F7sO"
   },
   "outputs": [],
   "source": [
    "#Code Block : Write function to design the Transition Model/Successor function. Ideally this would be called while search algorithms are implemented\n",
    "def can_walk_from_current(cell, to_new_position):\n",
    "    return ((to_new_position == UP and cell & 2 == 2) or\n",
    "            (to_new_position == DOWN and cell & 1 == 1) or\n",
    "            (to_new_position == LEFT and cell & 4 == 4) or\n",
    "            (to_new_position == RIGHT and cell & 8 == 8))\n",
    "\n",
    "\n",
    "def does_not_cross_maze_border_from(maze,node_position):\n",
    "    return (0 <= node_position[0] < (len(maze)) and\n",
    "            0 <= node_position[1] < (len(maze[0])))\n",
    "\n",
    "def manhattan_distance(p1, p2):\n",
    "    return (abs(p1[0] - p2[0]) +\n",
    "            abs(p1[1] - p2[1]))\n",
    "\n",
    "bush_in = lambda cell: cell & 16 == 16\n",
    "fire_at = lambda cell: cell & 32 == 32\n",
    "\n",
    "LEFT, RIGHT, UP, DOWN = (0, -1), (0, 1), (-1, 0), (1, 0)"
   ]
  },
  {
   "cell_type": "code",
   "execution_count": 4,
   "metadata": {
    "id": "HIVPhrRWF7sO"
   },
   "outputs": [],
   "source": [
    "#Code block : Write fucntion to handle goal test (Must handle dynamic inputs). Ideally this would be called while search algorithms are implemented\n",
    "def is_goal_state(state, goal= (6,4)):\n",
    "    return state == goal"
   ]
  },
  {
   "cell_type": "markdown",
   "metadata": {
    "id": "Z4QwDeX5F7sO"
   },
   "source": [
    "### 2.\tDefinition of Algorithm 1 (A* path finding algorithm)"
   ]
  },
  {
   "cell_type": "code",
   "execution_count": 35,
   "metadata": {
    "id": "zD_EPCHWF7sO"
   },
   "outputs": [],
   "source": [
    "#Code Block : Function for algorithm 1 implementation\n",
    "class Node():\n",
    "    def __init__(self, parent=None, position=None):\n",
    "        self.parent = parent\n",
    "        self.position = position\n",
    "\n",
    "        self.g = 0\n",
    "        self.h = 0\n",
    "        self.f = 0\n",
    "\n",
    "    def __eq__(self, other):\n",
    "        return self.position == other.position\n",
    "\n",
    "def A_STAR(maze, start, end):\n",
    "    start_node = Node(None, start)\n",
    "    start_node.g = start_node.h = start_node.f = 0\n",
    "    end_node = Node(None, end)\n",
    "    end_node.g = end_node.h = end_node.f = 0\n",
    "\n",
    "    open_list = []\n",
    "    closed_list = []\n",
    "    open_list.append(start_node)\n",
    "    while len(open_list) > 0:\n",
    "        current_node = open_list[0]\n",
    "        current_index = 0\n",
    "        for index, item in enumerate(open_list):\n",
    "            if item.f < current_node.f:\n",
    "                current_node = item\n",
    "                current_index = index\n",
    "\n",
    "        open_list.pop(current_index)\n",
    "        closed_list.append(current_node)\n",
    "        print(\"visited this node:\",current_node.position,\"as it has least cost\",current_node.f,\"and added it to closed list:[\",\n",
    "              [ {\"cell\":e.position,\"cost\":e.f} for e in closed_list],']')\n",
    "        if current_node == end_node:\n",
    "            print('finally visited goal!')\n",
    "            path = []\n",
    "            current = current_node\n",
    "            total_cost = current.g\n",
    "            while current is not None:\n",
    "                path.append(current.position)\n",
    "                current = current.parent                \n",
    "            return {'path_taken':'->'.join([str(e) for e in path[::-1]]), 'total_cost':total_cost}\n",
    "\n",
    "        children = []\n",
    "        for new_position in [LEFT, RIGHT, UP, DOWN]:\n",
    "            node_position = (current_node.position[0] + new_position[0], current_node.position[1] + new_position[1])\n",
    "            print(\"checking neighbor:\",node_position)\n",
    "            if does_not_cross_maze_border_from(maze,node_position): \n",
    "                cell = maze[current_node.position[0]][current_node.position[1]]\n",
    "                if(can_walk_from_current(cell, new_position)):\n",
    "                    children.append(Node(current_node, node_position))\n",
    "                    print(\"neighbor \",node_position,\" is reachable so adding to children list\")\n",
    "\n",
    "        for child in children:\n",
    "            if child not in closed_list:\n",
    "                print(\"child\",child.position,\"is not visited before so checking it\")\n",
    "                child_cell = maze[child.position[0]][child.position[1]]\n",
    "                step_cost = 3\n",
    "                if(fire_at(child_cell)): step_cost += 5\n",
    "                if(bush_in(child_cell)): step_cost += 1\n",
    "                child.g = current_node.g + step_cost\n",
    "                child.h = manhattan_distance(child.position, end_node.position)\n",
    "                child.f = child.g + child.h\n",
    "                print(\"child has f(n):\",child.f,\"g(n):\",child.g,\"h(n):\",child.h)\n",
    "\n",
    "                for open_node in open_list:\n",
    "                    if child == open_node and child.g > open_node.g:\n",
    "                        continue\n",
    "\n",
    "                open_list.append(child)\n",
    "                print(\"since this child\",child.position\n",
    "                      ,\"has best g value out of existing open list nodes adding it to open_list/to_be_searched list\" \n",
    "                      ,[ {\"cell\":e.position,\"cost\":e.f} for e in open_list])\n",
    "        print(\"-\"*10)\n",
    "\n",
    "    return 'not able to find path'"
   ]
  },
  {
   "cell_type": "markdown",
   "metadata": {},
   "source": [
    "Interpretation of the findings & Heuristics:\n",
    "\n",
    "g(n) is the actual cost of the path from the start node to the current node. It is calculated by adding the distance from the start node to the parent node and the distance from the parent node to the current node.\n",
    "\n",
    "h(n) is the estimated cost of the path from the current node to the goal node. It is calculated by using a heuristic function that approximates the distance based on some criteria, such as Euclidean distance, Manhattan distance, etc.\n",
    "\n",
    "f(n) is the total cost of the path from the start node to the goal node through the current node. It is calculated by adding g(n) and h(n)."
   ]
  },
  {
   "cell_type": "markdown",
   "metadata": {
    "id": "KnbdDl6HF7sO"
   },
   "source": [
    "### 3.\tDefinition of Algorithm 2 (Random-restart hill climbing)"
   ]
  },
  {
   "cell_type": "code",
   "execution_count": 33,
   "metadata": {
    "id": "3HYh7-eJF7sP"
   },
   "outputs": [],
   "source": [
    "#Code Block : Function for algorithm 2 implementation\n",
    "from random import randint\n",
    "from queue import PriorityQueue\n",
    "\n",
    "hill_state_value = []\n",
    "goal_state = (6, 4)\n",
    "\n",
    "for row in range(len(maze)):\n",
    "    hill_state_value.append([])\n",
    "    for column in range(len(maze[row])):\n",
    "        hill_state_value[row].append(10 - manhattan_distance(goal_state, (row, column)))\n",
    "\n",
    "def HILL_CLIMBING(maze, initial_state, iter_limit=50):\n",
    "    current_state = initial_state\n",
    "    walked_path = [current_state]\n",
    "    variable_cost = 0\n",
    "    while iter_limit != 0:\n",
    "        cell = maze[current_state[0]][current_state[1]]\n",
    "        neighbors = PriorityQueue()\n",
    "        for to_new_position in [LEFT, RIGHT, UP, DOWN]:\n",
    "            neighbor_position = current_state[0] + to_new_position[0], current_state[1] + to_new_position[1]\n",
    "            print(\"checking neighbor:\",neighbor_position)\n",
    "            if (does_not_cross_maze_border_from(maze,neighbor_position)):\n",
    "                if can_walk_from_current(cell, to_new_position) and not fire_at(cell) and neighbor_position not in walked_path:\n",
    "                    neighbors.put_nowait((-hill_state_value[neighbor_position[0]][neighbor_position[1]], neighbor_position))\n",
    "                    print(\"neighbor \",neighbor_position,\" is reachable so adding to neighbor list\")\n",
    "        if (neighbors.empty()): \n",
    "            print('no reachable neighbors have been found so returning failure')\n",
    "            return None, None, None\n",
    "        best_neighbor_value, best_neighbor_state = neighbors.get_nowait()\n",
    "        best_cell = maze[best_neighbor_state[0]][best_neighbor_state[1]]\n",
    "        print(\"picked neighbor cell\",best_neighbor_state,'since it is closer to goal')\n",
    "        variable_cost += 3\n",
    "        if (fire_at(best_cell)): \n",
    "            print('encountered FIRE')\n",
    "            variable_cost += 5\n",
    "        if (bush_in(best_cell)): \n",
    "            print('encountered BUSH')\n",
    "            variable_cost += 1\n",
    "        walked_path += [best_neighbor_state]\n",
    "        print('path walked so far',walked_path,'with cost',variable_cost)\n",
    "        if (-best_neighbor_value <= hill_state_value[current_state[0]][current_state[1]]) or best_neighbor_state == goal_state:\n",
    "            return best_neighbor_state, walked_path, variable_cost\n",
    "        current_state = best_neighbor_state\n",
    "        iter_limit -= 1\n",
    "\n",
    "\n",
    "def RANDOM_RESTART_HILL_CLIMBING(maze, goal_state, iter_limit=50):\n",
    "    searched_states = set()\n",
    "    if (len(maze) > 0):\n",
    "        vertical_length = len(maze[0]) - 1\n",
    "        horizontal_length = len(maze) - 1\n",
    "        while iter_limit != 0:\n",
    "            random_initial_state = randint(0, horizontal_length), randint(0, vertical_length)\n",
    "            while True:\n",
    "                if (not random_initial_state in searched_states and \n",
    "                    not fire_at(maze[random_initial_state[0]][random_initial_state[1]])):\n",
    "                    searched_states.add(random_initial_state)\n",
    "                    break\n",
    "                random_initial_state = randint(0, horizontal_length), randint(0, vertical_length)\n",
    "            print('-'*10)\n",
    "            print('selected random_initial_state:',random_initial_state)\n",
    "            final_state, walked_path, final_cost = HILL_CLIMBING(maze, random_initial_state)\n",
    "            if final_state == goal_state:\n",
    "                print('found global maxima!')\n",
    "                return {'path_taken':'->'.join([str(e) for e in walked_path]), 'total_cost':final_cost}\n",
    "            else: print('got stuck at local maxima')\n",
    "            iter_limit -= 1\n",
    "            \n",
    "    return 'not able to find path'"
   ]
  },
  {
   "cell_type": "markdown",
   "metadata": {
    "id": "LEV2XHccF7sP"
   },
   "source": [
    "### DYNAMIC INPUT"
   ]
  },
  {
   "cell_type": "markdown",
   "metadata": {
    "id": "CylYRo_DF7sP"
   },
   "source": [
    "IMPORTANT : Dynamic Input must be got in this section. Display the possible states to choose from:\n",
    "This is applicable for all the relevent problems as mentioned in the question."
   ]
  },
  {
   "cell_type": "markdown",
   "metadata": {},
   "source": [
    " (0, 0), (0, 1), (0, 2), (0, 3), (0, 4), (0, 5),\n",
    "\n",
    " (1, 0), (1, 1), (1, 2), (1, 3), (1, 4), (1, 5),\n",
    "\n",
    " (2, 0), (2, 1), (2, 2), (2, 3), (2, 4), (2, 5),\n",
    " \n",
    " (3, 0), (3, 1), (3, 2), (3, 3), (3, 4), (3, 5),\n",
    " \n",
    " (4, 0), (4, 1), (4, 2), (4, 3), (4, 4), (4, 5),\n",
    " \n",
    " (5, 0), (5, 1), (5, 2), (5, 3), (5, 4), (5, 5),\n",
    " \n",
    " (6, 0), (6, 1), (6, 2), (6, 3), (6, 4), (6, 5)"
   ]
  },
  {
   "cell_type": "code",
   "execution_count": 53,
   "metadata": {},
   "outputs": [
    {
     "data": {
      "text/plain": [
       "[[0, 1, 2, 3, 4, 3],\n",
       " [1, 2, 3, 4, 5, 4],\n",
       " [2, 3, 4, 5, 6, 5],\n",
       " [3, 4, 5, 6, 7, 6],\n",
       " [4, 5, 6, 7, 8, 7],\n",
       " [5, 6, 7, 8, 9, 8],\n",
       " [6, 7, 8, 9, 10, 9]]"
      ]
     },
     "execution_count": 53,
     "metadata": {},
     "output_type": "execute_result"
    }
   ],
   "source": [
    "hill_state_value"
   ]
  },
  {
   "cell_type": "markdown",
   "metadata": {},
   "source": [
    "Interpretation: \n",
    "\n",
    "Cost function for Random Restart Hill Climbing is calculated by subtracting the Manhattan distance of each node to the goal from a numerical constant (here it was 10 but can be any) where the highest peak is the goal. the 3D graph of this hill_state_value forms a hill (its diagran is attached in document)"
   ]
  },
  {
   "cell_type": "code",
   "execution_count": 8,
   "metadata": {
    "id": "Q5t1Lc-wF7sP"
   },
   "outputs": [],
   "source": [
    "#Code Block : Function & call to get inputs (start/end state)\n",
    "start = (0, 2)\n",
    "goal = (6, 4)"
   ]
  },
  {
   "cell_type": "markdown",
   "metadata": {
    "id": "xsfOP81lF7sP"
   },
   "source": [
    "### 4.\tCalling the search algorithms\n",
    "(For bidirectional search in below sections first part can be used as per Hint provided. Under second section other combinations as per Hint or your choice of 2 algorithms can be called .As an analyst suggest suitable approximation in the comparitive analysis section)"
   ]
  },
  {
   "cell_type": "code",
   "execution_count": 36,
   "metadata": {
    "id": "Og5zI9thF7sP",
    "scrolled": false
   },
   "outputs": [
    {
     "name": "stdout",
     "output_type": "stream",
     "text": [
      "visited this node: (0, 2) as it has least cost 0 and added it to closed list:[ [{'cell': (0, 2), 'cost': 0}] ]\n",
      "checking neighbor: (0, 1)\n",
      "neighbor  (0, 1)  is reachable so adding to children list\n",
      "checking neighbor: (0, 3)\n",
      "checking neighbor: (-1, 2)\n",
      "checking neighbor: (1, 2)\n",
      "neighbor  (1, 2)  is reachable so adding to children list\n",
      "child (0, 1) is not visited before so checking it\n",
      "child has f(n): 12 g(n): 3 h(n): 9\n",
      "since this child (0, 1) has best g value out of existing open list nodes adding it to open_list/to_be_searched list [{'cell': (0, 1), 'cost': 12}]\n",
      "child (1, 2) is not visited before so checking it\n",
      "child has f(n): 10 g(n): 3 h(n): 7\n",
      "since this child (1, 2) has best g value out of existing open list nodes adding it to open_list/to_be_searched list [{'cell': (0, 1), 'cost': 12}, {'cell': (1, 2), 'cost': 10}]\n",
      "----------\n",
      "visited this node: (1, 2) as it has least cost 10 and added it to closed list:[ [{'cell': (0, 2), 'cost': 0}, {'cell': (1, 2), 'cost': 10}] ]\n",
      "checking neighbor: (1, 1)\n",
      "checking neighbor: (1, 3)\n",
      "neighbor  (1, 3)  is reachable so adding to children list\n",
      "checking neighbor: (0, 2)\n",
      "neighbor  (0, 2)  is reachable so adding to children list\n",
      "checking neighbor: (2, 2)\n",
      "neighbor  (2, 2)  is reachable so adding to children list\n",
      "child (1, 3) is not visited before so checking it\n",
      "child has f(n): 12 g(n): 6 h(n): 6\n",
      "since this child (1, 3) has best g value out of existing open list nodes adding it to open_list/to_be_searched list [{'cell': (0, 1), 'cost': 12}, {'cell': (1, 3), 'cost': 12}]\n",
      "child (2, 2) is not visited before so checking it\n",
      "child has f(n): 12 g(n): 6 h(n): 6\n",
      "since this child (2, 2) has best g value out of existing open list nodes adding it to open_list/to_be_searched list [{'cell': (0, 1), 'cost': 12}, {'cell': (1, 3), 'cost': 12}, {'cell': (2, 2), 'cost': 12}]\n",
      "----------\n",
      "visited this node: (0, 1) as it has least cost 12 and added it to closed list:[ [{'cell': (0, 2), 'cost': 0}, {'cell': (1, 2), 'cost': 10}, {'cell': (0, 1), 'cost': 12}] ]\n",
      "checking neighbor: (0, 0)\n",
      "neighbor  (0, 0)  is reachable so adding to children list\n",
      "checking neighbor: (0, 2)\n",
      "neighbor  (0, 2)  is reachable so adding to children list\n",
      "checking neighbor: (-1, 1)\n",
      "checking neighbor: (1, 1)\n",
      "child (0, 0) is not visited before so checking it\n",
      "child has f(n): 17 g(n): 7 h(n): 10\n",
      "since this child (0, 0) has best g value out of existing open list nodes adding it to open_list/to_be_searched list [{'cell': (1, 3), 'cost': 12}, {'cell': (2, 2), 'cost': 12}, {'cell': (0, 0), 'cost': 17}]\n",
      "----------\n",
      "visited this node: (1, 3) as it has least cost 12 and added it to closed list:[ [{'cell': (0, 2), 'cost': 0}, {'cell': (1, 2), 'cost': 10}, {'cell': (0, 1), 'cost': 12}, {'cell': (1, 3), 'cost': 12}] ]\n",
      "checking neighbor: (1, 2)\n",
      "neighbor  (1, 2)  is reachable so adding to children list\n",
      "checking neighbor: (1, 4)\n",
      "neighbor  (1, 4)  is reachable so adding to children list\n",
      "checking neighbor: (0, 3)\n",
      "checking neighbor: (2, 3)\n",
      "child (1, 4) is not visited before so checking it\n",
      "child has f(n): 15 g(n): 10 h(n): 5\n",
      "since this child (1, 4) has best g value out of existing open list nodes adding it to open_list/to_be_searched list [{'cell': (2, 2), 'cost': 12}, {'cell': (0, 0), 'cost': 17}, {'cell': (1, 4), 'cost': 15}]\n",
      "----------\n",
      "visited this node: (2, 2) as it has least cost 12 and added it to closed list:[ [{'cell': (0, 2), 'cost': 0}, {'cell': (1, 2), 'cost': 10}, {'cell': (0, 1), 'cost': 12}, {'cell': (1, 3), 'cost': 12}, {'cell': (2, 2), 'cost': 12}] ]\n",
      "checking neighbor: (2, 1)\n",
      "neighbor  (2, 1)  is reachable so adding to children list\n",
      "checking neighbor: (2, 3)\n",
      "checking neighbor: (1, 2)\n",
      "neighbor  (1, 2)  is reachable so adding to children list\n",
      "checking neighbor: (3, 2)\n",
      "neighbor  (3, 2)  is reachable so adding to children list\n",
      "child (2, 1) is not visited before so checking it\n",
      "child has f(n): 16 g(n): 9 h(n): 7\n",
      "since this child (2, 1) has best g value out of existing open list nodes adding it to open_list/to_be_searched list [{'cell': (0, 0), 'cost': 17}, {'cell': (1, 4), 'cost': 15}, {'cell': (2, 1), 'cost': 16}]\n",
      "child (3, 2) is not visited before so checking it\n",
      "child has f(n): 14 g(n): 9 h(n): 5\n",
      "since this child (3, 2) has best g value out of existing open list nodes adding it to open_list/to_be_searched list [{'cell': (0, 0), 'cost': 17}, {'cell': (1, 4), 'cost': 15}, {'cell': (2, 1), 'cost': 16}, {'cell': (3, 2), 'cost': 14}]\n",
      "----------\n",
      "visited this node: (3, 2) as it has least cost 14 and added it to closed list:[ [{'cell': (0, 2), 'cost': 0}, {'cell': (1, 2), 'cost': 10}, {'cell': (0, 1), 'cost': 12}, {'cell': (1, 3), 'cost': 12}, {'cell': (2, 2), 'cost': 12}, {'cell': (3, 2), 'cost': 14}] ]\n",
      "checking neighbor: (3, 1)\n",
      "checking neighbor: (3, 3)\n",
      "checking neighbor: (2, 2)\n",
      "neighbor  (2, 2)  is reachable so adding to children list\n",
      "checking neighbor: (4, 2)\n",
      "neighbor  (4, 2)  is reachable so adding to children list\n",
      "child (4, 2) is not visited before so checking it\n",
      "child has f(n): 16 g(n): 12 h(n): 4\n",
      "since this child (4, 2) has best g value out of existing open list nodes adding it to open_list/to_be_searched list [{'cell': (0, 0), 'cost': 17}, {'cell': (1, 4), 'cost': 15}, {'cell': (2, 1), 'cost': 16}, {'cell': (4, 2), 'cost': 16}]\n",
      "----------\n",
      "visited this node: (1, 4) as it has least cost 15 and added it to closed list:[ [{'cell': (0, 2), 'cost': 0}, {'cell': (1, 2), 'cost': 10}, {'cell': (0, 1), 'cost': 12}, {'cell': (1, 3), 'cost': 12}, {'cell': (2, 2), 'cost': 12}, {'cell': (3, 2), 'cost': 14}, {'cell': (1, 4), 'cost': 15}] ]\n",
      "checking neighbor: (1, 3)\n",
      "neighbor  (1, 3)  is reachable so adding to children list\n",
      "checking neighbor: (1, 5)\n",
      "checking neighbor: (0, 4)\n",
      "checking neighbor: (2, 4)\n",
      "neighbor  (2, 4)  is reachable so adding to children list\n",
      "child (2, 4) is not visited before so checking it\n",
      "child has f(n): 17 g(n): 13 h(n): 4\n",
      "since this child (2, 4) has best g value out of existing open list nodes adding it to open_list/to_be_searched list [{'cell': (0, 0), 'cost': 17}, {'cell': (2, 1), 'cost': 16}, {'cell': (4, 2), 'cost': 16}, {'cell': (2, 4), 'cost': 17}]\n",
      "----------\n",
      "visited this node: (2, 1) as it has least cost 16 and added it to closed list:[ [{'cell': (0, 2), 'cost': 0}, {'cell': (1, 2), 'cost': 10}, {'cell': (0, 1), 'cost': 12}, {'cell': (1, 3), 'cost': 12}, {'cell': (2, 2), 'cost': 12}, {'cell': (3, 2), 'cost': 14}, {'cell': (1, 4), 'cost': 15}, {'cell': (2, 1), 'cost': 16}] ]\n",
      "checking neighbor: (2, 0)\n",
      "checking neighbor: (2, 2)\n",
      "neighbor  (2, 2)  is reachable so adding to children list\n",
      "checking neighbor: (1, 1)\n",
      "neighbor  (1, 1)  is reachable so adding to children list\n",
      "checking neighbor: (3, 1)\n",
      "child (1, 1) is not visited before so checking it\n",
      "child has f(n): 20 g(n): 12 h(n): 8\n",
      "since this child (1, 1) has best g value out of existing open list nodes adding it to open_list/to_be_searched list [{'cell': (0, 0), 'cost': 17}, {'cell': (4, 2), 'cost': 16}, {'cell': (2, 4), 'cost': 17}, {'cell': (1, 1), 'cost': 20}]\n",
      "----------\n",
      "visited this node: (4, 2) as it has least cost 16 and added it to closed list:[ [{'cell': (0, 2), 'cost': 0}, {'cell': (1, 2), 'cost': 10}, {'cell': (0, 1), 'cost': 12}, {'cell': (1, 3), 'cost': 12}, {'cell': (2, 2), 'cost': 12}, {'cell': (3, 2), 'cost': 14}, {'cell': (1, 4), 'cost': 15}, {'cell': (2, 1), 'cost': 16}, {'cell': (4, 2), 'cost': 16}] ]\n",
      "checking neighbor: (4, 1)\n",
      "neighbor  (4, 1)  is reachable so adding to children list\n",
      "checking neighbor: (4, 3)\n",
      "neighbor  (4, 3)  is reachable so adding to children list\n",
      "checking neighbor: (3, 2)\n",
      "neighbor  (3, 2)  is reachable so adding to children list\n",
      "checking neighbor: (5, 2)\n",
      "child (4, 1) is not visited before so checking it\n",
      "child has f(n): 21 g(n): 16 h(n): 5\n",
      "since this child (4, 1) has best g value out of existing open list nodes adding it to open_list/to_be_searched list [{'cell': (0, 0), 'cost': 17}, {'cell': (2, 4), 'cost': 17}, {'cell': (1, 1), 'cost': 20}, {'cell': (4, 1), 'cost': 21}]\n",
      "child (4, 3) is not visited before so checking it\n",
      "child has f(n): 18 g(n): 15 h(n): 3\n",
      "since this child (4, 3) has best g value out of existing open list nodes adding it to open_list/to_be_searched list [{'cell': (0, 0), 'cost': 17}, {'cell': (2, 4), 'cost': 17}, {'cell': (1, 1), 'cost': 20}, {'cell': (4, 1), 'cost': 21}, {'cell': (4, 3), 'cost': 18}]\n",
      "----------\n",
      "visited this node: (0, 0) as it has least cost 17 and added it to closed list:[ [{'cell': (0, 2), 'cost': 0}, {'cell': (1, 2), 'cost': 10}, {'cell': (0, 1), 'cost': 12}, {'cell': (1, 3), 'cost': 12}, {'cell': (2, 2), 'cost': 12}, {'cell': (3, 2), 'cost': 14}, {'cell': (1, 4), 'cost': 15}, {'cell': (2, 1), 'cost': 16}, {'cell': (4, 2), 'cost': 16}, {'cell': (0, 0), 'cost': 17}] ]\n",
      "checking neighbor: (0, -1)\n",
      "checking neighbor: (0, 1)\n",
      "neighbor  (0, 1)  is reachable so adding to children list\n",
      "checking neighbor: (-1, 0)\n",
      "checking neighbor: (1, 0)\n",
      "neighbor  (1, 0)  is reachable so adding to children list\n",
      "child (1, 0) is not visited before so checking it\n",
      "child has f(n): 19 g(n): 10 h(n): 9\n",
      "since this child (1, 0) has best g value out of existing open list nodes adding it to open_list/to_be_searched list [{'cell': (2, 4), 'cost': 17}, {'cell': (1, 1), 'cost': 20}, {'cell': (4, 1), 'cost': 21}, {'cell': (4, 3), 'cost': 18}, {'cell': (1, 0), 'cost': 19}]\n",
      "----------\n",
      "visited this node: (2, 4) as it has least cost 17 and added it to closed list:[ [{'cell': (0, 2), 'cost': 0}, {'cell': (1, 2), 'cost': 10}, {'cell': (0, 1), 'cost': 12}, {'cell': (1, 3), 'cost': 12}, {'cell': (2, 2), 'cost': 12}, {'cell': (3, 2), 'cost': 14}, {'cell': (1, 4), 'cost': 15}, {'cell': (2, 1), 'cost': 16}, {'cell': (4, 2), 'cost': 16}, {'cell': (0, 0), 'cost': 17}, {'cell': (2, 4), 'cost': 17}] ]\n",
      "checking neighbor: (2, 3)\n",
      "neighbor  (2, 3)  is reachable so adding to children list\n",
      "checking neighbor: (2, 5)\n",
      "neighbor  (2, 5)  is reachable so adding to children list\n",
      "checking neighbor: (1, 4)\n",
      "neighbor  (1, 4)  is reachable so adding to children list\n",
      "checking neighbor: (3, 4)\n",
      "child (2, 3) is not visited before so checking it\n",
      "child has f(n): 26 g(n): 21 h(n): 5\n",
      "since this child (2, 3) has best g value out of existing open list nodes adding it to open_list/to_be_searched list [{'cell': (1, 1), 'cost': 20}, {'cell': (4, 1), 'cost': 21}, {'cell': (4, 3), 'cost': 18}, {'cell': (1, 0), 'cost': 19}, {'cell': (2, 3), 'cost': 26}]\n",
      "child (2, 5) is not visited before so checking it\n",
      "child has f(n): 21 g(n): 16 h(n): 5\n",
      "since this child (2, 5) has best g value out of existing open list nodes adding it to open_list/to_be_searched list [{'cell': (1, 1), 'cost': 20}, {'cell': (4, 1), 'cost': 21}, {'cell': (4, 3), 'cost': 18}, {'cell': (1, 0), 'cost': 19}, {'cell': (2, 3), 'cost': 26}, {'cell': (2, 5), 'cost': 21}]\n",
      "----------\n",
      "visited this node: (4, 3) as it has least cost 18 and added it to closed list:[ [{'cell': (0, 2), 'cost': 0}, {'cell': (1, 2), 'cost': 10}, {'cell': (0, 1), 'cost': 12}, {'cell': (1, 3), 'cost': 12}, {'cell': (2, 2), 'cost': 12}, {'cell': (3, 2), 'cost': 14}, {'cell': (1, 4), 'cost': 15}, {'cell': (2, 1), 'cost': 16}, {'cell': (4, 2), 'cost': 16}, {'cell': (0, 0), 'cost': 17}, {'cell': (2, 4), 'cost': 17}, {'cell': (4, 3), 'cost': 18}] ]\n",
      "checking neighbor: (4, 2)\n",
      "neighbor  (4, 2)  is reachable so adding to children list\n",
      "checking neighbor: (4, 4)\n",
      "neighbor  (4, 4)  is reachable so adding to children list\n",
      "checking neighbor: (3, 3)\n",
      "neighbor  (3, 3)  is reachable so adding to children list\n",
      "checking neighbor: (5, 3)\n",
      "child (4, 4) is not visited before so checking it\n",
      "child has f(n): 20 g(n): 18 h(n): 2\n",
      "since this child (4, 4) has best g value out of existing open list nodes adding it to open_list/to_be_searched list [{'cell': (1, 1), 'cost': 20}, {'cell': (4, 1), 'cost': 21}, {'cell': (1, 0), 'cost': 19}, {'cell': (2, 3), 'cost': 26}, {'cell': (2, 5), 'cost': 21}, {'cell': (4, 4), 'cost': 20}]\n",
      "child (3, 3) is not visited before so checking it\n",
      "child has f(n): 22 g(n): 18 h(n): 4\n",
      "since this child (3, 3) has best g value out of existing open list nodes adding it to open_list/to_be_searched list [{'cell': (1, 1), 'cost': 20}, {'cell': (4, 1), 'cost': 21}, {'cell': (1, 0), 'cost': 19}, {'cell': (2, 3), 'cost': 26}, {'cell': (2, 5), 'cost': 21}, {'cell': (4, 4), 'cost': 20}, {'cell': (3, 3), 'cost': 22}]\n",
      "----------\n",
      "visited this node: (1, 0) as it has least cost 19 and added it to closed list:[ [{'cell': (0, 2), 'cost': 0}, {'cell': (1, 2), 'cost': 10}, {'cell': (0, 1), 'cost': 12}, {'cell': (1, 3), 'cost': 12}, {'cell': (2, 2), 'cost': 12}, {'cell': (3, 2), 'cost': 14}, {'cell': (1, 4), 'cost': 15}, {'cell': (2, 1), 'cost': 16}, {'cell': (4, 2), 'cost': 16}, {'cell': (0, 0), 'cost': 17}, {'cell': (2, 4), 'cost': 17}, {'cell': (4, 3), 'cost': 18}, {'cell': (1, 0), 'cost': 19}] ]\n",
      "checking neighbor: (1, -1)\n",
      "checking neighbor: (1, 1)\n",
      "checking neighbor: (0, 0)\n",
      "neighbor  (0, 0)  is reachable so adding to children list\n",
      "checking neighbor: (2, 0)\n",
      "neighbor  (2, 0)  is reachable so adding to children list\n",
      "child (2, 0) is not visited before so checking it\n",
      "child has f(n): 21 g(n): 13 h(n): 8\n",
      "since this child (2, 0) has best g value out of existing open list nodes adding it to open_list/to_be_searched list [{'cell': (1, 1), 'cost': 20}, {'cell': (4, 1), 'cost': 21}, {'cell': (2, 3), 'cost': 26}, {'cell': (2, 5), 'cost': 21}, {'cell': (4, 4), 'cost': 20}, {'cell': (3, 3), 'cost': 22}, {'cell': (2, 0), 'cost': 21}]\n",
      "----------\n",
      "visited this node: (1, 1) as it has least cost 20 and added it to closed list:[ [{'cell': (0, 2), 'cost': 0}, {'cell': (1, 2), 'cost': 10}, {'cell': (0, 1), 'cost': 12}, {'cell': (1, 3), 'cost': 12}, {'cell': (2, 2), 'cost': 12}, {'cell': (3, 2), 'cost': 14}, {'cell': (1, 4), 'cost': 15}, {'cell': (2, 1), 'cost': 16}, {'cell': (4, 2), 'cost': 16}, {'cell': (0, 0), 'cost': 17}, {'cell': (2, 4), 'cost': 17}, {'cell': (4, 3), 'cost': 18}, {'cell': (1, 0), 'cost': 19}, {'cell': (1, 1), 'cost': 20}] ]\n",
      "checking neighbor: (1, 0)\n",
      "checking neighbor: (1, 2)\n",
      "checking neighbor: (0, 1)\n",
      "checking neighbor: (2, 1)\n",
      "neighbor  (2, 1)  is reachable so adding to children list\n",
      "----------\n",
      "visited this node: (4, 4) as it has least cost 20 and added it to closed list:[ [{'cell': (0, 2), 'cost': 0}, {'cell': (1, 2), 'cost': 10}, {'cell': (0, 1), 'cost': 12}, {'cell': (1, 3), 'cost': 12}, {'cell': (2, 2), 'cost': 12}, {'cell': (3, 2), 'cost': 14}, {'cell': (1, 4), 'cost': 15}, {'cell': (2, 1), 'cost': 16}, {'cell': (4, 2), 'cost': 16}, {'cell': (0, 0), 'cost': 17}, {'cell': (2, 4), 'cost': 17}, {'cell': (4, 3), 'cost': 18}, {'cell': (1, 0), 'cost': 19}, {'cell': (1, 1), 'cost': 20}, {'cell': (4, 4), 'cost': 20}] ]\n",
      "checking neighbor: (4, 3)\n",
      "neighbor  (4, 3)  is reachable so adding to children list\n",
      "checking neighbor: (4, 5)\n",
      "neighbor  (4, 5)  is reachable so adding to children list\n",
      "checking neighbor: (3, 4)\n",
      "checking neighbor: (5, 4)\n",
      "neighbor  (5, 4)  is reachable so adding to children list\n",
      "child (4, 5) is not visited before so checking it\n",
      "child has f(n): 25 g(n): 22 h(n): 3\n",
      "since this child (4, 5) has best g value out of existing open list nodes adding it to open_list/to_be_searched list [{'cell': (4, 1), 'cost': 21}, {'cell': (2, 3), 'cost': 26}, {'cell': (2, 5), 'cost': 21}, {'cell': (3, 3), 'cost': 22}, {'cell': (2, 0), 'cost': 21}, {'cell': (4, 5), 'cost': 25}]\n",
      "child (5, 4) is not visited before so checking it\n",
      "child has f(n): 22 g(n): 21 h(n): 1\n",
      "since this child (5, 4) has best g value out of existing open list nodes adding it to open_list/to_be_searched list [{'cell': (4, 1), 'cost': 21}, {'cell': (2, 3), 'cost': 26}, {'cell': (2, 5), 'cost': 21}, {'cell': (3, 3), 'cost': 22}, {'cell': (2, 0), 'cost': 21}, {'cell': (4, 5), 'cost': 25}, {'cell': (5, 4), 'cost': 22}]\n",
      "----------\n",
      "visited this node: (4, 1) as it has least cost 21 and added it to closed list:[ [{'cell': (0, 2), 'cost': 0}, {'cell': (1, 2), 'cost': 10}, {'cell': (0, 1), 'cost': 12}, {'cell': (1, 3), 'cost': 12}, {'cell': (2, 2), 'cost': 12}, {'cell': (3, 2), 'cost': 14}, {'cell': (1, 4), 'cost': 15}, {'cell': (2, 1), 'cost': 16}, {'cell': (4, 2), 'cost': 16}, {'cell': (0, 0), 'cost': 17}, {'cell': (2, 4), 'cost': 17}, {'cell': (4, 3), 'cost': 18}, {'cell': (1, 0), 'cost': 19}, {'cell': (1, 1), 'cost': 20}, {'cell': (4, 4), 'cost': 20}, {'cell': (4, 1), 'cost': 21}] ]\n",
      "checking neighbor: (4, 0)\n",
      "checking neighbor: (4, 2)\n",
      "neighbor  (4, 2)  is reachable so adding to children list\n",
      "checking neighbor: (3, 1)\n",
      "checking neighbor: (5, 1)\n",
      "neighbor  (5, 1)  is reachable so adding to children list\n",
      "child (5, 1) is not visited before so checking it\n",
      "child has f(n): 23 g(n): 19 h(n): 4\n",
      "since this child (5, 1) has best g value out of existing open list nodes adding it to open_list/to_be_searched list [{'cell': (2, 3), 'cost': 26}, {'cell': (2, 5), 'cost': 21}, {'cell': (3, 3), 'cost': 22}, {'cell': (2, 0), 'cost': 21}, {'cell': (4, 5), 'cost': 25}, {'cell': (5, 4), 'cost': 22}, {'cell': (5, 1), 'cost': 23}]\n",
      "----------\n",
      "visited this node: (2, 5) as it has least cost 21 and added it to closed list:[ [{'cell': (0, 2), 'cost': 0}, {'cell': (1, 2), 'cost': 10}, {'cell': (0, 1), 'cost': 12}, {'cell': (1, 3), 'cost': 12}, {'cell': (2, 2), 'cost': 12}, {'cell': (3, 2), 'cost': 14}, {'cell': (1, 4), 'cost': 15}, {'cell': (2, 1), 'cost': 16}, {'cell': (4, 2), 'cost': 16}, {'cell': (0, 0), 'cost': 17}, {'cell': (2, 4), 'cost': 17}, {'cell': (4, 3), 'cost': 18}, {'cell': (1, 0), 'cost': 19}, {'cell': (1, 1), 'cost': 20}, {'cell': (4, 4), 'cost': 20}, {'cell': (4, 1), 'cost': 21}, {'cell': (2, 5), 'cost': 21}] ]\n",
      "checking neighbor: (2, 4)\n",
      "neighbor  (2, 4)  is reachable so adding to children list\n",
      "checking neighbor: (2, 6)\n",
      "checking neighbor: (1, 5)\n",
      "neighbor  (1, 5)  is reachable so adding to children list\n",
      "checking neighbor: (3, 5)\n",
      "neighbor  (3, 5)  is reachable so adding to children list\n",
      "child (1, 5) is not visited before so checking it\n",
      "child has f(n): 25 g(n): 19 h(n): 6\n",
      "since this child (1, 5) has best g value out of existing open list nodes adding it to open_list/to_be_searched list [{'cell': (2, 3), 'cost': 26}, {'cell': (3, 3), 'cost': 22}, {'cell': (2, 0), 'cost': 21}, {'cell': (4, 5), 'cost': 25}, {'cell': (5, 4), 'cost': 22}, {'cell': (5, 1), 'cost': 23}, {'cell': (1, 5), 'cost': 25}]\n",
      "child (3, 5) is not visited before so checking it\n",
      "child has f(n): 23 g(n): 19 h(n): 4\n",
      "since this child (3, 5) has best g value out of existing open list nodes adding it to open_list/to_be_searched list [{'cell': (2, 3), 'cost': 26}, {'cell': (3, 3), 'cost': 22}, {'cell': (2, 0), 'cost': 21}, {'cell': (4, 5), 'cost': 25}, {'cell': (5, 4), 'cost': 22}, {'cell': (5, 1), 'cost': 23}, {'cell': (1, 5), 'cost': 25}, {'cell': (3, 5), 'cost': 23}]\n",
      "----------\n",
      "visited this node: (2, 0) as it has least cost 21 and added it to closed list:[ [{'cell': (0, 2), 'cost': 0}, {'cell': (1, 2), 'cost': 10}, {'cell': (0, 1), 'cost': 12}, {'cell': (1, 3), 'cost': 12}, {'cell': (2, 2), 'cost': 12}, {'cell': (3, 2), 'cost': 14}, {'cell': (1, 4), 'cost': 15}, {'cell': (2, 1), 'cost': 16}, {'cell': (4, 2), 'cost': 16}, {'cell': (0, 0), 'cost': 17}, {'cell': (2, 4), 'cost': 17}, {'cell': (4, 3), 'cost': 18}, {'cell': (1, 0), 'cost': 19}, {'cell': (1, 1), 'cost': 20}, {'cell': (4, 4), 'cost': 20}, {'cell': (4, 1), 'cost': 21}, {'cell': (2, 5), 'cost': 21}, {'cell': (2, 0), 'cost': 21}] ]\n",
      "checking neighbor: (2, -1)\n",
      "checking neighbor: (2, 1)\n",
      "checking neighbor: (1, 0)\n",
      "neighbor  (1, 0)  is reachable so adding to children list\n",
      "checking neighbor: (3, 0)\n",
      "neighbor  (3, 0)  is reachable so adding to children list\n",
      "child (3, 0) is not visited before so checking it\n",
      "child has f(n): 23 g(n): 16 h(n): 7\n",
      "since this child (3, 0) has best g value out of existing open list nodes adding it to open_list/to_be_searched list [{'cell': (2, 3), 'cost': 26}, {'cell': (3, 3), 'cost': 22}, {'cell': (4, 5), 'cost': 25}, {'cell': (5, 4), 'cost': 22}, {'cell': (5, 1), 'cost': 23}, {'cell': (1, 5), 'cost': 25}, {'cell': (3, 5), 'cost': 23}, {'cell': (3, 0), 'cost': 23}]\n",
      "----------\n",
      "visited this node: (3, 3) as it has least cost 22 and added it to closed list:[ [{'cell': (0, 2), 'cost': 0}, {'cell': (1, 2), 'cost': 10}, {'cell': (0, 1), 'cost': 12}, {'cell': (1, 3), 'cost': 12}, {'cell': (2, 2), 'cost': 12}, {'cell': (3, 2), 'cost': 14}, {'cell': (1, 4), 'cost': 15}, {'cell': (2, 1), 'cost': 16}, {'cell': (4, 2), 'cost': 16}, {'cell': (0, 0), 'cost': 17}, {'cell': (2, 4), 'cost': 17}, {'cell': (4, 3), 'cost': 18}, {'cell': (1, 0), 'cost': 19}, {'cell': (1, 1), 'cost': 20}, {'cell': (4, 4), 'cost': 20}, {'cell': (4, 1), 'cost': 21}, {'cell': (2, 5), 'cost': 21}, {'cell': (2, 0), 'cost': 21}, {'cell': (3, 3), 'cost': 22}] ]\n",
      "checking neighbor: (3, 2)\n",
      "checking neighbor: (3, 4)\n",
      "neighbor  (3, 4)  is reachable so adding to children list\n",
      "checking neighbor: (2, 3)\n",
      "checking neighbor: (4, 3)\n",
      "neighbor  (4, 3)  is reachable so adding to children list\n",
      "child (3, 4) is not visited before so checking it\n",
      "child has f(n): 24 g(n): 21 h(n): 3\n",
      "since this child (3, 4) has best g value out of existing open list nodes adding it to open_list/to_be_searched list [{'cell': (2, 3), 'cost': 26}, {'cell': (4, 5), 'cost': 25}, {'cell': (5, 4), 'cost': 22}, {'cell': (5, 1), 'cost': 23}, {'cell': (1, 5), 'cost': 25}, {'cell': (3, 5), 'cost': 23}, {'cell': (3, 0), 'cost': 23}, {'cell': (3, 4), 'cost': 24}]\n",
      "----------\n",
      "visited this node: (5, 4) as it has least cost 22 and added it to closed list:[ [{'cell': (0, 2), 'cost': 0}, {'cell': (1, 2), 'cost': 10}, {'cell': (0, 1), 'cost': 12}, {'cell': (1, 3), 'cost': 12}, {'cell': (2, 2), 'cost': 12}, {'cell': (3, 2), 'cost': 14}, {'cell': (1, 4), 'cost': 15}, {'cell': (2, 1), 'cost': 16}, {'cell': (4, 2), 'cost': 16}, {'cell': (0, 0), 'cost': 17}, {'cell': (2, 4), 'cost': 17}, {'cell': (4, 3), 'cost': 18}, {'cell': (1, 0), 'cost': 19}, {'cell': (1, 1), 'cost': 20}, {'cell': (4, 4), 'cost': 20}, {'cell': (4, 1), 'cost': 21}, {'cell': (2, 5), 'cost': 21}, {'cell': (2, 0), 'cost': 21}, {'cell': (3, 3), 'cost': 22}, {'cell': (5, 4), 'cost': 22}] ]\n",
      "checking neighbor: (5, 3)\n",
      "checking neighbor: (5, 5)\n",
      "checking neighbor: (4, 4)\n",
      "neighbor  (4, 4)  is reachable so adding to children list\n",
      "checking neighbor: (6, 4)\n",
      "neighbor  (6, 4)  is reachable so adding to children list\n",
      "child (6, 4) is not visited before so checking it\n",
      "child has f(n): 24 g(n): 24 h(n): 0\n",
      "since this child (6, 4) has best g value out of existing open list nodes adding it to open_list/to_be_searched list [{'cell': (2, 3), 'cost': 26}, {'cell': (4, 5), 'cost': 25}, {'cell': (5, 1), 'cost': 23}, {'cell': (1, 5), 'cost': 25}, {'cell': (3, 5), 'cost': 23}, {'cell': (3, 0), 'cost': 23}, {'cell': (3, 4), 'cost': 24}, {'cell': (6, 4), 'cost': 24}]\n",
      "----------\n",
      "visited this node: (5, 1) as it has least cost 23 and added it to closed list:[ [{'cell': (0, 2), 'cost': 0}, {'cell': (1, 2), 'cost': 10}, {'cell': (0, 1), 'cost': 12}, {'cell': (1, 3), 'cost': 12}, {'cell': (2, 2), 'cost': 12}, {'cell': (3, 2), 'cost': 14}, {'cell': (1, 4), 'cost': 15}, {'cell': (2, 1), 'cost': 16}, {'cell': (4, 2), 'cost': 16}, {'cell': (0, 0), 'cost': 17}, {'cell': (2, 4), 'cost': 17}, {'cell': (4, 3), 'cost': 18}, {'cell': (1, 0), 'cost': 19}, {'cell': (1, 1), 'cost': 20}, {'cell': (4, 4), 'cost': 20}, {'cell': (4, 1), 'cost': 21}, {'cell': (2, 5), 'cost': 21}, {'cell': (2, 0), 'cost': 21}, {'cell': (3, 3), 'cost': 22}, {'cell': (5, 4), 'cost': 22}, {'cell': (5, 1), 'cost': 23}] ]\n",
      "checking neighbor: (5, 0)\n",
      "checking neighbor: (5, 2)\n",
      "neighbor  (5, 2)  is reachable so adding to children list\n",
      "checking neighbor: (4, 1)\n",
      "neighbor  (4, 1)  is reachable so adding to children list\n",
      "checking neighbor: (6, 1)\n",
      "neighbor  (6, 1)  is reachable so adding to children list\n",
      "child (5, 2) is not visited before so checking it\n",
      "child has f(n): 25 g(n): 22 h(n): 3\n",
      "since this child (5, 2) has best g value out of existing open list nodes adding it to open_list/to_be_searched list [{'cell': (2, 3), 'cost': 26}, {'cell': (4, 5), 'cost': 25}, {'cell': (1, 5), 'cost': 25}, {'cell': (3, 5), 'cost': 23}, {'cell': (3, 0), 'cost': 23}, {'cell': (3, 4), 'cost': 24}, {'cell': (6, 4), 'cost': 24}, {'cell': (5, 2), 'cost': 25}]\n",
      "child (6, 1) is not visited before so checking it\n",
      "child has f(n): 25 g(n): 22 h(n): 3\n",
      "since this child (6, 1) has best g value out of existing open list nodes adding it to open_list/to_be_searched list [{'cell': (2, 3), 'cost': 26}, {'cell': (4, 5), 'cost': 25}, {'cell': (1, 5), 'cost': 25}, {'cell': (3, 5), 'cost': 23}, {'cell': (3, 0), 'cost': 23}, {'cell': (3, 4), 'cost': 24}, {'cell': (6, 4), 'cost': 24}, {'cell': (5, 2), 'cost': 25}, {'cell': (6, 1), 'cost': 25}]\n",
      "----------\n",
      "visited this node: (3, 5) as it has least cost 23 and added it to closed list:[ [{'cell': (0, 2), 'cost': 0}, {'cell': (1, 2), 'cost': 10}, {'cell': (0, 1), 'cost': 12}, {'cell': (1, 3), 'cost': 12}, {'cell': (2, 2), 'cost': 12}, {'cell': (3, 2), 'cost': 14}, {'cell': (1, 4), 'cost': 15}, {'cell': (2, 1), 'cost': 16}, {'cell': (4, 2), 'cost': 16}, {'cell': (0, 0), 'cost': 17}, {'cell': (2, 4), 'cost': 17}, {'cell': (4, 3), 'cost': 18}, {'cell': (1, 0), 'cost': 19}, {'cell': (1, 1), 'cost': 20}, {'cell': (4, 4), 'cost': 20}, {'cell': (4, 1), 'cost': 21}, {'cell': (2, 5), 'cost': 21}, {'cell': (2, 0), 'cost': 21}, {'cell': (3, 3), 'cost': 22}, {'cell': (5, 4), 'cost': 22}, {'cell': (5, 1), 'cost': 23}, {'cell': (3, 5), 'cost': 23}] ]\n",
      "checking neighbor: (3, 4)\n",
      "neighbor  (3, 4)  is reachable so adding to children list\n",
      "checking neighbor: (3, 6)\n",
      "checking neighbor: (2, 5)\n",
      "neighbor  (2, 5)  is reachable so adding to children list\n",
      "checking neighbor: (4, 5)\n",
      "child (3, 4) is not visited before so checking it\n",
      "child has f(n): 25 g(n): 22 h(n): 3\n",
      "since this child (3, 4) has best g value out of existing open list nodes adding it to open_list/to_be_searched list [{'cell': (2, 3), 'cost': 26}, {'cell': (4, 5), 'cost': 25}, {'cell': (1, 5), 'cost': 25}, {'cell': (3, 0), 'cost': 23}, {'cell': (3, 4), 'cost': 24}, {'cell': (6, 4), 'cost': 24}, {'cell': (5, 2), 'cost': 25}, {'cell': (6, 1), 'cost': 25}, {'cell': (3, 4), 'cost': 25}]\n",
      "----------\n",
      "visited this node: (3, 0) as it has least cost 23 and added it to closed list:[ [{'cell': (0, 2), 'cost': 0}, {'cell': (1, 2), 'cost': 10}, {'cell': (0, 1), 'cost': 12}, {'cell': (1, 3), 'cost': 12}, {'cell': (2, 2), 'cost': 12}, {'cell': (3, 2), 'cost': 14}, {'cell': (1, 4), 'cost': 15}, {'cell': (2, 1), 'cost': 16}, {'cell': (4, 2), 'cost': 16}, {'cell': (0, 0), 'cost': 17}, {'cell': (2, 4), 'cost': 17}, {'cell': (4, 3), 'cost': 18}, {'cell': (1, 0), 'cost': 19}, {'cell': (1, 1), 'cost': 20}, {'cell': (4, 4), 'cost': 20}, {'cell': (4, 1), 'cost': 21}, {'cell': (2, 5), 'cost': 21}, {'cell': (2, 0), 'cost': 21}, {'cell': (3, 3), 'cost': 22}, {'cell': (5, 4), 'cost': 22}, {'cell': (5, 1), 'cost': 23}, {'cell': (3, 5), 'cost': 23}, {'cell': (3, 0), 'cost': 23}] ]\n",
      "checking neighbor: (3, -1)\n",
      "checking neighbor: (3, 1)\n",
      "neighbor  (3, 1)  is reachable so adding to children list\n",
      "checking neighbor: (2, 0)\n",
      "neighbor  (2, 0)  is reachable so adding to children list\n",
      "checking neighbor: (4, 0)\n",
      "neighbor  (4, 0)  is reachable so adding to children list\n",
      "child (3, 1) is not visited before so checking it\n",
      "child has f(n): 30 g(n): 24 h(n): 6\n",
      "since this child (3, 1) has best g value out of existing open list nodes adding it to open_list/to_be_searched list [{'cell': (2, 3), 'cost': 26}, {'cell': (4, 5), 'cost': 25}, {'cell': (1, 5), 'cost': 25}, {'cell': (3, 4), 'cost': 24}, {'cell': (6, 4), 'cost': 24}, {'cell': (5, 2), 'cost': 25}, {'cell': (6, 1), 'cost': 25}, {'cell': (3, 4), 'cost': 25}, {'cell': (3, 1), 'cost': 30}]\n",
      "child (4, 0) is not visited before so checking it\n",
      "child has f(n): 25 g(n): 19 h(n): 6\n",
      "since this child (4, 0) has best g value out of existing open list nodes adding it to open_list/to_be_searched list [{'cell': (2, 3), 'cost': 26}, {'cell': (4, 5), 'cost': 25}, {'cell': (1, 5), 'cost': 25}, {'cell': (3, 4), 'cost': 24}, {'cell': (6, 4), 'cost': 24}, {'cell': (5, 2), 'cost': 25}, {'cell': (6, 1), 'cost': 25}, {'cell': (3, 4), 'cost': 25}, {'cell': (3, 1), 'cost': 30}, {'cell': (4, 0), 'cost': 25}]\n",
      "----------\n",
      "visited this node: (3, 4) as it has least cost 24 and added it to closed list:[ [{'cell': (0, 2), 'cost': 0}, {'cell': (1, 2), 'cost': 10}, {'cell': (0, 1), 'cost': 12}, {'cell': (1, 3), 'cost': 12}, {'cell': (2, 2), 'cost': 12}, {'cell': (3, 2), 'cost': 14}, {'cell': (1, 4), 'cost': 15}, {'cell': (2, 1), 'cost': 16}, {'cell': (4, 2), 'cost': 16}, {'cell': (0, 0), 'cost': 17}, {'cell': (2, 4), 'cost': 17}, {'cell': (4, 3), 'cost': 18}, {'cell': (1, 0), 'cost': 19}, {'cell': (1, 1), 'cost': 20}, {'cell': (4, 4), 'cost': 20}, {'cell': (4, 1), 'cost': 21}, {'cell': (2, 5), 'cost': 21}, {'cell': (2, 0), 'cost': 21}, {'cell': (3, 3), 'cost': 22}, {'cell': (5, 4), 'cost': 22}, {'cell': (5, 1), 'cost': 23}, {'cell': (3, 5), 'cost': 23}, {'cell': (3, 0), 'cost': 23}, {'cell': (3, 4), 'cost': 24}] ]\n",
      "checking neighbor: (3, 3)\n",
      "neighbor  (3, 3)  is reachable so adding to children list\n",
      "checking neighbor: (3, 5)\n",
      "neighbor  (3, 5)  is reachable so adding to children list\n",
      "checking neighbor: (2, 4)\n",
      "checking neighbor: (4, 4)\n",
      "----------\n",
      "visited this node: (6, 4) as it has least cost 24 and added it to closed list:[ [{'cell': (0, 2), 'cost': 0}, {'cell': (1, 2), 'cost': 10}, {'cell': (0, 1), 'cost': 12}, {'cell': (1, 3), 'cost': 12}, {'cell': (2, 2), 'cost': 12}, {'cell': (3, 2), 'cost': 14}, {'cell': (1, 4), 'cost': 15}, {'cell': (2, 1), 'cost': 16}, {'cell': (4, 2), 'cost': 16}, {'cell': (0, 0), 'cost': 17}, {'cell': (2, 4), 'cost': 17}, {'cell': (4, 3), 'cost': 18}, {'cell': (1, 0), 'cost': 19}, {'cell': (1, 1), 'cost': 20}, {'cell': (4, 4), 'cost': 20}, {'cell': (4, 1), 'cost': 21}, {'cell': (2, 5), 'cost': 21}, {'cell': (2, 0), 'cost': 21}, {'cell': (3, 3), 'cost': 22}, {'cell': (5, 4), 'cost': 22}, {'cell': (5, 1), 'cost': 23}, {'cell': (3, 5), 'cost': 23}, {'cell': (3, 0), 'cost': 23}, {'cell': (3, 4), 'cost': 24}, {'cell': (6, 4), 'cost': 24}] ]\n",
      "finally visited goal!\n"
     ]
    },
    {
     "data": {
      "text/plain": [
       "{'path_taken': '(0, 2)->(1, 2)->(2, 2)->(3, 2)->(4, 2)->(4, 3)->(4, 4)->(5, 4)->(6, 4)',\n",
       " 'total_cost': 24}"
      ]
     },
     "execution_count": 36,
     "metadata": {},
     "output_type": "execute_result"
    }
   ],
   "source": [
    "#Invoke algorithm 1 (Should Print the solution, path, cost etc., (As mentioned in the problem))\n",
    "A_STAR(maze, start, goal)"
   ]
  },
  {
   "cell_type": "code",
   "execution_count": 34,
   "metadata": {
    "id": "u3MJeA6eF7sP"
   },
   "outputs": [
    {
     "name": "stdout",
     "output_type": "stream",
     "text": [
      "----------\n",
      "selected random_initial_state: (6, 1)\n",
      "checking neighbor: (6, 0)\n",
      "neighbor  (6, 0)  is reachable so adding to neighbor list\n",
      "checking neighbor: (6, 2)\n",
      "checking neighbor: (5, 1)\n",
      "neighbor  (5, 1)  is reachable so adding to neighbor list\n",
      "checking neighbor: (7, 1)\n",
      "picked neighbor cell (5, 1) since it is closer to goal\n",
      "path walked so far [(6, 1), (5, 1)] with cost 3\n",
      "got stuck at local maxima\n",
      "----------\n",
      "selected random_initial_state: (1, 5)\n",
      "checking neighbor: (1, 4)\n",
      "checking neighbor: (1, 6)\n",
      "checking neighbor: (0, 5)\n",
      "neighbor  (0, 5)  is reachable so adding to neighbor list\n",
      "checking neighbor: (2, 5)\n",
      "neighbor  (2, 5)  is reachable so adding to neighbor list\n",
      "picked neighbor cell (2, 5) since it is closer to goal\n",
      "path walked so far [(1, 5), (2, 5)] with cost 3\n",
      "checking neighbor: (2, 4)\n",
      "neighbor  (2, 4)  is reachable so adding to neighbor list\n",
      "checking neighbor: (2, 6)\n",
      "checking neighbor: (1, 5)\n",
      "checking neighbor: (3, 5)\n",
      "neighbor  (3, 5)  is reachable so adding to neighbor list\n",
      "picked neighbor cell (2, 4) since it is closer to goal\n",
      "path walked so far [(1, 5), (2, 5), (2, 4)] with cost 6\n",
      "checking neighbor: (2, 3)\n",
      "neighbor  (2, 3)  is reachable so adding to neighbor list\n",
      "checking neighbor: (2, 5)\n",
      "checking neighbor: (1, 4)\n",
      "neighbor  (1, 4)  is reachable so adding to neighbor list\n",
      "checking neighbor: (3, 4)\n",
      "picked neighbor cell (1, 4) since it is closer to goal\n",
      "encountered BUSH\n",
      "path walked so far [(1, 5), (2, 5), (2, 4), (1, 4)] with cost 10\n",
      "got stuck at local maxima\n",
      "----------\n",
      "selected random_initial_state: (5, 1)\n",
      "checking neighbor: (5, 0)\n",
      "checking neighbor: (5, 2)\n",
      "neighbor  (5, 2)  is reachable so adding to neighbor list\n",
      "checking neighbor: (4, 1)\n",
      "neighbor  (4, 1)  is reachable so adding to neighbor list\n",
      "checking neighbor: (6, 1)\n",
      "neighbor  (6, 1)  is reachable so adding to neighbor list\n",
      "picked neighbor cell (5, 2) since it is closer to goal\n",
      "path walked so far [(5, 1), (5, 2)] with cost 3\n",
      "checking neighbor: (5, 1)\n",
      "checking neighbor: (5, 3)\n",
      "neighbor  (5, 3)  is reachable so adding to neighbor list\n",
      "checking neighbor: (4, 2)\n",
      "checking neighbor: (6, 2)\n",
      "picked neighbor cell (5, 3) since it is closer to goal\n",
      "path walked so far [(5, 1), (5, 2), (5, 3)] with cost 6\n",
      "checking neighbor: (5, 2)\n",
      "checking neighbor: (5, 4)\n",
      "checking neighbor: (4, 3)\n",
      "checking neighbor: (6, 3)\n",
      "neighbor  (6, 3)  is reachable so adding to neighbor list\n",
      "picked neighbor cell (6, 3) since it is closer to goal\n",
      "path walked so far [(5, 1), (5, 2), (5, 3), (6, 3)] with cost 9\n",
      "checking neighbor: (6, 2)\n",
      "neighbor  (6, 2)  is reachable so adding to neighbor list\n",
      "checking neighbor: (6, 4)\n",
      "neighbor  (6, 4)  is reachable so adding to neighbor list\n",
      "checking neighbor: (5, 3)\n",
      "checking neighbor: (7, 3)\n",
      "picked neighbor cell (6, 4) since it is closer to goal\n",
      "path walked so far [(5, 1), (5, 2), (5, 3), (6, 3), (6, 4)] with cost 12\n",
      "found global maxima!\n"
     ]
    },
    {
     "data": {
      "text/plain": [
       "{'path_taken': '(5, 1)->(5, 2)->(5, 3)->(6, 3)->(6, 4)', 'total_cost': 12}"
      ]
     },
     "execution_count": 34,
     "metadata": {},
     "output_type": "execute_result"
    }
   ],
   "source": [
    "#Invoke algorithm 2 (Should Print the solution, path, cost etc., (As mentioned in the problem))\n",
    "RANDOM_RESTART_HILL_CLIMBING(maze, goal)"
   ]
  },
  {
   "cell_type": "markdown",
   "metadata": {
    "id": "TOU3Rem6F7sQ"
   },
   "source": [
    "### 5.\tComparitive Analysis"
   ]
  },
  {
   "cell_type": "markdown",
   "metadata": {
    "id": "HG6fWwiIF7sQ"
   },
   "source": [
    "### Time & Space complexity of A* algorithm\n",
    "\n",
    "time complexity is O(b^d), where b is the branching factor and d is the length of the solution path. \n",
    "\n",
    "space complexity is also O(b^d), as it stores all generated nodes in memory"
   ]
  },
  {
   "cell_type": "markdown",
   "metadata": {
    "id": "xMButLKCF7sQ"
   },
   "source": [
    "### Time & Space complexity of Random Restart Hill Climbing algorithm\n",
    "\n",
    "time and space complexity of it depends on problem space, evaluation function, and number of restarts. \n",
    "\n",
    "worst case, the time complexity is O(∞), as it may never find the global optimum. \n",
    "\n",
    "or we can put limit on number of iterations(n_iter) so that it doesn't go to O(∞) and stops after that if global optimum is not found\n",
    "\n",
    "space complexity is O(b), where b is the branching factor, as it discards old nodes"
   ]
  },
  {
   "cell_type": "markdown",
   "metadata": {
    "id": "y2nXwAlsF7sQ"
   },
   "source": [
    "### 6.\tProvide your comparitive analysis or findings in no more than 3 lines in below section"
   ]
  },
  {
   "cell_type": "markdown",
   "metadata": {
    "id": "si483-zoF7sQ"
   },
   "source": [
    "Comparison : \n",
    "* A* uses cost function f(n) = g(n){distance from start to current} + h(n){from current to goal here its Manhattan distance} whereas Random Restart Hill Climbing uses unit step distance from goal and its graph looks like hill\n",
    "* A* gives same path everytime since the starting and end goal nodes are predefined whereas Random Restart Hill Climbing gives different path based on start cell selected randomly.\n",
    "* Random Restart Hill Climbing would take more time to find a path as it might walk from the middle/part of the same route through which it had already passed in the previous iterations but was unable to find a solution. or sometimes it might start/restart at goal as well"
   ]
  }
 ],
 "metadata": {
  "colab": {
   "provenance": []
  },
  "kernelspec": {
   "display_name": "Python 3 (ipykernel)",
   "language": "python",
   "name": "python3"
  },
  "language_info": {
   "codemirror_mode": {
    "name": "ipython",
    "version": 3
   },
   "file_extension": ".py",
   "mimetype": "text/x-python",
   "name": "python",
   "nbconvert_exporter": "python",
   "pygments_lexer": "ipython3",
   "version": "3.10.10"
  }
 },
 "nbformat": 4,
 "nbformat_minor": 1
}
