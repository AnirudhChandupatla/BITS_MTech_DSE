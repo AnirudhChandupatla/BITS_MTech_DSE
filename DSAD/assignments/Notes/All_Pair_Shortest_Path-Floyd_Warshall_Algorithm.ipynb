{
 "cells": [
  {
   "cell_type": "markdown",
   "id": "4c6ab907",
   "metadata": {},
   "source": [
    "![warshall algorithm](https://github.com/AnirudhChandupatla/BITS_MTech_DSE/blob/main/FloydsAlgo.png?raw=true)"
   ]
  },
  {
   "cell_type": "code",
   "execution_count": 31,
   "id": "e113e5d9",
   "metadata": {},
   "outputs": [
    {
     "name": "stdout",
     "output_type": "stream",
     "text": [
      "+---+-----+-----+-----+-----+-----+\n",
      "|   |  1  |  2  |  3  |  4  |  5  |\n",
      "+---+-----+-----+-----+-----+-----+\n",
      "| 1 | inf | inf |  6  |  3  | inf |\n",
      "| 2 |  3  | inf | inf | inf | inf |\n",
      "| 3 | inf | inf | inf |  2  | inf |\n",
      "| 4 | inf |  1  |  1  | inf | inf |\n",
      "| 5 | inf |  4  | inf |  2  | inf |\n",
      "+---+-----+-----+-----+-----+-----+\n"
     ]
    },
    {
     "data": {
      "image/png": "[encoded data removed]",
      "text/plain": [
       "<Figure size 432x288 with 1 Axes>"
      ]
     },
     "metadata": {},
     "output_type": "display_data"
    }
   ],
   "source": [
    "try:import networkx as nx \n",
    "except:\n",
    "    !pip install networkx\n",
    "    import networkx as nx\n",
    "    \n",
    "try:import matplotlib.pyplot as plt \n",
    "except:\n",
    "    !pip install matplotlib\n",
    "    import matplotlib.pyplot as plt \n",
    "    \n",
    "try:from prettytable import PrettyTable\n",
    "except:\n",
    "    !pip install prettytable\n",
    "    from prettytable import PrettyTable\n",
    "    \n",
    "## 1st line is Number of nodes,\n",
    "s = '''5\n",
    "1 3 6\n",
    "1 4 3\n",
    "2 1 3\n",
    "3 4 2\n",
    "4 3 1\n",
    "4 2 1\n",
    "5 2 4\n",
    "5 4 2'''\n",
    "sl = s.split('\\n')\n",
    "N = int(sl[0])\n",
    "adm = [[float('inf')]*N for i in range(N)]\n",
    "nodes = sl[1:]\n",
    "for r in nodes:\n",
    "    u,v,w = map(int,r.split())\n",
    "    adm[u-1][v-1] = w\n",
    "\n",
    "x = PrettyTable()\n",
    "x.field_names = [''] + [i+1 for i in range(len(adm))]\n",
    "i=0\n",
    "for r in adm:\n",
    "    x.add_row([i+1]+r)\n",
    "    i+=1\n",
    "print(x)\n",
    "\n",
    "G = nx.DiGraph() \n",
    "for i in range(len(adm)): \n",
    "    for j in range( len(adm) ): \n",
    "        if adm[i][j] != float('inf'): G.add_edge(i+1,j+1,weight=adm[i][j]) \n",
    "\n",
    "elarge = [(u, v) for (u, v, d) in G.edges(data=True) if d[\"weight\"] > 2]\n",
    "esmall = [(u, v) for (u, v, d) in G.edges(data=True) if d[\"weight\"] <= 2]\n",
    "pos = nx.spring_layout(G, seed=1)  # positions for all nodes - seed for reproducibility\n",
    "\n",
    "# nodes\n",
    "nx.draw_networkx_nodes(G, pos, node_size=700)\n",
    "\n",
    "# edges\n",
    "nx.draw_networkx_edges(G, pos, edgelist=elarge, width=6)\n",
    "nx.draw_networkx_edges(\n",
    "    G, pos, edgelist=esmall, width=6, alpha=0.5, edge_color=\"b\", style=\"dashed\"\n",
    ")\n",
    "\n",
    "# node labels\n",
    "nx.draw_networkx_labels(G, pos, font_size=20, font_family=\"sans-serif\")\n",
    "# edge weight labels\n",
    "edge_labels = nx.get_edge_attributes(G, \"weight\")\n",
    "nx.draw_networkx_edge_labels(G, pos, edge_labels)\n",
    "plt.show()"
   ]
  },
  {
   "cell_type": "code",
   "execution_count": 29,
   "id": "deea8b30",
   "metadata": {},
   "outputs": [],
   "source": [
    "from IPython.display import display, Math\n",
    "superscript = str.maketrans(\"0123456789\", \"⁰¹²³⁴⁵⁶⁷⁸⁹\")\n",
    "def FloydWarshall(adm):\n",
    "    D = adm\n",
    "    ll = len(adm)\n",
    "    for k in range(ll):\n",
    "        #R.append(adm)\n",
    "        print('for k = {}'.format(k+1))\n",
    "        for i in range(ll):\n",
    "            print('for i = {}'.format(i+1))\n",
    "            for j in range(ll):\n",
    "                if( i == j):\n",
    "                    D[i][j] = 0\n",
    "                    continue\n",
    "                prevDij = D[i][j]\n",
    "                D[i][j] = min(D[i][j] , (D[i][k] + D[k][j]))\n",
    "                display(Math(\"D^#{}@[{},{}] = min( D^#{}@[{},{}]  , (D^#{}@[{},{}]  +  D^#{}@[{},{}]) ) = \"\n",
    "                      .format(k+1,i+1,j+1,k,i+1,j+1,k,i+1,k+1,k,k+1,j+1).replace('#','{').replace('@','}')  +\n",
    "                             'min( {} , ( {} + {} ) ) = '.format(prevDij,D[i][k],D[k][j]) + '{}'.format(D[i][j])))\n",
    "                \n",
    "            print('-'*10)\n",
    "        x = PrettyTable()\n",
    "        x.field_names = ['D{}'.format(k+1).translate(superscript)] + [i+1 for i in range(ll)]\n",
    "        i=0\n",
    "        for r in D:\n",
    "            x.add_row([i+1]+r)\n",
    "            i+=1\n",
    "        print(x)\n",
    "        print('-'*20)"
   ]
  },
  {
   "cell_type": "code",
   "execution_count": 32,
   "id": "32255226",
   "metadata": {
    "scrolled": false
   },
   "outputs": [
    {
     "name": "stdout",
     "output_type": "stream",
     "text": [
      "for k = 1\n",
      "for i = 1\n"
     ]
    },
    {
     "data": {
      "text/latex": [
       "$\\displaystyle D^{1}[1,2] = min( D^{0}[1,2]  , (D^{0}[1,1]  +  D^{0}[1,2]) ) = min( inf , ( 0 + inf ) ) = inf$"
      ],
      "text/plain": [
       "<IPython.core.display.Math object>"
      ]
     },
     "metadata": {},
     "output_type": "display_data"
    },
    {
     "data": {
      "text/latex": [
       "$\\displaystyle D^{1}[1,3] = min( D^{0}[1,3]  , (D^{0}[1,1]  +  D^{0}[1,3]) ) = min( 6 , ( 0 + 6 ) ) = 6$"
      ],
      "text/plain": [
       "<IPython.core.display.Math object>"
      ]
     },
     "metadata": {},
     "output_type": "display_data"
    },
    {
     "data": {
      "text/latex": [
       "$\\displaystyle D^{1}[1,4] = min( D^{0}[1,4]  , (D^{0}[1,1]  +  D^{0}[1,4]) ) = min( 3 , ( 0 + 3 ) ) = 3$"
      ],
      "text/plain": [
       "<IPython.core.display.Math object>"
      ]
     },
     "metadata": {},
     "output_type": "display_data"
    },
    {
     "data": {
      "text/latex": [
       "$\\displaystyle D^{1}[1,5] = min( D^{0}[1,5]  , (D^{0}[1,1]  +  D^{0}[1,5]) ) = min( inf , ( 0 + inf ) ) = inf$"
      ],
      "text/plain": [
       "<IPython.core.display.Math object>"
      ]
     },
     "metadata": {},
     "output_type": "display_data"
    },
    {
     "name": "stdout",
     "output_type": "stream",
     "text": [
      "----------\n",
      "for i = 2\n"
     ]
    },
    {
     "data": {
      "text/latex": [
       "$\\displaystyle D^{1}[2,1] = min( D^{0}[2,1]  , (D^{0}[2,1]  +  D^{0}[1,1]) ) = min( 3 , ( 3 + 0 ) ) = 3$"
      ],
      "text/plain": [
       "<IPython.core.display.Math object>"
      ]
     },
     "metadata": {},
     "output_type": "display_data"
    },
    {
     "data": {
      "text/latex": [
       "$\\displaystyle D^{1}[2,3] = min( D^{0}[2,3]  , (D^{0}[2,1]  +  D^{0}[1,3]) ) = min( inf , ( 3 + 6 ) ) = 9$"
      ],
      "text/plain": [
       "<IPython.core.display.Math object>"
      ]
     },
     "metadata": {},
     "output_type": "display_data"
    },
    {
     "data": {
      "text/latex": [
       "$\\displaystyle D^{1}[2,4] = min( D^{0}[2,4]  , (D^{0}[2,1]  +  D^{0}[1,4]) ) = min( inf , ( 3 + 3 ) ) = 6$"
      ],
      "text/plain": [
       "<IPython.core.display.Math object>"
      ]
     },
     "metadata": {},
     "output_type": "display_data"
    },
    {
     "data": {
      "text/latex": [
       "$\\displaystyle D^{1}[2,5] = min( D^{0}[2,5]  , (D^{0}[2,1]  +  D^{0}[1,5]) ) = min( inf , ( 3 + inf ) ) = inf$"
      ],
      "text/plain": [
       "<IPython.core.display.Math object>"
      ]
     },
     "metadata": {},
     "output_type": "display_data"
    },
    {
     "name": "stdout",
     "output_type": "stream",
     "text": [
      "----------\n",
      "for i = 3\n"
     ]
    },
    {
     "data": {
      "text/latex": [
       "$\\displaystyle D^{1}[3,1] = min( D^{0}[3,1]  , (D^{0}[3,1]  +  D^{0}[1,1]) ) = min( inf , ( inf + 0 ) ) = inf$"
      ],
      "text/plain": [
       "<IPython.core.display.Math object>"
      ]
     },
     "metadata": {},
     "output_type": "display_data"
    },
    {
     "data": {
      "text/latex": [
       "$\\displaystyle D^{1}[3,2] = min( D^{0}[3,2]  , (D^{0}[3,1]  +  D^{0}[1,2]) ) = min( inf , ( inf + inf ) ) = inf$"
      ],
      "text/plain": [
       "<IPython.core.display.Math object>"
      ]
     },
     "metadata": {},
     "output_type": "display_data"
    },
    {
     "data": {
      "text/latex": [
       "$\\displaystyle D^{1}[3,4] = min( D^{0}[3,4]  , (D^{0}[3,1]  +  D^{0}[1,4]) ) = min( 2 , ( inf + 3 ) ) = 2$"
      ],
      "text/plain": [
       "<IPython.core.display.Math object>"
      ]
     },
     "metadata": {},
     "output_type": "display_data"
    },
    {
     "data": {
      "text/latex": [
       "$\\displaystyle D^{1}[3,5] = min( D^{0}[3,5]  , (D^{0}[3,1]  +  D^{0}[1,5]) ) = min( inf , ( inf + inf ) ) = inf$"
      ],
      "text/plain": [
       "<IPython.core.display.Math object>"
      ]
     },
     "metadata": {},
     "output_type": "display_data"
    },
    {
     "name": "stdout",
     "output_type": "stream",
     "text": [
      "----------\n",
      "for i = 4\n"
     ]
    },
    {
     "data": {
      "text/latex": [
       "$\\displaystyle D^{1}[4,1] = min( D^{0}[4,1]  , (D^{0}[4,1]  +  D^{0}[1,1]) ) = min( inf , ( inf + 0 ) ) = inf$"
      ],
      "text/plain": [
       "<IPython.core.display.Math object>"
      ]
     },
     "metadata": {},
     "output_type": "display_data"
    },
    {
     "data": {
      "text/latex": [
       "$\\displaystyle D^{1}[4,2] = min( D^{0}[4,2]  , (D^{0}[4,1]  +  D^{0}[1,2]) ) = min( 1 , ( inf + inf ) ) = 1$"
      ],
      "text/plain": [
       "<IPython.core.display.Math object>"
      ]
     },
     "metadata": {},
     "output_type": "display_data"
    },
    {
     "data": {
      "text/latex": [
       "$\\displaystyle D^{1}[4,3] = min( D^{0}[4,3]  , (D^{0}[4,1]  +  D^{0}[1,3]) ) = min( 1 , ( inf + 6 ) ) = 1$"
      ],
      "text/plain": [
       "<IPython.core.display.Math object>"
      ]
     },
     "metadata": {},
     "output_type": "display_data"
    },
    {
     "data": {
      "text/latex": [
       "$\\displaystyle D^{1}[4,5] = min( D^{0}[4,5]  , (D^{0}[4,1]  +  D^{0}[1,5]) ) = min( inf , ( inf + inf ) ) = inf$"
      ],
      "text/plain": [
       "<IPython.core.display.Math object>"
      ]
     },
     "metadata": {},
     "output_type": "display_data"
    },
    {
     "name": "stdout",
     "output_type": "stream",
     "text": [
      "----------\n",
      "for i = 5\n"
     ]
    },
    {
     "data": {
      "text/latex": [
       "$\\displaystyle D^{1}[5,1] = min( D^{0}[5,1]  , (D^{0}[5,1]  +  D^{0}[1,1]) ) = min( inf , ( inf + 0 ) ) = inf$"
      ],
      "text/plain": [
       "<IPython.core.display.Math object>"
      ]
     },
     "metadata": {},
     "output_type": "display_data"
    },
    {
     "data": {
      "text/latex": [
       "$\\displaystyle D^{1}[5,2] = min( D^{0}[5,2]  , (D^{0}[5,1]  +  D^{0}[1,2]) ) = min( 4 , ( inf + inf ) ) = 4$"
      ],
      "text/plain": [
       "<IPython.core.display.Math object>"
      ]
     },
     "metadata": {},
     "output_type": "display_data"
    },
    {
     "data": {
      "text/latex": [
       "$\\displaystyle D^{1}[5,3] = min( D^{0}[5,3]  , (D^{0}[5,1]  +  D^{0}[1,3]) ) = min( inf , ( inf + 6 ) ) = inf$"
      ],
      "text/plain": [
       "<IPython.core.display.Math object>"
      ]
     },
     "metadata": {},
     "output_type": "display_data"
    },
    {
     "data": {
      "text/latex": [
       "$\\displaystyle D^{1}[5,4] = min( D^{0}[5,4]  , (D^{0}[5,1]  +  D^{0}[1,4]) ) = min( 2 , ( inf + 3 ) ) = 2$"
      ],
      "text/plain": [
       "<IPython.core.display.Math object>"
      ]
     },
     "metadata": {},
     "output_type": "display_data"
    },
    {
     "name": "stdout",
     "output_type": "stream",
     "text": [
      "----------\n",
      "+----+-----+-----+-----+---+-----+\n",
      "| D¹ |  1  |  2  |  3  | 4 |  5  |\n",
      "+----+-----+-----+-----+---+-----+\n",
      "| 1  |  0  | inf |  6  | 3 | inf |\n",
      "| 2  |  3  |  0  |  9  | 6 | inf |\n",
      "| 3  | inf | inf |  0  | 2 | inf |\n",
      "| 4  | inf |  1  |  1  | 0 | inf |\n",
      "| 5  | inf |  4  | inf | 2 |  0  |\n",
      "+----+-----+-----+-----+---+-----+\n",
      "--------------------\n",
      "for k = 2\n",
      "for i = 1\n"
     ]
    },
    {
     "data": {
      "text/latex": [
       "$\\displaystyle D^{2}[1,2] = min( D^{1}[1,2]  , (D^{1}[1,2]  +  D^{1}[2,2]) ) = min( inf , ( inf + 0 ) ) = inf$"
      ],
      "text/plain": [
       "<IPython.core.display.Math object>"
      ]
     },
     "metadata": {},
     "output_type": "display_data"
    },
    {
     "data": {
      "text/latex": [
       "$\\displaystyle D^{2}[1,3] = min( D^{1}[1,3]  , (D^{1}[1,2]  +  D^{1}[2,3]) ) = min( 6 , ( inf + 9 ) ) = 6$"
      ],
      "text/plain": [
       "<IPython.core.display.Math object>"
      ]
     },
     "metadata": {},
     "output_type": "display_data"
    },
    {
     "data": {
      "text/latex": [
       "$\\displaystyle D^{2}[1,4] = min( D^{1}[1,4]  , (D^{1}[1,2]  +  D^{1}[2,4]) ) = min( 3 , ( inf + 6 ) ) = 3$"
      ],
      "text/plain": [
       "<IPython.core.display.Math object>"
      ]
     },
     "metadata": {},
     "output_type": "display_data"
    },
    {
     "data": {
      "text/latex": [
       "$\\displaystyle D^{2}[1,5] = min( D^{1}[1,5]  , (D^{1}[1,2]  +  D^{1}[2,5]) ) = min( inf , ( inf + inf ) ) = inf$"
      ],
      "text/plain": [
       "<IPython.core.display.Math object>"
      ]
     },
     "metadata": {},
     "output_type": "display_data"
    },
    {
     "name": "stdout",
     "output_type": "stream",
     "text": [
      "----------\n",
      "for i = 2\n"
     ]
    },
    {
     "data": {
      "text/latex": [
       "$\\displaystyle D^{2}[2,1] = min( D^{1}[2,1]  , (D^{1}[2,2]  +  D^{1}[2,1]) ) = min( 3 , ( 0 + 3 ) ) = 3$"
      ],
      "text/plain": [
       "<IPython.core.display.Math object>"
      ]
     },
     "metadata": {},
     "output_type": "display_data"
    },
    {
     "data": {
      "text/latex": [
       "$\\displaystyle D^{2}[2,3] = min( D^{1}[2,3]  , (D^{1}[2,2]  +  D^{1}[2,3]) ) = min( 9 , ( 0 + 9 ) ) = 9$"
      ],
      "text/plain": [
       "<IPython.core.display.Math object>"
      ]
     },
     "metadata": {},
     "output_type": "display_data"
    },
    {
     "data": {
      "text/latex": [
       "$\\displaystyle D^{2}[2,4] = min( D^{1}[2,4]  , (D^{1}[2,2]  +  D^{1}[2,4]) ) = min( 6 , ( 0 + 6 ) ) = 6$"
      ],
      "text/plain": [
       "<IPython.core.display.Math object>"
      ]
     },
     "metadata": {},
     "output_type": "display_data"
    },
    {
     "data": {
      "text/latex": [
       "$\\displaystyle D^{2}[2,5] = min( D^{1}[2,5]  , (D^{1}[2,2]  +  D^{1}[2,5]) ) = min( inf , ( 0 + inf ) ) = inf$"
      ],
      "text/plain": [
       "<IPython.core.display.Math object>"
      ]
     },
     "metadata": {},
     "output_type": "display_data"
    },
    {
     "name": "stdout",
     "output_type": "stream",
     "text": [
      "----------\n",
      "for i = 3\n"
     ]
    },
    {
     "data": {
      "text/latex": [
       "$\\displaystyle D^{2}[3,1] = min( D^{1}[3,1]  , (D^{1}[3,2]  +  D^{1}[2,1]) ) = min( inf , ( inf + 3 ) ) = inf$"
      ],
      "text/plain": [
       "<IPython.core.display.Math object>"
      ]
     },
     "metadata": {},
     "output_type": "display_data"
    },
    {
     "data": {
      "text/latex": [
       "$\\displaystyle D^{2}[3,2] = min( D^{1}[3,2]  , (D^{1}[3,2]  +  D^{1}[2,2]) ) = min( inf , ( inf + 0 ) ) = inf$"
      ],
      "text/plain": [
       "<IPython.core.display.Math object>"
      ]
     },
     "metadata": {},
     "output_type": "display_data"
    },
    {
     "data": {
      "text/latex": [
       "$\\displaystyle D^{2}[3,4] = min( D^{1}[3,4]  , (D^{1}[3,2]  +  D^{1}[2,4]) ) = min( 2 , ( inf + 6 ) ) = 2$"
      ],
      "text/plain": [
       "<IPython.core.display.Math object>"
      ]
     },
     "metadata": {},
     "output_type": "display_data"
    },
    {
     "data": {
      "text/latex": [
       "$\\displaystyle D^{2}[3,5] = min( D^{1}[3,5]  , (D^{1}[3,2]  +  D^{1}[2,5]) ) = min( inf , ( inf + inf ) ) = inf$"
      ],
      "text/plain": [
       "<IPython.core.display.Math object>"
      ]
     },
     "metadata": {},
     "output_type": "display_data"
    },
    {
     "name": "stdout",
     "output_type": "stream",
     "text": [
      "----------\n",
      "for i = 4\n"
     ]
    },
    {
     "data": {
      "text/latex": [
       "$\\displaystyle D^{2}[4,1] = min( D^{1}[4,1]  , (D^{1}[4,2]  +  D^{1}[2,1]) ) = min( inf , ( 1 + 3 ) ) = 4$"
      ],
      "text/plain": [
       "<IPython.core.display.Math object>"
      ]
     },
     "metadata": {},
     "output_type": "display_data"
    },
    {
     "data": {
      "text/latex": [
       "$\\displaystyle D^{2}[4,2] = min( D^{1}[4,2]  , (D^{1}[4,2]  +  D^{1}[2,2]) ) = min( 1 , ( 1 + 0 ) ) = 1$"
      ],
      "text/plain": [
       "<IPython.core.display.Math object>"
      ]
     },
     "metadata": {},
     "output_type": "display_data"
    },
    {
     "data": {
      "text/latex": [
       "$\\displaystyle D^{2}[4,3] = min( D^{1}[4,3]  , (D^{1}[4,2]  +  D^{1}[2,3]) ) = min( 1 , ( 1 + 9 ) ) = 1$"
      ],
      "text/plain": [
       "<IPython.core.display.Math object>"
      ]
     },
     "metadata": {},
     "output_type": "display_data"
    },
    {
     "data": {
      "text/latex": [
       "$\\displaystyle D^{2}[4,5] = min( D^{1}[4,5]  , (D^{1}[4,2]  +  D^{1}[2,5]) ) = min( inf , ( 1 + inf ) ) = inf$"
      ],
      "text/plain": [
       "<IPython.core.display.Math object>"
      ]
     },
     "metadata": {},
     "output_type": "display_data"
    },
    {
     "name": "stdout",
     "output_type": "stream",
     "text": [
      "----------\n",
      "for i = 5\n"
     ]
    },
    {
     "data": {
      "text/latex": [
       "$\\displaystyle D^{2}[5,1] = min( D^{1}[5,1]  , (D^{1}[5,2]  +  D^{1}[2,1]) ) = min( inf , ( 4 + 3 ) ) = 7$"
      ],
      "text/plain": [
       "<IPython.core.display.Math object>"
      ]
     },
     "metadata": {},
     "output_type": "display_data"
    },
    {
     "data": {
      "text/latex": [
       "$\\displaystyle D^{2}[5,2] = min( D^{1}[5,2]  , (D^{1}[5,2]  +  D^{1}[2,2]) ) = min( 4 , ( 4 + 0 ) ) = 4$"
      ],
      "text/plain": [
       "<IPython.core.display.Math object>"
      ]
     },
     "metadata": {},
     "output_type": "display_data"
    },
    {
     "data": {
      "text/latex": [
       "$\\displaystyle D^{2}[5,3] = min( D^{1}[5,3]  , (D^{1}[5,2]  +  D^{1}[2,3]) ) = min( inf , ( 4 + 9 ) ) = 13$"
      ],
      "text/plain": [
       "<IPython.core.display.Math object>"
      ]
     },
     "metadata": {},
     "output_type": "display_data"
    },
    {
     "data": {
      "text/latex": [
       "$\\displaystyle D^{2}[5,4] = min( D^{1}[5,4]  , (D^{1}[5,2]  +  D^{1}[2,4]) ) = min( 2 , ( 4 + 6 ) ) = 2$"
      ],
      "text/plain": [
       "<IPython.core.display.Math object>"
      ]
     },
     "metadata": {},
     "output_type": "display_data"
    },
    {
     "name": "stdout",
     "output_type": "stream",
     "text": [
      "----------\n",
      "+----+-----+-----+----+---+-----+\n",
      "| D² |  1  |  2  | 3  | 4 |  5  |\n",
      "+----+-----+-----+----+---+-----+\n",
      "| 1  |  0  | inf | 6  | 3 | inf |\n",
      "| 2  |  3  |  0  | 9  | 6 | inf |\n",
      "| 3  | inf | inf | 0  | 2 | inf |\n",
      "| 4  |  4  |  1  | 1  | 0 | inf |\n",
      "| 5  |  7  |  4  | 13 | 2 |  0  |\n",
      "+----+-----+-----+----+---+-----+\n",
      "--------------------\n",
      "for k = 3\n",
      "for i = 1\n"
     ]
    },
    {
     "data": {
      "text/latex": [
       "$\\displaystyle D^{3}[1,2] = min( D^{2}[1,2]  , (D^{2}[1,3]  +  D^{2}[3,2]) ) = min( inf , ( 6 + inf ) ) = inf$"
      ],
      "text/plain": [
       "<IPython.core.display.Math object>"
      ]
     },
     "metadata": {},
     "output_type": "display_data"
    },
    {
     "data": {
      "text/latex": [
       "$\\displaystyle D^{3}[1,3] = min( D^{2}[1,3]  , (D^{2}[1,3]  +  D^{2}[3,3]) ) = min( 6 , ( 6 + 0 ) ) = 6$"
      ],
      "text/plain": [
       "<IPython.core.display.Math object>"
      ]
     },
     "metadata": {},
     "output_type": "display_data"
    },
    {
     "data": {
      "text/latex": [
       "$\\displaystyle D^{3}[1,4] = min( D^{2}[1,4]  , (D^{2}[1,3]  +  D^{2}[3,4]) ) = min( 3 , ( 6 + 2 ) ) = 3$"
      ],
      "text/plain": [
       "<IPython.core.display.Math object>"
      ]
     },
     "metadata": {},
     "output_type": "display_data"
    },
    {
     "data": {
      "text/latex": [
       "$\\displaystyle D^{3}[1,5] = min( D^{2}[1,5]  , (D^{2}[1,3]  +  D^{2}[3,5]) ) = min( inf , ( 6 + inf ) ) = inf$"
      ],
      "text/plain": [
       "<IPython.core.display.Math object>"
      ]
     },
     "metadata": {},
     "output_type": "display_data"
    },
    {
     "name": "stdout",
     "output_type": "stream",
     "text": [
      "----------\n",
      "for i = 2\n"
     ]
    },
    {
     "data": {
      "text/latex": [
       "$\\displaystyle D^{3}[2,1] = min( D^{2}[2,1]  , (D^{2}[2,3]  +  D^{2}[3,1]) ) = min( 3 , ( 9 + inf ) ) = 3$"
      ],
      "text/plain": [
       "<IPython.core.display.Math object>"
      ]
     },
     "metadata": {},
     "output_type": "display_data"
    },
    {
     "data": {
      "text/latex": [
       "$\\displaystyle D^{3}[2,3] = min( D^{2}[2,3]  , (D^{2}[2,3]  +  D^{2}[3,3]) ) = min( 9 , ( 9 + 0 ) ) = 9$"
      ],
      "text/plain": [
       "<IPython.core.display.Math object>"
      ]
     },
     "metadata": {},
     "output_type": "display_data"
    },
    {
     "data": {
      "text/latex": [
       "$\\displaystyle D^{3}[2,4] = min( D^{2}[2,4]  , (D^{2}[2,3]  +  D^{2}[3,4]) ) = min( 6 , ( 9 + 2 ) ) = 6$"
      ],
      "text/plain": [
       "<IPython.core.display.Math object>"
      ]
     },
     "metadata": {},
     "output_type": "display_data"
    },
    {
     "data": {
      "text/latex": [
       "$\\displaystyle D^{3}[2,5] = min( D^{2}[2,5]  , (D^{2}[2,3]  +  D^{2}[3,5]) ) = min( inf , ( 9 + inf ) ) = inf$"
      ],
      "text/plain": [
       "<IPython.core.display.Math object>"
      ]
     },
     "metadata": {},
     "output_type": "display_data"
    },
    {
     "name": "stdout",
     "output_type": "stream",
     "text": [
      "----------\n",
      "for i = 3\n"
     ]
    },
    {
     "data": {
      "text/latex": [
       "$\\displaystyle D^{3}[3,1] = min( D^{2}[3,1]  , (D^{2}[3,3]  +  D^{2}[3,1]) ) = min( inf , ( 0 + inf ) ) = inf$"
      ],
      "text/plain": [
       "<IPython.core.display.Math object>"
      ]
     },
     "metadata": {},
     "output_type": "display_data"
    },
    {
     "data": {
      "text/latex": [
       "$\\displaystyle D^{3}[3,2] = min( D^{2}[3,2]  , (D^{2}[3,3]  +  D^{2}[3,2]) ) = min( inf , ( 0 + inf ) ) = inf$"
      ],
      "text/plain": [
       "<IPython.core.display.Math object>"
      ]
     },
     "metadata": {},
     "output_type": "display_data"
    },
    {
     "data": {
      "text/latex": [
       "$\\displaystyle D^{3}[3,4] = min( D^{2}[3,4]  , (D^{2}[3,3]  +  D^{2}[3,4]) ) = min( 2 , ( 0 + 2 ) ) = 2$"
      ],
      "text/plain": [
       "<IPython.core.display.Math object>"
      ]
     },
     "metadata": {},
     "output_type": "display_data"
    },
    {
     "data": {
      "text/latex": [
       "$\\displaystyle D^{3}[3,5] = min( D^{2}[3,5]  , (D^{2}[3,3]  +  D^{2}[3,5]) ) = min( inf , ( 0 + inf ) ) = inf$"
      ],
      "text/plain": [
       "<IPython.core.display.Math object>"
      ]
     },
     "metadata": {},
     "output_type": "display_data"
    },
    {
     "name": "stdout",
     "output_type": "stream",
     "text": [
      "----------\n",
      "for i = 4\n"
     ]
    },
    {
     "data": {
      "text/latex": [
       "$\\displaystyle D^{3}[4,1] = min( D^{2}[4,1]  , (D^{2}[4,3]  +  D^{2}[3,1]) ) = min( 4 , ( 1 + inf ) ) = 4$"
      ],
      "text/plain": [
       "<IPython.core.display.Math object>"
      ]
     },
     "metadata": {},
     "output_type": "display_data"
    },
    {
     "data": {
      "text/latex": [
       "$\\displaystyle D^{3}[4,2] = min( D^{2}[4,2]  , (D^{2}[4,3]  +  D^{2}[3,2]) ) = min( 1 , ( 1 + inf ) ) = 1$"
      ],
      "text/plain": [
       "<IPython.core.display.Math object>"
      ]
     },
     "metadata": {},
     "output_type": "display_data"
    },
    {
     "data": {
      "text/latex": [
       "$\\displaystyle D^{3}[4,3] = min( D^{2}[4,3]  , (D^{2}[4,3]  +  D^{2}[3,3]) ) = min( 1 , ( 1 + 0 ) ) = 1$"
      ],
      "text/plain": [
       "<IPython.core.display.Math object>"
      ]
     },
     "metadata": {},
     "output_type": "display_data"
    },
    {
     "data": {
      "text/latex": [
       "$\\displaystyle D^{3}[4,5] = min( D^{2}[4,5]  , (D^{2}[4,3]  +  D^{2}[3,5]) ) = min( inf , ( 1 + inf ) ) = inf$"
      ],
      "text/plain": [
       "<IPython.core.display.Math object>"
      ]
     },
     "metadata": {},
     "output_type": "display_data"
    },
    {
     "name": "stdout",
     "output_type": "stream",
     "text": [
      "----------\n",
      "for i = 5\n"
     ]
    },
    {
     "data": {
      "text/latex": [
       "$\\displaystyle D^{3}[5,1] = min( D^{2}[5,1]  , (D^{2}[5,3]  +  D^{2}[3,1]) ) = min( 7 , ( 13 + inf ) ) = 7$"
      ],
      "text/plain": [
       "<IPython.core.display.Math object>"
      ]
     },
     "metadata": {},
     "output_type": "display_data"
    },
    {
     "data": {
      "text/latex": [
       "$\\displaystyle D^{3}[5,2] = min( D^{2}[5,2]  , (D^{2}[5,3]  +  D^{2}[3,2]) ) = min( 4 , ( 13 + inf ) ) = 4$"
      ],
      "text/plain": [
       "<IPython.core.display.Math object>"
      ]
     },
     "metadata": {},
     "output_type": "display_data"
    },
    {
     "data": {
      "text/latex": [
       "$\\displaystyle D^{3}[5,3] = min( D^{2}[5,3]  , (D^{2}[5,3]  +  D^{2}[3,3]) ) = min( 13 , ( 13 + 0 ) ) = 13$"
      ],
      "text/plain": [
       "<IPython.core.display.Math object>"
      ]
     },
     "metadata": {},
     "output_type": "display_data"
    },
    {
     "data": {
      "text/latex": [
       "$\\displaystyle D^{3}[5,4] = min( D^{2}[5,4]  , (D^{2}[5,3]  +  D^{2}[3,4]) ) = min( 2 , ( 13 + 2 ) ) = 2$"
      ],
      "text/plain": [
       "<IPython.core.display.Math object>"
      ]
     },
     "metadata": {},
     "output_type": "display_data"
    },
    {
     "name": "stdout",
     "output_type": "stream",
     "text": [
      "----------\n",
      "+----+-----+-----+----+---+-----+\n",
      "| D³ |  1  |  2  | 3  | 4 |  5  |\n",
      "+----+-----+-----+----+---+-----+\n",
      "| 1  |  0  | inf | 6  | 3 | inf |\n",
      "| 2  |  3  |  0  | 9  | 6 | inf |\n",
      "| 3  | inf | inf | 0  | 2 | inf |\n",
      "| 4  |  4  |  1  | 1  | 0 | inf |\n",
      "| 5  |  7  |  4  | 13 | 2 |  0  |\n",
      "+----+-----+-----+----+---+-----+\n",
      "--------------------\n",
      "for k = 4\n",
      "for i = 1\n"
     ]
    },
    {
     "data": {
      "text/latex": [
       "$\\displaystyle D^{4}[1,2] = min( D^{3}[1,2]  , (D^{3}[1,4]  +  D^{3}[4,2]) ) = min( inf , ( 3 + 1 ) ) = 4$"
      ],
      "text/plain": [
       "<IPython.core.display.Math object>"
      ]
     },
     "metadata": {},
     "output_type": "display_data"
    },
    {
     "data": {
      "text/latex": [
       "$\\displaystyle D^{4}[1,3] = min( D^{3}[1,3]  , (D^{3}[1,4]  +  D^{3}[4,3]) ) = min( 6 , ( 3 + 1 ) ) = 4$"
      ],
      "text/plain": [
       "<IPython.core.display.Math object>"
      ]
     },
     "metadata": {},
     "output_type": "display_data"
    },
    {
     "data": {
      "text/latex": [
       "$\\displaystyle D^{4}[1,4] = min( D^{3}[1,4]  , (D^{3}[1,4]  +  D^{3}[4,4]) ) = min( 3 , ( 3 + 0 ) ) = 3$"
      ],
      "text/plain": [
       "<IPython.core.display.Math object>"
      ]
     },
     "metadata": {},
     "output_type": "display_data"
    },
    {
     "data": {
      "text/latex": [
       "$\\displaystyle D^{4}[1,5] = min( D^{3}[1,5]  , (D^{3}[1,4]  +  D^{3}[4,5]) ) = min( inf , ( 3 + inf ) ) = inf$"
      ],
      "text/plain": [
       "<IPython.core.display.Math object>"
      ]
     },
     "metadata": {},
     "output_type": "display_data"
    },
    {
     "name": "stdout",
     "output_type": "stream",
     "text": [
      "----------\n",
      "for i = 2\n"
     ]
    },
    {
     "data": {
      "text/latex": [
       "$\\displaystyle D^{4}[2,1] = min( D^{3}[2,1]  , (D^{3}[2,4]  +  D^{3}[4,1]) ) = min( 3 , ( 6 + 4 ) ) = 3$"
      ],
      "text/plain": [
       "<IPython.core.display.Math object>"
      ]
     },
     "metadata": {},
     "output_type": "display_data"
    },
    {
     "data": {
      "text/latex": [
       "$\\displaystyle D^{4}[2,3] = min( D^{3}[2,3]  , (D^{3}[2,4]  +  D^{3}[4,3]) ) = min( 9 , ( 6 + 1 ) ) = 7$"
      ],
      "text/plain": [
       "<IPython.core.display.Math object>"
      ]
     },
     "metadata": {},
     "output_type": "display_data"
    },
    {
     "data": {
      "text/latex": [
       "$\\displaystyle D^{4}[2,4] = min( D^{3}[2,4]  , (D^{3}[2,4]  +  D^{3}[4,4]) ) = min( 6 , ( 6 + 0 ) ) = 6$"
      ],
      "text/plain": [
       "<IPython.core.display.Math object>"
      ]
     },
     "metadata": {},
     "output_type": "display_data"
    },
    {
     "data": {
      "text/latex": [
       "$\\displaystyle D^{4}[2,5] = min( D^{3}[2,5]  , (D^{3}[2,4]  +  D^{3}[4,5]) ) = min( inf , ( 6 + inf ) ) = inf$"
      ],
      "text/plain": [
       "<IPython.core.display.Math object>"
      ]
     },
     "metadata": {},
     "output_type": "display_data"
    },
    {
     "name": "stdout",
     "output_type": "stream",
     "text": [
      "----------\n",
      "for i = 3\n"
     ]
    },
    {
     "data": {
      "text/latex": [
       "$\\displaystyle D^{4}[3,1] = min( D^{3}[3,1]  , (D^{3}[3,4]  +  D^{3}[4,1]) ) = min( inf , ( 2 + 4 ) ) = 6$"
      ],
      "text/plain": [
       "<IPython.core.display.Math object>"
      ]
     },
     "metadata": {},
     "output_type": "display_data"
    },
    {
     "data": {
      "text/latex": [
       "$\\displaystyle D^{4}[3,2] = min( D^{3}[3,2]  , (D^{3}[3,4]  +  D^{3}[4,2]) ) = min( inf , ( 2 + 1 ) ) = 3$"
      ],
      "text/plain": [
       "<IPython.core.display.Math object>"
      ]
     },
     "metadata": {},
     "output_type": "display_data"
    },
    {
     "data": {
      "text/latex": [
       "$\\displaystyle D^{4}[3,4] = min( D^{3}[3,4]  , (D^{3}[3,4]  +  D^{3}[4,4]) ) = min( 2 , ( 2 + 0 ) ) = 2$"
      ],
      "text/plain": [
       "<IPython.core.display.Math object>"
      ]
     },
     "metadata": {},
     "output_type": "display_data"
    },
    {
     "data": {
      "text/latex": [
       "$\\displaystyle D^{4}[3,5] = min( D^{3}[3,5]  , (D^{3}[3,4]  +  D^{3}[4,5]) ) = min( inf , ( 2 + inf ) ) = inf$"
      ],
      "text/plain": [
       "<IPython.core.display.Math object>"
      ]
     },
     "metadata": {},
     "output_type": "display_data"
    },
    {
     "name": "stdout",
     "output_type": "stream",
     "text": [
      "----------\n",
      "for i = 4\n"
     ]
    },
    {
     "data": {
      "text/latex": [
       "$\\displaystyle D^{4}[4,1] = min( D^{3}[4,1]  , (D^{3}[4,4]  +  D^{3}[4,1]) ) = min( 4 , ( 0 + 4 ) ) = 4$"
      ],
      "text/plain": [
       "<IPython.core.display.Math object>"
      ]
     },
     "metadata": {},
     "output_type": "display_data"
    },
    {
     "data": {
      "text/latex": [
       "$\\displaystyle D^{4}[4,2] = min( D^{3}[4,2]  , (D^{3}[4,4]  +  D^{3}[4,2]) ) = min( 1 , ( 0 + 1 ) ) = 1$"
      ],
      "text/plain": [
       "<IPython.core.display.Math object>"
      ]
     },
     "metadata": {},
     "output_type": "display_data"
    },
    {
     "data": {
      "text/latex": [
       "$\\displaystyle D^{4}[4,3] = min( D^{3}[4,3]  , (D^{3}[4,4]  +  D^{3}[4,3]) ) = min( 1 , ( 0 + 1 ) ) = 1$"
      ],
      "text/plain": [
       "<IPython.core.display.Math object>"
      ]
     },
     "metadata": {},
     "output_type": "display_data"
    },
    {
     "data": {
      "text/latex": [
       "$\\displaystyle D^{4}[4,5] = min( D^{3}[4,5]  , (D^{3}[4,4]  +  D^{3}[4,5]) ) = min( inf , ( 0 + inf ) ) = inf$"
      ],
      "text/plain": [
       "<IPython.core.display.Math object>"
      ]
     },
     "metadata": {},
     "output_type": "display_data"
    },
    {
     "name": "stdout",
     "output_type": "stream",
     "text": [
      "----------\n",
      "for i = 5\n"
     ]
    },
    {
     "data": {
      "text/latex": [
       "$\\displaystyle D^{4}[5,1] = min( D^{3}[5,1]  , (D^{3}[5,4]  +  D^{3}[4,1]) ) = min( 7 , ( 2 + 4 ) ) = 6$"
      ],
      "text/plain": [
       "<IPython.core.display.Math object>"
      ]
     },
     "metadata": {},
     "output_type": "display_data"
    },
    {
     "data": {
      "text/latex": [
       "$\\displaystyle D^{4}[5,2] = min( D^{3}[5,2]  , (D^{3}[5,4]  +  D^{3}[4,2]) ) = min( 4 , ( 2 + 1 ) ) = 3$"
      ],
      "text/plain": [
       "<IPython.core.display.Math object>"
      ]
     },
     "metadata": {},
     "output_type": "display_data"
    },
    {
     "data": {
      "text/latex": [
       "$\\displaystyle D^{4}[5,3] = min( D^{3}[5,3]  , (D^{3}[5,4]  +  D^{3}[4,3]) ) = min( 13 , ( 2 + 1 ) ) = 3$"
      ],
      "text/plain": [
       "<IPython.core.display.Math object>"
      ]
     },
     "metadata": {},
     "output_type": "display_data"
    },
    {
     "data": {
      "text/latex": [
       "$\\displaystyle D^{4}[5,4] = min( D^{3}[5,4]  , (D^{3}[5,4]  +  D^{3}[4,4]) ) = min( 2 , ( 2 + 0 ) ) = 2$"
      ],
      "text/plain": [
       "<IPython.core.display.Math object>"
      ]
     },
     "metadata": {},
     "output_type": "display_data"
    },
    {
     "name": "stdout",
     "output_type": "stream",
     "text": [
      "----------\n",
      "+----+---+---+---+---+-----+\n",
      "| D⁴ | 1 | 2 | 3 | 4 |  5  |\n",
      "+----+---+---+---+---+-----+\n",
      "| 1  | 0 | 4 | 4 | 3 | inf |\n",
      "| 2  | 3 | 0 | 7 | 6 | inf |\n",
      "| 3  | 6 | 3 | 0 | 2 | inf |\n",
      "| 4  | 4 | 1 | 1 | 0 | inf |\n",
      "| 5  | 6 | 3 | 3 | 2 |  0  |\n",
      "+----+---+---+---+---+-----+\n",
      "--------------------\n",
      "for k = 5\n",
      "for i = 1\n"
     ]
    },
    {
     "data": {
      "text/latex": [
       "$\\displaystyle D^{5}[1,2] = min( D^{4}[1,2]  , (D^{4}[1,5]  +  D^{4}[5,2]) ) = min( 4 , ( inf + 3 ) ) = 4$"
      ],
      "text/plain": [
       "<IPython.core.display.Math object>"
      ]
     },
     "metadata": {},
     "output_type": "display_data"
    },
    {
     "data": {
      "text/latex": [
       "$\\displaystyle D^{5}[1,3] = min( D^{4}[1,3]  , (D^{4}[1,5]  +  D^{4}[5,3]) ) = min( 4 , ( inf + 3 ) ) = 4$"
      ],
      "text/plain": [
       "<IPython.core.display.Math object>"
      ]
     },
     "metadata": {},
     "output_type": "display_data"
    },
    {
     "data": {
      "text/latex": [
       "$\\displaystyle D^{5}[1,4] = min( D^{4}[1,4]  , (D^{4}[1,5]  +  D^{4}[5,4]) ) = min( 3 , ( inf + 2 ) ) = 3$"
      ],
      "text/plain": [
       "<IPython.core.display.Math object>"
      ]
     },
     "metadata": {},
     "output_type": "display_data"
    },
    {
     "data": {
      "text/latex": [
       "$\\displaystyle D^{5}[1,5] = min( D^{4}[1,5]  , (D^{4}[1,5]  +  D^{4}[5,5]) ) = min( inf , ( inf + 0 ) ) = inf$"
      ],
      "text/plain": [
       "<IPython.core.display.Math object>"
      ]
     },
     "metadata": {},
     "output_type": "display_data"
    },
    {
     "name": "stdout",
     "output_type": "stream",
     "text": [
      "----------\n",
      "for i = 2\n"
     ]
    },
    {
     "data": {
      "text/latex": [
       "$\\displaystyle D^{5}[2,1] = min( D^{4}[2,1]  , (D^{4}[2,5]  +  D^{4}[5,1]) ) = min( 3 , ( inf + 6 ) ) = 3$"
      ],
      "text/plain": [
       "<IPython.core.display.Math object>"
      ]
     },
     "metadata": {},
     "output_type": "display_data"
    },
    {
     "data": {
      "text/latex": [
       "$\\displaystyle D^{5}[2,3] = min( D^{4}[2,3]  , (D^{4}[2,5]  +  D^{4}[5,3]) ) = min( 7 , ( inf + 3 ) ) = 7$"
      ],
      "text/plain": [
       "<IPython.core.display.Math object>"
      ]
     },
     "metadata": {},
     "output_type": "display_data"
    },
    {
     "data": {
      "text/latex": [
       "$\\displaystyle D^{5}[2,4] = min( D^{4}[2,4]  , (D^{4}[2,5]  +  D^{4}[5,4]) ) = min( 6 , ( inf + 2 ) ) = 6$"
      ],
      "text/plain": [
       "<IPython.core.display.Math object>"
      ]
     },
     "metadata": {},
     "output_type": "display_data"
    },
    {
     "data": {
      "text/latex": [
       "$\\displaystyle D^{5}[2,5] = min( D^{4}[2,5]  , (D^{4}[2,5]  +  D^{4}[5,5]) ) = min( inf , ( inf + 0 ) ) = inf$"
      ],
      "text/plain": [
       "<IPython.core.display.Math object>"
      ]
     },
     "metadata": {},
     "output_type": "display_data"
    },
    {
     "name": "stdout",
     "output_type": "stream",
     "text": [
      "----------\n",
      "for i = 3\n"
     ]
    },
    {
     "data": {
      "text/latex": [
       "$\\displaystyle D^{5}[3,1] = min( D^{4}[3,1]  , (D^{4}[3,5]  +  D^{4}[5,1]) ) = min( 6 , ( inf + 6 ) ) = 6$"
      ],
      "text/plain": [
       "<IPython.core.display.Math object>"
      ]
     },
     "metadata": {},
     "output_type": "display_data"
    },
    {
     "data": {
      "text/latex": [
       "$\\displaystyle D^{5}[3,2] = min( D^{4}[3,2]  , (D^{4}[3,5]  +  D^{4}[5,2]) ) = min( 3 , ( inf + 3 ) ) = 3$"
      ],
      "text/plain": [
       "<IPython.core.display.Math object>"
      ]
     },
     "metadata": {},
     "output_type": "display_data"
    },
    {
     "data": {
      "text/latex": [
       "$\\displaystyle D^{5}[3,4] = min( D^{4}[3,4]  , (D^{4}[3,5]  +  D^{4}[5,4]) ) = min( 2 , ( inf + 2 ) ) = 2$"
      ],
      "text/plain": [
       "<IPython.core.display.Math object>"
      ]
     },
     "metadata": {},
     "output_type": "display_data"
    },
    {
     "data": {
      "text/latex": [
       "$\\displaystyle D^{5}[3,5] = min( D^{4}[3,5]  , (D^{4}[3,5]  +  D^{4}[5,5]) ) = min( inf , ( inf + 0 ) ) = inf$"
      ],
      "text/plain": [
       "<IPython.core.display.Math object>"
      ]
     },
     "metadata": {},
     "output_type": "display_data"
    },
    {
     "name": "stdout",
     "output_type": "stream",
     "text": [
      "----------\n",
      "for i = 4\n"
     ]
    },
    {
     "data": {
      "text/latex": [
       "$\\displaystyle D^{5}[4,1] = min( D^{4}[4,1]  , (D^{4}[4,5]  +  D^{4}[5,1]) ) = min( 4 , ( inf + 6 ) ) = 4$"
      ],
      "text/plain": [
       "<IPython.core.display.Math object>"
      ]
     },
     "metadata": {},
     "output_type": "display_data"
    },
    {
     "data": {
      "text/latex": [
       "$\\displaystyle D^{5}[4,2] = min( D^{4}[4,2]  , (D^{4}[4,5]  +  D^{4}[5,2]) ) = min( 1 , ( inf + 3 ) ) = 1$"
      ],
      "text/plain": [
       "<IPython.core.display.Math object>"
      ]
     },
     "metadata": {},
     "output_type": "display_data"
    },
    {
     "data": {
      "text/latex": [
       "$\\displaystyle D^{5}[4,3] = min( D^{4}[4,3]  , (D^{4}[4,5]  +  D^{4}[5,3]) ) = min( 1 , ( inf + 3 ) ) = 1$"
      ],
      "text/plain": [
       "<IPython.core.display.Math object>"
      ]
     },
     "metadata": {},
     "output_type": "display_data"
    },
    {
     "data": {
      "text/latex": [
       "$\\displaystyle D^{5}[4,5] = min( D^{4}[4,5]  , (D^{4}[4,5]  +  D^{4}[5,5]) ) = min( inf , ( inf + 0 ) ) = inf$"
      ],
      "text/plain": [
       "<IPython.core.display.Math object>"
      ]
     },
     "metadata": {},
     "output_type": "display_data"
    },
    {
     "name": "stdout",
     "output_type": "stream",
     "text": [
      "----------\n",
      "for i = 5\n"
     ]
    },
    {
     "data": {
      "text/latex": [
       "$\\displaystyle D^{5}[5,1] = min( D^{4}[5,1]  , (D^{4}[5,5]  +  D^{4}[5,1]) ) = min( 6 , ( 0 + 6 ) ) = 6$"
      ],
      "text/plain": [
       "<IPython.core.display.Math object>"
      ]
     },
     "metadata": {},
     "output_type": "display_data"
    },
    {
     "data": {
      "text/latex": [
       "$\\displaystyle D^{5}[5,2] = min( D^{4}[5,2]  , (D^{4}[5,5]  +  D^{4}[5,2]) ) = min( 3 , ( 0 + 3 ) ) = 3$"
      ],
      "text/plain": [
       "<IPython.core.display.Math object>"
      ]
     },
     "metadata": {},
     "output_type": "display_data"
    },
    {
     "data": {
      "text/latex": [
       "$\\displaystyle D^{5}[5,3] = min( D^{4}[5,3]  , (D^{4}[5,5]  +  D^{4}[5,3]) ) = min( 3 , ( 0 + 3 ) ) = 3$"
      ],
      "text/plain": [
       "<IPython.core.display.Math object>"
      ]
     },
     "metadata": {},
     "output_type": "display_data"
    },
    {
     "data": {
      "text/latex": [
       "$\\displaystyle D^{5}[5,4] = min( D^{4}[5,4]  , (D^{4}[5,5]  +  D^{4}[5,4]) ) = min( 2 , ( 0 + 2 ) ) = 2$"
      ],
      "text/plain": [
       "<IPython.core.display.Math object>"
      ]
     },
     "metadata": {},
     "output_type": "display_data"
    },
    {
     "name": "stdout",
     "output_type": "stream",
     "text": [
      "----------\n",
      "+----+---+---+---+---+-----+\n",
      "| D⁵ | 1 | 2 | 3 | 4 |  5  |\n",
      "+----+---+---+---+---+-----+\n",
      "| 1  | 0 | 4 | 4 | 3 | inf |\n",
      "| 2  | 3 | 0 | 7 | 6 | inf |\n",
      "| 3  | 6 | 3 | 0 | 2 | inf |\n",
      "| 4  | 4 | 1 | 1 | 0 | inf |\n",
      "| 5  | 6 | 3 | 3 | 2 |  0  |\n",
      "+----+---+---+---+---+-----+\n",
      "--------------------\n"
     ]
    }
   ],
   "source": [
    "FloydWarshall(adm)"
   ]
  },
  {
   "cell_type": "code",
   "execution_count": 27,
   "id": "97bb6a15",
   "metadata": {},
   "outputs": [
    {
     "name": "stdout",
     "output_type": "stream",
     "text": [
      "+---+-----+-----+-----+-----+\n",
      "|   |  1  |  2  |  3  |  4  |\n",
      "+---+-----+-----+-----+-----+\n",
      "| 1 | inf | inf |  3  | inf |\n",
      "| 2 |  2  | inf | inf | inf |\n",
      "| 3 | inf |  7  | inf |  1  |\n",
      "| 4 |  6  | inf | inf | inf |\n",
      "+---+-----+-----+-----+-----+\n"
     ]
    },
    {
     "data": {
      "image/png": "[encoded data removed]",
      "text/plain": [
       "<Figure size 432x288 with 1 Axes>"
      ]
     },
     "metadata": {},
     "output_type": "display_data"
    }
   ],
   "source": [
    "    \n",
    "## 1st line is Number of nodes,\n",
    "s = '''4\n",
    "1 3 3\n",
    "2 1 2\n",
    "3 2 7\n",
    "3 4 1\n",
    "4 1 6'''\n",
    "sl = s.split('\\n')\n",
    "N = int(sl[0])\n",
    "adm = [[float('inf')]*N for i in range(N)]\n",
    "nodes = sl[1:]\n",
    "for r in nodes:\n",
    "    u,v,w = map(int,r.split())\n",
    "    adm[u-1][v-1] = w\n",
    "\n",
    "x = PrettyTable()\n",
    "x.field_names = [''] + [i+1 for i in range(len(adm))]\n",
    "i=0\n",
    "for r in adm:\n",
    "    x.add_row([i+1]+r)\n",
    "    i+=1\n",
    "print(x)\n",
    "\n",
    "G = nx.DiGraph() \n",
    "for i in range(len(adm)): \n",
    "    for j in range( len(adm) ): \n",
    "        if adm[i][j] != float('inf'): G.add_edge(i+1,j+1,weight=adm[i][j]) \n",
    "\n",
    "elarge = [(u, v) for (u, v, d) in G.edges(data=True) if d[\"weight\"] > 2]\n",
    "esmall = [(u, v) for (u, v, d) in G.edges(data=True) if d[\"weight\"] <= 2]\n",
    "pos = nx.spring_layout(G, seed=1)  # positions for all nodes - seed for reproducibility\n",
    "\n",
    "# nodes\n",
    "nx.draw_networkx_nodes(G, pos, node_size=700)\n",
    "\n",
    "# edges\n",
    "nx.draw_networkx_edges(G, pos, edgelist=elarge, width=6)\n",
    "nx.draw_networkx_edges(\n",
    "    G, pos, edgelist=esmall, width=6, alpha=0.5, edge_color=\"b\", style=\"dashed\"\n",
    ")\n",
    "\n",
    "# node labels\n",
    "nx.draw_networkx_labels(G, pos, font_size=20, font_family=\"sans-serif\")\n",
    "# edge weight labels\n",
    "edge_labels = nx.get_edge_attributes(G, \"weight\")\n",
    "nx.draw_networkx_edge_labels(G, pos, edge_labels)\n",
    "plt.show()"
   ]
  },
  {
   "cell_type": "code",
   "execution_count": 30,
   "id": "36b0838d",
   "metadata": {
    "scrolled": false
   },
   "outputs": [
    {
     "name": "stdout",
     "output_type": "stream",
     "text": [
      "for k = 1\n",
      "for i = 1\n"
     ]
    },
    {
     "data": {
      "text/latex": [
       "$\\displaystyle D^{1}[1,2] = min( D^{0}[1,2]  , (D^{0}[1,1]  +  D^{0}[1,2]) ) = min( 10 , ( 0 + 10 ) ) = 10$"
      ],
      "text/plain": [
       "<IPython.core.display.Math object>"
      ]
     },
     "metadata": {},
     "output_type": "display_data"
    },
    {
     "data": {
      "text/latex": [
       "$\\displaystyle D^{1}[1,3] = min( D^{0}[1,3]  , (D^{0}[1,1]  +  D^{0}[1,3]) ) = min( 3 , ( 0 + 3 ) ) = 3$"
      ],
      "text/plain": [
       "<IPython.core.display.Math object>"
      ]
     },
     "metadata": {},
     "output_type": "display_data"
    },
    {
     "data": {
      "text/latex": [
       "$\\displaystyle D^{1}[1,4] = min( D^{0}[1,4]  , (D^{0}[1,1]  +  D^{0}[1,4]) ) = min( 4 , ( 0 + 4 ) ) = 4$"
      ],
      "text/plain": [
       "<IPython.core.display.Math object>"
      ]
     },
     "metadata": {},
     "output_type": "display_data"
    },
    {
     "name": "stdout",
     "output_type": "stream",
     "text": [
      "----------\n",
      "for i = 2\n"
     ]
    },
    {
     "data": {
      "text/latex": [
       "$\\displaystyle D^{1}[2,1] = min( D^{0}[2,1]  , (D^{0}[2,1]  +  D^{0}[1,1]) ) = min( 2 , ( 2 + 0 ) ) = 2$"
      ],
      "text/plain": [
       "<IPython.core.display.Math object>"
      ]
     },
     "metadata": {},
     "output_type": "display_data"
    },
    {
     "data": {
      "text/latex": [
       "$\\displaystyle D^{1}[2,3] = min( D^{0}[2,3]  , (D^{0}[2,1]  +  D^{0}[1,3]) ) = min( 5 , ( 2 + 3 ) ) = 5$"
      ],
      "text/plain": [
       "<IPython.core.display.Math object>"
      ]
     },
     "metadata": {},
     "output_type": "display_data"
    },
    {
     "data": {
      "text/latex": [
       "$\\displaystyle D^{1}[2,4] = min( D^{0}[2,4]  , (D^{0}[2,1]  +  D^{0}[1,4]) ) = min( 6 , ( 2 + 4 ) ) = 6$"
      ],
      "text/plain": [
       "<IPython.core.display.Math object>"
      ]
     },
     "metadata": {},
     "output_type": "display_data"
    },
    {
     "name": "stdout",
     "output_type": "stream",
     "text": [
      "----------\n",
      "for i = 3\n"
     ]
    },
    {
     "data": {
      "text/latex": [
       "$\\displaystyle D^{1}[3,1] = min( D^{0}[3,1]  , (D^{0}[3,1]  +  D^{0}[1,1]) ) = min( 7 , ( 7 + 0 ) ) = 7$"
      ],
      "text/plain": [
       "<IPython.core.display.Math object>"
      ]
     },
     "metadata": {},
     "output_type": "display_data"
    },
    {
     "data": {
      "text/latex": [
       "$\\displaystyle D^{1}[3,2] = min( D^{0}[3,2]  , (D^{0}[3,1]  +  D^{0}[1,2]) ) = min( 7 , ( 7 + 10 ) ) = 7$"
      ],
      "text/plain": [
       "<IPython.core.display.Math object>"
      ]
     },
     "metadata": {},
     "output_type": "display_data"
    },
    {
     "data": {
      "text/latex": [
       "$\\displaystyle D^{1}[3,4] = min( D^{0}[3,4]  , (D^{0}[3,1]  +  D^{0}[1,4]) ) = min( 1 , ( 7 + 4 ) ) = 1$"
      ],
      "text/plain": [
       "<IPython.core.display.Math object>"
      ]
     },
     "metadata": {},
     "output_type": "display_data"
    },
    {
     "name": "stdout",
     "output_type": "stream",
     "text": [
      "----------\n",
      "for i = 4\n"
     ]
    },
    {
     "data": {
      "text/latex": [
       "$\\displaystyle D^{1}[4,1] = min( D^{0}[4,1]  , (D^{0}[4,1]  +  D^{0}[1,1]) ) = min( 6 , ( 6 + 0 ) ) = 6$"
      ],
      "text/plain": [
       "<IPython.core.display.Math object>"
      ]
     },
     "metadata": {},
     "output_type": "display_data"
    },
    {
     "data": {
      "text/latex": [
       "$\\displaystyle D^{1}[4,2] = min( D^{0}[4,2]  , (D^{0}[4,1]  +  D^{0}[1,2]) ) = min( 16 , ( 6 + 10 ) ) = 16$"
      ],
      "text/plain": [
       "<IPython.core.display.Math object>"
      ]
     },
     "metadata": {},
     "output_type": "display_data"
    },
    {
     "data": {
      "text/latex": [
       "$\\displaystyle D^{1}[4,3] = min( D^{0}[4,3]  , (D^{0}[4,1]  +  D^{0}[1,3]) ) = min( 9 , ( 6 + 3 ) ) = 9$"
      ],
      "text/plain": [
       "<IPython.core.display.Math object>"
      ]
     },
     "metadata": {},
     "output_type": "display_data"
    },
    {
     "name": "stdout",
     "output_type": "stream",
     "text": [
      "----------\n",
      "+----+---+----+---+---+\n",
      "| D¹ | 1 | 2  | 3 | 4 |\n",
      "+----+---+----+---+---+\n",
      "| 1  | 0 | 10 | 3 | 4 |\n",
      "| 2  | 2 | 0  | 5 | 6 |\n",
      "| 3  | 7 | 7  | 0 | 1 |\n",
      "| 4  | 6 | 16 | 9 | 0 |\n",
      "+----+---+----+---+---+\n",
      "--------------------\n",
      "for k = 2\n",
      "for i = 1\n"
     ]
    },
    {
     "data": {
      "text/latex": [
       "$\\displaystyle D^{2}[1,2] = min( D^{1}[1,2]  , (D^{1}[1,2]  +  D^{1}[2,2]) ) = min( 10 , ( 10 + 0 ) ) = 10$"
      ],
      "text/plain": [
       "<IPython.core.display.Math object>"
      ]
     },
     "metadata": {},
     "output_type": "display_data"
    },
    {
     "data": {
      "text/latex": [
       "$\\displaystyle D^{2}[1,3] = min( D^{1}[1,3]  , (D^{1}[1,2]  +  D^{1}[2,3]) ) = min( 3 , ( 10 + 5 ) ) = 3$"
      ],
      "text/plain": [
       "<IPython.core.display.Math object>"
      ]
     },
     "metadata": {},
     "output_type": "display_data"
    },
    {
     "data": {
      "text/latex": [
       "$\\displaystyle D^{2}[1,4] = min( D^{1}[1,4]  , (D^{1}[1,2]  +  D^{1}[2,4]) ) = min( 4 , ( 10 + 6 ) ) = 4$"
      ],
      "text/plain": [
       "<IPython.core.display.Math object>"
      ]
     },
     "metadata": {},
     "output_type": "display_data"
    },
    {
     "name": "stdout",
     "output_type": "stream",
     "text": [
      "----------\n",
      "for i = 2\n"
     ]
    },
    {
     "data": {
      "text/latex": [
       "$\\displaystyle D^{2}[2,1] = min( D^{1}[2,1]  , (D^{1}[2,2]  +  D^{1}[2,1]) ) = min( 2 , ( 0 + 2 ) ) = 2$"
      ],
      "text/plain": [
       "<IPython.core.display.Math object>"
      ]
     },
     "metadata": {},
     "output_type": "display_data"
    },
    {
     "data": {
      "text/latex": [
       "$\\displaystyle D^{2}[2,3] = min( D^{1}[2,3]  , (D^{1}[2,2]  +  D^{1}[2,3]) ) = min( 5 , ( 0 + 5 ) ) = 5$"
      ],
      "text/plain": [
       "<IPython.core.display.Math object>"
      ]
     },
     "metadata": {},
     "output_type": "display_data"
    },
    {
     "data": {
      "text/latex": [
       "$\\displaystyle D^{2}[2,4] = min( D^{1}[2,4]  , (D^{1}[2,2]  +  D^{1}[2,4]) ) = min( 6 , ( 0 + 6 ) ) = 6$"
      ],
      "text/plain": [
       "<IPython.core.display.Math object>"
      ]
     },
     "metadata": {},
     "output_type": "display_data"
    },
    {
     "name": "stdout",
     "output_type": "stream",
     "text": [
      "----------\n",
      "for i = 3\n"
     ]
    },
    {
     "data": {
      "text/latex": [
       "$\\displaystyle D^{2}[3,1] = min( D^{1}[3,1]  , (D^{1}[3,2]  +  D^{1}[2,1]) ) = min( 7 , ( 7 + 2 ) ) = 7$"
      ],
      "text/plain": [
       "<IPython.core.display.Math object>"
      ]
     },
     "metadata": {},
     "output_type": "display_data"
    },
    {
     "data": {
      "text/latex": [
       "$\\displaystyle D^{2}[3,2] = min( D^{1}[3,2]  , (D^{1}[3,2]  +  D^{1}[2,2]) ) = min( 7 , ( 7 + 0 ) ) = 7$"
      ],
      "text/plain": [
       "<IPython.core.display.Math object>"
      ]
     },
     "metadata": {},
     "output_type": "display_data"
    },
    {
     "data": {
      "text/latex": [
       "$\\displaystyle D^{2}[3,4] = min( D^{1}[3,4]  , (D^{1}[3,2]  +  D^{1}[2,4]) ) = min( 1 , ( 7 + 6 ) ) = 1$"
      ],
      "text/plain": [
       "<IPython.core.display.Math object>"
      ]
     },
     "metadata": {},
     "output_type": "display_data"
    },
    {
     "name": "stdout",
     "output_type": "stream",
     "text": [
      "----------\n",
      "for i = 4\n"
     ]
    },
    {
     "data": {
      "text/latex": [
       "$\\displaystyle D^{2}[4,1] = min( D^{1}[4,1]  , (D^{1}[4,2]  +  D^{1}[2,1]) ) = min( 6 , ( 16 + 2 ) ) = 6$"
      ],
      "text/plain": [
       "<IPython.core.display.Math object>"
      ]
     },
     "metadata": {},
     "output_type": "display_data"
    },
    {
     "data": {
      "text/latex": [
       "$\\displaystyle D^{2}[4,2] = min( D^{1}[4,2]  , (D^{1}[4,2]  +  D^{1}[2,2]) ) = min( 16 , ( 16 + 0 ) ) = 16$"
      ],
      "text/plain": [
       "<IPython.core.display.Math object>"
      ]
     },
     "metadata": {},
     "output_type": "display_data"
    },
    {
     "data": {
      "text/latex": [
       "$\\displaystyle D^{2}[4,3] = min( D^{1}[4,3]  , (D^{1}[4,2]  +  D^{1}[2,3]) ) = min( 9 , ( 16 + 5 ) ) = 9$"
      ],
      "text/plain": [
       "<IPython.core.display.Math object>"
      ]
     },
     "metadata": {},
     "output_type": "display_data"
    },
    {
     "name": "stdout",
     "output_type": "stream",
     "text": [
      "----------\n",
      "+----+---+----+---+---+\n",
      "| D² | 1 | 2  | 3 | 4 |\n",
      "+----+---+----+---+---+\n",
      "| 1  | 0 | 10 | 3 | 4 |\n",
      "| 2  | 2 | 0  | 5 | 6 |\n",
      "| 3  | 7 | 7  | 0 | 1 |\n",
      "| 4  | 6 | 16 | 9 | 0 |\n",
      "+----+---+----+---+---+\n",
      "--------------------\n",
      "for k = 3\n",
      "for i = 1\n"
     ]
    },
    {
     "data": {
      "text/latex": [
       "$\\displaystyle D^{3}[1,2] = min( D^{2}[1,2]  , (D^{2}[1,3]  +  D^{2}[3,2]) ) = min( 10 , ( 3 + 7 ) ) = 10$"
      ],
      "text/plain": [
       "<IPython.core.display.Math object>"
      ]
     },
     "metadata": {},
     "output_type": "display_data"
    },
    {
     "data": {
      "text/latex": [
       "$\\displaystyle D^{3}[1,3] = min( D^{2}[1,3]  , (D^{2}[1,3]  +  D^{2}[3,3]) ) = min( 3 , ( 3 + 0 ) ) = 3$"
      ],
      "text/plain": [
       "<IPython.core.display.Math object>"
      ]
     },
     "metadata": {},
     "output_type": "display_data"
    },
    {
     "data": {
      "text/latex": [
       "$\\displaystyle D^{3}[1,4] = min( D^{2}[1,4]  , (D^{2}[1,3]  +  D^{2}[3,4]) ) = min( 4 , ( 3 + 1 ) ) = 4$"
      ],
      "text/plain": [
       "<IPython.core.display.Math object>"
      ]
     },
     "metadata": {},
     "output_type": "display_data"
    },
    {
     "name": "stdout",
     "output_type": "stream",
     "text": [
      "----------\n",
      "for i = 2\n"
     ]
    },
    {
     "data": {
      "text/latex": [
       "$\\displaystyle D^{3}[2,1] = min( D^{2}[2,1]  , (D^{2}[2,3]  +  D^{2}[3,1]) ) = min( 2 , ( 5 + 7 ) ) = 2$"
      ],
      "text/plain": [
       "<IPython.core.display.Math object>"
      ]
     },
     "metadata": {},
     "output_type": "display_data"
    },
    {
     "data": {
      "text/latex": [
       "$\\displaystyle D^{3}[2,3] = min( D^{2}[2,3]  , (D^{2}[2,3]  +  D^{2}[3,3]) ) = min( 5 , ( 5 + 0 ) ) = 5$"
      ],
      "text/plain": [
       "<IPython.core.display.Math object>"
      ]
     },
     "metadata": {},
     "output_type": "display_data"
    },
    {
     "data": {
      "text/latex": [
       "$\\displaystyle D^{3}[2,4] = min( D^{2}[2,4]  , (D^{2}[2,3]  +  D^{2}[3,4]) ) = min( 6 , ( 5 + 1 ) ) = 6$"
      ],
      "text/plain": [
       "<IPython.core.display.Math object>"
      ]
     },
     "metadata": {},
     "output_type": "display_data"
    },
    {
     "name": "stdout",
     "output_type": "stream",
     "text": [
      "----------\n",
      "for i = 3\n"
     ]
    },
    {
     "data": {
      "text/latex": [
       "$\\displaystyle D^{3}[3,1] = min( D^{2}[3,1]  , (D^{2}[3,3]  +  D^{2}[3,1]) ) = min( 7 , ( 0 + 7 ) ) = 7$"
      ],
      "text/plain": [
       "<IPython.core.display.Math object>"
      ]
     },
     "metadata": {},
     "output_type": "display_data"
    },
    {
     "data": {
      "text/latex": [
       "$\\displaystyle D^{3}[3,2] = min( D^{2}[3,2]  , (D^{2}[3,3]  +  D^{2}[3,2]) ) = min( 7 , ( 0 + 7 ) ) = 7$"
      ],
      "text/plain": [
       "<IPython.core.display.Math object>"
      ]
     },
     "metadata": {},
     "output_type": "display_data"
    },
    {
     "data": {
      "text/latex": [
       "$\\displaystyle D^{3}[3,4] = min( D^{2}[3,4]  , (D^{2}[3,3]  +  D^{2}[3,4]) ) = min( 1 , ( 0 + 1 ) ) = 1$"
      ],
      "text/plain": [
       "<IPython.core.display.Math object>"
      ]
     },
     "metadata": {},
     "output_type": "display_data"
    },
    {
     "name": "stdout",
     "output_type": "stream",
     "text": [
      "----------\n",
      "for i = 4\n"
     ]
    },
    {
     "data": {
      "text/latex": [
       "$\\displaystyle D^{3}[4,1] = min( D^{2}[4,1]  , (D^{2}[4,3]  +  D^{2}[3,1]) ) = min( 6 , ( 9 + 7 ) ) = 6$"
      ],
      "text/plain": [
       "<IPython.core.display.Math object>"
      ]
     },
     "metadata": {},
     "output_type": "display_data"
    },
    {
     "data": {
      "text/latex": [
       "$\\displaystyle D^{3}[4,2] = min( D^{2}[4,2]  , (D^{2}[4,3]  +  D^{2}[3,2]) ) = min( 16 , ( 9 + 7 ) ) = 16$"
      ],
      "text/plain": [
       "<IPython.core.display.Math object>"
      ]
     },
     "metadata": {},
     "output_type": "display_data"
    },
    {
     "data": {
      "text/latex": [
       "$\\displaystyle D^{3}[4,3] = min( D^{2}[4,3]  , (D^{2}[4,3]  +  D^{2}[3,3]) ) = min( 9 , ( 9 + 0 ) ) = 9$"
      ],
      "text/plain": [
       "<IPython.core.display.Math object>"
      ]
     },
     "metadata": {},
     "output_type": "display_data"
    },
    {
     "name": "stdout",
     "output_type": "stream",
     "text": [
      "----------\n",
      "+----+---+----+---+---+\n",
      "| D³ | 1 | 2  | 3 | 4 |\n",
      "+----+---+----+---+---+\n",
      "| 1  | 0 | 10 | 3 | 4 |\n",
      "| 2  | 2 | 0  | 5 | 6 |\n",
      "| 3  | 7 | 7  | 0 | 1 |\n",
      "| 4  | 6 | 16 | 9 | 0 |\n",
      "+----+---+----+---+---+\n",
      "--------------------\n",
      "for k = 4\n",
      "for i = 1\n"
     ]
    },
    {
     "data": {
      "text/latex": [
       "$\\displaystyle D^{4}[1,2] = min( D^{3}[1,2]  , (D^{3}[1,4]  +  D^{3}[4,2]) ) = min( 10 , ( 4 + 16 ) ) = 10$"
      ],
      "text/plain": [
       "<IPython.core.display.Math object>"
      ]
     },
     "metadata": {},
     "output_type": "display_data"
    },
    {
     "data": {
      "text/latex": [
       "$\\displaystyle D^{4}[1,3] = min( D^{3}[1,3]  , (D^{3}[1,4]  +  D^{3}[4,3]) ) = min( 3 , ( 4 + 9 ) ) = 3$"
      ],
      "text/plain": [
       "<IPython.core.display.Math object>"
      ]
     },
     "metadata": {},
     "output_type": "display_data"
    },
    {
     "data": {
      "text/latex": [
       "$\\displaystyle D^{4}[1,4] = min( D^{3}[1,4]  , (D^{3}[1,4]  +  D^{3}[4,4]) ) = min( 4 , ( 4 + 0 ) ) = 4$"
      ],
      "text/plain": [
       "<IPython.core.display.Math object>"
      ]
     },
     "metadata": {},
     "output_type": "display_data"
    },
    {
     "name": "stdout",
     "output_type": "stream",
     "text": [
      "----------\n",
      "for i = 2\n"
     ]
    },
    {
     "data": {
      "text/latex": [
       "$\\displaystyle D^{4}[2,1] = min( D^{3}[2,1]  , (D^{3}[2,4]  +  D^{3}[4,1]) ) = min( 2 , ( 6 + 6 ) ) = 2$"
      ],
      "text/plain": [
       "<IPython.core.display.Math object>"
      ]
     },
     "metadata": {},
     "output_type": "display_data"
    },
    {
     "data": {
      "text/latex": [
       "$\\displaystyle D^{4}[2,3] = min( D^{3}[2,3]  , (D^{3}[2,4]  +  D^{3}[4,3]) ) = min( 5 , ( 6 + 9 ) ) = 5$"
      ],
      "text/plain": [
       "<IPython.core.display.Math object>"
      ]
     },
     "metadata": {},
     "output_type": "display_data"
    },
    {
     "data": {
      "text/latex": [
       "$\\displaystyle D^{4}[2,4] = min( D^{3}[2,4]  , (D^{3}[2,4]  +  D^{3}[4,4]) ) = min( 6 , ( 6 + 0 ) ) = 6$"
      ],
      "text/plain": [
       "<IPython.core.display.Math object>"
      ]
     },
     "metadata": {},
     "output_type": "display_data"
    },
    {
     "name": "stdout",
     "output_type": "stream",
     "text": [
      "----------\n",
      "for i = 3\n"
     ]
    },
    {
     "data": {
      "text/latex": [
       "$\\displaystyle D^{4}[3,1] = min( D^{3}[3,1]  , (D^{3}[3,4]  +  D^{3}[4,1]) ) = min( 7 , ( 1 + 6 ) ) = 7$"
      ],
      "text/plain": [
       "<IPython.core.display.Math object>"
      ]
     },
     "metadata": {},
     "output_type": "display_data"
    },
    {
     "data": {
      "text/latex": [
       "$\\displaystyle D^{4}[3,2] = min( D^{3}[3,2]  , (D^{3}[3,4]  +  D^{3}[4,2]) ) = min( 7 , ( 1 + 16 ) ) = 7$"
      ],
      "text/plain": [
       "<IPython.core.display.Math object>"
      ]
     },
     "metadata": {},
     "output_type": "display_data"
    },
    {
     "data": {
      "text/latex": [
       "$\\displaystyle D^{4}[3,4] = min( D^{3}[3,4]  , (D^{3}[3,4]  +  D^{3}[4,4]) ) = min( 1 , ( 1 + 0 ) ) = 1$"
      ],
      "text/plain": [
       "<IPython.core.display.Math object>"
      ]
     },
     "metadata": {},
     "output_type": "display_data"
    },
    {
     "name": "stdout",
     "output_type": "stream",
     "text": [
      "----------\n",
      "for i = 4\n"
     ]
    },
    {
     "data": {
      "text/latex": [
       "$\\displaystyle D^{4}[4,1] = min( D^{3}[4,1]  , (D^{3}[4,4]  +  D^{3}[4,1]) ) = min( 6 , ( 0 + 6 ) ) = 6$"
      ],
      "text/plain": [
       "<IPython.core.display.Math object>"
      ]
     },
     "metadata": {},
     "output_type": "display_data"
    },
    {
     "data": {
      "text/latex": [
       "$\\displaystyle D^{4}[4,2] = min( D^{3}[4,2]  , (D^{3}[4,4]  +  D^{3}[4,2]) ) = min( 16 , ( 0 + 16 ) ) = 16$"
      ],
      "text/plain": [
       "<IPython.core.display.Math object>"
      ]
     },
     "metadata": {},
     "output_type": "display_data"
    },
    {
     "data": {
      "text/latex": [
       "$\\displaystyle D^{4}[4,3] = min( D^{3}[4,3]  , (D^{3}[4,4]  +  D^{3}[4,3]) ) = min( 9 , ( 0 + 9 ) ) = 9$"
      ],
      "text/plain": [
       "<IPython.core.display.Math object>"
      ]
     },
     "metadata": {},
     "output_type": "display_data"
    },
    {
     "name": "stdout",
     "output_type": "stream",
     "text": [
      "----------\n",
      "+----+---+----+---+---+\n",
      "| D⁴ | 1 | 2  | 3 | 4 |\n",
      "+----+---+----+---+---+\n",
      "| 1  | 0 | 10 | 3 | 4 |\n",
      "| 2  | 2 | 0  | 5 | 6 |\n",
      "| 3  | 7 | 7  | 0 | 1 |\n",
      "| 4  | 6 | 16 | 9 | 0 |\n",
      "+----+---+----+---+---+\n",
      "--------------------\n"
     ]
    }
   ],
   "source": [
    "FloydWarshall(adm)"
   ]
  }
 ],
 "metadata": {
  "kernelspec": {
   "display_name": "Python 3 (ipykernel)",
   "language": "python",
   "name": "python3"
  },
  "language_info": {
   "codemirror_mode": {
    "name": "ipython",
    "version": 3
   },
   "file_extension": ".py",
   "mimetype": "text/x-python",
   "name": "python",
   "nbconvert_exporter": "python",
   "pygments_lexer": "ipython3",
   "version": "3.9.7"
  }
 },
 "nbformat": 4,
 "nbformat_minor": 5
}
