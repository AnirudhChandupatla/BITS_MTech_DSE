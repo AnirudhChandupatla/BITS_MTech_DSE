{
 "cells": [
  {
   "cell_type": "markdown",
   "id": "c645ad72",
   "metadata": {},
   "source": [
    "![warshall algorithm](https://github.com/AnirudhChandupatla/BITS_MTech_DSE/blob/main/WarshallsAlgo.png?raw=true)"
   ]
  },
  {
   "cell_type": "code",
   "execution_count": 3,
   "id": "0e893989",
   "metadata": {},
   "outputs": [
    {
     "name": "stdout",
     "output_type": "stream",
     "text": [
      "+---+---+---+---+---+---+\n",
      "|   | A | B | C | D | E |\n",
      "+---+---+---+---+---+---+\n",
      "| A | 0 | 1 | 0 | 1 | 0 |\n",
      "| B | 0 | 0 | 0 | 0 | 0 |\n",
      "| C | 0 | 1 | 0 | 0 | 0 |\n",
      "| D | 0 | 0 | 1 | 0 | 1 |\n",
      "| E | 0 | 0 | 1 | 0 | 0 |\n",
      "+---+---+---+---+---+---+\n"
     ]
    },
    {
     "data": {
      "image/png": "[encoded data removed]",
      "text/plain": [
       "<Figure size 432x288 with 1 Axes>"
      ]
     },
     "metadata": {},
     "output_type": "display_data"
    }
   ],
   "source": [
    "try:import networkx as nx \n",
    "except:\n",
    "    !pip install networkx\n",
    "    import networkx as nx\n",
    "    \n",
    "try:import matplotlib.pyplot as plt \n",
    "except:\n",
    "    !pip install matplotlib\n",
    "    import matplotlib.pyplot as plt \n",
    "    \n",
    "try:from prettytable import PrettyTable\n",
    "except:\n",
    "    !pip install prettytable\n",
    "    from prettytable import PrettyTable\n",
    "    \n",
    "adm = [[0,1,0,1,0],\n",
    "       [0,0,0,0,0],\n",
    "       [0,1,0,0,0],\n",
    "       [0,0,1,0,1],\n",
    "       [0,0,1,0,0]\n",
    "      ]\n",
    "x = PrettyTable()\n",
    "x.field_names = [''] + [chr(65+i) for i in range(len(adm))]\n",
    "i=0\n",
    "for r in adm:\n",
    "    x.add_row([chr(65+i)]+r)\n",
    "    i+=1\n",
    "print(x)\n",
    "\n",
    "G = nx.DiGraph() \n",
    "for i in range(len(adm)): \n",
    "    for j in range( len(adm) ): \n",
    "        if adm[i][j] == 1: G.add_edge(i,j) \n",
    "\n",
    "nx.draw( G ,with_labels=True) \n",
    "plt.show() "
   ]
  },
  {
   "cell_type": "code",
   "execution_count": 16,
   "id": "8adf9f32",
   "metadata": {},
   "outputs": [],
   "source": [
    "from pprint import pprint\n",
    "from IPython.display import display, Math\n",
    "superscript = str.maketrans(\"0123456789\", \"⁰¹²³⁴⁵⁶⁷⁸⁹\")\n",
    "def warshall(adm):\n",
    "    R = adm\n",
    "    ll = len(adm)\n",
    "    for k in range(ll):\n",
    "        #R.append(adm)\n",
    "        print('for k = {}'.format(k+1))\n",
    "        for i in range(ll):\n",
    "            print('for i = {}'.format(i+1))\n",
    "            for j in range(ll):\n",
    "                prevRij = R[i][j]\n",
    "                R[i][j] = R[i][j] or (R[i][k] and R[k][j])\n",
    "                display(Math(\"R^#{}@[{},{}] = R^#{}@[{},{}]  or  (R^#{}@[{},{}]  and  R^#{}@[{},{}]) = \"\n",
    "                      .format(k+1,i+1,j+1,k,i+1,j+1,k,i+1,k+1,k,k+1,j+1).replace('#','{').replace('@','}')  +\n",
    "                             '{} or ( {} and {} ) = '.format(prevRij,R[i][k],R[k][j]) + '{}'.format(R[i][j])))\n",
    "                \n",
    "            print('-'*10)\n",
    "        x = PrettyTable()\n",
    "        x.field_names = ['R{}'.format(k+1).translate(superscript)] + [chr(65+i) for i in range(ll)]\n",
    "        i=0\n",
    "        for r in R:\n",
    "            x.add_row([chr(65+i)]+r)\n",
    "            i+=1\n",
    "        print(x)\n",
    "        print('-'*20)"
   ]
  },
  {
   "cell_type": "code",
   "execution_count": 17,
   "id": "bdc005fa",
   "metadata": {
    "scrolled": false
   },
   "outputs": [
    {
     "name": "stdout",
     "output_type": "stream",
     "text": [
      "for k = 1\n",
      "for i = 1\n"
     ]
    },
    {
     "data": {
      "text/latex": [
       "$\\displaystyle R^{1}[1,1] = R^{0}[1,1]  or  (R^{0}[1,1]  and  R^{0}[1,1]) = 0 or ( 0 and 0 ) = 0$"
      ],
      "text/plain": [
       "<IPython.core.display.Math object>"
      ]
     },
     "metadata": {},
     "output_type": "display_data"
    },
    {
     "data": {
      "text/latex": [
       "$\\displaystyle R^{1}[1,2] = R^{0}[1,2]  or  (R^{0}[1,1]  and  R^{0}[1,2]) = 1 or ( 0 and 1 ) = 1$"
      ],
      "text/plain": [
       "<IPython.core.display.Math object>"
      ]
     },
     "metadata": {},
     "output_type": "display_data"
    },
    {
     "data": {
      "text/latex": [
       "$\\displaystyle R^{1}[1,3] = R^{0}[1,3]  or  (R^{0}[1,1]  and  R^{0}[1,3]) = 0 or ( 0 and 0 ) = 0$"
      ],
      "text/plain": [
       "<IPython.core.display.Math object>"
      ]
     },
     "metadata": {},
     "output_type": "display_data"
    },
    {
     "data": {
      "text/latex": [
       "$\\displaystyle R^{1}[1,4] = R^{0}[1,4]  or  (R^{0}[1,1]  and  R^{0}[1,4]) = 1 or ( 0 and 1 ) = 1$"
      ],
      "text/plain": [
       "<IPython.core.display.Math object>"
      ]
     },
     "metadata": {},
     "output_type": "display_data"
    },
    {
     "data": {
      "text/latex": [
       "$\\displaystyle R^{1}[1,5] = R^{0}[1,5]  or  (R^{0}[1,1]  and  R^{0}[1,5]) = 0 or ( 0 and 0 ) = 0$"
      ],
      "text/plain": [
       "<IPython.core.display.Math object>"
      ]
     },
     "metadata": {},
     "output_type": "display_data"
    },
    {
     "name": "stdout",
     "output_type": "stream",
     "text": [
      "----------\n",
      "for i = 2\n"
     ]
    },
    {
     "data": {
      "text/latex": [
       "$\\displaystyle R^{1}[2,1] = R^{0}[2,1]  or  (R^{0}[2,1]  and  R^{0}[1,1]) = 0 or ( 0 and 0 ) = 0$"
      ],
      "text/plain": [
       "<IPython.core.display.Math object>"
      ]
     },
     "metadata": {},
     "output_type": "display_data"
    },
    {
     "data": {
      "text/latex": [
       "$\\displaystyle R^{1}[2,2] = R^{0}[2,2]  or  (R^{0}[2,1]  and  R^{0}[1,2]) = 0 or ( 0 and 1 ) = 0$"
      ],
      "text/plain": [
       "<IPython.core.display.Math object>"
      ]
     },
     "metadata": {},
     "output_type": "display_data"
    },
    {
     "data": {
      "text/latex": [
       "$\\displaystyle R^{1}[2,3] = R^{0}[2,3]  or  (R^{0}[2,1]  and  R^{0}[1,3]) = 0 or ( 0 and 0 ) = 0$"
      ],
      "text/plain": [
       "<IPython.core.display.Math object>"
      ]
     },
     "metadata": {},
     "output_type": "display_data"
    },
    {
     "data": {
      "text/latex": [
       "$\\displaystyle R^{1}[2,4] = R^{0}[2,4]  or  (R^{0}[2,1]  and  R^{0}[1,4]) = 0 or ( 0 and 1 ) = 0$"
      ],
      "text/plain": [
       "<IPython.core.display.Math object>"
      ]
     },
     "metadata": {},
     "output_type": "display_data"
    },
    {
     "data": {
      "text/latex": [
       "$\\displaystyle R^{1}[2,5] = R^{0}[2,5]  or  (R^{0}[2,1]  and  R^{0}[1,5]) = 0 or ( 0 and 0 ) = 0$"
      ],
      "text/plain": [
       "<IPython.core.display.Math object>"
      ]
     },
     "metadata": {},
     "output_type": "display_data"
    },
    {
     "name": "stdout",
     "output_type": "stream",
     "text": [
      "----------\n",
      "for i = 3\n"
     ]
    },
    {
     "data": {
      "text/latex": [
       "$\\displaystyle R^{1}[3,1] = R^{0}[3,1]  or  (R^{0}[3,1]  and  R^{0}[1,1]) = 0 or ( 0 and 0 ) = 0$"
      ],
      "text/plain": [
       "<IPython.core.display.Math object>"
      ]
     },
     "metadata": {},
     "output_type": "display_data"
    },
    {
     "data": {
      "text/latex": [
       "$\\displaystyle R^{1}[3,2] = R^{0}[3,2]  or  (R^{0}[3,1]  and  R^{0}[1,2]) = 1 or ( 0 and 1 ) = 1$"
      ],
      "text/plain": [
       "<IPython.core.display.Math object>"
      ]
     },
     "metadata": {},
     "output_type": "display_data"
    },
    {
     "data": {
      "text/latex": [
       "$\\displaystyle R^{1}[3,3] = R^{0}[3,3]  or  (R^{0}[3,1]  and  R^{0}[1,3]) = 0 or ( 0 and 0 ) = 0$"
      ],
      "text/plain": [
       "<IPython.core.display.Math object>"
      ]
     },
     "metadata": {},
     "output_type": "display_data"
    },
    {
     "data": {
      "text/latex": [
       "$\\displaystyle R^{1}[3,4] = R^{0}[3,4]  or  (R^{0}[3,1]  and  R^{0}[1,4]) = 0 or ( 0 and 1 ) = 0$"
      ],
      "text/plain": [
       "<IPython.core.display.Math object>"
      ]
     },
     "metadata": {},
     "output_type": "display_data"
    },
    {
     "data": {
      "text/latex": [
       "$\\displaystyle R^{1}[3,5] = R^{0}[3,5]  or  (R^{0}[3,1]  and  R^{0}[1,5]) = 0 or ( 0 and 0 ) = 0$"
      ],
      "text/plain": [
       "<IPython.core.display.Math object>"
      ]
     },
     "metadata": {},
     "output_type": "display_data"
    },
    {
     "name": "stdout",
     "output_type": "stream",
     "text": [
      "----------\n",
      "for i = 4\n"
     ]
    },
    {
     "data": {
      "text/latex": [
       "$\\displaystyle R^{1}[4,1] = R^{0}[4,1]  or  (R^{0}[4,1]  and  R^{0}[1,1]) = 0 or ( 0 and 0 ) = 0$"
      ],
      "text/plain": [
       "<IPython.core.display.Math object>"
      ]
     },
     "metadata": {},
     "output_type": "display_data"
    },
    {
     "data": {
      "text/latex": [
       "$\\displaystyle R^{1}[4,2] = R^{0}[4,2]  or  (R^{0}[4,1]  and  R^{0}[1,2]) = 0 or ( 0 and 1 ) = 0$"
      ],
      "text/plain": [
       "<IPython.core.display.Math object>"
      ]
     },
     "metadata": {},
     "output_type": "display_data"
    },
    {
     "data": {
      "text/latex": [
       "$\\displaystyle R^{1}[4,3] = R^{0}[4,3]  or  (R^{0}[4,1]  and  R^{0}[1,3]) = 1 or ( 0 and 0 ) = 1$"
      ],
      "text/plain": [
       "<IPython.core.display.Math object>"
      ]
     },
     "metadata": {},
     "output_type": "display_data"
    },
    {
     "data": {
      "text/latex": [
       "$\\displaystyle R^{1}[4,4] = R^{0}[4,4]  or  (R^{0}[4,1]  and  R^{0}[1,4]) = 0 or ( 0 and 1 ) = 0$"
      ],
      "text/plain": [
       "<IPython.core.display.Math object>"
      ]
     },
     "metadata": {},
     "output_type": "display_data"
    },
    {
     "data": {
      "text/latex": [
       "$\\displaystyle R^{1}[4,5] = R^{0}[4,5]  or  (R^{0}[4,1]  and  R^{0}[1,5]) = 1 or ( 0 and 0 ) = 1$"
      ],
      "text/plain": [
       "<IPython.core.display.Math object>"
      ]
     },
     "metadata": {},
     "output_type": "display_data"
    },
    {
     "name": "stdout",
     "output_type": "stream",
     "text": [
      "----------\n",
      "for i = 5\n"
     ]
    },
    {
     "data": {
      "text/latex": [
       "$\\displaystyle R^{1}[5,1] = R^{0}[5,1]  or  (R^{0}[5,1]  and  R^{0}[1,1]) = 0 or ( 0 and 0 ) = 0$"
      ],
      "text/plain": [
       "<IPython.core.display.Math object>"
      ]
     },
     "metadata": {},
     "output_type": "display_data"
    },
    {
     "data": {
      "text/latex": [
       "$\\displaystyle R^{1}[5,2] = R^{0}[5,2]  or  (R^{0}[5,1]  and  R^{0}[1,2]) = 0 or ( 0 and 1 ) = 0$"
      ],
      "text/plain": [
       "<IPython.core.display.Math object>"
      ]
     },
     "metadata": {},
     "output_type": "display_data"
    },
    {
     "data": {
      "text/latex": [
       "$\\displaystyle R^{1}[5,3] = R^{0}[5,3]  or  (R^{0}[5,1]  and  R^{0}[1,3]) = 1 or ( 0 and 0 ) = 1$"
      ],
      "text/plain": [
       "<IPython.core.display.Math object>"
      ]
     },
     "metadata": {},
     "output_type": "display_data"
    },
    {
     "data": {
      "text/latex": [
       "$\\displaystyle R^{1}[5,4] = R^{0}[5,4]  or  (R^{0}[5,1]  and  R^{0}[1,4]) = 0 or ( 0 and 1 ) = 0$"
      ],
      "text/plain": [
       "<IPython.core.display.Math object>"
      ]
     },
     "metadata": {},
     "output_type": "display_data"
    },
    {
     "data": {
      "text/latex": [
       "$\\displaystyle R^{1}[5,5] = R^{0}[5,5]  or  (R^{0}[5,1]  and  R^{0}[1,5]) = 0 or ( 0 and 0 ) = 0$"
      ],
      "text/plain": [
       "<IPython.core.display.Math object>"
      ]
     },
     "metadata": {},
     "output_type": "display_data"
    },
    {
     "name": "stdout",
     "output_type": "stream",
     "text": [
      "----------\n",
      "+----+---+---+---+---+---+\n",
      "| R¹ | A | B | C | D | E |\n",
      "+----+---+---+---+---+---+\n",
      "| A  | 0 | 1 | 0 | 1 | 0 |\n",
      "| B  | 0 | 0 | 0 | 0 | 0 |\n",
      "| C  | 0 | 1 | 0 | 0 | 0 |\n",
      "| D  | 0 | 0 | 1 | 0 | 1 |\n",
      "| E  | 0 | 0 | 1 | 0 | 0 |\n",
      "+----+---+---+---+---+---+\n",
      "--------------------\n",
      "for k = 2\n",
      "for i = 1\n"
     ]
    },
    {
     "data": {
      "text/latex": [
       "$\\displaystyle R^{2}[1,1] = R^{1}[1,1]  or  (R^{1}[1,2]  and  R^{1}[2,1]) = 0 or ( 1 and 0 ) = 0$"
      ],
      "text/plain": [
       "<IPython.core.display.Math object>"
      ]
     },
     "metadata": {},
     "output_type": "display_data"
    },
    {
     "data": {
      "text/latex": [
       "$\\displaystyle R^{2}[1,2] = R^{1}[1,2]  or  (R^{1}[1,2]  and  R^{1}[2,2]) = 1 or ( 1 and 0 ) = 1$"
      ],
      "text/plain": [
       "<IPython.core.display.Math object>"
      ]
     },
     "metadata": {},
     "output_type": "display_data"
    },
    {
     "data": {
      "text/latex": [
       "$\\displaystyle R^{2}[1,3] = R^{1}[1,3]  or  (R^{1}[1,2]  and  R^{1}[2,3]) = 0 or ( 1 and 0 ) = 0$"
      ],
      "text/plain": [
       "<IPython.core.display.Math object>"
      ]
     },
     "metadata": {},
     "output_type": "display_data"
    },
    {
     "data": {
      "text/latex": [
       "$\\displaystyle R^{2}[1,4] = R^{1}[1,4]  or  (R^{1}[1,2]  and  R^{1}[2,4]) = 1 or ( 1 and 0 ) = 1$"
      ],
      "text/plain": [
       "<IPython.core.display.Math object>"
      ]
     },
     "metadata": {},
     "output_type": "display_data"
    },
    {
     "data": {
      "text/latex": [
       "$\\displaystyle R^{2}[1,5] = R^{1}[1,5]  or  (R^{1}[1,2]  and  R^{1}[2,5]) = 0 or ( 1 and 0 ) = 0$"
      ],
      "text/plain": [
       "<IPython.core.display.Math object>"
      ]
     },
     "metadata": {},
     "output_type": "display_data"
    },
    {
     "name": "stdout",
     "output_type": "stream",
     "text": [
      "----------\n",
      "for i = 2\n"
     ]
    },
    {
     "data": {
      "text/latex": [
       "$\\displaystyle R^{2}[2,1] = R^{1}[2,1]  or  (R^{1}[2,2]  and  R^{1}[2,1]) = 0 or ( 0 and 0 ) = 0$"
      ],
      "text/plain": [
       "<IPython.core.display.Math object>"
      ]
     },
     "metadata": {},
     "output_type": "display_data"
    },
    {
     "data": {
      "text/latex": [
       "$\\displaystyle R^{2}[2,2] = R^{1}[2,2]  or  (R^{1}[2,2]  and  R^{1}[2,2]) = 0 or ( 0 and 0 ) = 0$"
      ],
      "text/plain": [
       "<IPython.core.display.Math object>"
      ]
     },
     "metadata": {},
     "output_type": "display_data"
    },
    {
     "data": {
      "text/latex": [
       "$\\displaystyle R^{2}[2,3] = R^{1}[2,3]  or  (R^{1}[2,2]  and  R^{1}[2,3]) = 0 or ( 0 and 0 ) = 0$"
      ],
      "text/plain": [
       "<IPython.core.display.Math object>"
      ]
     },
     "metadata": {},
     "output_type": "display_data"
    },
    {
     "data": {
      "text/latex": [
       "$\\displaystyle R^{2}[2,4] = R^{1}[2,4]  or  (R^{1}[2,2]  and  R^{1}[2,4]) = 0 or ( 0 and 0 ) = 0$"
      ],
      "text/plain": [
       "<IPython.core.display.Math object>"
      ]
     },
     "metadata": {},
     "output_type": "display_data"
    },
    {
     "data": {
      "text/latex": [
       "$\\displaystyle R^{2}[2,5] = R^{1}[2,5]  or  (R^{1}[2,2]  and  R^{1}[2,5]) = 0 or ( 0 and 0 ) = 0$"
      ],
      "text/plain": [
       "<IPython.core.display.Math object>"
      ]
     },
     "metadata": {},
     "output_type": "display_data"
    },
    {
     "name": "stdout",
     "output_type": "stream",
     "text": [
      "----------\n",
      "for i = 3\n"
     ]
    },
    {
     "data": {
      "text/latex": [
       "$\\displaystyle R^{2}[3,1] = R^{1}[3,1]  or  (R^{1}[3,2]  and  R^{1}[2,1]) = 0 or ( 1 and 0 ) = 0$"
      ],
      "text/plain": [
       "<IPython.core.display.Math object>"
      ]
     },
     "metadata": {},
     "output_type": "display_data"
    },
    {
     "data": {
      "text/latex": [
       "$\\displaystyle R^{2}[3,2] = R^{1}[3,2]  or  (R^{1}[3,2]  and  R^{1}[2,2]) = 1 or ( 1 and 0 ) = 1$"
      ],
      "text/plain": [
       "<IPython.core.display.Math object>"
      ]
     },
     "metadata": {},
     "output_type": "display_data"
    },
    {
     "data": {
      "text/latex": [
       "$\\displaystyle R^{2}[3,3] = R^{1}[3,3]  or  (R^{1}[3,2]  and  R^{1}[2,3]) = 0 or ( 1 and 0 ) = 0$"
      ],
      "text/plain": [
       "<IPython.core.display.Math object>"
      ]
     },
     "metadata": {},
     "output_type": "display_data"
    },
    {
     "data": {
      "text/latex": [
       "$\\displaystyle R^{2}[3,4] = R^{1}[3,4]  or  (R^{1}[3,2]  and  R^{1}[2,4]) = 0 or ( 1 and 0 ) = 0$"
      ],
      "text/plain": [
       "<IPython.core.display.Math object>"
      ]
     },
     "metadata": {},
     "output_type": "display_data"
    },
    {
     "data": {
      "text/latex": [
       "$\\displaystyle R^{2}[3,5] = R^{1}[3,5]  or  (R^{1}[3,2]  and  R^{1}[2,5]) = 0 or ( 1 and 0 ) = 0$"
      ],
      "text/plain": [
       "<IPython.core.display.Math object>"
      ]
     },
     "metadata": {},
     "output_type": "display_data"
    },
    {
     "name": "stdout",
     "output_type": "stream",
     "text": [
      "----------\n",
      "for i = 4\n"
     ]
    },
    {
     "data": {
      "text/latex": [
       "$\\displaystyle R^{2}[4,1] = R^{1}[4,1]  or  (R^{1}[4,2]  and  R^{1}[2,1]) = 0 or ( 0 and 0 ) = 0$"
      ],
      "text/plain": [
       "<IPython.core.display.Math object>"
      ]
     },
     "metadata": {},
     "output_type": "display_data"
    },
    {
     "data": {
      "text/latex": [
       "$\\displaystyle R^{2}[4,2] = R^{1}[4,2]  or  (R^{1}[4,2]  and  R^{1}[2,2]) = 0 or ( 0 and 0 ) = 0$"
      ],
      "text/plain": [
       "<IPython.core.display.Math object>"
      ]
     },
     "metadata": {},
     "output_type": "display_data"
    },
    {
     "data": {
      "text/latex": [
       "$\\displaystyle R^{2}[4,3] = R^{1}[4,3]  or  (R^{1}[4,2]  and  R^{1}[2,3]) = 1 or ( 0 and 0 ) = 1$"
      ],
      "text/plain": [
       "<IPython.core.display.Math object>"
      ]
     },
     "metadata": {},
     "output_type": "display_data"
    },
    {
     "data": {
      "text/latex": [
       "$\\displaystyle R^{2}[4,4] = R^{1}[4,4]  or  (R^{1}[4,2]  and  R^{1}[2,4]) = 0 or ( 0 and 0 ) = 0$"
      ],
      "text/plain": [
       "<IPython.core.display.Math object>"
      ]
     },
     "metadata": {},
     "output_type": "display_data"
    },
    {
     "data": {
      "text/latex": [
       "$\\displaystyle R^{2}[4,5] = R^{1}[4,5]  or  (R^{1}[4,2]  and  R^{1}[2,5]) = 1 or ( 0 and 0 ) = 1$"
      ],
      "text/plain": [
       "<IPython.core.display.Math object>"
      ]
     },
     "metadata": {},
     "output_type": "display_data"
    },
    {
     "name": "stdout",
     "output_type": "stream",
     "text": [
      "----------\n",
      "for i = 5\n"
     ]
    },
    {
     "data": {
      "text/latex": [
       "$\\displaystyle R^{2}[5,1] = R^{1}[5,1]  or  (R^{1}[5,2]  and  R^{1}[2,1]) = 0 or ( 0 and 0 ) = 0$"
      ],
      "text/plain": [
       "<IPython.core.display.Math object>"
      ]
     },
     "metadata": {},
     "output_type": "display_data"
    },
    {
     "data": {
      "text/latex": [
       "$\\displaystyle R^{2}[5,2] = R^{1}[5,2]  or  (R^{1}[5,2]  and  R^{1}[2,2]) = 0 or ( 0 and 0 ) = 0$"
      ],
      "text/plain": [
       "<IPython.core.display.Math object>"
      ]
     },
     "metadata": {},
     "output_type": "display_data"
    },
    {
     "data": {
      "text/latex": [
       "$\\displaystyle R^{2}[5,3] = R^{1}[5,3]  or  (R^{1}[5,2]  and  R^{1}[2,3]) = 1 or ( 0 and 0 ) = 1$"
      ],
      "text/plain": [
       "<IPython.core.display.Math object>"
      ]
     },
     "metadata": {},
     "output_type": "display_data"
    },
    {
     "data": {
      "text/latex": [
       "$\\displaystyle R^{2}[5,4] = R^{1}[5,4]  or  (R^{1}[5,2]  and  R^{1}[2,4]) = 0 or ( 0 and 0 ) = 0$"
      ],
      "text/plain": [
       "<IPython.core.display.Math object>"
      ]
     },
     "metadata": {},
     "output_type": "display_data"
    },
    {
     "data": {
      "text/latex": [
       "$\\displaystyle R^{2}[5,5] = R^{1}[5,5]  or  (R^{1}[5,2]  and  R^{1}[2,5]) = 0 or ( 0 and 0 ) = 0$"
      ],
      "text/plain": [
       "<IPython.core.display.Math object>"
      ]
     },
     "metadata": {},
     "output_type": "display_data"
    },
    {
     "name": "stdout",
     "output_type": "stream",
     "text": [
      "----------\n",
      "+----+---+---+---+---+---+\n",
      "| R² | A | B | C | D | E |\n",
      "+----+---+---+---+---+---+\n",
      "| A  | 0 | 1 | 0 | 1 | 0 |\n",
      "| B  | 0 | 0 | 0 | 0 | 0 |\n",
      "| C  | 0 | 1 | 0 | 0 | 0 |\n",
      "| D  | 0 | 0 | 1 | 0 | 1 |\n",
      "| E  | 0 | 0 | 1 | 0 | 0 |\n",
      "+----+---+---+---+---+---+\n",
      "--------------------\n",
      "for k = 3\n",
      "for i = 1\n"
     ]
    },
    {
     "data": {
      "text/latex": [
       "$\\displaystyle R^{3}[1,1] = R^{2}[1,1]  or  (R^{2}[1,3]  and  R^{2}[3,1]) = 0 or ( 0 and 0 ) = 0$"
      ],
      "text/plain": [
       "<IPython.core.display.Math object>"
      ]
     },
     "metadata": {},
     "output_type": "display_data"
    },
    {
     "data": {
      "text/latex": [
       "$\\displaystyle R^{3}[1,2] = R^{2}[1,2]  or  (R^{2}[1,3]  and  R^{2}[3,2]) = 1 or ( 0 and 1 ) = 1$"
      ],
      "text/plain": [
       "<IPython.core.display.Math object>"
      ]
     },
     "metadata": {},
     "output_type": "display_data"
    },
    {
     "data": {
      "text/latex": [
       "$\\displaystyle R^{3}[1,3] = R^{2}[1,3]  or  (R^{2}[1,3]  and  R^{2}[3,3]) = 0 or ( 0 and 0 ) = 0$"
      ],
      "text/plain": [
       "<IPython.core.display.Math object>"
      ]
     },
     "metadata": {},
     "output_type": "display_data"
    },
    {
     "data": {
      "text/latex": [
       "$\\displaystyle R^{3}[1,4] = R^{2}[1,4]  or  (R^{2}[1,3]  and  R^{2}[3,4]) = 1 or ( 0 and 0 ) = 1$"
      ],
      "text/plain": [
       "<IPython.core.display.Math object>"
      ]
     },
     "metadata": {},
     "output_type": "display_data"
    },
    {
     "data": {
      "text/latex": [
       "$\\displaystyle R^{3}[1,5] = R^{2}[1,5]  or  (R^{2}[1,3]  and  R^{2}[3,5]) = 0 or ( 0 and 0 ) = 0$"
      ],
      "text/plain": [
       "<IPython.core.display.Math object>"
      ]
     },
     "metadata": {},
     "output_type": "display_data"
    },
    {
     "name": "stdout",
     "output_type": "stream",
     "text": [
      "----------\n",
      "for i = 2\n"
     ]
    },
    {
     "data": {
      "text/latex": [
       "$\\displaystyle R^{3}[2,1] = R^{2}[2,1]  or  (R^{2}[2,3]  and  R^{2}[3,1]) = 0 or ( 0 and 0 ) = 0$"
      ],
      "text/plain": [
       "<IPython.core.display.Math object>"
      ]
     },
     "metadata": {},
     "output_type": "display_data"
    },
    {
     "data": {
      "text/latex": [
       "$\\displaystyle R^{3}[2,2] = R^{2}[2,2]  or  (R^{2}[2,3]  and  R^{2}[3,2]) = 0 or ( 0 and 1 ) = 0$"
      ],
      "text/plain": [
       "<IPython.core.display.Math object>"
      ]
     },
     "metadata": {},
     "output_type": "display_data"
    },
    {
     "data": {
      "text/latex": [
       "$\\displaystyle R^{3}[2,3] = R^{2}[2,3]  or  (R^{2}[2,3]  and  R^{2}[3,3]) = 0 or ( 0 and 0 ) = 0$"
      ],
      "text/plain": [
       "<IPython.core.display.Math object>"
      ]
     },
     "metadata": {},
     "output_type": "display_data"
    },
    {
     "data": {
      "text/latex": [
       "$\\displaystyle R^{3}[2,4] = R^{2}[2,4]  or  (R^{2}[2,3]  and  R^{2}[3,4]) = 0 or ( 0 and 0 ) = 0$"
      ],
      "text/plain": [
       "<IPython.core.display.Math object>"
      ]
     },
     "metadata": {},
     "output_type": "display_data"
    },
    {
     "data": {
      "text/latex": [
       "$\\displaystyle R^{3}[2,5] = R^{2}[2,5]  or  (R^{2}[2,3]  and  R^{2}[3,5]) = 0 or ( 0 and 0 ) = 0$"
      ],
      "text/plain": [
       "<IPython.core.display.Math object>"
      ]
     },
     "metadata": {},
     "output_type": "display_data"
    },
    {
     "name": "stdout",
     "output_type": "stream",
     "text": [
      "----------\n",
      "for i = 3\n"
     ]
    },
    {
     "data": {
      "text/latex": [
       "$\\displaystyle R^{3}[3,1] = R^{2}[3,1]  or  (R^{2}[3,3]  and  R^{2}[3,1]) = 0 or ( 0 and 0 ) = 0$"
      ],
      "text/plain": [
       "<IPython.core.display.Math object>"
      ]
     },
     "metadata": {},
     "output_type": "display_data"
    },
    {
     "data": {
      "text/latex": [
       "$\\displaystyle R^{3}[3,2] = R^{2}[3,2]  or  (R^{2}[3,3]  and  R^{2}[3,2]) = 1 or ( 0 and 1 ) = 1$"
      ],
      "text/plain": [
       "<IPython.core.display.Math object>"
      ]
     },
     "metadata": {},
     "output_type": "display_data"
    },
    {
     "data": {
      "text/latex": [
       "$\\displaystyle R^{3}[3,3] = R^{2}[3,3]  or  (R^{2}[3,3]  and  R^{2}[3,3]) = 0 or ( 0 and 0 ) = 0$"
      ],
      "text/plain": [
       "<IPython.core.display.Math object>"
      ]
     },
     "metadata": {},
     "output_type": "display_data"
    },
    {
     "data": {
      "text/latex": [
       "$\\displaystyle R^{3}[3,4] = R^{2}[3,4]  or  (R^{2}[3,3]  and  R^{2}[3,4]) = 0 or ( 0 and 0 ) = 0$"
      ],
      "text/plain": [
       "<IPython.core.display.Math object>"
      ]
     },
     "metadata": {},
     "output_type": "display_data"
    },
    {
     "data": {
      "text/latex": [
       "$\\displaystyle R^{3}[3,5] = R^{2}[3,5]  or  (R^{2}[3,3]  and  R^{2}[3,5]) = 0 or ( 0 and 0 ) = 0$"
      ],
      "text/plain": [
       "<IPython.core.display.Math object>"
      ]
     },
     "metadata": {},
     "output_type": "display_data"
    },
    {
     "name": "stdout",
     "output_type": "stream",
     "text": [
      "----------\n",
      "for i = 4\n"
     ]
    },
    {
     "data": {
      "text/latex": [
       "$\\displaystyle R^{3}[4,1] = R^{2}[4,1]  or  (R^{2}[4,3]  and  R^{2}[3,1]) = 0 or ( 1 and 0 ) = 0$"
      ],
      "text/plain": [
       "<IPython.core.display.Math object>"
      ]
     },
     "metadata": {},
     "output_type": "display_data"
    },
    {
     "data": {
      "text/latex": [
       "$\\displaystyle R^{3}[4,2] = R^{2}[4,2]  or  (R^{2}[4,3]  and  R^{2}[3,2]) = 0 or ( 1 and 1 ) = 1$"
      ],
      "text/plain": [
       "<IPython.core.display.Math object>"
      ]
     },
     "metadata": {},
     "output_type": "display_data"
    },
    {
     "data": {
      "text/latex": [
       "$\\displaystyle R^{3}[4,3] = R^{2}[4,3]  or  (R^{2}[4,3]  and  R^{2}[3,3]) = 1 or ( 1 and 0 ) = 1$"
      ],
      "text/plain": [
       "<IPython.core.display.Math object>"
      ]
     },
     "metadata": {},
     "output_type": "display_data"
    },
    {
     "data": {
      "text/latex": [
       "$\\displaystyle R^{3}[4,4] = R^{2}[4,4]  or  (R^{2}[4,3]  and  R^{2}[3,4]) = 0 or ( 1 and 0 ) = 0$"
      ],
      "text/plain": [
       "<IPython.core.display.Math object>"
      ]
     },
     "metadata": {},
     "output_type": "display_data"
    },
    {
     "data": {
      "text/latex": [
       "$\\displaystyle R^{3}[4,5] = R^{2}[4,5]  or  (R^{2}[4,3]  and  R^{2}[3,5]) = 1 or ( 1 and 0 ) = 1$"
      ],
      "text/plain": [
       "<IPython.core.display.Math object>"
      ]
     },
     "metadata": {},
     "output_type": "display_data"
    },
    {
     "name": "stdout",
     "output_type": "stream",
     "text": [
      "----------\n",
      "for i = 5\n"
     ]
    },
    {
     "data": {
      "text/latex": [
       "$\\displaystyle R^{3}[5,1] = R^{2}[5,1]  or  (R^{2}[5,3]  and  R^{2}[3,1]) = 0 or ( 1 and 0 ) = 0$"
      ],
      "text/plain": [
       "<IPython.core.display.Math object>"
      ]
     },
     "metadata": {},
     "output_type": "display_data"
    },
    {
     "data": {
      "text/latex": [
       "$\\displaystyle R^{3}[5,2] = R^{2}[5,2]  or  (R^{2}[5,3]  and  R^{2}[3,2]) = 0 or ( 1 and 1 ) = 1$"
      ],
      "text/plain": [
       "<IPython.core.display.Math object>"
      ]
     },
     "metadata": {},
     "output_type": "display_data"
    },
    {
     "data": {
      "text/latex": [
       "$\\displaystyle R^{3}[5,3] = R^{2}[5,3]  or  (R^{2}[5,3]  and  R^{2}[3,3]) = 1 or ( 1 and 0 ) = 1$"
      ],
      "text/plain": [
       "<IPython.core.display.Math object>"
      ]
     },
     "metadata": {},
     "output_type": "display_data"
    },
    {
     "data": {
      "text/latex": [
       "$\\displaystyle R^{3}[5,4] = R^{2}[5,4]  or  (R^{2}[5,3]  and  R^{2}[3,4]) = 0 or ( 1 and 0 ) = 0$"
      ],
      "text/plain": [
       "<IPython.core.display.Math object>"
      ]
     },
     "metadata": {},
     "output_type": "display_data"
    },
    {
     "data": {
      "text/latex": [
       "$\\displaystyle R^{3}[5,5] = R^{2}[5,5]  or  (R^{2}[5,3]  and  R^{2}[3,5]) = 0 or ( 1 and 0 ) = 0$"
      ],
      "text/plain": [
       "<IPython.core.display.Math object>"
      ]
     },
     "metadata": {},
     "output_type": "display_data"
    },
    {
     "name": "stdout",
     "output_type": "stream",
     "text": [
      "----------\n",
      "+----+---+---+---+---+---+\n",
      "| R³ | A | B | C | D | E |\n",
      "+----+---+---+---+---+---+\n",
      "| A  | 0 | 1 | 0 | 1 | 0 |\n",
      "| B  | 0 | 0 | 0 | 0 | 0 |\n",
      "| C  | 0 | 1 | 0 | 0 | 0 |\n",
      "| D  | 0 | 1 | 1 | 0 | 1 |\n",
      "| E  | 0 | 1 | 1 | 0 | 0 |\n",
      "+----+---+---+---+---+---+\n",
      "--------------------\n",
      "for k = 4\n",
      "for i = 1\n"
     ]
    },
    {
     "data": {
      "text/latex": [
       "$\\displaystyle R^{4}[1,1] = R^{3}[1,1]  or  (R^{3}[1,4]  and  R^{3}[4,1]) = 0 or ( 1 and 0 ) = 0$"
      ],
      "text/plain": [
       "<IPython.core.display.Math object>"
      ]
     },
     "metadata": {},
     "output_type": "display_data"
    },
    {
     "data": {
      "text/latex": [
       "$\\displaystyle R^{4}[1,2] = R^{3}[1,2]  or  (R^{3}[1,4]  and  R^{3}[4,2]) = 1 or ( 1 and 1 ) = 1$"
      ],
      "text/plain": [
       "<IPython.core.display.Math object>"
      ]
     },
     "metadata": {},
     "output_type": "display_data"
    },
    {
     "data": {
      "text/latex": [
       "$\\displaystyle R^{4}[1,3] = R^{3}[1,3]  or  (R^{3}[1,4]  and  R^{3}[4,3]) = 0 or ( 1 and 1 ) = 1$"
      ],
      "text/plain": [
       "<IPython.core.display.Math object>"
      ]
     },
     "metadata": {},
     "output_type": "display_data"
    },
    {
     "data": {
      "text/latex": [
       "$\\displaystyle R^{4}[1,4] = R^{3}[1,4]  or  (R^{3}[1,4]  and  R^{3}[4,4]) = 1 or ( 1 and 0 ) = 1$"
      ],
      "text/plain": [
       "<IPython.core.display.Math object>"
      ]
     },
     "metadata": {},
     "output_type": "display_data"
    },
    {
     "data": {
      "text/latex": [
       "$\\displaystyle R^{4}[1,5] = R^{3}[1,5]  or  (R^{3}[1,4]  and  R^{3}[4,5]) = 0 or ( 1 and 1 ) = 1$"
      ],
      "text/plain": [
       "<IPython.core.display.Math object>"
      ]
     },
     "metadata": {},
     "output_type": "display_data"
    },
    {
     "name": "stdout",
     "output_type": "stream",
     "text": [
      "----------\n",
      "for i = 2\n"
     ]
    },
    {
     "data": {
      "text/latex": [
       "$\\displaystyle R^{4}[2,1] = R^{3}[2,1]  or  (R^{3}[2,4]  and  R^{3}[4,1]) = 0 or ( 0 and 0 ) = 0$"
      ],
      "text/plain": [
       "<IPython.core.display.Math object>"
      ]
     },
     "metadata": {},
     "output_type": "display_data"
    },
    {
     "data": {
      "text/latex": [
       "$\\displaystyle R^{4}[2,2] = R^{3}[2,2]  or  (R^{3}[2,4]  and  R^{3}[4,2]) = 0 or ( 0 and 1 ) = 0$"
      ],
      "text/plain": [
       "<IPython.core.display.Math object>"
      ]
     },
     "metadata": {},
     "output_type": "display_data"
    },
    {
     "data": {
      "text/latex": [
       "$\\displaystyle R^{4}[2,3] = R^{3}[2,3]  or  (R^{3}[2,4]  and  R^{3}[4,3]) = 0 or ( 0 and 1 ) = 0$"
      ],
      "text/plain": [
       "<IPython.core.display.Math object>"
      ]
     },
     "metadata": {},
     "output_type": "display_data"
    },
    {
     "data": {
      "text/latex": [
       "$\\displaystyle R^{4}[2,4] = R^{3}[2,4]  or  (R^{3}[2,4]  and  R^{3}[4,4]) = 0 or ( 0 and 0 ) = 0$"
      ],
      "text/plain": [
       "<IPython.core.display.Math object>"
      ]
     },
     "metadata": {},
     "output_type": "display_data"
    },
    {
     "data": {
      "text/latex": [
       "$\\displaystyle R^{4}[2,5] = R^{3}[2,5]  or  (R^{3}[2,4]  and  R^{3}[4,5]) = 0 or ( 0 and 1 ) = 0$"
      ],
      "text/plain": [
       "<IPython.core.display.Math object>"
      ]
     },
     "metadata": {},
     "output_type": "display_data"
    },
    {
     "name": "stdout",
     "output_type": "stream",
     "text": [
      "----------\n",
      "for i = 3\n"
     ]
    },
    {
     "data": {
      "text/latex": [
       "$\\displaystyle R^{4}[3,1] = R^{3}[3,1]  or  (R^{3}[3,4]  and  R^{3}[4,1]) = 0 or ( 0 and 0 ) = 0$"
      ],
      "text/plain": [
       "<IPython.core.display.Math object>"
      ]
     },
     "metadata": {},
     "output_type": "display_data"
    },
    {
     "data": {
      "text/latex": [
       "$\\displaystyle R^{4}[3,2] = R^{3}[3,2]  or  (R^{3}[3,4]  and  R^{3}[4,2]) = 1 or ( 0 and 1 ) = 1$"
      ],
      "text/plain": [
       "<IPython.core.display.Math object>"
      ]
     },
     "metadata": {},
     "output_type": "display_data"
    },
    {
     "data": {
      "text/latex": [
       "$\\displaystyle R^{4}[3,3] = R^{3}[3,3]  or  (R^{3}[3,4]  and  R^{3}[4,3]) = 0 or ( 0 and 1 ) = 0$"
      ],
      "text/plain": [
       "<IPython.core.display.Math object>"
      ]
     },
     "metadata": {},
     "output_type": "display_data"
    },
    {
     "data": {
      "text/latex": [
       "$\\displaystyle R^{4}[3,4] = R^{3}[3,4]  or  (R^{3}[3,4]  and  R^{3}[4,4]) = 0 or ( 0 and 0 ) = 0$"
      ],
      "text/plain": [
       "<IPython.core.display.Math object>"
      ]
     },
     "metadata": {},
     "output_type": "display_data"
    },
    {
     "data": {
      "text/latex": [
       "$\\displaystyle R^{4}[3,5] = R^{3}[3,5]  or  (R^{3}[3,4]  and  R^{3}[4,5]) = 0 or ( 0 and 1 ) = 0$"
      ],
      "text/plain": [
       "<IPython.core.display.Math object>"
      ]
     },
     "metadata": {},
     "output_type": "display_data"
    },
    {
     "name": "stdout",
     "output_type": "stream",
     "text": [
      "----------\n",
      "for i = 4\n"
     ]
    },
    {
     "data": {
      "text/latex": [
       "$\\displaystyle R^{4}[4,1] = R^{3}[4,1]  or  (R^{3}[4,4]  and  R^{3}[4,1]) = 0 or ( 0 and 0 ) = 0$"
      ],
      "text/plain": [
       "<IPython.core.display.Math object>"
      ]
     },
     "metadata": {},
     "output_type": "display_data"
    },
    {
     "data": {
      "text/latex": [
       "$\\displaystyle R^{4}[4,2] = R^{3}[4,2]  or  (R^{3}[4,4]  and  R^{3}[4,2]) = 1 or ( 0 and 1 ) = 1$"
      ],
      "text/plain": [
       "<IPython.core.display.Math object>"
      ]
     },
     "metadata": {},
     "output_type": "display_data"
    },
    {
     "data": {
      "text/latex": [
       "$\\displaystyle R^{4}[4,3] = R^{3}[4,3]  or  (R^{3}[4,4]  and  R^{3}[4,3]) = 1 or ( 0 and 1 ) = 1$"
      ],
      "text/plain": [
       "<IPython.core.display.Math object>"
      ]
     },
     "metadata": {},
     "output_type": "display_data"
    },
    {
     "data": {
      "text/latex": [
       "$\\displaystyle R^{4}[4,4] = R^{3}[4,4]  or  (R^{3}[4,4]  and  R^{3}[4,4]) = 0 or ( 0 and 0 ) = 0$"
      ],
      "text/plain": [
       "<IPython.core.display.Math object>"
      ]
     },
     "metadata": {},
     "output_type": "display_data"
    },
    {
     "data": {
      "text/latex": [
       "$\\displaystyle R^{4}[4,5] = R^{3}[4,5]  or  (R^{3}[4,4]  and  R^{3}[4,5]) = 1 or ( 0 and 1 ) = 1$"
      ],
      "text/plain": [
       "<IPython.core.display.Math object>"
      ]
     },
     "metadata": {},
     "output_type": "display_data"
    },
    {
     "name": "stdout",
     "output_type": "stream",
     "text": [
      "----------\n",
      "for i = 5\n"
     ]
    },
    {
     "data": {
      "text/latex": [
       "$\\displaystyle R^{4}[5,1] = R^{3}[5,1]  or  (R^{3}[5,4]  and  R^{3}[4,1]) = 0 or ( 0 and 0 ) = 0$"
      ],
      "text/plain": [
       "<IPython.core.display.Math object>"
      ]
     },
     "metadata": {},
     "output_type": "display_data"
    },
    {
     "data": {
      "text/latex": [
       "$\\displaystyle R^{4}[5,2] = R^{3}[5,2]  or  (R^{3}[5,4]  and  R^{3}[4,2]) = 1 or ( 0 and 1 ) = 1$"
      ],
      "text/plain": [
       "<IPython.core.display.Math object>"
      ]
     },
     "metadata": {},
     "output_type": "display_data"
    },
    {
     "data": {
      "text/latex": [
       "$\\displaystyle R^{4}[5,3] = R^{3}[5,3]  or  (R^{3}[5,4]  and  R^{3}[4,3]) = 1 or ( 0 and 1 ) = 1$"
      ],
      "text/plain": [
       "<IPython.core.display.Math object>"
      ]
     },
     "metadata": {},
     "output_type": "display_data"
    },
    {
     "data": {
      "text/latex": [
       "$\\displaystyle R^{4}[5,4] = R^{3}[5,4]  or  (R^{3}[5,4]  and  R^{3}[4,4]) = 0 or ( 0 and 0 ) = 0$"
      ],
      "text/plain": [
       "<IPython.core.display.Math object>"
      ]
     },
     "metadata": {},
     "output_type": "display_data"
    },
    {
     "data": {
      "text/latex": [
       "$\\displaystyle R^{4}[5,5] = R^{3}[5,5]  or  (R^{3}[5,4]  and  R^{3}[4,5]) = 0 or ( 0 and 1 ) = 0$"
      ],
      "text/plain": [
       "<IPython.core.display.Math object>"
      ]
     },
     "metadata": {},
     "output_type": "display_data"
    },
    {
     "name": "stdout",
     "output_type": "stream",
     "text": [
      "----------\n",
      "+----+---+---+---+---+---+\n",
      "| R⁴ | A | B | C | D | E |\n",
      "+----+---+---+---+---+---+\n",
      "| A  | 0 | 1 | 1 | 1 | 1 |\n",
      "| B  | 0 | 0 | 0 | 0 | 0 |\n",
      "| C  | 0 | 1 | 0 | 0 | 0 |\n",
      "| D  | 0 | 1 | 1 | 0 | 1 |\n",
      "| E  | 0 | 1 | 1 | 0 | 0 |\n",
      "+----+---+---+---+---+---+\n",
      "--------------------\n",
      "for k = 5\n",
      "for i = 1\n"
     ]
    },
    {
     "data": {
      "text/latex": [
       "$\\displaystyle R^{5}[1,1] = R^{4}[1,1]  or  (R^{4}[1,5]  and  R^{4}[5,1]) = 0 or ( 1 and 0 ) = 0$"
      ],
      "text/plain": [
       "<IPython.core.display.Math object>"
      ]
     },
     "metadata": {},
     "output_type": "display_data"
    },
    {
     "data": {
      "text/latex": [
       "$\\displaystyle R^{5}[1,2] = R^{4}[1,2]  or  (R^{4}[1,5]  and  R^{4}[5,2]) = 1 or ( 1 and 1 ) = 1$"
      ],
      "text/plain": [
       "<IPython.core.display.Math object>"
      ]
     },
     "metadata": {},
     "output_type": "display_data"
    },
    {
     "data": {
      "text/latex": [
       "$\\displaystyle R^{5}[1,3] = R^{4}[1,3]  or  (R^{4}[1,5]  and  R^{4}[5,3]) = 1 or ( 1 and 1 ) = 1$"
      ],
      "text/plain": [
       "<IPython.core.display.Math object>"
      ]
     },
     "metadata": {},
     "output_type": "display_data"
    },
    {
     "data": {
      "text/latex": [
       "$\\displaystyle R^{5}[1,4] = R^{4}[1,4]  or  (R^{4}[1,5]  and  R^{4}[5,4]) = 1 or ( 1 and 0 ) = 1$"
      ],
      "text/plain": [
       "<IPython.core.display.Math object>"
      ]
     },
     "metadata": {},
     "output_type": "display_data"
    },
    {
     "data": {
      "text/latex": [
       "$\\displaystyle R^{5}[1,5] = R^{4}[1,5]  or  (R^{4}[1,5]  and  R^{4}[5,5]) = 1 or ( 1 and 0 ) = 1$"
      ],
      "text/plain": [
       "<IPython.core.display.Math object>"
      ]
     },
     "metadata": {},
     "output_type": "display_data"
    },
    {
     "name": "stdout",
     "output_type": "stream",
     "text": [
      "----------\n",
      "for i = 2\n"
     ]
    },
    {
     "data": {
      "text/latex": [
       "$\\displaystyle R^{5}[2,1] = R^{4}[2,1]  or  (R^{4}[2,5]  and  R^{4}[5,1]) = 0 or ( 0 and 0 ) = 0$"
      ],
      "text/plain": [
       "<IPython.core.display.Math object>"
      ]
     },
     "metadata": {},
     "output_type": "display_data"
    },
    {
     "data": {
      "text/latex": [
       "$\\displaystyle R^{5}[2,2] = R^{4}[2,2]  or  (R^{4}[2,5]  and  R^{4}[5,2]) = 0 or ( 0 and 1 ) = 0$"
      ],
      "text/plain": [
       "<IPython.core.display.Math object>"
      ]
     },
     "metadata": {},
     "output_type": "display_data"
    },
    {
     "data": {
      "text/latex": [
       "$\\displaystyle R^{5}[2,3] = R^{4}[2,3]  or  (R^{4}[2,5]  and  R^{4}[5,3]) = 0 or ( 0 and 1 ) = 0$"
      ],
      "text/plain": [
       "<IPython.core.display.Math object>"
      ]
     },
     "metadata": {},
     "output_type": "display_data"
    },
    {
     "data": {
      "text/latex": [
       "$\\displaystyle R^{5}[2,4] = R^{4}[2,4]  or  (R^{4}[2,5]  and  R^{4}[5,4]) = 0 or ( 0 and 0 ) = 0$"
      ],
      "text/plain": [
       "<IPython.core.display.Math object>"
      ]
     },
     "metadata": {},
     "output_type": "display_data"
    },
    {
     "data": {
      "text/latex": [
       "$\\displaystyle R^{5}[2,5] = R^{4}[2,5]  or  (R^{4}[2,5]  and  R^{4}[5,5]) = 0 or ( 0 and 0 ) = 0$"
      ],
      "text/plain": [
       "<IPython.core.display.Math object>"
      ]
     },
     "metadata": {},
     "output_type": "display_data"
    },
    {
     "name": "stdout",
     "output_type": "stream",
     "text": [
      "----------\n",
      "for i = 3\n"
     ]
    },
    {
     "data": {
      "text/latex": [
       "$\\displaystyle R^{5}[3,1] = R^{4}[3,1]  or  (R^{4}[3,5]  and  R^{4}[5,1]) = 0 or ( 0 and 0 ) = 0$"
      ],
      "text/plain": [
       "<IPython.core.display.Math object>"
      ]
     },
     "metadata": {},
     "output_type": "display_data"
    },
    {
     "data": {
      "text/latex": [
       "$\\displaystyle R^{5}[3,2] = R^{4}[3,2]  or  (R^{4}[3,5]  and  R^{4}[5,2]) = 1 or ( 0 and 1 ) = 1$"
      ],
      "text/plain": [
       "<IPython.core.display.Math object>"
      ]
     },
     "metadata": {},
     "output_type": "display_data"
    },
    {
     "data": {
      "text/latex": [
       "$\\displaystyle R^{5}[3,3] = R^{4}[3,3]  or  (R^{4}[3,5]  and  R^{4}[5,3]) = 0 or ( 0 and 1 ) = 0$"
      ],
      "text/plain": [
       "<IPython.core.display.Math object>"
      ]
     },
     "metadata": {},
     "output_type": "display_data"
    },
    {
     "data": {
      "text/latex": [
       "$\\displaystyle R^{5}[3,4] = R^{4}[3,4]  or  (R^{4}[3,5]  and  R^{4}[5,4]) = 0 or ( 0 and 0 ) = 0$"
      ],
      "text/plain": [
       "<IPython.core.display.Math object>"
      ]
     },
     "metadata": {},
     "output_type": "display_data"
    },
    {
     "data": {
      "text/latex": [
       "$\\displaystyle R^{5}[3,5] = R^{4}[3,5]  or  (R^{4}[3,5]  and  R^{4}[5,5]) = 0 or ( 0 and 0 ) = 0$"
      ],
      "text/plain": [
       "<IPython.core.display.Math object>"
      ]
     },
     "metadata": {},
     "output_type": "display_data"
    },
    {
     "name": "stdout",
     "output_type": "stream",
     "text": [
      "----------\n",
      "for i = 4\n"
     ]
    },
    {
     "data": {
      "text/latex": [
       "$\\displaystyle R^{5}[4,1] = R^{4}[4,1]  or  (R^{4}[4,5]  and  R^{4}[5,1]) = 0 or ( 1 and 0 ) = 0$"
      ],
      "text/plain": [
       "<IPython.core.display.Math object>"
      ]
     },
     "metadata": {},
     "output_type": "display_data"
    },
    {
     "data": {
      "text/latex": [
       "$\\displaystyle R^{5}[4,2] = R^{4}[4,2]  or  (R^{4}[4,5]  and  R^{4}[5,2]) = 1 or ( 1 and 1 ) = 1$"
      ],
      "text/plain": [
       "<IPython.core.display.Math object>"
      ]
     },
     "metadata": {},
     "output_type": "display_data"
    },
    {
     "data": {
      "text/latex": [
       "$\\displaystyle R^{5}[4,3] = R^{4}[4,3]  or  (R^{4}[4,5]  and  R^{4}[5,3]) = 1 or ( 1 and 1 ) = 1$"
      ],
      "text/plain": [
       "<IPython.core.display.Math object>"
      ]
     },
     "metadata": {},
     "output_type": "display_data"
    },
    {
     "data": {
      "text/latex": [
       "$\\displaystyle R^{5}[4,4] = R^{4}[4,4]  or  (R^{4}[4,5]  and  R^{4}[5,4]) = 0 or ( 1 and 0 ) = 0$"
      ],
      "text/plain": [
       "<IPython.core.display.Math object>"
      ]
     },
     "metadata": {},
     "output_type": "display_data"
    },
    {
     "data": {
      "text/latex": [
       "$\\displaystyle R^{5}[4,5] = R^{4}[4,5]  or  (R^{4}[4,5]  and  R^{4}[5,5]) = 1 or ( 1 and 0 ) = 1$"
      ],
      "text/plain": [
       "<IPython.core.display.Math object>"
      ]
     },
     "metadata": {},
     "output_type": "display_data"
    },
    {
     "name": "stdout",
     "output_type": "stream",
     "text": [
      "----------\n",
      "for i = 5\n"
     ]
    },
    {
     "data": {
      "text/latex": [
       "$\\displaystyle R^{5}[5,1] = R^{4}[5,1]  or  (R^{4}[5,5]  and  R^{4}[5,1]) = 0 or ( 0 and 0 ) = 0$"
      ],
      "text/plain": [
       "<IPython.core.display.Math object>"
      ]
     },
     "metadata": {},
     "output_type": "display_data"
    },
    {
     "data": {
      "text/latex": [
       "$\\displaystyle R^{5}[5,2] = R^{4}[5,2]  or  (R^{4}[5,5]  and  R^{4}[5,2]) = 1 or ( 0 and 1 ) = 1$"
      ],
      "text/plain": [
       "<IPython.core.display.Math object>"
      ]
     },
     "metadata": {},
     "output_type": "display_data"
    },
    {
     "data": {
      "text/latex": [
       "$\\displaystyle R^{5}[5,3] = R^{4}[5,3]  or  (R^{4}[5,5]  and  R^{4}[5,3]) = 1 or ( 0 and 1 ) = 1$"
      ],
      "text/plain": [
       "<IPython.core.display.Math object>"
      ]
     },
     "metadata": {},
     "output_type": "display_data"
    },
    {
     "data": {
      "text/latex": [
       "$\\displaystyle R^{5}[5,4] = R^{4}[5,4]  or  (R^{4}[5,5]  and  R^{4}[5,4]) = 0 or ( 0 and 0 ) = 0$"
      ],
      "text/plain": [
       "<IPython.core.display.Math object>"
      ]
     },
     "metadata": {},
     "output_type": "display_data"
    },
    {
     "data": {
      "text/latex": [
       "$\\displaystyle R^{5}[5,5] = R^{4}[5,5]  or  (R^{4}[5,5]  and  R^{4}[5,5]) = 0 or ( 0 and 0 ) = 0$"
      ],
      "text/plain": [
       "<IPython.core.display.Math object>"
      ]
     },
     "metadata": {},
     "output_type": "display_data"
    },
    {
     "name": "stdout",
     "output_type": "stream",
     "text": [
      "----------\n",
      "+----+---+---+---+---+---+\n",
      "| R⁵ | A | B | C | D | E |\n",
      "+----+---+---+---+---+---+\n",
      "| A  | 0 | 1 | 1 | 1 | 1 |\n",
      "| B  | 0 | 0 | 0 | 0 | 0 |\n",
      "| C  | 0 | 1 | 0 | 0 | 0 |\n",
      "| D  | 0 | 1 | 1 | 0 | 1 |\n",
      "| E  | 0 | 1 | 1 | 0 | 0 |\n",
      "+----+---+---+---+---+---+\n",
      "--------------------\n"
     ]
    }
   ],
   "source": [
    "warshall(adm)"
   ]
  },
  {
   "cell_type": "markdown",
   "id": "ecdf0621",
   "metadata": {},
   "source": [
    "###  ***we can mark cells with i == j as 1 i.e diagonal***"
   ]
  }
 ],
 "metadata": {
  "kernelspec": {
   "display_name": "Python 3 (ipykernel)",
   "language": "python",
   "name": "python3"
  },
  "language_info": {
   "codemirror_mode": {
    "name": "ipython",
    "version": 3
   },
   "file_extension": ".py",
   "mimetype": "text/x-python",
   "name": "python",
   "nbconvert_exporter": "python",
   "pygments_lexer": "ipython3",
   "version": "3.9.7"
  }
 },
 "nbformat": 4,
 "nbformat_minor": 5
}
